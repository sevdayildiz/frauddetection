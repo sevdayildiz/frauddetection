{
  "nbformat": 4,
  "nbformat_minor": 0,
  "metadata": {
    "colab": {
      "provenance": [],
      "authorship_tag": "ABX9TyOViju6a/0W0bbPOXCevo+I",
      "include_colab_link": true
    },
    "kernelspec": {
      "name": "python3",
      "display_name": "Python 3"
    },
    "language_info": {
      "name": "python"
    }
  },
  "cells": [
    {
      "cell_type": "markdown",
      "metadata": {
        "id": "view-in-github",
        "colab_type": "text"
      },
      "source": [
        "<a href=\"https://colab.research.google.com/github/sevdayildiz/frauddetection/blob/main/fraudDetection.ipynb\" target=\"_parent\"><img src=\"https://colab.research.google.com/assets/colab-badge.svg\" alt=\"Open In Colab\"/></a>"
      ]
    },
    {
      "cell_type": "code",
      "execution_count": 1,
      "metadata": {
        "colab": {
          "base_uri": "https://localhost:8080/"
        },
        "id": "zWcia-_fFFQp",
        "outputId": "b2806043-b674-4b46-b90d-105bab7779bc"
      },
      "outputs": [
        {
          "output_type": "stream",
          "name": "stdout",
          "text": [
            "Requirement already satisfied: kaleido in /usr/local/lib/python3.10/dist-packages (0.2.1)\n"
          ]
        }
      ],
      "source": [
        "!pip install -U kaleido\n"
      ]
    },
    {
      "cell_type": "code",
      "source": [
        "import numpy as np\n",
        "import pandas as pd\n",
        "import matplotlib.pyplot as plt\n",
        "import seaborn as sns\n",
        "import missingno as msno\n",
        "import plotly.offline as py\n",
        "py.init_notebook_mode(connected=True)\n",
        "import plotly.graph_objs as go\n",
        "import plotly.tools as tls\n",
        "import plotly.express as px\n",
        "\n",
        "import cufflinks as cf\n",
        "\n",
        "from plotly.offline import download_plotlyjs, init_notebook_mode, plot, iplot\n",
        "\n",
        "%matplotlib inline\n",
        "sns.set_style(\"whitegrid\")\n",
        "plt.style.use(\"fivethirtyeight\")\n"
      ],
      "metadata": {
        "colab": {
          "base_uri": "https://localhost:8080/",
          "height": 17
        },
        "id": "BW3dZNIXFKe3",
        "outputId": "bf42e936-25ee-4d62-ac25-b0ce36d21dcb"
      },
      "execution_count": 1,
      "outputs": [
        {
          "output_type": "display_data",
          "data": {
            "text/html": [
              "        <script type=\"text/javascript\">\n",
              "        window.PlotlyConfig = {MathJaxConfig: 'local'};\n",
              "        if (window.MathJax && window.MathJax.Hub && window.MathJax.Hub.Config) {window.MathJax.Hub.Config({SVG: {font: \"STIX-Web\"}});}\n",
              "        if (typeof require !== 'undefined') {\n",
              "        require.undef(\"plotly\");\n",
              "        requirejs.config({\n",
              "            paths: {\n",
              "                'plotly': ['https://cdn.plot.ly/plotly-2.24.1.min']\n",
              "            }\n",
              "        });\n",
              "        require(['plotly'], function(Plotly) {\n",
              "            window._Plotly = Plotly;\n",
              "        });\n",
              "        }\n",
              "        </script>\n",
              "        "
            ]
          },
          "metadata": {}
        }
      ]
    },
    {
      "cell_type": "code",
      "source": [
        "from sklearn.linear_model import LogisticRegression\n",
        "from sklearn.neighbors import KNeighborsClassifier\n",
        "from sklearn.discriminant_analysis import LinearDiscriminantAnalysis\n",
        "from sklearn.naive_bayes import GaussianNB\n",
        "from sklearn.tree import DecisionTreeClassifier\n",
        "from sklearn.svm import SVC\n",
        "from sklearn.ensemble import RandomForestClassifier\n",
        "from sklearn.ensemble import ExtraTreesClassifier\n",
        "from sklearn.ensemble import AdaBoostClassifier\n",
        "from sklearn.ensemble import GradientBoostingClassifier\n",
        "from sklearn.neighbors import  RadiusNeighborsClassifier\n",
        "from sklearn.linear_model import PassiveAggressiveClassifier\n",
        "from sklearn.naive_bayes import BernoulliNB\n",
        "from sklearn.svm import NuSVC\n",
        "from sklearn.svm import LinearSVC\n",
        "from sklearn.neural_network import MLPClassifier\n",
        "from sklearn.ensemble import BaggingClassifier\n",
        "from sklearn.discriminant_analysis import LinearDiscriminantAnalysis\n",
        "from sklearn.discriminant_analysis import QuadraticDiscriminantAnalysis\n",
        "import xgboost as xgb\n",
        "from sklearn.linear_model import RidgeClassifier\n",
        "import lightgbm as lgb\n",
        "import plotly.offline as py\n",
        "from plotly.offline import init_notebook_mode, iplot\n",
        "import plotly.graph_objs as go\n",
        "from plotly import tools\n",
        "init_notebook_mode(connected=True)\n",
        "import plotly.figure_factory as ff\n"
      ],
      "metadata": {
        "colab": {
          "base_uri": "https://localhost:8080/",
          "height": 17
        },
        "id": "PNXm-9gGFxXb",
        "outputId": "9e048c8d-ea74-426e-95a4-6b94351eb7a8"
      },
      "execution_count": 2,
      "outputs": [
        {
          "output_type": "display_data",
          "data": {
            "text/html": [
              "        <script type=\"text/javascript\">\n",
              "        window.PlotlyConfig = {MathJaxConfig: 'local'};\n",
              "        if (window.MathJax && window.MathJax.Hub && window.MathJax.Hub.Config) {window.MathJax.Hub.Config({SVG: {font: \"STIX-Web\"}});}\n",
              "        if (typeof require !== 'undefined') {\n",
              "        require.undef(\"plotly\");\n",
              "        requirejs.config({\n",
              "            paths: {\n",
              "                'plotly': ['https://cdn.plot.ly/plotly-2.24.1.min']\n",
              "            }\n",
              "        });\n",
              "        require(['plotly'], function(Plotly) {\n",
              "            window._Plotly = Plotly;\n",
              "        });\n",
              "        }\n",
              "        </script>\n",
              "        "
            ]
          },
          "metadata": {}
        }
      ]
    },
    {
      "cell_type": "code",
      "source": [
        "from sklearn.preprocessing import LabelEncoder\n",
        "from sklearn.preprocessing import OneHotEncoder\n",
        "from sklearn.preprocessing import StandardScaler\n",
        "from sklearn.impute import SimpleImputer\n",
        "from sklearn.ensemble import RandomForestClassifier\n",
        "from sklearn.metrics import confusion_matrix\n",
        "from sklearn.metrics import accuracy_score\n",
        "from sklearn.tree import DecisionTreeClassifier\n",
        "from sklearn.neighbors import KNeighborsClassifier\n",
        "from sklearn.metrics import classification_report\n",
        "from sklearn.metrics import confusion_matrix\n",
        "from sklearn.metrics import accuracy_score\n",
        "from sklearn.decomposition import PCA\n",
        "import random"
      ],
      "metadata": {
        "id": "jd1wwqtAF294"
      },
      "execution_count": 3,
      "outputs": []
    },
    {
      "cell_type": "code",
      "source": [
        "def random_colors(number_of_colors):\n",
        "    color = [\"#\"+''.join([random.choice('0123456789ABCDEF') for j in range(6)])\n",
        "                 for i in range(number_of_colors)]\n",
        "    return color"
      ],
      "metadata": {
        "id": "SW1MI_I7KjFV"
      },
      "execution_count": 4,
      "outputs": []
    },
    {
      "cell_type": "code",
      "source": [
        "train = pd.read_csv(\"/content/creditcard.csv\")\n",
        "\n",
        "from IPython.display import Image\n",
        "\n",
        "\n"
      ],
      "metadata": {
        "id": "uBWVQib0Kl7E"
      },
      "execution_count": 8,
      "outputs": []
    },
    {
      "cell_type": "code",
      "source": [
        "table = ff.create_table(train.head().round(1))\n",
        "iplot(table,filename='jupyter-table1')\n"
      ],
      "metadata": {
        "colab": {
          "base_uri": "https://localhost:8080/",
          "height": 247
        },
        "id": "zG3C0S_zKoXH",
        "outputId": "5b727011-1ef5-4bf5-bcdc-876972fba9fd"
      },
      "execution_count": 9,
      "outputs": [
        {
          "output_type": "display_data",
          "data": {
            "application/vnd.plotly.v1+json": {
              "data": [
                {
                  "colorscale": [
                    [
                      0,
                      "#00083e"
                    ],
                    [
                      0.5,
                      "#ededee"
                    ],
                    [
                      1,
                      "#ffffff"
                    ]
                  ],
                  "hoverinfo": "none",
                  "opacity": 0.75,
                  "showscale": false,
                  "z": [
                    [
                      0,
                      0,
                      0,
                      0,
                      0,
                      0,
                      0,
                      0,
                      0,
                      0,
                      0,
                      0,
                      0,
                      0,
                      0,
                      0,
                      0,
                      0,
                      0,
                      0,
                      0,
                      0,
                      0,
                      0,
                      0,
                      0,
                      0,
                      0,
                      0,
                      0,
                      0
                    ],
                    [
                      0.5,
                      0.5,
                      0.5,
                      0.5,
                      0.5,
                      0.5,
                      0.5,
                      0.5,
                      0.5,
                      0.5,
                      0.5,
                      0.5,
                      0.5,
                      0.5,
                      0.5,
                      0.5,
                      0.5,
                      0.5,
                      0.5,
                      0.5,
                      0.5,
                      0.5,
                      0.5,
                      0.5,
                      0.5,
                      0.5,
                      0.5,
                      0.5,
                      0.5,
                      0.5,
                      0.5
                    ],
                    [
                      1,
                      1,
                      1,
                      1,
                      1,
                      1,
                      1,
                      1,
                      1,
                      1,
                      1,
                      1,
                      1,
                      1,
                      1,
                      1,
                      1,
                      1,
                      1,
                      1,
                      1,
                      1,
                      1,
                      1,
                      1,
                      1,
                      1,
                      1,
                      1,
                      1,
                      1
                    ],
                    [
                      0.5,
                      0.5,
                      0.5,
                      0.5,
                      0.5,
                      0.5,
                      0.5,
                      0.5,
                      0.5,
                      0.5,
                      0.5,
                      0.5,
                      0.5,
                      0.5,
                      0.5,
                      0.5,
                      0.5,
                      0.5,
                      0.5,
                      0.5,
                      0.5,
                      0.5,
                      0.5,
                      0.5,
                      0.5,
                      0.5,
                      0.5,
                      0.5,
                      0.5,
                      0.5,
                      0.5
                    ],
                    [
                      1,
                      1,
                      1,
                      1,
                      1,
                      1,
                      1,
                      1,
                      1,
                      1,
                      1,
                      1,
                      1,
                      1,
                      1,
                      1,
                      1,
                      1,
                      1,
                      1,
                      1,
                      1,
                      1,
                      1,
                      1,
                      1,
                      1,
                      1,
                      1,
                      1,
                      1
                    ],
                    [
                      0.5,
                      0.5,
                      0.5,
                      0.5,
                      0.5,
                      0.5,
                      0.5,
                      0.5,
                      0.5,
                      0.5,
                      0.5,
                      0.5,
                      0.5,
                      0.5,
                      0.5,
                      0.5,
                      0.5,
                      0.5,
                      0.5,
                      0.5,
                      0.5,
                      0.5,
                      0.5,
                      0.5,
                      0.5,
                      0.5,
                      0.5,
                      0.5,
                      0.5,
                      0.5,
                      0.5
                    ]
                  ],
                  "type": "heatmap"
                }
              ],
              "layout": {
                "annotations": [
                  {
                    "align": "left",
                    "font": {
                      "color": "#ffffff"
                    },
                    "showarrow": false,
                    "text": "<b>Time</b>",
                    "x": -0.45,
                    "xanchor": "left",
                    "xref": "x",
                    "y": 0,
                    "yref": "y"
                  },
                  {
                    "align": "left",
                    "font": {
                      "color": "#ffffff"
                    },
                    "showarrow": false,
                    "text": "<b>V1</b>",
                    "x": 0.55,
                    "xanchor": "left",
                    "xref": "x",
                    "y": 0,
                    "yref": "y"
                  },
                  {
                    "align": "left",
                    "font": {
                      "color": "#ffffff"
                    },
                    "showarrow": false,
                    "text": "<b>V2</b>",
                    "x": 1.55,
                    "xanchor": "left",
                    "xref": "x",
                    "y": 0,
                    "yref": "y"
                  },
                  {
                    "align": "left",
                    "font": {
                      "color": "#ffffff"
                    },
                    "showarrow": false,
                    "text": "<b>V3</b>",
                    "x": 2.55,
                    "xanchor": "left",
                    "xref": "x",
                    "y": 0,
                    "yref": "y"
                  },
                  {
                    "align": "left",
                    "font": {
                      "color": "#ffffff"
                    },
                    "showarrow": false,
                    "text": "<b>V4</b>",
                    "x": 3.55,
                    "xanchor": "left",
                    "xref": "x",
                    "y": 0,
                    "yref": "y"
                  },
                  {
                    "align": "left",
                    "font": {
                      "color": "#ffffff"
                    },
                    "showarrow": false,
                    "text": "<b>V5</b>",
                    "x": 4.55,
                    "xanchor": "left",
                    "xref": "x",
                    "y": 0,
                    "yref": "y"
                  },
                  {
                    "align": "left",
                    "font": {
                      "color": "#ffffff"
                    },
                    "showarrow": false,
                    "text": "<b>V6</b>",
                    "x": 5.55,
                    "xanchor": "left",
                    "xref": "x",
                    "y": 0,
                    "yref": "y"
                  },
                  {
                    "align": "left",
                    "font": {
                      "color": "#ffffff"
                    },
                    "showarrow": false,
                    "text": "<b>V7</b>",
                    "x": 6.55,
                    "xanchor": "left",
                    "xref": "x",
                    "y": 0,
                    "yref": "y"
                  },
                  {
                    "align": "left",
                    "font": {
                      "color": "#ffffff"
                    },
                    "showarrow": false,
                    "text": "<b>V8</b>",
                    "x": 7.55,
                    "xanchor": "left",
                    "xref": "x",
                    "y": 0,
                    "yref": "y"
                  },
                  {
                    "align": "left",
                    "font": {
                      "color": "#ffffff"
                    },
                    "showarrow": false,
                    "text": "<b>V9</b>",
                    "x": 8.55,
                    "xanchor": "left",
                    "xref": "x",
                    "y": 0,
                    "yref": "y"
                  },
                  {
                    "align": "left",
                    "font": {
                      "color": "#ffffff"
                    },
                    "showarrow": false,
                    "text": "<b>V10</b>",
                    "x": 9.55,
                    "xanchor": "left",
                    "xref": "x",
                    "y": 0,
                    "yref": "y"
                  },
                  {
                    "align": "left",
                    "font": {
                      "color": "#ffffff"
                    },
                    "showarrow": false,
                    "text": "<b>V11</b>",
                    "x": 10.55,
                    "xanchor": "left",
                    "xref": "x",
                    "y": 0,
                    "yref": "y"
                  },
                  {
                    "align": "left",
                    "font": {
                      "color": "#ffffff"
                    },
                    "showarrow": false,
                    "text": "<b>V12</b>",
                    "x": 11.55,
                    "xanchor": "left",
                    "xref": "x",
                    "y": 0,
                    "yref": "y"
                  },
                  {
                    "align": "left",
                    "font": {
                      "color": "#ffffff"
                    },
                    "showarrow": false,
                    "text": "<b>V13</b>",
                    "x": 12.55,
                    "xanchor": "left",
                    "xref": "x",
                    "y": 0,
                    "yref": "y"
                  },
                  {
                    "align": "left",
                    "font": {
                      "color": "#ffffff"
                    },
                    "showarrow": false,
                    "text": "<b>V14</b>",
                    "x": 13.55,
                    "xanchor": "left",
                    "xref": "x",
                    "y": 0,
                    "yref": "y"
                  },
                  {
                    "align": "left",
                    "font": {
                      "color": "#ffffff"
                    },
                    "showarrow": false,
                    "text": "<b>V15</b>",
                    "x": 14.55,
                    "xanchor": "left",
                    "xref": "x",
                    "y": 0,
                    "yref": "y"
                  },
                  {
                    "align": "left",
                    "font": {
                      "color": "#ffffff"
                    },
                    "showarrow": false,
                    "text": "<b>V16</b>",
                    "x": 15.55,
                    "xanchor": "left",
                    "xref": "x",
                    "y": 0,
                    "yref": "y"
                  },
                  {
                    "align": "left",
                    "font": {
                      "color": "#ffffff"
                    },
                    "showarrow": false,
                    "text": "<b>V17</b>",
                    "x": 16.55,
                    "xanchor": "left",
                    "xref": "x",
                    "y": 0,
                    "yref": "y"
                  },
                  {
                    "align": "left",
                    "font": {
                      "color": "#ffffff"
                    },
                    "showarrow": false,
                    "text": "<b>V18</b>",
                    "x": 17.55,
                    "xanchor": "left",
                    "xref": "x",
                    "y": 0,
                    "yref": "y"
                  },
                  {
                    "align": "left",
                    "font": {
                      "color": "#ffffff"
                    },
                    "showarrow": false,
                    "text": "<b>V19</b>",
                    "x": 18.55,
                    "xanchor": "left",
                    "xref": "x",
                    "y": 0,
                    "yref": "y"
                  },
                  {
                    "align": "left",
                    "font": {
                      "color": "#ffffff"
                    },
                    "showarrow": false,
                    "text": "<b>V20</b>",
                    "x": 19.55,
                    "xanchor": "left",
                    "xref": "x",
                    "y": 0,
                    "yref": "y"
                  },
                  {
                    "align": "left",
                    "font": {
                      "color": "#ffffff"
                    },
                    "showarrow": false,
                    "text": "<b>V21</b>",
                    "x": 20.55,
                    "xanchor": "left",
                    "xref": "x",
                    "y": 0,
                    "yref": "y"
                  },
                  {
                    "align": "left",
                    "font": {
                      "color": "#ffffff"
                    },
                    "showarrow": false,
                    "text": "<b>V22</b>",
                    "x": 21.55,
                    "xanchor": "left",
                    "xref": "x",
                    "y": 0,
                    "yref": "y"
                  },
                  {
                    "align": "left",
                    "font": {
                      "color": "#ffffff"
                    },
                    "showarrow": false,
                    "text": "<b>V23</b>",
                    "x": 22.55,
                    "xanchor": "left",
                    "xref": "x",
                    "y": 0,
                    "yref": "y"
                  },
                  {
                    "align": "left",
                    "font": {
                      "color": "#ffffff"
                    },
                    "showarrow": false,
                    "text": "<b>V24</b>",
                    "x": 23.55,
                    "xanchor": "left",
                    "xref": "x",
                    "y": 0,
                    "yref": "y"
                  },
                  {
                    "align": "left",
                    "font": {
                      "color": "#ffffff"
                    },
                    "showarrow": false,
                    "text": "<b>V25</b>",
                    "x": 24.55,
                    "xanchor": "left",
                    "xref": "x",
                    "y": 0,
                    "yref": "y"
                  },
                  {
                    "align": "left",
                    "font": {
                      "color": "#ffffff"
                    },
                    "showarrow": false,
                    "text": "<b>V26</b>",
                    "x": 25.55,
                    "xanchor": "left",
                    "xref": "x",
                    "y": 0,
                    "yref": "y"
                  },
                  {
                    "align": "left",
                    "font": {
                      "color": "#ffffff"
                    },
                    "showarrow": false,
                    "text": "<b>V27</b>",
                    "x": 26.55,
                    "xanchor": "left",
                    "xref": "x",
                    "y": 0,
                    "yref": "y"
                  },
                  {
                    "align": "left",
                    "font": {
                      "color": "#ffffff"
                    },
                    "showarrow": false,
                    "text": "<b>V28</b>",
                    "x": 27.55,
                    "xanchor": "left",
                    "xref": "x",
                    "y": 0,
                    "yref": "y"
                  },
                  {
                    "align": "left",
                    "font": {
                      "color": "#ffffff"
                    },
                    "showarrow": false,
                    "text": "<b>Amount</b>",
                    "x": 28.55,
                    "xanchor": "left",
                    "xref": "x",
                    "y": 0,
                    "yref": "y"
                  },
                  {
                    "align": "left",
                    "font": {
                      "color": "#ffffff"
                    },
                    "showarrow": false,
                    "text": "<b>Class</b>",
                    "x": 29.55,
                    "xanchor": "left",
                    "xref": "x",
                    "y": 0,
                    "yref": "y"
                  },
                  {
                    "align": "left",
                    "font": {
                      "color": "#000000"
                    },
                    "showarrow": false,
                    "text": "0.0",
                    "x": -0.45,
                    "xanchor": "left",
                    "xref": "x",
                    "y": 1,
                    "yref": "y"
                  },
                  {
                    "align": "left",
                    "font": {
                      "color": "#000000"
                    },
                    "showarrow": false,
                    "text": "-1.4",
                    "x": 0.55,
                    "xanchor": "left",
                    "xref": "x",
                    "y": 1,
                    "yref": "y"
                  },
                  {
                    "align": "left",
                    "font": {
                      "color": "#000000"
                    },
                    "showarrow": false,
                    "text": "-0.1",
                    "x": 1.55,
                    "xanchor": "left",
                    "xref": "x",
                    "y": 1,
                    "yref": "y"
                  },
                  {
                    "align": "left",
                    "font": {
                      "color": "#000000"
                    },
                    "showarrow": false,
                    "text": "2.5",
                    "x": 2.55,
                    "xanchor": "left",
                    "xref": "x",
                    "y": 1,
                    "yref": "y"
                  },
                  {
                    "align": "left",
                    "font": {
                      "color": "#000000"
                    },
                    "showarrow": false,
                    "text": "1.4",
                    "x": 3.55,
                    "xanchor": "left",
                    "xref": "x",
                    "y": 1,
                    "yref": "y"
                  },
                  {
                    "align": "left",
                    "font": {
                      "color": "#000000"
                    },
                    "showarrow": false,
                    "text": "-0.3",
                    "x": 4.55,
                    "xanchor": "left",
                    "xref": "x",
                    "y": 1,
                    "yref": "y"
                  },
                  {
                    "align": "left",
                    "font": {
                      "color": "#000000"
                    },
                    "showarrow": false,
                    "text": "0.5",
                    "x": 5.55,
                    "xanchor": "left",
                    "xref": "x",
                    "y": 1,
                    "yref": "y"
                  },
                  {
                    "align": "left",
                    "font": {
                      "color": "#000000"
                    },
                    "showarrow": false,
                    "text": "0.2",
                    "x": 6.55,
                    "xanchor": "left",
                    "xref": "x",
                    "y": 1,
                    "yref": "y"
                  },
                  {
                    "align": "left",
                    "font": {
                      "color": "#000000"
                    },
                    "showarrow": false,
                    "text": "0.1",
                    "x": 7.55,
                    "xanchor": "left",
                    "xref": "x",
                    "y": 1,
                    "yref": "y"
                  },
                  {
                    "align": "left",
                    "font": {
                      "color": "#000000"
                    },
                    "showarrow": false,
                    "text": "0.4",
                    "x": 8.55,
                    "xanchor": "left",
                    "xref": "x",
                    "y": 1,
                    "yref": "y"
                  },
                  {
                    "align": "left",
                    "font": {
                      "color": "#000000"
                    },
                    "showarrow": false,
                    "text": "0.1",
                    "x": 9.55,
                    "xanchor": "left",
                    "xref": "x",
                    "y": 1,
                    "yref": "y"
                  },
                  {
                    "align": "left",
                    "font": {
                      "color": "#000000"
                    },
                    "showarrow": false,
                    "text": "-0.6",
                    "x": 10.55,
                    "xanchor": "left",
                    "xref": "x",
                    "y": 1,
                    "yref": "y"
                  },
                  {
                    "align": "left",
                    "font": {
                      "color": "#000000"
                    },
                    "showarrow": false,
                    "text": "-0.6",
                    "x": 11.55,
                    "xanchor": "left",
                    "xref": "x",
                    "y": 1,
                    "yref": "y"
                  },
                  {
                    "align": "left",
                    "font": {
                      "color": "#000000"
                    },
                    "showarrow": false,
                    "text": "-1.0",
                    "x": 12.55,
                    "xanchor": "left",
                    "xref": "x",
                    "y": 1,
                    "yref": "y"
                  },
                  {
                    "align": "left",
                    "font": {
                      "color": "#000000"
                    },
                    "showarrow": false,
                    "text": "-0.3",
                    "x": 13.55,
                    "xanchor": "left",
                    "xref": "x",
                    "y": 1,
                    "yref": "y"
                  },
                  {
                    "align": "left",
                    "font": {
                      "color": "#000000"
                    },
                    "showarrow": false,
                    "text": "1.5",
                    "x": 14.55,
                    "xanchor": "left",
                    "xref": "x",
                    "y": 1,
                    "yref": "y"
                  },
                  {
                    "align": "left",
                    "font": {
                      "color": "#000000"
                    },
                    "showarrow": false,
                    "text": "-0.5",
                    "x": 15.55,
                    "xanchor": "left",
                    "xref": "x",
                    "y": 1,
                    "yref": "y"
                  },
                  {
                    "align": "left",
                    "font": {
                      "color": "#000000"
                    },
                    "showarrow": false,
                    "text": "0.2",
                    "x": 16.55,
                    "xanchor": "left",
                    "xref": "x",
                    "y": 1,
                    "yref": "y"
                  },
                  {
                    "align": "left",
                    "font": {
                      "color": "#000000"
                    },
                    "showarrow": false,
                    "text": "0.0",
                    "x": 17.55,
                    "xanchor": "left",
                    "xref": "x",
                    "y": 1,
                    "yref": "y"
                  },
                  {
                    "align": "left",
                    "font": {
                      "color": "#000000"
                    },
                    "showarrow": false,
                    "text": "0.4",
                    "x": 18.55,
                    "xanchor": "left",
                    "xref": "x",
                    "y": 1,
                    "yref": "y"
                  },
                  {
                    "align": "left",
                    "font": {
                      "color": "#000000"
                    },
                    "showarrow": false,
                    "text": "0.3",
                    "x": 19.55,
                    "xanchor": "left",
                    "xref": "x",
                    "y": 1,
                    "yref": "y"
                  },
                  {
                    "align": "left",
                    "font": {
                      "color": "#000000"
                    },
                    "showarrow": false,
                    "text": "-0.0",
                    "x": 20.55,
                    "xanchor": "left",
                    "xref": "x",
                    "y": 1,
                    "yref": "y"
                  },
                  {
                    "align": "left",
                    "font": {
                      "color": "#000000"
                    },
                    "showarrow": false,
                    "text": "0.3",
                    "x": 21.55,
                    "xanchor": "left",
                    "xref": "x",
                    "y": 1,
                    "yref": "y"
                  },
                  {
                    "align": "left",
                    "font": {
                      "color": "#000000"
                    },
                    "showarrow": false,
                    "text": "-0.1",
                    "x": 22.55,
                    "xanchor": "left",
                    "xref": "x",
                    "y": 1,
                    "yref": "y"
                  },
                  {
                    "align": "left",
                    "font": {
                      "color": "#000000"
                    },
                    "showarrow": false,
                    "text": "0.1",
                    "x": 23.55,
                    "xanchor": "left",
                    "xref": "x",
                    "y": 1,
                    "yref": "y"
                  },
                  {
                    "align": "left",
                    "font": {
                      "color": "#000000"
                    },
                    "showarrow": false,
                    "text": "0.1",
                    "x": 24.55,
                    "xanchor": "left",
                    "xref": "x",
                    "y": 1,
                    "yref": "y"
                  },
                  {
                    "align": "left",
                    "font": {
                      "color": "#000000"
                    },
                    "showarrow": false,
                    "text": "-0.2",
                    "x": 25.55,
                    "xanchor": "left",
                    "xref": "x",
                    "y": 1,
                    "yref": "y"
                  },
                  {
                    "align": "left",
                    "font": {
                      "color": "#000000"
                    },
                    "showarrow": false,
                    "text": "0.1",
                    "x": 26.55,
                    "xanchor": "left",
                    "xref": "x",
                    "y": 1,
                    "yref": "y"
                  },
                  {
                    "align": "left",
                    "font": {
                      "color": "#000000"
                    },
                    "showarrow": false,
                    "text": "-0.0",
                    "x": 27.55,
                    "xanchor": "left",
                    "xref": "x",
                    "y": 1,
                    "yref": "y"
                  },
                  {
                    "align": "left",
                    "font": {
                      "color": "#000000"
                    },
                    "showarrow": false,
                    "text": "149.6",
                    "x": 28.55,
                    "xanchor": "left",
                    "xref": "x",
                    "y": 1,
                    "yref": "y"
                  },
                  {
                    "align": "left",
                    "font": {
                      "color": "#000000"
                    },
                    "showarrow": false,
                    "text": "0.0",
                    "x": 29.55,
                    "xanchor": "left",
                    "xref": "x",
                    "y": 1,
                    "yref": "y"
                  },
                  {
                    "align": "left",
                    "font": {
                      "color": "#000000"
                    },
                    "showarrow": false,
                    "text": "0.0",
                    "x": -0.45,
                    "xanchor": "left",
                    "xref": "x",
                    "y": 2,
                    "yref": "y"
                  },
                  {
                    "align": "left",
                    "font": {
                      "color": "#000000"
                    },
                    "showarrow": false,
                    "text": "1.2",
                    "x": 0.55,
                    "xanchor": "left",
                    "xref": "x",
                    "y": 2,
                    "yref": "y"
                  },
                  {
                    "align": "left",
                    "font": {
                      "color": "#000000"
                    },
                    "showarrow": false,
                    "text": "0.3",
                    "x": 1.55,
                    "xanchor": "left",
                    "xref": "x",
                    "y": 2,
                    "yref": "y"
                  },
                  {
                    "align": "left",
                    "font": {
                      "color": "#000000"
                    },
                    "showarrow": false,
                    "text": "0.2",
                    "x": 2.55,
                    "xanchor": "left",
                    "xref": "x",
                    "y": 2,
                    "yref": "y"
                  },
                  {
                    "align": "left",
                    "font": {
                      "color": "#000000"
                    },
                    "showarrow": false,
                    "text": "0.4",
                    "x": 3.55,
                    "xanchor": "left",
                    "xref": "x",
                    "y": 2,
                    "yref": "y"
                  },
                  {
                    "align": "left",
                    "font": {
                      "color": "#000000"
                    },
                    "showarrow": false,
                    "text": "0.1",
                    "x": 4.55,
                    "xanchor": "left",
                    "xref": "x",
                    "y": 2,
                    "yref": "y"
                  },
                  {
                    "align": "left",
                    "font": {
                      "color": "#000000"
                    },
                    "showarrow": false,
                    "text": "-0.1",
                    "x": 5.55,
                    "xanchor": "left",
                    "xref": "x",
                    "y": 2,
                    "yref": "y"
                  },
                  {
                    "align": "left",
                    "font": {
                      "color": "#000000"
                    },
                    "showarrow": false,
                    "text": "-0.1",
                    "x": 6.55,
                    "xanchor": "left",
                    "xref": "x",
                    "y": 2,
                    "yref": "y"
                  },
                  {
                    "align": "left",
                    "font": {
                      "color": "#000000"
                    },
                    "showarrow": false,
                    "text": "0.1",
                    "x": 7.55,
                    "xanchor": "left",
                    "xref": "x",
                    "y": 2,
                    "yref": "y"
                  },
                  {
                    "align": "left",
                    "font": {
                      "color": "#000000"
                    },
                    "showarrow": false,
                    "text": "-0.3",
                    "x": 8.55,
                    "xanchor": "left",
                    "xref": "x",
                    "y": 2,
                    "yref": "y"
                  },
                  {
                    "align": "left",
                    "font": {
                      "color": "#000000"
                    },
                    "showarrow": false,
                    "text": "-0.2",
                    "x": 9.55,
                    "xanchor": "left",
                    "xref": "x",
                    "y": 2,
                    "yref": "y"
                  },
                  {
                    "align": "left",
                    "font": {
                      "color": "#000000"
                    },
                    "showarrow": false,
                    "text": "1.6",
                    "x": 10.55,
                    "xanchor": "left",
                    "xref": "x",
                    "y": 2,
                    "yref": "y"
                  },
                  {
                    "align": "left",
                    "font": {
                      "color": "#000000"
                    },
                    "showarrow": false,
                    "text": "1.1",
                    "x": 11.55,
                    "xanchor": "left",
                    "xref": "x",
                    "y": 2,
                    "yref": "y"
                  },
                  {
                    "align": "left",
                    "font": {
                      "color": "#000000"
                    },
                    "showarrow": false,
                    "text": "0.5",
                    "x": 12.55,
                    "xanchor": "left",
                    "xref": "x",
                    "y": 2,
                    "yref": "y"
                  },
                  {
                    "align": "left",
                    "font": {
                      "color": "#000000"
                    },
                    "showarrow": false,
                    "text": "-0.1",
                    "x": 13.55,
                    "xanchor": "left",
                    "xref": "x",
                    "y": 2,
                    "yref": "y"
                  },
                  {
                    "align": "left",
                    "font": {
                      "color": "#000000"
                    },
                    "showarrow": false,
                    "text": "0.6",
                    "x": 14.55,
                    "xanchor": "left",
                    "xref": "x",
                    "y": 2,
                    "yref": "y"
                  },
                  {
                    "align": "left",
                    "font": {
                      "color": "#000000"
                    },
                    "showarrow": false,
                    "text": "0.5",
                    "x": 15.55,
                    "xanchor": "left",
                    "xref": "x",
                    "y": 2,
                    "yref": "y"
                  },
                  {
                    "align": "left",
                    "font": {
                      "color": "#000000"
                    },
                    "showarrow": false,
                    "text": "-0.1",
                    "x": 16.55,
                    "xanchor": "left",
                    "xref": "x",
                    "y": 2,
                    "yref": "y"
                  },
                  {
                    "align": "left",
                    "font": {
                      "color": "#000000"
                    },
                    "showarrow": false,
                    "text": "-0.2",
                    "x": 17.55,
                    "xanchor": "left",
                    "xref": "x",
                    "y": 2,
                    "yref": "y"
                  },
                  {
                    "align": "left",
                    "font": {
                      "color": "#000000"
                    },
                    "showarrow": false,
                    "text": "-0.1",
                    "x": 18.55,
                    "xanchor": "left",
                    "xref": "x",
                    "y": 2,
                    "yref": "y"
                  },
                  {
                    "align": "left",
                    "font": {
                      "color": "#000000"
                    },
                    "showarrow": false,
                    "text": "-0.1",
                    "x": 19.55,
                    "xanchor": "left",
                    "xref": "x",
                    "y": 2,
                    "yref": "y"
                  },
                  {
                    "align": "left",
                    "font": {
                      "color": "#000000"
                    },
                    "showarrow": false,
                    "text": "-0.2",
                    "x": 20.55,
                    "xanchor": "left",
                    "xref": "x",
                    "y": 2,
                    "yref": "y"
                  },
                  {
                    "align": "left",
                    "font": {
                      "color": "#000000"
                    },
                    "showarrow": false,
                    "text": "-0.6",
                    "x": 21.55,
                    "xanchor": "left",
                    "xref": "x",
                    "y": 2,
                    "yref": "y"
                  },
                  {
                    "align": "left",
                    "font": {
                      "color": "#000000"
                    },
                    "showarrow": false,
                    "text": "0.1",
                    "x": 22.55,
                    "xanchor": "left",
                    "xref": "x",
                    "y": 2,
                    "yref": "y"
                  },
                  {
                    "align": "left",
                    "font": {
                      "color": "#000000"
                    },
                    "showarrow": false,
                    "text": "-0.3",
                    "x": 23.55,
                    "xanchor": "left",
                    "xref": "x",
                    "y": 2,
                    "yref": "y"
                  },
                  {
                    "align": "left",
                    "font": {
                      "color": "#000000"
                    },
                    "showarrow": false,
                    "text": "0.2",
                    "x": 24.55,
                    "xanchor": "left",
                    "xref": "x",
                    "y": 2,
                    "yref": "y"
                  },
                  {
                    "align": "left",
                    "font": {
                      "color": "#000000"
                    },
                    "showarrow": false,
                    "text": "0.1",
                    "x": 25.55,
                    "xanchor": "left",
                    "xref": "x",
                    "y": 2,
                    "yref": "y"
                  },
                  {
                    "align": "left",
                    "font": {
                      "color": "#000000"
                    },
                    "showarrow": false,
                    "text": "-0.0",
                    "x": 26.55,
                    "xanchor": "left",
                    "xref": "x",
                    "y": 2,
                    "yref": "y"
                  },
                  {
                    "align": "left",
                    "font": {
                      "color": "#000000"
                    },
                    "showarrow": false,
                    "text": "0.0",
                    "x": 27.55,
                    "xanchor": "left",
                    "xref": "x",
                    "y": 2,
                    "yref": "y"
                  },
                  {
                    "align": "left",
                    "font": {
                      "color": "#000000"
                    },
                    "showarrow": false,
                    "text": "2.7",
                    "x": 28.55,
                    "xanchor": "left",
                    "xref": "x",
                    "y": 2,
                    "yref": "y"
                  },
                  {
                    "align": "left",
                    "font": {
                      "color": "#000000"
                    },
                    "showarrow": false,
                    "text": "0.0",
                    "x": 29.55,
                    "xanchor": "left",
                    "xref": "x",
                    "y": 2,
                    "yref": "y"
                  },
                  {
                    "align": "left",
                    "font": {
                      "color": "#000000"
                    },
                    "showarrow": false,
                    "text": "1.0",
                    "x": -0.45,
                    "xanchor": "left",
                    "xref": "x",
                    "y": 3,
                    "yref": "y"
                  },
                  {
                    "align": "left",
                    "font": {
                      "color": "#000000"
                    },
                    "showarrow": false,
                    "text": "-1.4",
                    "x": 0.55,
                    "xanchor": "left",
                    "xref": "x",
                    "y": 3,
                    "yref": "y"
                  },
                  {
                    "align": "left",
                    "font": {
                      "color": "#000000"
                    },
                    "showarrow": false,
                    "text": "-1.3",
                    "x": 1.55,
                    "xanchor": "left",
                    "xref": "x",
                    "y": 3,
                    "yref": "y"
                  },
                  {
                    "align": "left",
                    "font": {
                      "color": "#000000"
                    },
                    "showarrow": false,
                    "text": "1.8",
                    "x": 2.55,
                    "xanchor": "left",
                    "xref": "x",
                    "y": 3,
                    "yref": "y"
                  },
                  {
                    "align": "left",
                    "font": {
                      "color": "#000000"
                    },
                    "showarrow": false,
                    "text": "0.4",
                    "x": 3.55,
                    "xanchor": "left",
                    "xref": "x",
                    "y": 3,
                    "yref": "y"
                  },
                  {
                    "align": "left",
                    "font": {
                      "color": "#000000"
                    },
                    "showarrow": false,
                    "text": "-0.5",
                    "x": 4.55,
                    "xanchor": "left",
                    "xref": "x",
                    "y": 3,
                    "yref": "y"
                  },
                  {
                    "align": "left",
                    "font": {
                      "color": "#000000"
                    },
                    "showarrow": false,
                    "text": "1.8",
                    "x": 5.55,
                    "xanchor": "left",
                    "xref": "x",
                    "y": 3,
                    "yref": "y"
                  },
                  {
                    "align": "left",
                    "font": {
                      "color": "#000000"
                    },
                    "showarrow": false,
                    "text": "0.8",
                    "x": 6.55,
                    "xanchor": "left",
                    "xref": "x",
                    "y": 3,
                    "yref": "y"
                  },
                  {
                    "align": "left",
                    "font": {
                      "color": "#000000"
                    },
                    "showarrow": false,
                    "text": "0.2",
                    "x": 7.55,
                    "xanchor": "left",
                    "xref": "x",
                    "y": 3,
                    "yref": "y"
                  },
                  {
                    "align": "left",
                    "font": {
                      "color": "#000000"
                    },
                    "showarrow": false,
                    "text": "-1.5",
                    "x": 8.55,
                    "xanchor": "left",
                    "xref": "x",
                    "y": 3,
                    "yref": "y"
                  },
                  {
                    "align": "left",
                    "font": {
                      "color": "#000000"
                    },
                    "showarrow": false,
                    "text": "0.2",
                    "x": 9.55,
                    "xanchor": "left",
                    "xref": "x",
                    "y": 3,
                    "yref": "y"
                  },
                  {
                    "align": "left",
                    "font": {
                      "color": "#000000"
                    },
                    "showarrow": false,
                    "text": "0.6",
                    "x": 10.55,
                    "xanchor": "left",
                    "xref": "x",
                    "y": 3,
                    "yref": "y"
                  },
                  {
                    "align": "left",
                    "font": {
                      "color": "#000000"
                    },
                    "showarrow": false,
                    "text": "0.1",
                    "x": 11.55,
                    "xanchor": "left",
                    "xref": "x",
                    "y": 3,
                    "yref": "y"
                  },
                  {
                    "align": "left",
                    "font": {
                      "color": "#000000"
                    },
                    "showarrow": false,
                    "text": "0.7",
                    "x": 12.55,
                    "xanchor": "left",
                    "xref": "x",
                    "y": 3,
                    "yref": "y"
                  },
                  {
                    "align": "left",
                    "font": {
                      "color": "#000000"
                    },
                    "showarrow": false,
                    "text": "-0.2",
                    "x": 13.55,
                    "xanchor": "left",
                    "xref": "x",
                    "y": 3,
                    "yref": "y"
                  },
                  {
                    "align": "left",
                    "font": {
                      "color": "#000000"
                    },
                    "showarrow": false,
                    "text": "2.3",
                    "x": 14.55,
                    "xanchor": "left",
                    "xref": "x",
                    "y": 3,
                    "yref": "y"
                  },
                  {
                    "align": "left",
                    "font": {
                      "color": "#000000"
                    },
                    "showarrow": false,
                    "text": "-2.9",
                    "x": 15.55,
                    "xanchor": "left",
                    "xref": "x",
                    "y": 3,
                    "yref": "y"
                  },
                  {
                    "align": "left",
                    "font": {
                      "color": "#000000"
                    },
                    "showarrow": false,
                    "text": "1.1",
                    "x": 16.55,
                    "xanchor": "left",
                    "xref": "x",
                    "y": 3,
                    "yref": "y"
                  },
                  {
                    "align": "left",
                    "font": {
                      "color": "#000000"
                    },
                    "showarrow": false,
                    "text": "-0.1",
                    "x": 17.55,
                    "xanchor": "left",
                    "xref": "x",
                    "y": 3,
                    "yref": "y"
                  },
                  {
                    "align": "left",
                    "font": {
                      "color": "#000000"
                    },
                    "showarrow": false,
                    "text": "-2.3",
                    "x": 18.55,
                    "xanchor": "left",
                    "xref": "x",
                    "y": 3,
                    "yref": "y"
                  },
                  {
                    "align": "left",
                    "font": {
                      "color": "#000000"
                    },
                    "showarrow": false,
                    "text": "0.5",
                    "x": 19.55,
                    "xanchor": "left",
                    "xref": "x",
                    "y": 3,
                    "yref": "y"
                  },
                  {
                    "align": "left",
                    "font": {
                      "color": "#000000"
                    },
                    "showarrow": false,
                    "text": "0.2",
                    "x": 20.55,
                    "xanchor": "left",
                    "xref": "x",
                    "y": 3,
                    "yref": "y"
                  },
                  {
                    "align": "left",
                    "font": {
                      "color": "#000000"
                    },
                    "showarrow": false,
                    "text": "0.8",
                    "x": 21.55,
                    "xanchor": "left",
                    "xref": "x",
                    "y": 3,
                    "yref": "y"
                  },
                  {
                    "align": "left",
                    "font": {
                      "color": "#000000"
                    },
                    "showarrow": false,
                    "text": "0.9",
                    "x": 22.55,
                    "xanchor": "left",
                    "xref": "x",
                    "y": 3,
                    "yref": "y"
                  },
                  {
                    "align": "left",
                    "font": {
                      "color": "#000000"
                    },
                    "showarrow": false,
                    "text": "-0.7",
                    "x": 23.55,
                    "xanchor": "left",
                    "xref": "x",
                    "y": 3,
                    "yref": "y"
                  },
                  {
                    "align": "left",
                    "font": {
                      "color": "#000000"
                    },
                    "showarrow": false,
                    "text": "-0.3",
                    "x": 24.55,
                    "xanchor": "left",
                    "xref": "x",
                    "y": 3,
                    "yref": "y"
                  },
                  {
                    "align": "left",
                    "font": {
                      "color": "#000000"
                    },
                    "showarrow": false,
                    "text": "-0.1",
                    "x": 25.55,
                    "xanchor": "left",
                    "xref": "x",
                    "y": 3,
                    "yref": "y"
                  },
                  {
                    "align": "left",
                    "font": {
                      "color": "#000000"
                    },
                    "showarrow": false,
                    "text": "-0.1",
                    "x": 26.55,
                    "xanchor": "left",
                    "xref": "x",
                    "y": 3,
                    "yref": "y"
                  },
                  {
                    "align": "left",
                    "font": {
                      "color": "#000000"
                    },
                    "showarrow": false,
                    "text": "-0.1",
                    "x": 27.55,
                    "xanchor": "left",
                    "xref": "x",
                    "y": 3,
                    "yref": "y"
                  },
                  {
                    "align": "left",
                    "font": {
                      "color": "#000000"
                    },
                    "showarrow": false,
                    "text": "378.7",
                    "x": 28.55,
                    "xanchor": "left",
                    "xref": "x",
                    "y": 3,
                    "yref": "y"
                  },
                  {
                    "align": "left",
                    "font": {
                      "color": "#000000"
                    },
                    "showarrow": false,
                    "text": "0.0",
                    "x": 29.55,
                    "xanchor": "left",
                    "xref": "x",
                    "y": 3,
                    "yref": "y"
                  },
                  {
                    "align": "left",
                    "font": {
                      "color": "#000000"
                    },
                    "showarrow": false,
                    "text": "1.0",
                    "x": -0.45,
                    "xanchor": "left",
                    "xref": "x",
                    "y": 4,
                    "yref": "y"
                  },
                  {
                    "align": "left",
                    "font": {
                      "color": "#000000"
                    },
                    "showarrow": false,
                    "text": "-1.0",
                    "x": 0.55,
                    "xanchor": "left",
                    "xref": "x",
                    "y": 4,
                    "yref": "y"
                  },
                  {
                    "align": "left",
                    "font": {
                      "color": "#000000"
                    },
                    "showarrow": false,
                    "text": "-0.2",
                    "x": 1.55,
                    "xanchor": "left",
                    "xref": "x",
                    "y": 4,
                    "yref": "y"
                  },
                  {
                    "align": "left",
                    "font": {
                      "color": "#000000"
                    },
                    "showarrow": false,
                    "text": "1.8",
                    "x": 2.55,
                    "xanchor": "left",
                    "xref": "x",
                    "y": 4,
                    "yref": "y"
                  },
                  {
                    "align": "left",
                    "font": {
                      "color": "#000000"
                    },
                    "showarrow": false,
                    "text": "-0.9",
                    "x": 3.55,
                    "xanchor": "left",
                    "xref": "x",
                    "y": 4,
                    "yref": "y"
                  },
                  {
                    "align": "left",
                    "font": {
                      "color": "#000000"
                    },
                    "showarrow": false,
                    "text": "-0.0",
                    "x": 4.55,
                    "xanchor": "left",
                    "xref": "x",
                    "y": 4,
                    "yref": "y"
                  },
                  {
                    "align": "left",
                    "font": {
                      "color": "#000000"
                    },
                    "showarrow": false,
                    "text": "1.2",
                    "x": 5.55,
                    "xanchor": "left",
                    "xref": "x",
                    "y": 4,
                    "yref": "y"
                  },
                  {
                    "align": "left",
                    "font": {
                      "color": "#000000"
                    },
                    "showarrow": false,
                    "text": "0.2",
                    "x": 6.55,
                    "xanchor": "left",
                    "xref": "x",
                    "y": 4,
                    "yref": "y"
                  },
                  {
                    "align": "left",
                    "font": {
                      "color": "#000000"
                    },
                    "showarrow": false,
                    "text": "0.4",
                    "x": 7.55,
                    "xanchor": "left",
                    "xref": "x",
                    "y": 4,
                    "yref": "y"
                  },
                  {
                    "align": "left",
                    "font": {
                      "color": "#000000"
                    },
                    "showarrow": false,
                    "text": "-1.4",
                    "x": 8.55,
                    "xanchor": "left",
                    "xref": "x",
                    "y": 4,
                    "yref": "y"
                  },
                  {
                    "align": "left",
                    "font": {
                      "color": "#000000"
                    },
                    "showarrow": false,
                    "text": "-0.1",
                    "x": 9.55,
                    "xanchor": "left",
                    "xref": "x",
                    "y": 4,
                    "yref": "y"
                  },
                  {
                    "align": "left",
                    "font": {
                      "color": "#000000"
                    },
                    "showarrow": false,
                    "text": "-0.2",
                    "x": 10.55,
                    "xanchor": "left",
                    "xref": "x",
                    "y": 4,
                    "yref": "y"
                  },
                  {
                    "align": "left",
                    "font": {
                      "color": "#000000"
                    },
                    "showarrow": false,
                    "text": "0.2",
                    "x": 11.55,
                    "xanchor": "left",
                    "xref": "x",
                    "y": 4,
                    "yref": "y"
                  },
                  {
                    "align": "left",
                    "font": {
                      "color": "#000000"
                    },
                    "showarrow": false,
                    "text": "0.5",
                    "x": 12.55,
                    "xanchor": "left",
                    "xref": "x",
                    "y": 4,
                    "yref": "y"
                  },
                  {
                    "align": "left",
                    "font": {
                      "color": "#000000"
                    },
                    "showarrow": false,
                    "text": "-0.3",
                    "x": 13.55,
                    "xanchor": "left",
                    "xref": "x",
                    "y": 4,
                    "yref": "y"
                  },
                  {
                    "align": "left",
                    "font": {
                      "color": "#000000"
                    },
                    "showarrow": false,
                    "text": "-0.6",
                    "x": 14.55,
                    "xanchor": "left",
                    "xref": "x",
                    "y": 4,
                    "yref": "y"
                  },
                  {
                    "align": "left",
                    "font": {
                      "color": "#000000"
                    },
                    "showarrow": false,
                    "text": "-1.1",
                    "x": 15.55,
                    "xanchor": "left",
                    "xref": "x",
                    "y": 4,
                    "yref": "y"
                  },
                  {
                    "align": "left",
                    "font": {
                      "color": "#000000"
                    },
                    "showarrow": false,
                    "text": "-0.7",
                    "x": 16.55,
                    "xanchor": "left",
                    "xref": "x",
                    "y": 4,
                    "yref": "y"
                  },
                  {
                    "align": "left",
                    "font": {
                      "color": "#000000"
                    },
                    "showarrow": false,
                    "text": "2.0",
                    "x": 17.55,
                    "xanchor": "left",
                    "xref": "x",
                    "y": 4,
                    "yref": "y"
                  },
                  {
                    "align": "left",
                    "font": {
                      "color": "#000000"
                    },
                    "showarrow": false,
                    "text": "-1.2",
                    "x": 18.55,
                    "xanchor": "left",
                    "xref": "x",
                    "y": 4,
                    "yref": "y"
                  },
                  {
                    "align": "left",
                    "font": {
                      "color": "#000000"
                    },
                    "showarrow": false,
                    "text": "-0.2",
                    "x": 19.55,
                    "xanchor": "left",
                    "xref": "x",
                    "y": 4,
                    "yref": "y"
                  },
                  {
                    "align": "left",
                    "font": {
                      "color": "#000000"
                    },
                    "showarrow": false,
                    "text": "-0.1",
                    "x": 20.55,
                    "xanchor": "left",
                    "xref": "x",
                    "y": 4,
                    "yref": "y"
                  },
                  {
                    "align": "left",
                    "font": {
                      "color": "#000000"
                    },
                    "showarrow": false,
                    "text": "0.0",
                    "x": 21.55,
                    "xanchor": "left",
                    "xref": "x",
                    "y": 4,
                    "yref": "y"
                  },
                  {
                    "align": "left",
                    "font": {
                      "color": "#000000"
                    },
                    "showarrow": false,
                    "text": "-0.2",
                    "x": 22.55,
                    "xanchor": "left",
                    "xref": "x",
                    "y": 4,
                    "yref": "y"
                  },
                  {
                    "align": "left",
                    "font": {
                      "color": "#000000"
                    },
                    "showarrow": false,
                    "text": "-1.2",
                    "x": 23.55,
                    "xanchor": "left",
                    "xref": "x",
                    "y": 4,
                    "yref": "y"
                  },
                  {
                    "align": "left",
                    "font": {
                      "color": "#000000"
                    },
                    "showarrow": false,
                    "text": "0.6",
                    "x": 24.55,
                    "xanchor": "left",
                    "xref": "x",
                    "y": 4,
                    "yref": "y"
                  },
                  {
                    "align": "left",
                    "font": {
                      "color": "#000000"
                    },
                    "showarrow": false,
                    "text": "-0.2",
                    "x": 25.55,
                    "xanchor": "left",
                    "xref": "x",
                    "y": 4,
                    "yref": "y"
                  },
                  {
                    "align": "left",
                    "font": {
                      "color": "#000000"
                    },
                    "showarrow": false,
                    "text": "0.1",
                    "x": 26.55,
                    "xanchor": "left",
                    "xref": "x",
                    "y": 4,
                    "yref": "y"
                  },
                  {
                    "align": "left",
                    "font": {
                      "color": "#000000"
                    },
                    "showarrow": false,
                    "text": "0.1",
                    "x": 27.55,
                    "xanchor": "left",
                    "xref": "x",
                    "y": 4,
                    "yref": "y"
                  },
                  {
                    "align": "left",
                    "font": {
                      "color": "#000000"
                    },
                    "showarrow": false,
                    "text": "123.5",
                    "x": 28.55,
                    "xanchor": "left",
                    "xref": "x",
                    "y": 4,
                    "yref": "y"
                  },
                  {
                    "align": "left",
                    "font": {
                      "color": "#000000"
                    },
                    "showarrow": false,
                    "text": "0.0",
                    "x": 29.55,
                    "xanchor": "left",
                    "xref": "x",
                    "y": 4,
                    "yref": "y"
                  },
                  {
                    "align": "left",
                    "font": {
                      "color": "#000000"
                    },
                    "showarrow": false,
                    "text": "2.0",
                    "x": -0.45,
                    "xanchor": "left",
                    "xref": "x",
                    "y": 5,
                    "yref": "y"
                  },
                  {
                    "align": "left",
                    "font": {
                      "color": "#000000"
                    },
                    "showarrow": false,
                    "text": "-1.2",
                    "x": 0.55,
                    "xanchor": "left",
                    "xref": "x",
                    "y": 5,
                    "yref": "y"
                  },
                  {
                    "align": "left",
                    "font": {
                      "color": "#000000"
                    },
                    "showarrow": false,
                    "text": "0.9",
                    "x": 1.55,
                    "xanchor": "left",
                    "xref": "x",
                    "y": 5,
                    "yref": "y"
                  },
                  {
                    "align": "left",
                    "font": {
                      "color": "#000000"
                    },
                    "showarrow": false,
                    "text": "1.5",
                    "x": 2.55,
                    "xanchor": "left",
                    "xref": "x",
                    "y": 5,
                    "yref": "y"
                  },
                  {
                    "align": "left",
                    "font": {
                      "color": "#000000"
                    },
                    "showarrow": false,
                    "text": "0.4",
                    "x": 3.55,
                    "xanchor": "left",
                    "xref": "x",
                    "y": 5,
                    "yref": "y"
                  },
                  {
                    "align": "left",
                    "font": {
                      "color": "#000000"
                    },
                    "showarrow": false,
                    "text": "-0.4",
                    "x": 4.55,
                    "xanchor": "left",
                    "xref": "x",
                    "y": 5,
                    "yref": "y"
                  },
                  {
                    "align": "left",
                    "font": {
                      "color": "#000000"
                    },
                    "showarrow": false,
                    "text": "0.1",
                    "x": 5.55,
                    "xanchor": "left",
                    "xref": "x",
                    "y": 5,
                    "yref": "y"
                  },
                  {
                    "align": "left",
                    "font": {
                      "color": "#000000"
                    },
                    "showarrow": false,
                    "text": "0.6",
                    "x": 6.55,
                    "xanchor": "left",
                    "xref": "x",
                    "y": 5,
                    "yref": "y"
                  },
                  {
                    "align": "left",
                    "font": {
                      "color": "#000000"
                    },
                    "showarrow": false,
                    "text": "-0.3",
                    "x": 7.55,
                    "xanchor": "left",
                    "xref": "x",
                    "y": 5,
                    "yref": "y"
                  },
                  {
                    "align": "left",
                    "font": {
                      "color": "#000000"
                    },
                    "showarrow": false,
                    "text": "0.8",
                    "x": 8.55,
                    "xanchor": "left",
                    "xref": "x",
                    "y": 5,
                    "yref": "y"
                  },
                  {
                    "align": "left",
                    "font": {
                      "color": "#000000"
                    },
                    "showarrow": false,
                    "text": "0.8",
                    "x": 9.55,
                    "xanchor": "left",
                    "xref": "x",
                    "y": 5,
                    "yref": "y"
                  },
                  {
                    "align": "left",
                    "font": {
                      "color": "#000000"
                    },
                    "showarrow": false,
                    "text": "-0.8",
                    "x": 10.55,
                    "xanchor": "left",
                    "xref": "x",
                    "y": 5,
                    "yref": "y"
                  },
                  {
                    "align": "left",
                    "font": {
                      "color": "#000000"
                    },
                    "showarrow": false,
                    "text": "0.5",
                    "x": 11.55,
                    "xanchor": "left",
                    "xref": "x",
                    "y": 5,
                    "yref": "y"
                  },
                  {
                    "align": "left",
                    "font": {
                      "color": "#000000"
                    },
                    "showarrow": false,
                    "text": "1.3",
                    "x": 12.55,
                    "xanchor": "left",
                    "xref": "x",
                    "y": 5,
                    "yref": "y"
                  },
                  {
                    "align": "left",
                    "font": {
                      "color": "#000000"
                    },
                    "showarrow": false,
                    "text": "-1.1",
                    "x": 13.55,
                    "xanchor": "left",
                    "xref": "x",
                    "y": 5,
                    "yref": "y"
                  },
                  {
                    "align": "left",
                    "font": {
                      "color": "#000000"
                    },
                    "showarrow": false,
                    "text": "0.2",
                    "x": 14.55,
                    "xanchor": "left",
                    "xref": "x",
                    "y": 5,
                    "yref": "y"
                  },
                  {
                    "align": "left",
                    "font": {
                      "color": "#000000"
                    },
                    "showarrow": false,
                    "text": "-0.5",
                    "x": 15.55,
                    "xanchor": "left",
                    "xref": "x",
                    "y": 5,
                    "yref": "y"
                  },
                  {
                    "align": "left",
                    "font": {
                      "color": "#000000"
                    },
                    "showarrow": false,
                    "text": "-0.2",
                    "x": 16.55,
                    "xanchor": "left",
                    "xref": "x",
                    "y": 5,
                    "yref": "y"
                  },
                  {
                    "align": "left",
                    "font": {
                      "color": "#000000"
                    },
                    "showarrow": false,
                    "text": "-0.0",
                    "x": 17.55,
                    "xanchor": "left",
                    "xref": "x",
                    "y": 5,
                    "yref": "y"
                  },
                  {
                    "align": "left",
                    "font": {
                      "color": "#000000"
                    },
                    "showarrow": false,
                    "text": "0.8",
                    "x": 18.55,
                    "xanchor": "left",
                    "xref": "x",
                    "y": 5,
                    "yref": "y"
                  },
                  {
                    "align": "left",
                    "font": {
                      "color": "#000000"
                    },
                    "showarrow": false,
                    "text": "0.4",
                    "x": 19.55,
                    "xanchor": "left",
                    "xref": "x",
                    "y": 5,
                    "yref": "y"
                  },
                  {
                    "align": "left",
                    "font": {
                      "color": "#000000"
                    },
                    "showarrow": false,
                    "text": "-0.0",
                    "x": 20.55,
                    "xanchor": "left",
                    "xref": "x",
                    "y": 5,
                    "yref": "y"
                  },
                  {
                    "align": "left",
                    "font": {
                      "color": "#000000"
                    },
                    "showarrow": false,
                    "text": "0.8",
                    "x": 21.55,
                    "xanchor": "left",
                    "xref": "x",
                    "y": 5,
                    "yref": "y"
                  },
                  {
                    "align": "left",
                    "font": {
                      "color": "#000000"
                    },
                    "showarrow": false,
                    "text": "-0.1",
                    "x": 22.55,
                    "xanchor": "left",
                    "xref": "x",
                    "y": 5,
                    "yref": "y"
                  },
                  {
                    "align": "left",
                    "font": {
                      "color": "#000000"
                    },
                    "showarrow": false,
                    "text": "0.1",
                    "x": 23.55,
                    "xanchor": "left",
                    "xref": "x",
                    "y": 5,
                    "yref": "y"
                  },
                  {
                    "align": "left",
                    "font": {
                      "color": "#000000"
                    },
                    "showarrow": false,
                    "text": "-0.2",
                    "x": 24.55,
                    "xanchor": "left",
                    "xref": "x",
                    "y": 5,
                    "yref": "y"
                  },
                  {
                    "align": "left",
                    "font": {
                      "color": "#000000"
                    },
                    "showarrow": false,
                    "text": "0.5",
                    "x": 25.55,
                    "xanchor": "left",
                    "xref": "x",
                    "y": 5,
                    "yref": "y"
                  },
                  {
                    "align": "left",
                    "font": {
                      "color": "#000000"
                    },
                    "showarrow": false,
                    "text": "0.2",
                    "x": 26.55,
                    "xanchor": "left",
                    "xref": "x",
                    "y": 5,
                    "yref": "y"
                  },
                  {
                    "align": "left",
                    "font": {
                      "color": "#000000"
                    },
                    "showarrow": false,
                    "text": "0.2",
                    "x": 27.55,
                    "xanchor": "left",
                    "xref": "x",
                    "y": 5,
                    "yref": "y"
                  },
                  {
                    "align": "left",
                    "font": {
                      "color": "#000000"
                    },
                    "showarrow": false,
                    "text": "70.0",
                    "x": 28.55,
                    "xanchor": "left",
                    "xref": "x",
                    "y": 5,
                    "yref": "y"
                  },
                  {
                    "align": "left",
                    "font": {
                      "color": "#000000"
                    },
                    "showarrow": false,
                    "text": "0.0",
                    "x": 29.55,
                    "xanchor": "left",
                    "xref": "x",
                    "y": 5,
                    "yref": "y"
                  }
                ],
                "height": 230,
                "margin": {
                  "b": 0,
                  "l": 0,
                  "r": 0,
                  "t": 0
                },
                "template": {
                  "data": {
                    "barpolar": [
                      {
                        "marker": {
                          "line": {
                            "color": "#E5ECF6",
                            "width": 0.5
                          },
                          "pattern": {
                            "fillmode": "overlay",
                            "size": 10,
                            "solidity": 0.2
                          }
                        },
                        "type": "barpolar"
                      }
                    ],
                    "bar": [
                      {
                        "error_x": {
                          "color": "#2a3f5f"
                        },
                        "error_y": {
                          "color": "#2a3f5f"
                        },
                        "marker": {
                          "line": {
                            "color": "#E5ECF6",
                            "width": 0.5
                          },
                          "pattern": {
                            "fillmode": "overlay",
                            "size": 10,
                            "solidity": 0.2
                          }
                        },
                        "type": "bar"
                      }
                    ],
                    "carpet": [
                      {
                        "aaxis": {
                          "endlinecolor": "#2a3f5f",
                          "gridcolor": "white",
                          "linecolor": "white",
                          "minorgridcolor": "white",
                          "startlinecolor": "#2a3f5f"
                        },
                        "baxis": {
                          "endlinecolor": "#2a3f5f",
                          "gridcolor": "white",
                          "linecolor": "white",
                          "minorgridcolor": "white",
                          "startlinecolor": "#2a3f5f"
                        },
                        "type": "carpet"
                      }
                    ],
                    "choropleth": [
                      {
                        "colorbar": {
                          "outlinewidth": 0,
                          "ticks": ""
                        },
                        "type": "choropleth"
                      }
                    ],
                    "contourcarpet": [
                      {
                        "colorbar": {
                          "outlinewidth": 0,
                          "ticks": ""
                        },
                        "type": "contourcarpet"
                      }
                    ],
                    "contour": [
                      {
                        "colorbar": {
                          "outlinewidth": 0,
                          "ticks": ""
                        },
                        "colorscale": [
                          [
                            0,
                            "#0d0887"
                          ],
                          [
                            0.1111111111111111,
                            "#46039f"
                          ],
                          [
                            0.2222222222222222,
                            "#7201a8"
                          ],
                          [
                            0.3333333333333333,
                            "#9c179e"
                          ],
                          [
                            0.4444444444444444,
                            "#bd3786"
                          ],
                          [
                            0.5555555555555556,
                            "#d8576b"
                          ],
                          [
                            0.6666666666666666,
                            "#ed7953"
                          ],
                          [
                            0.7777777777777778,
                            "#fb9f3a"
                          ],
                          [
                            0.8888888888888888,
                            "#fdca26"
                          ],
                          [
                            1,
                            "#f0f921"
                          ]
                        ],
                        "type": "contour"
                      }
                    ],
                    "heatmapgl": [
                      {
                        "colorbar": {
                          "outlinewidth": 0,
                          "ticks": ""
                        },
                        "colorscale": [
                          [
                            0,
                            "#0d0887"
                          ],
                          [
                            0.1111111111111111,
                            "#46039f"
                          ],
                          [
                            0.2222222222222222,
                            "#7201a8"
                          ],
                          [
                            0.3333333333333333,
                            "#9c179e"
                          ],
                          [
                            0.4444444444444444,
                            "#bd3786"
                          ],
                          [
                            0.5555555555555556,
                            "#d8576b"
                          ],
                          [
                            0.6666666666666666,
                            "#ed7953"
                          ],
                          [
                            0.7777777777777778,
                            "#fb9f3a"
                          ],
                          [
                            0.8888888888888888,
                            "#fdca26"
                          ],
                          [
                            1,
                            "#f0f921"
                          ]
                        ],
                        "type": "heatmapgl"
                      }
                    ],
                    "heatmap": [
                      {
                        "colorbar": {
                          "outlinewidth": 0,
                          "ticks": ""
                        },
                        "colorscale": [
                          [
                            0,
                            "#0d0887"
                          ],
                          [
                            0.1111111111111111,
                            "#46039f"
                          ],
                          [
                            0.2222222222222222,
                            "#7201a8"
                          ],
                          [
                            0.3333333333333333,
                            "#9c179e"
                          ],
                          [
                            0.4444444444444444,
                            "#bd3786"
                          ],
                          [
                            0.5555555555555556,
                            "#d8576b"
                          ],
                          [
                            0.6666666666666666,
                            "#ed7953"
                          ],
                          [
                            0.7777777777777778,
                            "#fb9f3a"
                          ],
                          [
                            0.8888888888888888,
                            "#fdca26"
                          ],
                          [
                            1,
                            "#f0f921"
                          ]
                        ],
                        "type": "heatmap"
                      }
                    ],
                    "histogram2dcontour": [
                      {
                        "colorbar": {
                          "outlinewidth": 0,
                          "ticks": ""
                        },
                        "colorscale": [
                          [
                            0,
                            "#0d0887"
                          ],
                          [
                            0.1111111111111111,
                            "#46039f"
                          ],
                          [
                            0.2222222222222222,
                            "#7201a8"
                          ],
                          [
                            0.3333333333333333,
                            "#9c179e"
                          ],
                          [
                            0.4444444444444444,
                            "#bd3786"
                          ],
                          [
                            0.5555555555555556,
                            "#d8576b"
                          ],
                          [
                            0.6666666666666666,
                            "#ed7953"
                          ],
                          [
                            0.7777777777777778,
                            "#fb9f3a"
                          ],
                          [
                            0.8888888888888888,
                            "#fdca26"
                          ],
                          [
                            1,
                            "#f0f921"
                          ]
                        ],
                        "type": "histogram2dcontour"
                      }
                    ],
                    "histogram2d": [
                      {
                        "colorbar": {
                          "outlinewidth": 0,
                          "ticks": ""
                        },
                        "colorscale": [
                          [
                            0,
                            "#0d0887"
                          ],
                          [
                            0.1111111111111111,
                            "#46039f"
                          ],
                          [
                            0.2222222222222222,
                            "#7201a8"
                          ],
                          [
                            0.3333333333333333,
                            "#9c179e"
                          ],
                          [
                            0.4444444444444444,
                            "#bd3786"
                          ],
                          [
                            0.5555555555555556,
                            "#d8576b"
                          ],
                          [
                            0.6666666666666666,
                            "#ed7953"
                          ],
                          [
                            0.7777777777777778,
                            "#fb9f3a"
                          ],
                          [
                            0.8888888888888888,
                            "#fdca26"
                          ],
                          [
                            1,
                            "#f0f921"
                          ]
                        ],
                        "type": "histogram2d"
                      }
                    ],
                    "histogram": [
                      {
                        "marker": {
                          "pattern": {
                            "fillmode": "overlay",
                            "size": 10,
                            "solidity": 0.2
                          }
                        },
                        "type": "histogram"
                      }
                    ],
                    "mesh3d": [
                      {
                        "colorbar": {
                          "outlinewidth": 0,
                          "ticks": ""
                        },
                        "type": "mesh3d"
                      }
                    ],
                    "parcoords": [
                      {
                        "line": {
                          "colorbar": {
                            "outlinewidth": 0,
                            "ticks": ""
                          }
                        },
                        "type": "parcoords"
                      }
                    ],
                    "pie": [
                      {
                        "automargin": true,
                        "type": "pie"
                      }
                    ],
                    "scatter3d": [
                      {
                        "line": {
                          "colorbar": {
                            "outlinewidth": 0,
                            "ticks": ""
                          }
                        },
                        "marker": {
                          "colorbar": {
                            "outlinewidth": 0,
                            "ticks": ""
                          }
                        },
                        "type": "scatter3d"
                      }
                    ],
                    "scattercarpet": [
                      {
                        "marker": {
                          "colorbar": {
                            "outlinewidth": 0,
                            "ticks": ""
                          }
                        },
                        "type": "scattercarpet"
                      }
                    ],
                    "scattergeo": [
                      {
                        "marker": {
                          "colorbar": {
                            "outlinewidth": 0,
                            "ticks": ""
                          }
                        },
                        "type": "scattergeo"
                      }
                    ],
                    "scattergl": [
                      {
                        "marker": {
                          "colorbar": {
                            "outlinewidth": 0,
                            "ticks": ""
                          }
                        },
                        "type": "scattergl"
                      }
                    ],
                    "scattermapbox": [
                      {
                        "marker": {
                          "colorbar": {
                            "outlinewidth": 0,
                            "ticks": ""
                          }
                        },
                        "type": "scattermapbox"
                      }
                    ],
                    "scatterpolargl": [
                      {
                        "marker": {
                          "colorbar": {
                            "outlinewidth": 0,
                            "ticks": ""
                          }
                        },
                        "type": "scatterpolargl"
                      }
                    ],
                    "scatterpolar": [
                      {
                        "marker": {
                          "colorbar": {
                            "outlinewidth": 0,
                            "ticks": ""
                          }
                        },
                        "type": "scatterpolar"
                      }
                    ],
                    "scatter": [
                      {
                        "fillpattern": {
                          "fillmode": "overlay",
                          "size": 10,
                          "solidity": 0.2
                        },
                        "type": "scatter"
                      }
                    ],
                    "scatterternary": [
                      {
                        "marker": {
                          "colorbar": {
                            "outlinewidth": 0,
                            "ticks": ""
                          }
                        },
                        "type": "scatterternary"
                      }
                    ],
                    "surface": [
                      {
                        "colorbar": {
                          "outlinewidth": 0,
                          "ticks": ""
                        },
                        "colorscale": [
                          [
                            0,
                            "#0d0887"
                          ],
                          [
                            0.1111111111111111,
                            "#46039f"
                          ],
                          [
                            0.2222222222222222,
                            "#7201a8"
                          ],
                          [
                            0.3333333333333333,
                            "#9c179e"
                          ],
                          [
                            0.4444444444444444,
                            "#bd3786"
                          ],
                          [
                            0.5555555555555556,
                            "#d8576b"
                          ],
                          [
                            0.6666666666666666,
                            "#ed7953"
                          ],
                          [
                            0.7777777777777778,
                            "#fb9f3a"
                          ],
                          [
                            0.8888888888888888,
                            "#fdca26"
                          ],
                          [
                            1,
                            "#f0f921"
                          ]
                        ],
                        "type": "surface"
                      }
                    ],
                    "table": [
                      {
                        "cells": {
                          "fill": {
                            "color": "#EBF0F8"
                          },
                          "line": {
                            "color": "white"
                          }
                        },
                        "header": {
                          "fill": {
                            "color": "#C8D4E3"
                          },
                          "line": {
                            "color": "white"
                          }
                        },
                        "type": "table"
                      }
                    ]
                  },
                  "layout": {
                    "annotationdefaults": {
                      "arrowcolor": "#2a3f5f",
                      "arrowhead": 0,
                      "arrowwidth": 1
                    },
                    "autotypenumbers": "strict",
                    "coloraxis": {
                      "colorbar": {
                        "outlinewidth": 0,
                        "ticks": ""
                      }
                    },
                    "colorscale": {
                      "diverging": [
                        [
                          0,
                          "#8e0152"
                        ],
                        [
                          0.1,
                          "#c51b7d"
                        ],
                        [
                          0.2,
                          "#de77ae"
                        ],
                        [
                          0.3,
                          "#f1b6da"
                        ],
                        [
                          0.4,
                          "#fde0ef"
                        ],
                        [
                          0.5,
                          "#f7f7f7"
                        ],
                        [
                          0.6,
                          "#e6f5d0"
                        ],
                        [
                          0.7,
                          "#b8e186"
                        ],
                        [
                          0.8,
                          "#7fbc41"
                        ],
                        [
                          0.9,
                          "#4d9221"
                        ],
                        [
                          1,
                          "#276419"
                        ]
                      ],
                      "sequential": [
                        [
                          0,
                          "#0d0887"
                        ],
                        [
                          0.1111111111111111,
                          "#46039f"
                        ],
                        [
                          0.2222222222222222,
                          "#7201a8"
                        ],
                        [
                          0.3333333333333333,
                          "#9c179e"
                        ],
                        [
                          0.4444444444444444,
                          "#bd3786"
                        ],
                        [
                          0.5555555555555556,
                          "#d8576b"
                        ],
                        [
                          0.6666666666666666,
                          "#ed7953"
                        ],
                        [
                          0.7777777777777778,
                          "#fb9f3a"
                        ],
                        [
                          0.8888888888888888,
                          "#fdca26"
                        ],
                        [
                          1,
                          "#f0f921"
                        ]
                      ],
                      "sequentialminus": [
                        [
                          0,
                          "#0d0887"
                        ],
                        [
                          0.1111111111111111,
                          "#46039f"
                        ],
                        [
                          0.2222222222222222,
                          "#7201a8"
                        ],
                        [
                          0.3333333333333333,
                          "#9c179e"
                        ],
                        [
                          0.4444444444444444,
                          "#bd3786"
                        ],
                        [
                          0.5555555555555556,
                          "#d8576b"
                        ],
                        [
                          0.6666666666666666,
                          "#ed7953"
                        ],
                        [
                          0.7777777777777778,
                          "#fb9f3a"
                        ],
                        [
                          0.8888888888888888,
                          "#fdca26"
                        ],
                        [
                          1,
                          "#f0f921"
                        ]
                      ]
                    },
                    "colorway": [
                      "#636efa",
                      "#EF553B",
                      "#00cc96",
                      "#ab63fa",
                      "#FFA15A",
                      "#19d3f3",
                      "#FF6692",
                      "#B6E880",
                      "#FF97FF",
                      "#FECB52"
                    ],
                    "font": {
                      "color": "#2a3f5f"
                    },
                    "geo": {
                      "bgcolor": "white",
                      "lakecolor": "white",
                      "landcolor": "#E5ECF6",
                      "showlakes": true,
                      "showland": true,
                      "subunitcolor": "white"
                    },
                    "hoverlabel": {
                      "align": "left"
                    },
                    "hovermode": "closest",
                    "mapbox": {
                      "style": "light"
                    },
                    "paper_bgcolor": "white",
                    "plot_bgcolor": "#E5ECF6",
                    "polar": {
                      "angularaxis": {
                        "gridcolor": "white",
                        "linecolor": "white",
                        "ticks": ""
                      },
                      "bgcolor": "#E5ECF6",
                      "radialaxis": {
                        "gridcolor": "white",
                        "linecolor": "white",
                        "ticks": ""
                      }
                    },
                    "scene": {
                      "xaxis": {
                        "backgroundcolor": "#E5ECF6",
                        "gridcolor": "white",
                        "gridwidth": 2,
                        "linecolor": "white",
                        "showbackground": true,
                        "ticks": "",
                        "zerolinecolor": "white"
                      },
                      "yaxis": {
                        "backgroundcolor": "#E5ECF6",
                        "gridcolor": "white",
                        "gridwidth": 2,
                        "linecolor": "white",
                        "showbackground": true,
                        "ticks": "",
                        "zerolinecolor": "white"
                      },
                      "zaxis": {
                        "backgroundcolor": "#E5ECF6",
                        "gridcolor": "white",
                        "gridwidth": 2,
                        "linecolor": "white",
                        "showbackground": true,
                        "ticks": "",
                        "zerolinecolor": "white"
                      }
                    },
                    "shapedefaults": {
                      "line": {
                        "color": "#2a3f5f"
                      }
                    },
                    "ternary": {
                      "aaxis": {
                        "gridcolor": "white",
                        "linecolor": "white",
                        "ticks": ""
                      },
                      "baxis": {
                        "gridcolor": "white",
                        "linecolor": "white",
                        "ticks": ""
                      },
                      "bgcolor": "#E5ECF6",
                      "caxis": {
                        "gridcolor": "white",
                        "linecolor": "white",
                        "ticks": ""
                      }
                    },
                    "title": {
                      "x": 0.05
                    },
                    "xaxis": {
                      "automargin": true,
                      "gridcolor": "white",
                      "linecolor": "white",
                      "ticks": "",
                      "title": {
                        "standoff": 15
                      },
                      "zerolinecolor": "white",
                      "zerolinewidth": 2
                    },
                    "yaxis": {
                      "automargin": true,
                      "gridcolor": "white",
                      "linecolor": "white",
                      "ticks": "",
                      "title": {
                        "standoff": 15
                      },
                      "zerolinecolor": "white",
                      "zerolinewidth": 2
                    }
                  }
                },
                "xaxis": {
                  "dtick": 1,
                  "gridwidth": 2,
                  "showticklabels": false,
                  "tick0": -0.5,
                  "ticks": "",
                  "zeroline": false
                },
                "yaxis": {
                  "autorange": "reversed",
                  "dtick": 1,
                  "gridwidth": 2,
                  "showticklabels": false,
                  "tick0": 0.5,
                  "ticks": "",
                  "zeroline": false
                }
              },
              "config": {
                "showLink": false,
                "linkText": "Export to plot.ly",
                "plotlyServerURL": "https://plot.ly"
              }
            },
            "text/html": [
              "<div>                            <div id=\"2e1ebc1e-130f-4570-b4b6-876722d2d14f\" class=\"plotly-graph-div\" style=\"height:230px; width:100%;\"></div>            <script type=\"text/javascript\">                require([\"plotly\"], function(Plotly) {                    window.PLOTLYENV=window.PLOTLYENV || {};                                    if (document.getElementById(\"2e1ebc1e-130f-4570-b4b6-876722d2d14f\")) {                    Plotly.newPlot(                        \"2e1ebc1e-130f-4570-b4b6-876722d2d14f\",                        [{\"colorscale\":[[0,\"#00083e\"],[0.5,\"#ededee\"],[1,\"#ffffff\"]],\"hoverinfo\":\"none\",\"opacity\":0.75,\"showscale\":false,\"z\":[[0,0,0,0,0,0,0,0,0,0,0,0,0,0,0,0,0,0,0,0,0,0,0,0,0,0,0,0,0,0,0],[0.5,0.5,0.5,0.5,0.5,0.5,0.5,0.5,0.5,0.5,0.5,0.5,0.5,0.5,0.5,0.5,0.5,0.5,0.5,0.5,0.5,0.5,0.5,0.5,0.5,0.5,0.5,0.5,0.5,0.5,0.5],[1,1,1,1,1,1,1,1,1,1,1,1,1,1,1,1,1,1,1,1,1,1,1,1,1,1,1,1,1,1,1],[0.5,0.5,0.5,0.5,0.5,0.5,0.5,0.5,0.5,0.5,0.5,0.5,0.5,0.5,0.5,0.5,0.5,0.5,0.5,0.5,0.5,0.5,0.5,0.5,0.5,0.5,0.5,0.5,0.5,0.5,0.5],[1,1,1,1,1,1,1,1,1,1,1,1,1,1,1,1,1,1,1,1,1,1,1,1,1,1,1,1,1,1,1],[0.5,0.5,0.5,0.5,0.5,0.5,0.5,0.5,0.5,0.5,0.5,0.5,0.5,0.5,0.5,0.5,0.5,0.5,0.5,0.5,0.5,0.5,0.5,0.5,0.5,0.5,0.5,0.5,0.5,0.5,0.5]],\"type\":\"heatmap\"}],                        {\"annotations\":[{\"align\":\"left\",\"font\":{\"color\":\"#ffffff\"},\"showarrow\":false,\"text\":\"\\u003cb\\u003eTime\\u003c\\u002fb\\u003e\",\"x\":-0.45,\"xanchor\":\"left\",\"xref\":\"x\",\"y\":0,\"yref\":\"y\"},{\"align\":\"left\",\"font\":{\"color\":\"#ffffff\"},\"showarrow\":false,\"text\":\"\\u003cb\\u003eV1\\u003c\\u002fb\\u003e\",\"x\":0.55,\"xanchor\":\"left\",\"xref\":\"x\",\"y\":0,\"yref\":\"y\"},{\"align\":\"left\",\"font\":{\"color\":\"#ffffff\"},\"showarrow\":false,\"text\":\"\\u003cb\\u003eV2\\u003c\\u002fb\\u003e\",\"x\":1.55,\"xanchor\":\"left\",\"xref\":\"x\",\"y\":0,\"yref\":\"y\"},{\"align\":\"left\",\"font\":{\"color\":\"#ffffff\"},\"showarrow\":false,\"text\":\"\\u003cb\\u003eV3\\u003c\\u002fb\\u003e\",\"x\":2.55,\"xanchor\":\"left\",\"xref\":\"x\",\"y\":0,\"yref\":\"y\"},{\"align\":\"left\",\"font\":{\"color\":\"#ffffff\"},\"showarrow\":false,\"text\":\"\\u003cb\\u003eV4\\u003c\\u002fb\\u003e\",\"x\":3.55,\"xanchor\":\"left\",\"xref\":\"x\",\"y\":0,\"yref\":\"y\"},{\"align\":\"left\",\"font\":{\"color\":\"#ffffff\"},\"showarrow\":false,\"text\":\"\\u003cb\\u003eV5\\u003c\\u002fb\\u003e\",\"x\":4.55,\"xanchor\":\"left\",\"xref\":\"x\",\"y\":0,\"yref\":\"y\"},{\"align\":\"left\",\"font\":{\"color\":\"#ffffff\"},\"showarrow\":false,\"text\":\"\\u003cb\\u003eV6\\u003c\\u002fb\\u003e\",\"x\":5.55,\"xanchor\":\"left\",\"xref\":\"x\",\"y\":0,\"yref\":\"y\"},{\"align\":\"left\",\"font\":{\"color\":\"#ffffff\"},\"showarrow\":false,\"text\":\"\\u003cb\\u003eV7\\u003c\\u002fb\\u003e\",\"x\":6.55,\"xanchor\":\"left\",\"xref\":\"x\",\"y\":0,\"yref\":\"y\"},{\"align\":\"left\",\"font\":{\"color\":\"#ffffff\"},\"showarrow\":false,\"text\":\"\\u003cb\\u003eV8\\u003c\\u002fb\\u003e\",\"x\":7.55,\"xanchor\":\"left\",\"xref\":\"x\",\"y\":0,\"yref\":\"y\"},{\"align\":\"left\",\"font\":{\"color\":\"#ffffff\"},\"showarrow\":false,\"text\":\"\\u003cb\\u003eV9\\u003c\\u002fb\\u003e\",\"x\":8.55,\"xanchor\":\"left\",\"xref\":\"x\",\"y\":0,\"yref\":\"y\"},{\"align\":\"left\",\"font\":{\"color\":\"#ffffff\"},\"showarrow\":false,\"text\":\"\\u003cb\\u003eV10\\u003c\\u002fb\\u003e\",\"x\":9.55,\"xanchor\":\"left\",\"xref\":\"x\",\"y\":0,\"yref\":\"y\"},{\"align\":\"left\",\"font\":{\"color\":\"#ffffff\"},\"showarrow\":false,\"text\":\"\\u003cb\\u003eV11\\u003c\\u002fb\\u003e\",\"x\":10.55,\"xanchor\":\"left\",\"xref\":\"x\",\"y\":0,\"yref\":\"y\"},{\"align\":\"left\",\"font\":{\"color\":\"#ffffff\"},\"showarrow\":false,\"text\":\"\\u003cb\\u003eV12\\u003c\\u002fb\\u003e\",\"x\":11.55,\"xanchor\":\"left\",\"xref\":\"x\",\"y\":0,\"yref\":\"y\"},{\"align\":\"left\",\"font\":{\"color\":\"#ffffff\"},\"showarrow\":false,\"text\":\"\\u003cb\\u003eV13\\u003c\\u002fb\\u003e\",\"x\":12.55,\"xanchor\":\"left\",\"xref\":\"x\",\"y\":0,\"yref\":\"y\"},{\"align\":\"left\",\"font\":{\"color\":\"#ffffff\"},\"showarrow\":false,\"text\":\"\\u003cb\\u003eV14\\u003c\\u002fb\\u003e\",\"x\":13.55,\"xanchor\":\"left\",\"xref\":\"x\",\"y\":0,\"yref\":\"y\"},{\"align\":\"left\",\"font\":{\"color\":\"#ffffff\"},\"showarrow\":false,\"text\":\"\\u003cb\\u003eV15\\u003c\\u002fb\\u003e\",\"x\":14.55,\"xanchor\":\"left\",\"xref\":\"x\",\"y\":0,\"yref\":\"y\"},{\"align\":\"left\",\"font\":{\"color\":\"#ffffff\"},\"showarrow\":false,\"text\":\"\\u003cb\\u003eV16\\u003c\\u002fb\\u003e\",\"x\":15.55,\"xanchor\":\"left\",\"xref\":\"x\",\"y\":0,\"yref\":\"y\"},{\"align\":\"left\",\"font\":{\"color\":\"#ffffff\"},\"showarrow\":false,\"text\":\"\\u003cb\\u003eV17\\u003c\\u002fb\\u003e\",\"x\":16.55,\"xanchor\":\"left\",\"xref\":\"x\",\"y\":0,\"yref\":\"y\"},{\"align\":\"left\",\"font\":{\"color\":\"#ffffff\"},\"showarrow\":false,\"text\":\"\\u003cb\\u003eV18\\u003c\\u002fb\\u003e\",\"x\":17.55,\"xanchor\":\"left\",\"xref\":\"x\",\"y\":0,\"yref\":\"y\"},{\"align\":\"left\",\"font\":{\"color\":\"#ffffff\"},\"showarrow\":false,\"text\":\"\\u003cb\\u003eV19\\u003c\\u002fb\\u003e\",\"x\":18.55,\"xanchor\":\"left\",\"xref\":\"x\",\"y\":0,\"yref\":\"y\"},{\"align\":\"left\",\"font\":{\"color\":\"#ffffff\"},\"showarrow\":false,\"text\":\"\\u003cb\\u003eV20\\u003c\\u002fb\\u003e\",\"x\":19.55,\"xanchor\":\"left\",\"xref\":\"x\",\"y\":0,\"yref\":\"y\"},{\"align\":\"left\",\"font\":{\"color\":\"#ffffff\"},\"showarrow\":false,\"text\":\"\\u003cb\\u003eV21\\u003c\\u002fb\\u003e\",\"x\":20.55,\"xanchor\":\"left\",\"xref\":\"x\",\"y\":0,\"yref\":\"y\"},{\"align\":\"left\",\"font\":{\"color\":\"#ffffff\"},\"showarrow\":false,\"text\":\"\\u003cb\\u003eV22\\u003c\\u002fb\\u003e\",\"x\":21.55,\"xanchor\":\"left\",\"xref\":\"x\",\"y\":0,\"yref\":\"y\"},{\"align\":\"left\",\"font\":{\"color\":\"#ffffff\"},\"showarrow\":false,\"text\":\"\\u003cb\\u003eV23\\u003c\\u002fb\\u003e\",\"x\":22.55,\"xanchor\":\"left\",\"xref\":\"x\",\"y\":0,\"yref\":\"y\"},{\"align\":\"left\",\"font\":{\"color\":\"#ffffff\"},\"showarrow\":false,\"text\":\"\\u003cb\\u003eV24\\u003c\\u002fb\\u003e\",\"x\":23.55,\"xanchor\":\"left\",\"xref\":\"x\",\"y\":0,\"yref\":\"y\"},{\"align\":\"left\",\"font\":{\"color\":\"#ffffff\"},\"showarrow\":false,\"text\":\"\\u003cb\\u003eV25\\u003c\\u002fb\\u003e\",\"x\":24.55,\"xanchor\":\"left\",\"xref\":\"x\",\"y\":0,\"yref\":\"y\"},{\"align\":\"left\",\"font\":{\"color\":\"#ffffff\"},\"showarrow\":false,\"text\":\"\\u003cb\\u003eV26\\u003c\\u002fb\\u003e\",\"x\":25.55,\"xanchor\":\"left\",\"xref\":\"x\",\"y\":0,\"yref\":\"y\"},{\"align\":\"left\",\"font\":{\"color\":\"#ffffff\"},\"showarrow\":false,\"text\":\"\\u003cb\\u003eV27\\u003c\\u002fb\\u003e\",\"x\":26.55,\"xanchor\":\"left\",\"xref\":\"x\",\"y\":0,\"yref\":\"y\"},{\"align\":\"left\",\"font\":{\"color\":\"#ffffff\"},\"showarrow\":false,\"text\":\"\\u003cb\\u003eV28\\u003c\\u002fb\\u003e\",\"x\":27.55,\"xanchor\":\"left\",\"xref\":\"x\",\"y\":0,\"yref\":\"y\"},{\"align\":\"left\",\"font\":{\"color\":\"#ffffff\"},\"showarrow\":false,\"text\":\"\\u003cb\\u003eAmount\\u003c\\u002fb\\u003e\",\"x\":28.55,\"xanchor\":\"left\",\"xref\":\"x\",\"y\":0,\"yref\":\"y\"},{\"align\":\"left\",\"font\":{\"color\":\"#ffffff\"},\"showarrow\":false,\"text\":\"\\u003cb\\u003eClass\\u003c\\u002fb\\u003e\",\"x\":29.55,\"xanchor\":\"left\",\"xref\":\"x\",\"y\":0,\"yref\":\"y\"},{\"align\":\"left\",\"font\":{\"color\":\"#000000\"},\"showarrow\":false,\"text\":\"0.0\",\"x\":-0.45,\"xanchor\":\"left\",\"xref\":\"x\",\"y\":1,\"yref\":\"y\"},{\"align\":\"left\",\"font\":{\"color\":\"#000000\"},\"showarrow\":false,\"text\":\"-1.4\",\"x\":0.55,\"xanchor\":\"left\",\"xref\":\"x\",\"y\":1,\"yref\":\"y\"},{\"align\":\"left\",\"font\":{\"color\":\"#000000\"},\"showarrow\":false,\"text\":\"-0.1\",\"x\":1.55,\"xanchor\":\"left\",\"xref\":\"x\",\"y\":1,\"yref\":\"y\"},{\"align\":\"left\",\"font\":{\"color\":\"#000000\"},\"showarrow\":false,\"text\":\"2.5\",\"x\":2.55,\"xanchor\":\"left\",\"xref\":\"x\",\"y\":1,\"yref\":\"y\"},{\"align\":\"left\",\"font\":{\"color\":\"#000000\"},\"showarrow\":false,\"text\":\"1.4\",\"x\":3.55,\"xanchor\":\"left\",\"xref\":\"x\",\"y\":1,\"yref\":\"y\"},{\"align\":\"left\",\"font\":{\"color\":\"#000000\"},\"showarrow\":false,\"text\":\"-0.3\",\"x\":4.55,\"xanchor\":\"left\",\"xref\":\"x\",\"y\":1,\"yref\":\"y\"},{\"align\":\"left\",\"font\":{\"color\":\"#000000\"},\"showarrow\":false,\"text\":\"0.5\",\"x\":5.55,\"xanchor\":\"left\",\"xref\":\"x\",\"y\":1,\"yref\":\"y\"},{\"align\":\"left\",\"font\":{\"color\":\"#000000\"},\"showarrow\":false,\"text\":\"0.2\",\"x\":6.55,\"xanchor\":\"left\",\"xref\":\"x\",\"y\":1,\"yref\":\"y\"},{\"align\":\"left\",\"font\":{\"color\":\"#000000\"},\"showarrow\":false,\"text\":\"0.1\",\"x\":7.55,\"xanchor\":\"left\",\"xref\":\"x\",\"y\":1,\"yref\":\"y\"},{\"align\":\"left\",\"font\":{\"color\":\"#000000\"},\"showarrow\":false,\"text\":\"0.4\",\"x\":8.55,\"xanchor\":\"left\",\"xref\":\"x\",\"y\":1,\"yref\":\"y\"},{\"align\":\"left\",\"font\":{\"color\":\"#000000\"},\"showarrow\":false,\"text\":\"0.1\",\"x\":9.55,\"xanchor\":\"left\",\"xref\":\"x\",\"y\":1,\"yref\":\"y\"},{\"align\":\"left\",\"font\":{\"color\":\"#000000\"},\"showarrow\":false,\"text\":\"-0.6\",\"x\":10.55,\"xanchor\":\"left\",\"xref\":\"x\",\"y\":1,\"yref\":\"y\"},{\"align\":\"left\",\"font\":{\"color\":\"#000000\"},\"showarrow\":false,\"text\":\"-0.6\",\"x\":11.55,\"xanchor\":\"left\",\"xref\":\"x\",\"y\":1,\"yref\":\"y\"},{\"align\":\"left\",\"font\":{\"color\":\"#000000\"},\"showarrow\":false,\"text\":\"-1.0\",\"x\":12.55,\"xanchor\":\"left\",\"xref\":\"x\",\"y\":1,\"yref\":\"y\"},{\"align\":\"left\",\"font\":{\"color\":\"#000000\"},\"showarrow\":false,\"text\":\"-0.3\",\"x\":13.55,\"xanchor\":\"left\",\"xref\":\"x\",\"y\":1,\"yref\":\"y\"},{\"align\":\"left\",\"font\":{\"color\":\"#000000\"},\"showarrow\":false,\"text\":\"1.5\",\"x\":14.55,\"xanchor\":\"left\",\"xref\":\"x\",\"y\":1,\"yref\":\"y\"},{\"align\":\"left\",\"font\":{\"color\":\"#000000\"},\"showarrow\":false,\"text\":\"-0.5\",\"x\":15.55,\"xanchor\":\"left\",\"xref\":\"x\",\"y\":1,\"yref\":\"y\"},{\"align\":\"left\",\"font\":{\"color\":\"#000000\"},\"showarrow\":false,\"text\":\"0.2\",\"x\":16.55,\"xanchor\":\"left\",\"xref\":\"x\",\"y\":1,\"yref\":\"y\"},{\"align\":\"left\",\"font\":{\"color\":\"#000000\"},\"showarrow\":false,\"text\":\"0.0\",\"x\":17.55,\"xanchor\":\"left\",\"xref\":\"x\",\"y\":1,\"yref\":\"y\"},{\"align\":\"left\",\"font\":{\"color\":\"#000000\"},\"showarrow\":false,\"text\":\"0.4\",\"x\":18.55,\"xanchor\":\"left\",\"xref\":\"x\",\"y\":1,\"yref\":\"y\"},{\"align\":\"left\",\"font\":{\"color\":\"#000000\"},\"showarrow\":false,\"text\":\"0.3\",\"x\":19.55,\"xanchor\":\"left\",\"xref\":\"x\",\"y\":1,\"yref\":\"y\"},{\"align\":\"left\",\"font\":{\"color\":\"#000000\"},\"showarrow\":false,\"text\":\"-0.0\",\"x\":20.55,\"xanchor\":\"left\",\"xref\":\"x\",\"y\":1,\"yref\":\"y\"},{\"align\":\"left\",\"font\":{\"color\":\"#000000\"},\"showarrow\":false,\"text\":\"0.3\",\"x\":21.55,\"xanchor\":\"left\",\"xref\":\"x\",\"y\":1,\"yref\":\"y\"},{\"align\":\"left\",\"font\":{\"color\":\"#000000\"},\"showarrow\":false,\"text\":\"-0.1\",\"x\":22.55,\"xanchor\":\"left\",\"xref\":\"x\",\"y\":1,\"yref\":\"y\"},{\"align\":\"left\",\"font\":{\"color\":\"#000000\"},\"showarrow\":false,\"text\":\"0.1\",\"x\":23.55,\"xanchor\":\"left\",\"xref\":\"x\",\"y\":1,\"yref\":\"y\"},{\"align\":\"left\",\"font\":{\"color\":\"#000000\"},\"showarrow\":false,\"text\":\"0.1\",\"x\":24.55,\"xanchor\":\"left\",\"xref\":\"x\",\"y\":1,\"yref\":\"y\"},{\"align\":\"left\",\"font\":{\"color\":\"#000000\"},\"showarrow\":false,\"text\":\"-0.2\",\"x\":25.55,\"xanchor\":\"left\",\"xref\":\"x\",\"y\":1,\"yref\":\"y\"},{\"align\":\"left\",\"font\":{\"color\":\"#000000\"},\"showarrow\":false,\"text\":\"0.1\",\"x\":26.55,\"xanchor\":\"left\",\"xref\":\"x\",\"y\":1,\"yref\":\"y\"},{\"align\":\"left\",\"font\":{\"color\":\"#000000\"},\"showarrow\":false,\"text\":\"-0.0\",\"x\":27.55,\"xanchor\":\"left\",\"xref\":\"x\",\"y\":1,\"yref\":\"y\"},{\"align\":\"left\",\"font\":{\"color\":\"#000000\"},\"showarrow\":false,\"text\":\"149.6\",\"x\":28.55,\"xanchor\":\"left\",\"xref\":\"x\",\"y\":1,\"yref\":\"y\"},{\"align\":\"left\",\"font\":{\"color\":\"#000000\"},\"showarrow\":false,\"text\":\"0.0\",\"x\":29.55,\"xanchor\":\"left\",\"xref\":\"x\",\"y\":1,\"yref\":\"y\"},{\"align\":\"left\",\"font\":{\"color\":\"#000000\"},\"showarrow\":false,\"text\":\"0.0\",\"x\":-0.45,\"xanchor\":\"left\",\"xref\":\"x\",\"y\":2,\"yref\":\"y\"},{\"align\":\"left\",\"font\":{\"color\":\"#000000\"},\"showarrow\":false,\"text\":\"1.2\",\"x\":0.55,\"xanchor\":\"left\",\"xref\":\"x\",\"y\":2,\"yref\":\"y\"},{\"align\":\"left\",\"font\":{\"color\":\"#000000\"},\"showarrow\":false,\"text\":\"0.3\",\"x\":1.55,\"xanchor\":\"left\",\"xref\":\"x\",\"y\":2,\"yref\":\"y\"},{\"align\":\"left\",\"font\":{\"color\":\"#000000\"},\"showarrow\":false,\"text\":\"0.2\",\"x\":2.55,\"xanchor\":\"left\",\"xref\":\"x\",\"y\":2,\"yref\":\"y\"},{\"align\":\"left\",\"font\":{\"color\":\"#000000\"},\"showarrow\":false,\"text\":\"0.4\",\"x\":3.55,\"xanchor\":\"left\",\"xref\":\"x\",\"y\":2,\"yref\":\"y\"},{\"align\":\"left\",\"font\":{\"color\":\"#000000\"},\"showarrow\":false,\"text\":\"0.1\",\"x\":4.55,\"xanchor\":\"left\",\"xref\":\"x\",\"y\":2,\"yref\":\"y\"},{\"align\":\"left\",\"font\":{\"color\":\"#000000\"},\"showarrow\":false,\"text\":\"-0.1\",\"x\":5.55,\"xanchor\":\"left\",\"xref\":\"x\",\"y\":2,\"yref\":\"y\"},{\"align\":\"left\",\"font\":{\"color\":\"#000000\"},\"showarrow\":false,\"text\":\"-0.1\",\"x\":6.55,\"xanchor\":\"left\",\"xref\":\"x\",\"y\":2,\"yref\":\"y\"},{\"align\":\"left\",\"font\":{\"color\":\"#000000\"},\"showarrow\":false,\"text\":\"0.1\",\"x\":7.55,\"xanchor\":\"left\",\"xref\":\"x\",\"y\":2,\"yref\":\"y\"},{\"align\":\"left\",\"font\":{\"color\":\"#000000\"},\"showarrow\":false,\"text\":\"-0.3\",\"x\":8.55,\"xanchor\":\"left\",\"xref\":\"x\",\"y\":2,\"yref\":\"y\"},{\"align\":\"left\",\"font\":{\"color\":\"#000000\"},\"showarrow\":false,\"text\":\"-0.2\",\"x\":9.55,\"xanchor\":\"left\",\"xref\":\"x\",\"y\":2,\"yref\":\"y\"},{\"align\":\"left\",\"font\":{\"color\":\"#000000\"},\"showarrow\":false,\"text\":\"1.6\",\"x\":10.55,\"xanchor\":\"left\",\"xref\":\"x\",\"y\":2,\"yref\":\"y\"},{\"align\":\"left\",\"font\":{\"color\":\"#000000\"},\"showarrow\":false,\"text\":\"1.1\",\"x\":11.55,\"xanchor\":\"left\",\"xref\":\"x\",\"y\":2,\"yref\":\"y\"},{\"align\":\"left\",\"font\":{\"color\":\"#000000\"},\"showarrow\":false,\"text\":\"0.5\",\"x\":12.55,\"xanchor\":\"left\",\"xref\":\"x\",\"y\":2,\"yref\":\"y\"},{\"align\":\"left\",\"font\":{\"color\":\"#000000\"},\"showarrow\":false,\"text\":\"-0.1\",\"x\":13.55,\"xanchor\":\"left\",\"xref\":\"x\",\"y\":2,\"yref\":\"y\"},{\"align\":\"left\",\"font\":{\"color\":\"#000000\"},\"showarrow\":false,\"text\":\"0.6\",\"x\":14.55,\"xanchor\":\"left\",\"xref\":\"x\",\"y\":2,\"yref\":\"y\"},{\"align\":\"left\",\"font\":{\"color\":\"#000000\"},\"showarrow\":false,\"text\":\"0.5\",\"x\":15.55,\"xanchor\":\"left\",\"xref\":\"x\",\"y\":2,\"yref\":\"y\"},{\"align\":\"left\",\"font\":{\"color\":\"#000000\"},\"showarrow\":false,\"text\":\"-0.1\",\"x\":16.55,\"xanchor\":\"left\",\"xref\":\"x\",\"y\":2,\"yref\":\"y\"},{\"align\":\"left\",\"font\":{\"color\":\"#000000\"},\"showarrow\":false,\"text\":\"-0.2\",\"x\":17.55,\"xanchor\":\"left\",\"xref\":\"x\",\"y\":2,\"yref\":\"y\"},{\"align\":\"left\",\"font\":{\"color\":\"#000000\"},\"showarrow\":false,\"text\":\"-0.1\",\"x\":18.55,\"xanchor\":\"left\",\"xref\":\"x\",\"y\":2,\"yref\":\"y\"},{\"align\":\"left\",\"font\":{\"color\":\"#000000\"},\"showarrow\":false,\"text\":\"-0.1\",\"x\":19.55,\"xanchor\":\"left\",\"xref\":\"x\",\"y\":2,\"yref\":\"y\"},{\"align\":\"left\",\"font\":{\"color\":\"#000000\"},\"showarrow\":false,\"text\":\"-0.2\",\"x\":20.55,\"xanchor\":\"left\",\"xref\":\"x\",\"y\":2,\"yref\":\"y\"},{\"align\":\"left\",\"font\":{\"color\":\"#000000\"},\"showarrow\":false,\"text\":\"-0.6\",\"x\":21.55,\"xanchor\":\"left\",\"xref\":\"x\",\"y\":2,\"yref\":\"y\"},{\"align\":\"left\",\"font\":{\"color\":\"#000000\"},\"showarrow\":false,\"text\":\"0.1\",\"x\":22.55,\"xanchor\":\"left\",\"xref\":\"x\",\"y\":2,\"yref\":\"y\"},{\"align\":\"left\",\"font\":{\"color\":\"#000000\"},\"showarrow\":false,\"text\":\"-0.3\",\"x\":23.55,\"xanchor\":\"left\",\"xref\":\"x\",\"y\":2,\"yref\":\"y\"},{\"align\":\"left\",\"font\":{\"color\":\"#000000\"},\"showarrow\":false,\"text\":\"0.2\",\"x\":24.55,\"xanchor\":\"left\",\"xref\":\"x\",\"y\":2,\"yref\":\"y\"},{\"align\":\"left\",\"font\":{\"color\":\"#000000\"},\"showarrow\":false,\"text\":\"0.1\",\"x\":25.55,\"xanchor\":\"left\",\"xref\":\"x\",\"y\":2,\"yref\":\"y\"},{\"align\":\"left\",\"font\":{\"color\":\"#000000\"},\"showarrow\":false,\"text\":\"-0.0\",\"x\":26.55,\"xanchor\":\"left\",\"xref\":\"x\",\"y\":2,\"yref\":\"y\"},{\"align\":\"left\",\"font\":{\"color\":\"#000000\"},\"showarrow\":false,\"text\":\"0.0\",\"x\":27.55,\"xanchor\":\"left\",\"xref\":\"x\",\"y\":2,\"yref\":\"y\"},{\"align\":\"left\",\"font\":{\"color\":\"#000000\"},\"showarrow\":false,\"text\":\"2.7\",\"x\":28.55,\"xanchor\":\"left\",\"xref\":\"x\",\"y\":2,\"yref\":\"y\"},{\"align\":\"left\",\"font\":{\"color\":\"#000000\"},\"showarrow\":false,\"text\":\"0.0\",\"x\":29.55,\"xanchor\":\"left\",\"xref\":\"x\",\"y\":2,\"yref\":\"y\"},{\"align\":\"left\",\"font\":{\"color\":\"#000000\"},\"showarrow\":false,\"text\":\"1.0\",\"x\":-0.45,\"xanchor\":\"left\",\"xref\":\"x\",\"y\":3,\"yref\":\"y\"},{\"align\":\"left\",\"font\":{\"color\":\"#000000\"},\"showarrow\":false,\"text\":\"-1.4\",\"x\":0.55,\"xanchor\":\"left\",\"xref\":\"x\",\"y\":3,\"yref\":\"y\"},{\"align\":\"left\",\"font\":{\"color\":\"#000000\"},\"showarrow\":false,\"text\":\"-1.3\",\"x\":1.55,\"xanchor\":\"left\",\"xref\":\"x\",\"y\":3,\"yref\":\"y\"},{\"align\":\"left\",\"font\":{\"color\":\"#000000\"},\"showarrow\":false,\"text\":\"1.8\",\"x\":2.55,\"xanchor\":\"left\",\"xref\":\"x\",\"y\":3,\"yref\":\"y\"},{\"align\":\"left\",\"font\":{\"color\":\"#000000\"},\"showarrow\":false,\"text\":\"0.4\",\"x\":3.55,\"xanchor\":\"left\",\"xref\":\"x\",\"y\":3,\"yref\":\"y\"},{\"align\":\"left\",\"font\":{\"color\":\"#000000\"},\"showarrow\":false,\"text\":\"-0.5\",\"x\":4.55,\"xanchor\":\"left\",\"xref\":\"x\",\"y\":3,\"yref\":\"y\"},{\"align\":\"left\",\"font\":{\"color\":\"#000000\"},\"showarrow\":false,\"text\":\"1.8\",\"x\":5.55,\"xanchor\":\"left\",\"xref\":\"x\",\"y\":3,\"yref\":\"y\"},{\"align\":\"left\",\"font\":{\"color\":\"#000000\"},\"showarrow\":false,\"text\":\"0.8\",\"x\":6.55,\"xanchor\":\"left\",\"xref\":\"x\",\"y\":3,\"yref\":\"y\"},{\"align\":\"left\",\"font\":{\"color\":\"#000000\"},\"showarrow\":false,\"text\":\"0.2\",\"x\":7.55,\"xanchor\":\"left\",\"xref\":\"x\",\"y\":3,\"yref\":\"y\"},{\"align\":\"left\",\"font\":{\"color\":\"#000000\"},\"showarrow\":false,\"text\":\"-1.5\",\"x\":8.55,\"xanchor\":\"left\",\"xref\":\"x\",\"y\":3,\"yref\":\"y\"},{\"align\":\"left\",\"font\":{\"color\":\"#000000\"},\"showarrow\":false,\"text\":\"0.2\",\"x\":9.55,\"xanchor\":\"left\",\"xref\":\"x\",\"y\":3,\"yref\":\"y\"},{\"align\":\"left\",\"font\":{\"color\":\"#000000\"},\"showarrow\":false,\"text\":\"0.6\",\"x\":10.55,\"xanchor\":\"left\",\"xref\":\"x\",\"y\":3,\"yref\":\"y\"},{\"align\":\"left\",\"font\":{\"color\":\"#000000\"},\"showarrow\":false,\"text\":\"0.1\",\"x\":11.55,\"xanchor\":\"left\",\"xref\":\"x\",\"y\":3,\"yref\":\"y\"},{\"align\":\"left\",\"font\":{\"color\":\"#000000\"},\"showarrow\":false,\"text\":\"0.7\",\"x\":12.55,\"xanchor\":\"left\",\"xref\":\"x\",\"y\":3,\"yref\":\"y\"},{\"align\":\"left\",\"font\":{\"color\":\"#000000\"},\"showarrow\":false,\"text\":\"-0.2\",\"x\":13.55,\"xanchor\":\"left\",\"xref\":\"x\",\"y\":3,\"yref\":\"y\"},{\"align\":\"left\",\"font\":{\"color\":\"#000000\"},\"showarrow\":false,\"text\":\"2.3\",\"x\":14.55,\"xanchor\":\"left\",\"xref\":\"x\",\"y\":3,\"yref\":\"y\"},{\"align\":\"left\",\"font\":{\"color\":\"#000000\"},\"showarrow\":false,\"text\":\"-2.9\",\"x\":15.55,\"xanchor\":\"left\",\"xref\":\"x\",\"y\":3,\"yref\":\"y\"},{\"align\":\"left\",\"font\":{\"color\":\"#000000\"},\"showarrow\":false,\"text\":\"1.1\",\"x\":16.55,\"xanchor\":\"left\",\"xref\":\"x\",\"y\":3,\"yref\":\"y\"},{\"align\":\"left\",\"font\":{\"color\":\"#000000\"},\"showarrow\":false,\"text\":\"-0.1\",\"x\":17.55,\"xanchor\":\"left\",\"xref\":\"x\",\"y\":3,\"yref\":\"y\"},{\"align\":\"left\",\"font\":{\"color\":\"#000000\"},\"showarrow\":false,\"text\":\"-2.3\",\"x\":18.55,\"xanchor\":\"left\",\"xref\":\"x\",\"y\":3,\"yref\":\"y\"},{\"align\":\"left\",\"font\":{\"color\":\"#000000\"},\"showarrow\":false,\"text\":\"0.5\",\"x\":19.55,\"xanchor\":\"left\",\"xref\":\"x\",\"y\":3,\"yref\":\"y\"},{\"align\":\"left\",\"font\":{\"color\":\"#000000\"},\"showarrow\":false,\"text\":\"0.2\",\"x\":20.55,\"xanchor\":\"left\",\"xref\":\"x\",\"y\":3,\"yref\":\"y\"},{\"align\":\"left\",\"font\":{\"color\":\"#000000\"},\"showarrow\":false,\"text\":\"0.8\",\"x\":21.55,\"xanchor\":\"left\",\"xref\":\"x\",\"y\":3,\"yref\":\"y\"},{\"align\":\"left\",\"font\":{\"color\":\"#000000\"},\"showarrow\":false,\"text\":\"0.9\",\"x\":22.55,\"xanchor\":\"left\",\"xref\":\"x\",\"y\":3,\"yref\":\"y\"},{\"align\":\"left\",\"font\":{\"color\":\"#000000\"},\"showarrow\":false,\"text\":\"-0.7\",\"x\":23.55,\"xanchor\":\"left\",\"xref\":\"x\",\"y\":3,\"yref\":\"y\"},{\"align\":\"left\",\"font\":{\"color\":\"#000000\"},\"showarrow\":false,\"text\":\"-0.3\",\"x\":24.55,\"xanchor\":\"left\",\"xref\":\"x\",\"y\":3,\"yref\":\"y\"},{\"align\":\"left\",\"font\":{\"color\":\"#000000\"},\"showarrow\":false,\"text\":\"-0.1\",\"x\":25.55,\"xanchor\":\"left\",\"xref\":\"x\",\"y\":3,\"yref\":\"y\"},{\"align\":\"left\",\"font\":{\"color\":\"#000000\"},\"showarrow\":false,\"text\":\"-0.1\",\"x\":26.55,\"xanchor\":\"left\",\"xref\":\"x\",\"y\":3,\"yref\":\"y\"},{\"align\":\"left\",\"font\":{\"color\":\"#000000\"},\"showarrow\":false,\"text\":\"-0.1\",\"x\":27.55,\"xanchor\":\"left\",\"xref\":\"x\",\"y\":3,\"yref\":\"y\"},{\"align\":\"left\",\"font\":{\"color\":\"#000000\"},\"showarrow\":false,\"text\":\"378.7\",\"x\":28.55,\"xanchor\":\"left\",\"xref\":\"x\",\"y\":3,\"yref\":\"y\"},{\"align\":\"left\",\"font\":{\"color\":\"#000000\"},\"showarrow\":false,\"text\":\"0.0\",\"x\":29.55,\"xanchor\":\"left\",\"xref\":\"x\",\"y\":3,\"yref\":\"y\"},{\"align\":\"left\",\"font\":{\"color\":\"#000000\"},\"showarrow\":false,\"text\":\"1.0\",\"x\":-0.45,\"xanchor\":\"left\",\"xref\":\"x\",\"y\":4,\"yref\":\"y\"},{\"align\":\"left\",\"font\":{\"color\":\"#000000\"},\"showarrow\":false,\"text\":\"-1.0\",\"x\":0.55,\"xanchor\":\"left\",\"xref\":\"x\",\"y\":4,\"yref\":\"y\"},{\"align\":\"left\",\"font\":{\"color\":\"#000000\"},\"showarrow\":false,\"text\":\"-0.2\",\"x\":1.55,\"xanchor\":\"left\",\"xref\":\"x\",\"y\":4,\"yref\":\"y\"},{\"align\":\"left\",\"font\":{\"color\":\"#000000\"},\"showarrow\":false,\"text\":\"1.8\",\"x\":2.55,\"xanchor\":\"left\",\"xref\":\"x\",\"y\":4,\"yref\":\"y\"},{\"align\":\"left\",\"font\":{\"color\":\"#000000\"},\"showarrow\":false,\"text\":\"-0.9\",\"x\":3.55,\"xanchor\":\"left\",\"xref\":\"x\",\"y\":4,\"yref\":\"y\"},{\"align\":\"left\",\"font\":{\"color\":\"#000000\"},\"showarrow\":false,\"text\":\"-0.0\",\"x\":4.55,\"xanchor\":\"left\",\"xref\":\"x\",\"y\":4,\"yref\":\"y\"},{\"align\":\"left\",\"font\":{\"color\":\"#000000\"},\"showarrow\":false,\"text\":\"1.2\",\"x\":5.55,\"xanchor\":\"left\",\"xref\":\"x\",\"y\":4,\"yref\":\"y\"},{\"align\":\"left\",\"font\":{\"color\":\"#000000\"},\"showarrow\":false,\"text\":\"0.2\",\"x\":6.55,\"xanchor\":\"left\",\"xref\":\"x\",\"y\":4,\"yref\":\"y\"},{\"align\":\"left\",\"font\":{\"color\":\"#000000\"},\"showarrow\":false,\"text\":\"0.4\",\"x\":7.55,\"xanchor\":\"left\",\"xref\":\"x\",\"y\":4,\"yref\":\"y\"},{\"align\":\"left\",\"font\":{\"color\":\"#000000\"},\"showarrow\":false,\"text\":\"-1.4\",\"x\":8.55,\"xanchor\":\"left\",\"xref\":\"x\",\"y\":4,\"yref\":\"y\"},{\"align\":\"left\",\"font\":{\"color\":\"#000000\"},\"showarrow\":false,\"text\":\"-0.1\",\"x\":9.55,\"xanchor\":\"left\",\"xref\":\"x\",\"y\":4,\"yref\":\"y\"},{\"align\":\"left\",\"font\":{\"color\":\"#000000\"},\"showarrow\":false,\"text\":\"-0.2\",\"x\":10.55,\"xanchor\":\"left\",\"xref\":\"x\",\"y\":4,\"yref\":\"y\"},{\"align\":\"left\",\"font\":{\"color\":\"#000000\"},\"showarrow\":false,\"text\":\"0.2\",\"x\":11.55,\"xanchor\":\"left\",\"xref\":\"x\",\"y\":4,\"yref\":\"y\"},{\"align\":\"left\",\"font\":{\"color\":\"#000000\"},\"showarrow\":false,\"text\":\"0.5\",\"x\":12.55,\"xanchor\":\"left\",\"xref\":\"x\",\"y\":4,\"yref\":\"y\"},{\"align\":\"left\",\"font\":{\"color\":\"#000000\"},\"showarrow\":false,\"text\":\"-0.3\",\"x\":13.55,\"xanchor\":\"left\",\"xref\":\"x\",\"y\":4,\"yref\":\"y\"},{\"align\":\"left\",\"font\":{\"color\":\"#000000\"},\"showarrow\":false,\"text\":\"-0.6\",\"x\":14.55,\"xanchor\":\"left\",\"xref\":\"x\",\"y\":4,\"yref\":\"y\"},{\"align\":\"left\",\"font\":{\"color\":\"#000000\"},\"showarrow\":false,\"text\":\"-1.1\",\"x\":15.55,\"xanchor\":\"left\",\"xref\":\"x\",\"y\":4,\"yref\":\"y\"},{\"align\":\"left\",\"font\":{\"color\":\"#000000\"},\"showarrow\":false,\"text\":\"-0.7\",\"x\":16.55,\"xanchor\":\"left\",\"xref\":\"x\",\"y\":4,\"yref\":\"y\"},{\"align\":\"left\",\"font\":{\"color\":\"#000000\"},\"showarrow\":false,\"text\":\"2.0\",\"x\":17.55,\"xanchor\":\"left\",\"xref\":\"x\",\"y\":4,\"yref\":\"y\"},{\"align\":\"left\",\"font\":{\"color\":\"#000000\"},\"showarrow\":false,\"text\":\"-1.2\",\"x\":18.55,\"xanchor\":\"left\",\"xref\":\"x\",\"y\":4,\"yref\":\"y\"},{\"align\":\"left\",\"font\":{\"color\":\"#000000\"},\"showarrow\":false,\"text\":\"-0.2\",\"x\":19.55,\"xanchor\":\"left\",\"xref\":\"x\",\"y\":4,\"yref\":\"y\"},{\"align\":\"left\",\"font\":{\"color\":\"#000000\"},\"showarrow\":false,\"text\":\"-0.1\",\"x\":20.55,\"xanchor\":\"left\",\"xref\":\"x\",\"y\":4,\"yref\":\"y\"},{\"align\":\"left\",\"font\":{\"color\":\"#000000\"},\"showarrow\":false,\"text\":\"0.0\",\"x\":21.55,\"xanchor\":\"left\",\"xref\":\"x\",\"y\":4,\"yref\":\"y\"},{\"align\":\"left\",\"font\":{\"color\":\"#000000\"},\"showarrow\":false,\"text\":\"-0.2\",\"x\":22.55,\"xanchor\":\"left\",\"xref\":\"x\",\"y\":4,\"yref\":\"y\"},{\"align\":\"left\",\"font\":{\"color\":\"#000000\"},\"showarrow\":false,\"text\":\"-1.2\",\"x\":23.55,\"xanchor\":\"left\",\"xref\":\"x\",\"y\":4,\"yref\":\"y\"},{\"align\":\"left\",\"font\":{\"color\":\"#000000\"},\"showarrow\":false,\"text\":\"0.6\",\"x\":24.55,\"xanchor\":\"left\",\"xref\":\"x\",\"y\":4,\"yref\":\"y\"},{\"align\":\"left\",\"font\":{\"color\":\"#000000\"},\"showarrow\":false,\"text\":\"-0.2\",\"x\":25.55,\"xanchor\":\"left\",\"xref\":\"x\",\"y\":4,\"yref\":\"y\"},{\"align\":\"left\",\"font\":{\"color\":\"#000000\"},\"showarrow\":false,\"text\":\"0.1\",\"x\":26.55,\"xanchor\":\"left\",\"xref\":\"x\",\"y\":4,\"yref\":\"y\"},{\"align\":\"left\",\"font\":{\"color\":\"#000000\"},\"showarrow\":false,\"text\":\"0.1\",\"x\":27.55,\"xanchor\":\"left\",\"xref\":\"x\",\"y\":4,\"yref\":\"y\"},{\"align\":\"left\",\"font\":{\"color\":\"#000000\"},\"showarrow\":false,\"text\":\"123.5\",\"x\":28.55,\"xanchor\":\"left\",\"xref\":\"x\",\"y\":4,\"yref\":\"y\"},{\"align\":\"left\",\"font\":{\"color\":\"#000000\"},\"showarrow\":false,\"text\":\"0.0\",\"x\":29.55,\"xanchor\":\"left\",\"xref\":\"x\",\"y\":4,\"yref\":\"y\"},{\"align\":\"left\",\"font\":{\"color\":\"#000000\"},\"showarrow\":false,\"text\":\"2.0\",\"x\":-0.45,\"xanchor\":\"left\",\"xref\":\"x\",\"y\":5,\"yref\":\"y\"},{\"align\":\"left\",\"font\":{\"color\":\"#000000\"},\"showarrow\":false,\"text\":\"-1.2\",\"x\":0.55,\"xanchor\":\"left\",\"xref\":\"x\",\"y\":5,\"yref\":\"y\"},{\"align\":\"left\",\"font\":{\"color\":\"#000000\"},\"showarrow\":false,\"text\":\"0.9\",\"x\":1.55,\"xanchor\":\"left\",\"xref\":\"x\",\"y\":5,\"yref\":\"y\"},{\"align\":\"left\",\"font\":{\"color\":\"#000000\"},\"showarrow\":false,\"text\":\"1.5\",\"x\":2.55,\"xanchor\":\"left\",\"xref\":\"x\",\"y\":5,\"yref\":\"y\"},{\"align\":\"left\",\"font\":{\"color\":\"#000000\"},\"showarrow\":false,\"text\":\"0.4\",\"x\":3.55,\"xanchor\":\"left\",\"xref\":\"x\",\"y\":5,\"yref\":\"y\"},{\"align\":\"left\",\"font\":{\"color\":\"#000000\"},\"showarrow\":false,\"text\":\"-0.4\",\"x\":4.55,\"xanchor\":\"left\",\"xref\":\"x\",\"y\":5,\"yref\":\"y\"},{\"align\":\"left\",\"font\":{\"color\":\"#000000\"},\"showarrow\":false,\"text\":\"0.1\",\"x\":5.55,\"xanchor\":\"left\",\"xref\":\"x\",\"y\":5,\"yref\":\"y\"},{\"align\":\"left\",\"font\":{\"color\":\"#000000\"},\"showarrow\":false,\"text\":\"0.6\",\"x\":6.55,\"xanchor\":\"left\",\"xref\":\"x\",\"y\":5,\"yref\":\"y\"},{\"align\":\"left\",\"font\":{\"color\":\"#000000\"},\"showarrow\":false,\"text\":\"-0.3\",\"x\":7.55,\"xanchor\":\"left\",\"xref\":\"x\",\"y\":5,\"yref\":\"y\"},{\"align\":\"left\",\"font\":{\"color\":\"#000000\"},\"showarrow\":false,\"text\":\"0.8\",\"x\":8.55,\"xanchor\":\"left\",\"xref\":\"x\",\"y\":5,\"yref\":\"y\"},{\"align\":\"left\",\"font\":{\"color\":\"#000000\"},\"showarrow\":false,\"text\":\"0.8\",\"x\":9.55,\"xanchor\":\"left\",\"xref\":\"x\",\"y\":5,\"yref\":\"y\"},{\"align\":\"left\",\"font\":{\"color\":\"#000000\"},\"showarrow\":false,\"text\":\"-0.8\",\"x\":10.55,\"xanchor\":\"left\",\"xref\":\"x\",\"y\":5,\"yref\":\"y\"},{\"align\":\"left\",\"font\":{\"color\":\"#000000\"},\"showarrow\":false,\"text\":\"0.5\",\"x\":11.55,\"xanchor\":\"left\",\"xref\":\"x\",\"y\":5,\"yref\":\"y\"},{\"align\":\"left\",\"font\":{\"color\":\"#000000\"},\"showarrow\":false,\"text\":\"1.3\",\"x\":12.55,\"xanchor\":\"left\",\"xref\":\"x\",\"y\":5,\"yref\":\"y\"},{\"align\":\"left\",\"font\":{\"color\":\"#000000\"},\"showarrow\":false,\"text\":\"-1.1\",\"x\":13.55,\"xanchor\":\"left\",\"xref\":\"x\",\"y\":5,\"yref\":\"y\"},{\"align\":\"left\",\"font\":{\"color\":\"#000000\"},\"showarrow\":false,\"text\":\"0.2\",\"x\":14.55,\"xanchor\":\"left\",\"xref\":\"x\",\"y\":5,\"yref\":\"y\"},{\"align\":\"left\",\"font\":{\"color\":\"#000000\"},\"showarrow\":false,\"text\":\"-0.5\",\"x\":15.55,\"xanchor\":\"left\",\"xref\":\"x\",\"y\":5,\"yref\":\"y\"},{\"align\":\"left\",\"font\":{\"color\":\"#000000\"},\"showarrow\":false,\"text\":\"-0.2\",\"x\":16.55,\"xanchor\":\"left\",\"xref\":\"x\",\"y\":5,\"yref\":\"y\"},{\"align\":\"left\",\"font\":{\"color\":\"#000000\"},\"showarrow\":false,\"text\":\"-0.0\",\"x\":17.55,\"xanchor\":\"left\",\"xref\":\"x\",\"y\":5,\"yref\":\"y\"},{\"align\":\"left\",\"font\":{\"color\":\"#000000\"},\"showarrow\":false,\"text\":\"0.8\",\"x\":18.55,\"xanchor\":\"left\",\"xref\":\"x\",\"y\":5,\"yref\":\"y\"},{\"align\":\"left\",\"font\":{\"color\":\"#000000\"},\"showarrow\":false,\"text\":\"0.4\",\"x\":19.55,\"xanchor\":\"left\",\"xref\":\"x\",\"y\":5,\"yref\":\"y\"},{\"align\":\"left\",\"font\":{\"color\":\"#000000\"},\"showarrow\":false,\"text\":\"-0.0\",\"x\":20.55,\"xanchor\":\"left\",\"xref\":\"x\",\"y\":5,\"yref\":\"y\"},{\"align\":\"left\",\"font\":{\"color\":\"#000000\"},\"showarrow\":false,\"text\":\"0.8\",\"x\":21.55,\"xanchor\":\"left\",\"xref\":\"x\",\"y\":5,\"yref\":\"y\"},{\"align\":\"left\",\"font\":{\"color\":\"#000000\"},\"showarrow\":false,\"text\":\"-0.1\",\"x\":22.55,\"xanchor\":\"left\",\"xref\":\"x\",\"y\":5,\"yref\":\"y\"},{\"align\":\"left\",\"font\":{\"color\":\"#000000\"},\"showarrow\":false,\"text\":\"0.1\",\"x\":23.55,\"xanchor\":\"left\",\"xref\":\"x\",\"y\":5,\"yref\":\"y\"},{\"align\":\"left\",\"font\":{\"color\":\"#000000\"},\"showarrow\":false,\"text\":\"-0.2\",\"x\":24.55,\"xanchor\":\"left\",\"xref\":\"x\",\"y\":5,\"yref\":\"y\"},{\"align\":\"left\",\"font\":{\"color\":\"#000000\"},\"showarrow\":false,\"text\":\"0.5\",\"x\":25.55,\"xanchor\":\"left\",\"xref\":\"x\",\"y\":5,\"yref\":\"y\"},{\"align\":\"left\",\"font\":{\"color\":\"#000000\"},\"showarrow\":false,\"text\":\"0.2\",\"x\":26.55,\"xanchor\":\"left\",\"xref\":\"x\",\"y\":5,\"yref\":\"y\"},{\"align\":\"left\",\"font\":{\"color\":\"#000000\"},\"showarrow\":false,\"text\":\"0.2\",\"x\":27.55,\"xanchor\":\"left\",\"xref\":\"x\",\"y\":5,\"yref\":\"y\"},{\"align\":\"left\",\"font\":{\"color\":\"#000000\"},\"showarrow\":false,\"text\":\"70.0\",\"x\":28.55,\"xanchor\":\"left\",\"xref\":\"x\",\"y\":5,\"yref\":\"y\"},{\"align\":\"left\",\"font\":{\"color\":\"#000000\"},\"showarrow\":false,\"text\":\"0.0\",\"x\":29.55,\"xanchor\":\"left\",\"xref\":\"x\",\"y\":5,\"yref\":\"y\"}],\"height\":230,\"margin\":{\"b\":0,\"l\":0,\"r\":0,\"t\":0},\"template\":{\"data\":{\"barpolar\":[{\"marker\":{\"line\":{\"color\":\"#E5ECF6\",\"width\":0.5},\"pattern\":{\"fillmode\":\"overlay\",\"size\":10,\"solidity\":0.2}},\"type\":\"barpolar\"}],\"bar\":[{\"error_x\":{\"color\":\"#2a3f5f\"},\"error_y\":{\"color\":\"#2a3f5f\"},\"marker\":{\"line\":{\"color\":\"#E5ECF6\",\"width\":0.5},\"pattern\":{\"fillmode\":\"overlay\",\"size\":10,\"solidity\":0.2}},\"type\":\"bar\"}],\"carpet\":[{\"aaxis\":{\"endlinecolor\":\"#2a3f5f\",\"gridcolor\":\"white\",\"linecolor\":\"white\",\"minorgridcolor\":\"white\",\"startlinecolor\":\"#2a3f5f\"},\"baxis\":{\"endlinecolor\":\"#2a3f5f\",\"gridcolor\":\"white\",\"linecolor\":\"white\",\"minorgridcolor\":\"white\",\"startlinecolor\":\"#2a3f5f\"},\"type\":\"carpet\"}],\"choropleth\":[{\"colorbar\":{\"outlinewidth\":0,\"ticks\":\"\"},\"type\":\"choropleth\"}],\"contourcarpet\":[{\"colorbar\":{\"outlinewidth\":0,\"ticks\":\"\"},\"type\":\"contourcarpet\"}],\"contour\":[{\"colorbar\":{\"outlinewidth\":0,\"ticks\":\"\"},\"colorscale\":[[0.0,\"#0d0887\"],[0.1111111111111111,\"#46039f\"],[0.2222222222222222,\"#7201a8\"],[0.3333333333333333,\"#9c179e\"],[0.4444444444444444,\"#bd3786\"],[0.5555555555555556,\"#d8576b\"],[0.6666666666666666,\"#ed7953\"],[0.7777777777777778,\"#fb9f3a\"],[0.8888888888888888,\"#fdca26\"],[1.0,\"#f0f921\"]],\"type\":\"contour\"}],\"heatmapgl\":[{\"colorbar\":{\"outlinewidth\":0,\"ticks\":\"\"},\"colorscale\":[[0.0,\"#0d0887\"],[0.1111111111111111,\"#46039f\"],[0.2222222222222222,\"#7201a8\"],[0.3333333333333333,\"#9c179e\"],[0.4444444444444444,\"#bd3786\"],[0.5555555555555556,\"#d8576b\"],[0.6666666666666666,\"#ed7953\"],[0.7777777777777778,\"#fb9f3a\"],[0.8888888888888888,\"#fdca26\"],[1.0,\"#f0f921\"]],\"type\":\"heatmapgl\"}],\"heatmap\":[{\"colorbar\":{\"outlinewidth\":0,\"ticks\":\"\"},\"colorscale\":[[0.0,\"#0d0887\"],[0.1111111111111111,\"#46039f\"],[0.2222222222222222,\"#7201a8\"],[0.3333333333333333,\"#9c179e\"],[0.4444444444444444,\"#bd3786\"],[0.5555555555555556,\"#d8576b\"],[0.6666666666666666,\"#ed7953\"],[0.7777777777777778,\"#fb9f3a\"],[0.8888888888888888,\"#fdca26\"],[1.0,\"#f0f921\"]],\"type\":\"heatmap\"}],\"histogram2dcontour\":[{\"colorbar\":{\"outlinewidth\":0,\"ticks\":\"\"},\"colorscale\":[[0.0,\"#0d0887\"],[0.1111111111111111,\"#46039f\"],[0.2222222222222222,\"#7201a8\"],[0.3333333333333333,\"#9c179e\"],[0.4444444444444444,\"#bd3786\"],[0.5555555555555556,\"#d8576b\"],[0.6666666666666666,\"#ed7953\"],[0.7777777777777778,\"#fb9f3a\"],[0.8888888888888888,\"#fdca26\"],[1.0,\"#f0f921\"]],\"type\":\"histogram2dcontour\"}],\"histogram2d\":[{\"colorbar\":{\"outlinewidth\":0,\"ticks\":\"\"},\"colorscale\":[[0.0,\"#0d0887\"],[0.1111111111111111,\"#46039f\"],[0.2222222222222222,\"#7201a8\"],[0.3333333333333333,\"#9c179e\"],[0.4444444444444444,\"#bd3786\"],[0.5555555555555556,\"#d8576b\"],[0.6666666666666666,\"#ed7953\"],[0.7777777777777778,\"#fb9f3a\"],[0.8888888888888888,\"#fdca26\"],[1.0,\"#f0f921\"]],\"type\":\"histogram2d\"}],\"histogram\":[{\"marker\":{\"pattern\":{\"fillmode\":\"overlay\",\"size\":10,\"solidity\":0.2}},\"type\":\"histogram\"}],\"mesh3d\":[{\"colorbar\":{\"outlinewidth\":0,\"ticks\":\"\"},\"type\":\"mesh3d\"}],\"parcoords\":[{\"line\":{\"colorbar\":{\"outlinewidth\":0,\"ticks\":\"\"}},\"type\":\"parcoords\"}],\"pie\":[{\"automargin\":true,\"type\":\"pie\"}],\"scatter3d\":[{\"line\":{\"colorbar\":{\"outlinewidth\":0,\"ticks\":\"\"}},\"marker\":{\"colorbar\":{\"outlinewidth\":0,\"ticks\":\"\"}},\"type\":\"scatter3d\"}],\"scattercarpet\":[{\"marker\":{\"colorbar\":{\"outlinewidth\":0,\"ticks\":\"\"}},\"type\":\"scattercarpet\"}],\"scattergeo\":[{\"marker\":{\"colorbar\":{\"outlinewidth\":0,\"ticks\":\"\"}},\"type\":\"scattergeo\"}],\"scattergl\":[{\"marker\":{\"colorbar\":{\"outlinewidth\":0,\"ticks\":\"\"}},\"type\":\"scattergl\"}],\"scattermapbox\":[{\"marker\":{\"colorbar\":{\"outlinewidth\":0,\"ticks\":\"\"}},\"type\":\"scattermapbox\"}],\"scatterpolargl\":[{\"marker\":{\"colorbar\":{\"outlinewidth\":0,\"ticks\":\"\"}},\"type\":\"scatterpolargl\"}],\"scatterpolar\":[{\"marker\":{\"colorbar\":{\"outlinewidth\":0,\"ticks\":\"\"}},\"type\":\"scatterpolar\"}],\"scatter\":[{\"fillpattern\":{\"fillmode\":\"overlay\",\"size\":10,\"solidity\":0.2},\"type\":\"scatter\"}],\"scatterternary\":[{\"marker\":{\"colorbar\":{\"outlinewidth\":0,\"ticks\":\"\"}},\"type\":\"scatterternary\"}],\"surface\":[{\"colorbar\":{\"outlinewidth\":0,\"ticks\":\"\"},\"colorscale\":[[0.0,\"#0d0887\"],[0.1111111111111111,\"#46039f\"],[0.2222222222222222,\"#7201a8\"],[0.3333333333333333,\"#9c179e\"],[0.4444444444444444,\"#bd3786\"],[0.5555555555555556,\"#d8576b\"],[0.6666666666666666,\"#ed7953\"],[0.7777777777777778,\"#fb9f3a\"],[0.8888888888888888,\"#fdca26\"],[1.0,\"#f0f921\"]],\"type\":\"surface\"}],\"table\":[{\"cells\":{\"fill\":{\"color\":\"#EBF0F8\"},\"line\":{\"color\":\"white\"}},\"header\":{\"fill\":{\"color\":\"#C8D4E3\"},\"line\":{\"color\":\"white\"}},\"type\":\"table\"}]},\"layout\":{\"annotationdefaults\":{\"arrowcolor\":\"#2a3f5f\",\"arrowhead\":0,\"arrowwidth\":1},\"autotypenumbers\":\"strict\",\"coloraxis\":{\"colorbar\":{\"outlinewidth\":0,\"ticks\":\"\"}},\"colorscale\":{\"diverging\":[[0,\"#8e0152\"],[0.1,\"#c51b7d\"],[0.2,\"#de77ae\"],[0.3,\"#f1b6da\"],[0.4,\"#fde0ef\"],[0.5,\"#f7f7f7\"],[0.6,\"#e6f5d0\"],[0.7,\"#b8e186\"],[0.8,\"#7fbc41\"],[0.9,\"#4d9221\"],[1,\"#276419\"]],\"sequential\":[[0.0,\"#0d0887\"],[0.1111111111111111,\"#46039f\"],[0.2222222222222222,\"#7201a8\"],[0.3333333333333333,\"#9c179e\"],[0.4444444444444444,\"#bd3786\"],[0.5555555555555556,\"#d8576b\"],[0.6666666666666666,\"#ed7953\"],[0.7777777777777778,\"#fb9f3a\"],[0.8888888888888888,\"#fdca26\"],[1.0,\"#f0f921\"]],\"sequentialminus\":[[0.0,\"#0d0887\"],[0.1111111111111111,\"#46039f\"],[0.2222222222222222,\"#7201a8\"],[0.3333333333333333,\"#9c179e\"],[0.4444444444444444,\"#bd3786\"],[0.5555555555555556,\"#d8576b\"],[0.6666666666666666,\"#ed7953\"],[0.7777777777777778,\"#fb9f3a\"],[0.8888888888888888,\"#fdca26\"],[1.0,\"#f0f921\"]]},\"colorway\":[\"#636efa\",\"#EF553B\",\"#00cc96\",\"#ab63fa\",\"#FFA15A\",\"#19d3f3\",\"#FF6692\",\"#B6E880\",\"#FF97FF\",\"#FECB52\"],\"font\":{\"color\":\"#2a3f5f\"},\"geo\":{\"bgcolor\":\"white\",\"lakecolor\":\"white\",\"landcolor\":\"#E5ECF6\",\"showlakes\":true,\"showland\":true,\"subunitcolor\":\"white\"},\"hoverlabel\":{\"align\":\"left\"},\"hovermode\":\"closest\",\"mapbox\":{\"style\":\"light\"},\"paper_bgcolor\":\"white\",\"plot_bgcolor\":\"#E5ECF6\",\"polar\":{\"angularaxis\":{\"gridcolor\":\"white\",\"linecolor\":\"white\",\"ticks\":\"\"},\"bgcolor\":\"#E5ECF6\",\"radialaxis\":{\"gridcolor\":\"white\",\"linecolor\":\"white\",\"ticks\":\"\"}},\"scene\":{\"xaxis\":{\"backgroundcolor\":\"#E5ECF6\",\"gridcolor\":\"white\",\"gridwidth\":2,\"linecolor\":\"white\",\"showbackground\":true,\"ticks\":\"\",\"zerolinecolor\":\"white\"},\"yaxis\":{\"backgroundcolor\":\"#E5ECF6\",\"gridcolor\":\"white\",\"gridwidth\":2,\"linecolor\":\"white\",\"showbackground\":true,\"ticks\":\"\",\"zerolinecolor\":\"white\"},\"zaxis\":{\"backgroundcolor\":\"#E5ECF6\",\"gridcolor\":\"white\",\"gridwidth\":2,\"linecolor\":\"white\",\"showbackground\":true,\"ticks\":\"\",\"zerolinecolor\":\"white\"}},\"shapedefaults\":{\"line\":{\"color\":\"#2a3f5f\"}},\"ternary\":{\"aaxis\":{\"gridcolor\":\"white\",\"linecolor\":\"white\",\"ticks\":\"\"},\"baxis\":{\"gridcolor\":\"white\",\"linecolor\":\"white\",\"ticks\":\"\"},\"bgcolor\":\"#E5ECF6\",\"caxis\":{\"gridcolor\":\"white\",\"linecolor\":\"white\",\"ticks\":\"\"}},\"title\":{\"x\":0.05},\"xaxis\":{\"automargin\":true,\"gridcolor\":\"white\",\"linecolor\":\"white\",\"ticks\":\"\",\"title\":{\"standoff\":15},\"zerolinecolor\":\"white\",\"zerolinewidth\":2},\"yaxis\":{\"automargin\":true,\"gridcolor\":\"white\",\"linecolor\":\"white\",\"ticks\":\"\",\"title\":{\"standoff\":15},\"zerolinecolor\":\"white\",\"zerolinewidth\":2}}},\"xaxis\":{\"dtick\":1,\"gridwidth\":2,\"showticklabels\":false,\"tick0\":-0.5,\"ticks\":\"\",\"zeroline\":false},\"yaxis\":{\"autorange\":\"reversed\",\"dtick\":1,\"gridwidth\":2,\"showticklabels\":false,\"tick0\":0.5,\"ticks\":\"\",\"zeroline\":false}},                        {\"responsive\": true}                    ).then(function(){\n",
              "                            \n",
              "var gd = document.getElementById('2e1ebc1e-130f-4570-b4b6-876722d2d14f');\n",
              "var x = new MutationObserver(function (mutations, observer) {{\n",
              "        var display = window.getComputedStyle(gd).display;\n",
              "        if (!display || display === 'none') {{\n",
              "            console.log([gd, 'removed!']);\n",
              "            Plotly.purge(gd);\n",
              "            observer.disconnect();\n",
              "        }}\n",
              "}});\n",
              "\n",
              "// Listen for the removal of the full notebook cells\n",
              "var notebookContainer = gd.closest('#notebook-container');\n",
              "if (notebookContainer) {{\n",
              "    x.observe(notebookContainer, {childList: true});\n",
              "}}\n",
              "\n",
              "// Listen for the clearing of the current output cell\n",
              "var outputEl = gd.closest('.output');\n",
              "if (outputEl) {{\n",
              "    x.observe(outputEl, {childList: true});\n",
              "}}\n",
              "\n",
              "                        })                };                });            </script>        </div>"
            ]
          },
          "metadata": {}
        }
      ]
    },
    {
      "cell_type": "code",
      "source": [
        "train.columns\n"
      ],
      "metadata": {
        "colab": {
          "base_uri": "https://localhost:8080/"
        },
        "id": "ie20jYVFKwHu",
        "outputId": "70c7e83c-f9c3-4311-bbd4-6a8fc4a0542a"
      },
      "execution_count": 10,
      "outputs": [
        {
          "output_type": "execute_result",
          "data": {
            "text/plain": [
              "Index(['Time', 'V1', 'V2', 'V3', 'V4', 'V5', 'V6', 'V7', 'V8', 'V9', 'V10',\n",
              "       'V11', 'V12', 'V13', 'V14', 'V15', 'V16', 'V17', 'V18', 'V19', 'V20',\n",
              "       'V21', 'V22', 'V23', 'V24', 'V25', 'V26', 'V27', 'V28', 'Amount',\n",
              "       'Class'],\n",
              "      dtype='object')"
            ]
          },
          "metadata": {},
          "execution_count": 10
        }
      ]
    },
    {
      "cell_type": "code",
      "source": [
        "train.shape"
      ],
      "metadata": {
        "colab": {
          "base_uri": "https://localhost:8080/"
        },
        "id": "88cy9JreMLC1",
        "outputId": "58597f2f-b412-47ba-bba7-2438e062fe82"
      },
      "execution_count": 11,
      "outputs": [
        {
          "output_type": "execute_result",
          "data": {
            "text/plain": [
              "(25838, 31)"
            ]
          },
          "metadata": {},
          "execution_count": 11
        }
      ]
    },
    {
      "cell_type": "code",
      "source": [
        "iplot(ff.create_table(train.dtypes.to_frame().reset_index().round(3)),filename='jupyter-table2')\n"
      ],
      "metadata": {
        "colab": {
          "base_uri": "https://localhost:8080/",
          "height": 1000
        },
        "id": "D3pugPygMyO7",
        "outputId": "b73d6fa8-d46f-43e1-da7c-a991dcce77e4"
      },
      "execution_count": 12,
      "outputs": [
        {
          "output_type": "display_data",
          "data": {
            "application/vnd.plotly.v1+json": {
              "data": [
                {
                  "colorscale": [
                    [
                      0,
                      "#00083e"
                    ],
                    [
                      0.5,
                      "#ededee"
                    ],
                    [
                      1,
                      "#ffffff"
                    ]
                  ],
                  "hoverinfo": "none",
                  "opacity": 0.75,
                  "showscale": false,
                  "z": [
                    [
                      0,
                      0
                    ],
                    [
                      0.5,
                      0.5
                    ],
                    [
                      1,
                      1
                    ],
                    [
                      0.5,
                      0.5
                    ],
                    [
                      1,
                      1
                    ],
                    [
                      0.5,
                      0.5
                    ],
                    [
                      1,
                      1
                    ],
                    [
                      0.5,
                      0.5
                    ],
                    [
                      1,
                      1
                    ],
                    [
                      0.5,
                      0.5
                    ],
                    [
                      1,
                      1
                    ],
                    [
                      0.5,
                      0.5
                    ],
                    [
                      1,
                      1
                    ],
                    [
                      0.5,
                      0.5
                    ],
                    [
                      1,
                      1
                    ],
                    [
                      0.5,
                      0.5
                    ],
                    [
                      1,
                      1
                    ],
                    [
                      0.5,
                      0.5
                    ],
                    [
                      1,
                      1
                    ],
                    [
                      0.5,
                      0.5
                    ],
                    [
                      1,
                      1
                    ],
                    [
                      0.5,
                      0.5
                    ],
                    [
                      1,
                      1
                    ],
                    [
                      0.5,
                      0.5
                    ],
                    [
                      1,
                      1
                    ],
                    [
                      0.5,
                      0.5
                    ],
                    [
                      1,
                      1
                    ],
                    [
                      0.5,
                      0.5
                    ],
                    [
                      1,
                      1
                    ],
                    [
                      0.5,
                      0.5
                    ],
                    [
                      1,
                      1
                    ],
                    [
                      0.5,
                      0.5
                    ]
                  ],
                  "type": "heatmap"
                }
              ],
              "layout": {
                "annotations": [
                  {
                    "align": "left",
                    "font": {
                      "color": "#ffffff"
                    },
                    "showarrow": false,
                    "text": "<b>index</b>",
                    "x": -0.45,
                    "xanchor": "left",
                    "xref": "x",
                    "y": 0,
                    "yref": "y"
                  },
                  {
                    "align": "left",
                    "font": {
                      "color": "#ffffff"
                    },
                    "showarrow": false,
                    "text": "<b>0</b>",
                    "x": 0.55,
                    "xanchor": "left",
                    "xref": "x",
                    "y": 0,
                    "yref": "y"
                  },
                  {
                    "align": "left",
                    "font": {
                      "color": "#000000"
                    },
                    "showarrow": false,
                    "text": "Time",
                    "x": -0.45,
                    "xanchor": "left",
                    "xref": "x",
                    "y": 1,
                    "yref": "y"
                  },
                  {
                    "align": "left",
                    "font": {
                      "color": "#000000"
                    },
                    "showarrow": false,
                    "text": "int64",
                    "x": 0.55,
                    "xanchor": "left",
                    "xref": "x",
                    "y": 1,
                    "yref": "y"
                  },
                  {
                    "align": "left",
                    "font": {
                      "color": "#000000"
                    },
                    "showarrow": false,
                    "text": "V1",
                    "x": -0.45,
                    "xanchor": "left",
                    "xref": "x",
                    "y": 2,
                    "yref": "y"
                  },
                  {
                    "align": "left",
                    "font": {
                      "color": "#000000"
                    },
                    "showarrow": false,
                    "text": "float64",
                    "x": 0.55,
                    "xanchor": "left",
                    "xref": "x",
                    "y": 2,
                    "yref": "y"
                  },
                  {
                    "align": "left",
                    "font": {
                      "color": "#000000"
                    },
                    "showarrow": false,
                    "text": "V2",
                    "x": -0.45,
                    "xanchor": "left",
                    "xref": "x",
                    "y": 3,
                    "yref": "y"
                  },
                  {
                    "align": "left",
                    "font": {
                      "color": "#000000"
                    },
                    "showarrow": false,
                    "text": "float64",
                    "x": 0.55,
                    "xanchor": "left",
                    "xref": "x",
                    "y": 3,
                    "yref": "y"
                  },
                  {
                    "align": "left",
                    "font": {
                      "color": "#000000"
                    },
                    "showarrow": false,
                    "text": "V3",
                    "x": -0.45,
                    "xanchor": "left",
                    "xref": "x",
                    "y": 4,
                    "yref": "y"
                  },
                  {
                    "align": "left",
                    "font": {
                      "color": "#000000"
                    },
                    "showarrow": false,
                    "text": "float64",
                    "x": 0.55,
                    "xanchor": "left",
                    "xref": "x",
                    "y": 4,
                    "yref": "y"
                  },
                  {
                    "align": "left",
                    "font": {
                      "color": "#000000"
                    },
                    "showarrow": false,
                    "text": "V4",
                    "x": -0.45,
                    "xanchor": "left",
                    "xref": "x",
                    "y": 5,
                    "yref": "y"
                  },
                  {
                    "align": "left",
                    "font": {
                      "color": "#000000"
                    },
                    "showarrow": false,
                    "text": "float64",
                    "x": 0.55,
                    "xanchor": "left",
                    "xref": "x",
                    "y": 5,
                    "yref": "y"
                  },
                  {
                    "align": "left",
                    "font": {
                      "color": "#000000"
                    },
                    "showarrow": false,
                    "text": "V5",
                    "x": -0.45,
                    "xanchor": "left",
                    "xref": "x",
                    "y": 6,
                    "yref": "y"
                  },
                  {
                    "align": "left",
                    "font": {
                      "color": "#000000"
                    },
                    "showarrow": false,
                    "text": "float64",
                    "x": 0.55,
                    "xanchor": "left",
                    "xref": "x",
                    "y": 6,
                    "yref": "y"
                  },
                  {
                    "align": "left",
                    "font": {
                      "color": "#000000"
                    },
                    "showarrow": false,
                    "text": "V6",
                    "x": -0.45,
                    "xanchor": "left",
                    "xref": "x",
                    "y": 7,
                    "yref": "y"
                  },
                  {
                    "align": "left",
                    "font": {
                      "color": "#000000"
                    },
                    "showarrow": false,
                    "text": "float64",
                    "x": 0.55,
                    "xanchor": "left",
                    "xref": "x",
                    "y": 7,
                    "yref": "y"
                  },
                  {
                    "align": "left",
                    "font": {
                      "color": "#000000"
                    },
                    "showarrow": false,
                    "text": "V7",
                    "x": -0.45,
                    "xanchor": "left",
                    "xref": "x",
                    "y": 8,
                    "yref": "y"
                  },
                  {
                    "align": "left",
                    "font": {
                      "color": "#000000"
                    },
                    "showarrow": false,
                    "text": "float64",
                    "x": 0.55,
                    "xanchor": "left",
                    "xref": "x",
                    "y": 8,
                    "yref": "y"
                  },
                  {
                    "align": "left",
                    "font": {
                      "color": "#000000"
                    },
                    "showarrow": false,
                    "text": "V8",
                    "x": -0.45,
                    "xanchor": "left",
                    "xref": "x",
                    "y": 9,
                    "yref": "y"
                  },
                  {
                    "align": "left",
                    "font": {
                      "color": "#000000"
                    },
                    "showarrow": false,
                    "text": "float64",
                    "x": 0.55,
                    "xanchor": "left",
                    "xref": "x",
                    "y": 9,
                    "yref": "y"
                  },
                  {
                    "align": "left",
                    "font": {
                      "color": "#000000"
                    },
                    "showarrow": false,
                    "text": "V9",
                    "x": -0.45,
                    "xanchor": "left",
                    "xref": "x",
                    "y": 10,
                    "yref": "y"
                  },
                  {
                    "align": "left",
                    "font": {
                      "color": "#000000"
                    },
                    "showarrow": false,
                    "text": "float64",
                    "x": 0.55,
                    "xanchor": "left",
                    "xref": "x",
                    "y": 10,
                    "yref": "y"
                  },
                  {
                    "align": "left",
                    "font": {
                      "color": "#000000"
                    },
                    "showarrow": false,
                    "text": "V10",
                    "x": -0.45,
                    "xanchor": "left",
                    "xref": "x",
                    "y": 11,
                    "yref": "y"
                  },
                  {
                    "align": "left",
                    "font": {
                      "color": "#000000"
                    },
                    "showarrow": false,
                    "text": "float64",
                    "x": 0.55,
                    "xanchor": "left",
                    "xref": "x",
                    "y": 11,
                    "yref": "y"
                  },
                  {
                    "align": "left",
                    "font": {
                      "color": "#000000"
                    },
                    "showarrow": false,
                    "text": "V11",
                    "x": -0.45,
                    "xanchor": "left",
                    "xref": "x",
                    "y": 12,
                    "yref": "y"
                  },
                  {
                    "align": "left",
                    "font": {
                      "color": "#000000"
                    },
                    "showarrow": false,
                    "text": "float64",
                    "x": 0.55,
                    "xanchor": "left",
                    "xref": "x",
                    "y": 12,
                    "yref": "y"
                  },
                  {
                    "align": "left",
                    "font": {
                      "color": "#000000"
                    },
                    "showarrow": false,
                    "text": "V12",
                    "x": -0.45,
                    "xanchor": "left",
                    "xref": "x",
                    "y": 13,
                    "yref": "y"
                  },
                  {
                    "align": "left",
                    "font": {
                      "color": "#000000"
                    },
                    "showarrow": false,
                    "text": "float64",
                    "x": 0.55,
                    "xanchor": "left",
                    "xref": "x",
                    "y": 13,
                    "yref": "y"
                  },
                  {
                    "align": "left",
                    "font": {
                      "color": "#000000"
                    },
                    "showarrow": false,
                    "text": "V13",
                    "x": -0.45,
                    "xanchor": "left",
                    "xref": "x",
                    "y": 14,
                    "yref": "y"
                  },
                  {
                    "align": "left",
                    "font": {
                      "color": "#000000"
                    },
                    "showarrow": false,
                    "text": "float64",
                    "x": 0.55,
                    "xanchor": "left",
                    "xref": "x",
                    "y": 14,
                    "yref": "y"
                  },
                  {
                    "align": "left",
                    "font": {
                      "color": "#000000"
                    },
                    "showarrow": false,
                    "text": "V14",
                    "x": -0.45,
                    "xanchor": "left",
                    "xref": "x",
                    "y": 15,
                    "yref": "y"
                  },
                  {
                    "align": "left",
                    "font": {
                      "color": "#000000"
                    },
                    "showarrow": false,
                    "text": "float64",
                    "x": 0.55,
                    "xanchor": "left",
                    "xref": "x",
                    "y": 15,
                    "yref": "y"
                  },
                  {
                    "align": "left",
                    "font": {
                      "color": "#000000"
                    },
                    "showarrow": false,
                    "text": "V15",
                    "x": -0.45,
                    "xanchor": "left",
                    "xref": "x",
                    "y": 16,
                    "yref": "y"
                  },
                  {
                    "align": "left",
                    "font": {
                      "color": "#000000"
                    },
                    "showarrow": false,
                    "text": "float64",
                    "x": 0.55,
                    "xanchor": "left",
                    "xref": "x",
                    "y": 16,
                    "yref": "y"
                  },
                  {
                    "align": "left",
                    "font": {
                      "color": "#000000"
                    },
                    "showarrow": false,
                    "text": "V16",
                    "x": -0.45,
                    "xanchor": "left",
                    "xref": "x",
                    "y": 17,
                    "yref": "y"
                  },
                  {
                    "align": "left",
                    "font": {
                      "color": "#000000"
                    },
                    "showarrow": false,
                    "text": "float64",
                    "x": 0.55,
                    "xanchor": "left",
                    "xref": "x",
                    "y": 17,
                    "yref": "y"
                  },
                  {
                    "align": "left",
                    "font": {
                      "color": "#000000"
                    },
                    "showarrow": false,
                    "text": "V17",
                    "x": -0.45,
                    "xanchor": "left",
                    "xref": "x",
                    "y": 18,
                    "yref": "y"
                  },
                  {
                    "align": "left",
                    "font": {
                      "color": "#000000"
                    },
                    "showarrow": false,
                    "text": "float64",
                    "x": 0.55,
                    "xanchor": "left",
                    "xref": "x",
                    "y": 18,
                    "yref": "y"
                  },
                  {
                    "align": "left",
                    "font": {
                      "color": "#000000"
                    },
                    "showarrow": false,
                    "text": "V18",
                    "x": -0.45,
                    "xanchor": "left",
                    "xref": "x",
                    "y": 19,
                    "yref": "y"
                  },
                  {
                    "align": "left",
                    "font": {
                      "color": "#000000"
                    },
                    "showarrow": false,
                    "text": "float64",
                    "x": 0.55,
                    "xanchor": "left",
                    "xref": "x",
                    "y": 19,
                    "yref": "y"
                  },
                  {
                    "align": "left",
                    "font": {
                      "color": "#000000"
                    },
                    "showarrow": false,
                    "text": "V19",
                    "x": -0.45,
                    "xanchor": "left",
                    "xref": "x",
                    "y": 20,
                    "yref": "y"
                  },
                  {
                    "align": "left",
                    "font": {
                      "color": "#000000"
                    },
                    "showarrow": false,
                    "text": "float64",
                    "x": 0.55,
                    "xanchor": "left",
                    "xref": "x",
                    "y": 20,
                    "yref": "y"
                  },
                  {
                    "align": "left",
                    "font": {
                      "color": "#000000"
                    },
                    "showarrow": false,
                    "text": "V20",
                    "x": -0.45,
                    "xanchor": "left",
                    "xref": "x",
                    "y": 21,
                    "yref": "y"
                  },
                  {
                    "align": "left",
                    "font": {
                      "color": "#000000"
                    },
                    "showarrow": false,
                    "text": "float64",
                    "x": 0.55,
                    "xanchor": "left",
                    "xref": "x",
                    "y": 21,
                    "yref": "y"
                  },
                  {
                    "align": "left",
                    "font": {
                      "color": "#000000"
                    },
                    "showarrow": false,
                    "text": "V21",
                    "x": -0.45,
                    "xanchor": "left",
                    "xref": "x",
                    "y": 22,
                    "yref": "y"
                  },
                  {
                    "align": "left",
                    "font": {
                      "color": "#000000"
                    },
                    "showarrow": false,
                    "text": "float64",
                    "x": 0.55,
                    "xanchor": "left",
                    "xref": "x",
                    "y": 22,
                    "yref": "y"
                  },
                  {
                    "align": "left",
                    "font": {
                      "color": "#000000"
                    },
                    "showarrow": false,
                    "text": "V22",
                    "x": -0.45,
                    "xanchor": "left",
                    "xref": "x",
                    "y": 23,
                    "yref": "y"
                  },
                  {
                    "align": "left",
                    "font": {
                      "color": "#000000"
                    },
                    "showarrow": false,
                    "text": "float64",
                    "x": 0.55,
                    "xanchor": "left",
                    "xref": "x",
                    "y": 23,
                    "yref": "y"
                  },
                  {
                    "align": "left",
                    "font": {
                      "color": "#000000"
                    },
                    "showarrow": false,
                    "text": "V23",
                    "x": -0.45,
                    "xanchor": "left",
                    "xref": "x",
                    "y": 24,
                    "yref": "y"
                  },
                  {
                    "align": "left",
                    "font": {
                      "color": "#000000"
                    },
                    "showarrow": false,
                    "text": "float64",
                    "x": 0.55,
                    "xanchor": "left",
                    "xref": "x",
                    "y": 24,
                    "yref": "y"
                  },
                  {
                    "align": "left",
                    "font": {
                      "color": "#000000"
                    },
                    "showarrow": false,
                    "text": "V24",
                    "x": -0.45,
                    "xanchor": "left",
                    "xref": "x",
                    "y": 25,
                    "yref": "y"
                  },
                  {
                    "align": "left",
                    "font": {
                      "color": "#000000"
                    },
                    "showarrow": false,
                    "text": "float64",
                    "x": 0.55,
                    "xanchor": "left",
                    "xref": "x",
                    "y": 25,
                    "yref": "y"
                  },
                  {
                    "align": "left",
                    "font": {
                      "color": "#000000"
                    },
                    "showarrow": false,
                    "text": "V25",
                    "x": -0.45,
                    "xanchor": "left",
                    "xref": "x",
                    "y": 26,
                    "yref": "y"
                  },
                  {
                    "align": "left",
                    "font": {
                      "color": "#000000"
                    },
                    "showarrow": false,
                    "text": "float64",
                    "x": 0.55,
                    "xanchor": "left",
                    "xref": "x",
                    "y": 26,
                    "yref": "y"
                  },
                  {
                    "align": "left",
                    "font": {
                      "color": "#000000"
                    },
                    "showarrow": false,
                    "text": "V26",
                    "x": -0.45,
                    "xanchor": "left",
                    "xref": "x",
                    "y": 27,
                    "yref": "y"
                  },
                  {
                    "align": "left",
                    "font": {
                      "color": "#000000"
                    },
                    "showarrow": false,
                    "text": "float64",
                    "x": 0.55,
                    "xanchor": "left",
                    "xref": "x",
                    "y": 27,
                    "yref": "y"
                  },
                  {
                    "align": "left",
                    "font": {
                      "color": "#000000"
                    },
                    "showarrow": false,
                    "text": "V27",
                    "x": -0.45,
                    "xanchor": "left",
                    "xref": "x",
                    "y": 28,
                    "yref": "y"
                  },
                  {
                    "align": "left",
                    "font": {
                      "color": "#000000"
                    },
                    "showarrow": false,
                    "text": "float64",
                    "x": 0.55,
                    "xanchor": "left",
                    "xref": "x",
                    "y": 28,
                    "yref": "y"
                  },
                  {
                    "align": "left",
                    "font": {
                      "color": "#000000"
                    },
                    "showarrow": false,
                    "text": "V28",
                    "x": -0.45,
                    "xanchor": "left",
                    "xref": "x",
                    "y": 29,
                    "yref": "y"
                  },
                  {
                    "align": "left",
                    "font": {
                      "color": "#000000"
                    },
                    "showarrow": false,
                    "text": "float64",
                    "x": 0.55,
                    "xanchor": "left",
                    "xref": "x",
                    "y": 29,
                    "yref": "y"
                  },
                  {
                    "align": "left",
                    "font": {
                      "color": "#000000"
                    },
                    "showarrow": false,
                    "text": "Amount",
                    "x": -0.45,
                    "xanchor": "left",
                    "xref": "x",
                    "y": 30,
                    "yref": "y"
                  },
                  {
                    "align": "left",
                    "font": {
                      "color": "#000000"
                    },
                    "showarrow": false,
                    "text": "float64",
                    "x": 0.55,
                    "xanchor": "left",
                    "xref": "x",
                    "y": 30,
                    "yref": "y"
                  },
                  {
                    "align": "left",
                    "font": {
                      "color": "#000000"
                    },
                    "showarrow": false,
                    "text": "Class",
                    "x": -0.45,
                    "xanchor": "left",
                    "xref": "x",
                    "y": 31,
                    "yref": "y"
                  },
                  {
                    "align": "left",
                    "font": {
                      "color": "#000000"
                    },
                    "showarrow": false,
                    "text": "float64",
                    "x": 0.55,
                    "xanchor": "left",
                    "xref": "x",
                    "y": 31,
                    "yref": "y"
                  }
                ],
                "height": 1010,
                "margin": {
                  "b": 0,
                  "l": 0,
                  "r": 0,
                  "t": 0
                },
                "template": {
                  "data": {
                    "barpolar": [
                      {
                        "marker": {
                          "line": {
                            "color": "#E5ECF6",
                            "width": 0.5
                          },
                          "pattern": {
                            "fillmode": "overlay",
                            "size": 10,
                            "solidity": 0.2
                          }
                        },
                        "type": "barpolar"
                      }
                    ],
                    "bar": [
                      {
                        "error_x": {
                          "color": "#2a3f5f"
                        },
                        "error_y": {
                          "color": "#2a3f5f"
                        },
                        "marker": {
                          "line": {
                            "color": "#E5ECF6",
                            "width": 0.5
                          },
                          "pattern": {
                            "fillmode": "overlay",
                            "size": 10,
                            "solidity": 0.2
                          }
                        },
                        "type": "bar"
                      }
                    ],
                    "carpet": [
                      {
                        "aaxis": {
                          "endlinecolor": "#2a3f5f",
                          "gridcolor": "white",
                          "linecolor": "white",
                          "minorgridcolor": "white",
                          "startlinecolor": "#2a3f5f"
                        },
                        "baxis": {
                          "endlinecolor": "#2a3f5f",
                          "gridcolor": "white",
                          "linecolor": "white",
                          "minorgridcolor": "white",
                          "startlinecolor": "#2a3f5f"
                        },
                        "type": "carpet"
                      }
                    ],
                    "choropleth": [
                      {
                        "colorbar": {
                          "outlinewidth": 0,
                          "ticks": ""
                        },
                        "type": "choropleth"
                      }
                    ],
                    "contourcarpet": [
                      {
                        "colorbar": {
                          "outlinewidth": 0,
                          "ticks": ""
                        },
                        "type": "contourcarpet"
                      }
                    ],
                    "contour": [
                      {
                        "colorbar": {
                          "outlinewidth": 0,
                          "ticks": ""
                        },
                        "colorscale": [
                          [
                            0,
                            "#0d0887"
                          ],
                          [
                            0.1111111111111111,
                            "#46039f"
                          ],
                          [
                            0.2222222222222222,
                            "#7201a8"
                          ],
                          [
                            0.3333333333333333,
                            "#9c179e"
                          ],
                          [
                            0.4444444444444444,
                            "#bd3786"
                          ],
                          [
                            0.5555555555555556,
                            "#d8576b"
                          ],
                          [
                            0.6666666666666666,
                            "#ed7953"
                          ],
                          [
                            0.7777777777777778,
                            "#fb9f3a"
                          ],
                          [
                            0.8888888888888888,
                            "#fdca26"
                          ],
                          [
                            1,
                            "#f0f921"
                          ]
                        ],
                        "type": "contour"
                      }
                    ],
                    "heatmapgl": [
                      {
                        "colorbar": {
                          "outlinewidth": 0,
                          "ticks": ""
                        },
                        "colorscale": [
                          [
                            0,
                            "#0d0887"
                          ],
                          [
                            0.1111111111111111,
                            "#46039f"
                          ],
                          [
                            0.2222222222222222,
                            "#7201a8"
                          ],
                          [
                            0.3333333333333333,
                            "#9c179e"
                          ],
                          [
                            0.4444444444444444,
                            "#bd3786"
                          ],
                          [
                            0.5555555555555556,
                            "#d8576b"
                          ],
                          [
                            0.6666666666666666,
                            "#ed7953"
                          ],
                          [
                            0.7777777777777778,
                            "#fb9f3a"
                          ],
                          [
                            0.8888888888888888,
                            "#fdca26"
                          ],
                          [
                            1,
                            "#f0f921"
                          ]
                        ],
                        "type": "heatmapgl"
                      }
                    ],
                    "heatmap": [
                      {
                        "colorbar": {
                          "outlinewidth": 0,
                          "ticks": ""
                        },
                        "colorscale": [
                          [
                            0,
                            "#0d0887"
                          ],
                          [
                            0.1111111111111111,
                            "#46039f"
                          ],
                          [
                            0.2222222222222222,
                            "#7201a8"
                          ],
                          [
                            0.3333333333333333,
                            "#9c179e"
                          ],
                          [
                            0.4444444444444444,
                            "#bd3786"
                          ],
                          [
                            0.5555555555555556,
                            "#d8576b"
                          ],
                          [
                            0.6666666666666666,
                            "#ed7953"
                          ],
                          [
                            0.7777777777777778,
                            "#fb9f3a"
                          ],
                          [
                            0.8888888888888888,
                            "#fdca26"
                          ],
                          [
                            1,
                            "#f0f921"
                          ]
                        ],
                        "type": "heatmap"
                      }
                    ],
                    "histogram2dcontour": [
                      {
                        "colorbar": {
                          "outlinewidth": 0,
                          "ticks": ""
                        },
                        "colorscale": [
                          [
                            0,
                            "#0d0887"
                          ],
                          [
                            0.1111111111111111,
                            "#46039f"
                          ],
                          [
                            0.2222222222222222,
                            "#7201a8"
                          ],
                          [
                            0.3333333333333333,
                            "#9c179e"
                          ],
                          [
                            0.4444444444444444,
                            "#bd3786"
                          ],
                          [
                            0.5555555555555556,
                            "#d8576b"
                          ],
                          [
                            0.6666666666666666,
                            "#ed7953"
                          ],
                          [
                            0.7777777777777778,
                            "#fb9f3a"
                          ],
                          [
                            0.8888888888888888,
                            "#fdca26"
                          ],
                          [
                            1,
                            "#f0f921"
                          ]
                        ],
                        "type": "histogram2dcontour"
                      }
                    ],
                    "histogram2d": [
                      {
                        "colorbar": {
                          "outlinewidth": 0,
                          "ticks": ""
                        },
                        "colorscale": [
                          [
                            0,
                            "#0d0887"
                          ],
                          [
                            0.1111111111111111,
                            "#46039f"
                          ],
                          [
                            0.2222222222222222,
                            "#7201a8"
                          ],
                          [
                            0.3333333333333333,
                            "#9c179e"
                          ],
                          [
                            0.4444444444444444,
                            "#bd3786"
                          ],
                          [
                            0.5555555555555556,
                            "#d8576b"
                          ],
                          [
                            0.6666666666666666,
                            "#ed7953"
                          ],
                          [
                            0.7777777777777778,
                            "#fb9f3a"
                          ],
                          [
                            0.8888888888888888,
                            "#fdca26"
                          ],
                          [
                            1,
                            "#f0f921"
                          ]
                        ],
                        "type": "histogram2d"
                      }
                    ],
                    "histogram": [
                      {
                        "marker": {
                          "pattern": {
                            "fillmode": "overlay",
                            "size": 10,
                            "solidity": 0.2
                          }
                        },
                        "type": "histogram"
                      }
                    ],
                    "mesh3d": [
                      {
                        "colorbar": {
                          "outlinewidth": 0,
                          "ticks": ""
                        },
                        "type": "mesh3d"
                      }
                    ],
                    "parcoords": [
                      {
                        "line": {
                          "colorbar": {
                            "outlinewidth": 0,
                            "ticks": ""
                          }
                        },
                        "type": "parcoords"
                      }
                    ],
                    "pie": [
                      {
                        "automargin": true,
                        "type": "pie"
                      }
                    ],
                    "scatter3d": [
                      {
                        "line": {
                          "colorbar": {
                            "outlinewidth": 0,
                            "ticks": ""
                          }
                        },
                        "marker": {
                          "colorbar": {
                            "outlinewidth": 0,
                            "ticks": ""
                          }
                        },
                        "type": "scatter3d"
                      }
                    ],
                    "scattercarpet": [
                      {
                        "marker": {
                          "colorbar": {
                            "outlinewidth": 0,
                            "ticks": ""
                          }
                        },
                        "type": "scattercarpet"
                      }
                    ],
                    "scattergeo": [
                      {
                        "marker": {
                          "colorbar": {
                            "outlinewidth": 0,
                            "ticks": ""
                          }
                        },
                        "type": "scattergeo"
                      }
                    ],
                    "scattergl": [
                      {
                        "marker": {
                          "colorbar": {
                            "outlinewidth": 0,
                            "ticks": ""
                          }
                        },
                        "type": "scattergl"
                      }
                    ],
                    "scattermapbox": [
                      {
                        "marker": {
                          "colorbar": {
                            "outlinewidth": 0,
                            "ticks": ""
                          }
                        },
                        "type": "scattermapbox"
                      }
                    ],
                    "scatterpolargl": [
                      {
                        "marker": {
                          "colorbar": {
                            "outlinewidth": 0,
                            "ticks": ""
                          }
                        },
                        "type": "scatterpolargl"
                      }
                    ],
                    "scatterpolar": [
                      {
                        "marker": {
                          "colorbar": {
                            "outlinewidth": 0,
                            "ticks": ""
                          }
                        },
                        "type": "scatterpolar"
                      }
                    ],
                    "scatter": [
                      {
                        "fillpattern": {
                          "fillmode": "overlay",
                          "size": 10,
                          "solidity": 0.2
                        },
                        "type": "scatter"
                      }
                    ],
                    "scatterternary": [
                      {
                        "marker": {
                          "colorbar": {
                            "outlinewidth": 0,
                            "ticks": ""
                          }
                        },
                        "type": "scatterternary"
                      }
                    ],
                    "surface": [
                      {
                        "colorbar": {
                          "outlinewidth": 0,
                          "ticks": ""
                        },
                        "colorscale": [
                          [
                            0,
                            "#0d0887"
                          ],
                          [
                            0.1111111111111111,
                            "#46039f"
                          ],
                          [
                            0.2222222222222222,
                            "#7201a8"
                          ],
                          [
                            0.3333333333333333,
                            "#9c179e"
                          ],
                          [
                            0.4444444444444444,
                            "#bd3786"
                          ],
                          [
                            0.5555555555555556,
                            "#d8576b"
                          ],
                          [
                            0.6666666666666666,
                            "#ed7953"
                          ],
                          [
                            0.7777777777777778,
                            "#fb9f3a"
                          ],
                          [
                            0.8888888888888888,
                            "#fdca26"
                          ],
                          [
                            1,
                            "#f0f921"
                          ]
                        ],
                        "type": "surface"
                      }
                    ],
                    "table": [
                      {
                        "cells": {
                          "fill": {
                            "color": "#EBF0F8"
                          },
                          "line": {
                            "color": "white"
                          }
                        },
                        "header": {
                          "fill": {
                            "color": "#C8D4E3"
                          },
                          "line": {
                            "color": "white"
                          }
                        },
                        "type": "table"
                      }
                    ]
                  },
                  "layout": {
                    "annotationdefaults": {
                      "arrowcolor": "#2a3f5f",
                      "arrowhead": 0,
                      "arrowwidth": 1
                    },
                    "autotypenumbers": "strict",
                    "coloraxis": {
                      "colorbar": {
                        "outlinewidth": 0,
                        "ticks": ""
                      }
                    },
                    "colorscale": {
                      "diverging": [
                        [
                          0,
                          "#8e0152"
                        ],
                        [
                          0.1,
                          "#c51b7d"
                        ],
                        [
                          0.2,
                          "#de77ae"
                        ],
                        [
                          0.3,
                          "#f1b6da"
                        ],
                        [
                          0.4,
                          "#fde0ef"
                        ],
                        [
                          0.5,
                          "#f7f7f7"
                        ],
                        [
                          0.6,
                          "#e6f5d0"
                        ],
                        [
                          0.7,
                          "#b8e186"
                        ],
                        [
                          0.8,
                          "#7fbc41"
                        ],
                        [
                          0.9,
                          "#4d9221"
                        ],
                        [
                          1,
                          "#276419"
                        ]
                      ],
                      "sequential": [
                        [
                          0,
                          "#0d0887"
                        ],
                        [
                          0.1111111111111111,
                          "#46039f"
                        ],
                        [
                          0.2222222222222222,
                          "#7201a8"
                        ],
                        [
                          0.3333333333333333,
                          "#9c179e"
                        ],
                        [
                          0.4444444444444444,
                          "#bd3786"
                        ],
                        [
                          0.5555555555555556,
                          "#d8576b"
                        ],
                        [
                          0.6666666666666666,
                          "#ed7953"
                        ],
                        [
                          0.7777777777777778,
                          "#fb9f3a"
                        ],
                        [
                          0.8888888888888888,
                          "#fdca26"
                        ],
                        [
                          1,
                          "#f0f921"
                        ]
                      ],
                      "sequentialminus": [
                        [
                          0,
                          "#0d0887"
                        ],
                        [
                          0.1111111111111111,
                          "#46039f"
                        ],
                        [
                          0.2222222222222222,
                          "#7201a8"
                        ],
                        [
                          0.3333333333333333,
                          "#9c179e"
                        ],
                        [
                          0.4444444444444444,
                          "#bd3786"
                        ],
                        [
                          0.5555555555555556,
                          "#d8576b"
                        ],
                        [
                          0.6666666666666666,
                          "#ed7953"
                        ],
                        [
                          0.7777777777777778,
                          "#fb9f3a"
                        ],
                        [
                          0.8888888888888888,
                          "#fdca26"
                        ],
                        [
                          1,
                          "#f0f921"
                        ]
                      ]
                    },
                    "colorway": [
                      "#636efa",
                      "#EF553B",
                      "#00cc96",
                      "#ab63fa",
                      "#FFA15A",
                      "#19d3f3",
                      "#FF6692",
                      "#B6E880",
                      "#FF97FF",
                      "#FECB52"
                    ],
                    "font": {
                      "color": "#2a3f5f"
                    },
                    "geo": {
                      "bgcolor": "white",
                      "lakecolor": "white",
                      "landcolor": "#E5ECF6",
                      "showlakes": true,
                      "showland": true,
                      "subunitcolor": "white"
                    },
                    "hoverlabel": {
                      "align": "left"
                    },
                    "hovermode": "closest",
                    "mapbox": {
                      "style": "light"
                    },
                    "paper_bgcolor": "white",
                    "plot_bgcolor": "#E5ECF6",
                    "polar": {
                      "angularaxis": {
                        "gridcolor": "white",
                        "linecolor": "white",
                        "ticks": ""
                      },
                      "bgcolor": "#E5ECF6",
                      "radialaxis": {
                        "gridcolor": "white",
                        "linecolor": "white",
                        "ticks": ""
                      }
                    },
                    "scene": {
                      "xaxis": {
                        "backgroundcolor": "#E5ECF6",
                        "gridcolor": "white",
                        "gridwidth": 2,
                        "linecolor": "white",
                        "showbackground": true,
                        "ticks": "",
                        "zerolinecolor": "white"
                      },
                      "yaxis": {
                        "backgroundcolor": "#E5ECF6",
                        "gridcolor": "white",
                        "gridwidth": 2,
                        "linecolor": "white",
                        "showbackground": true,
                        "ticks": "",
                        "zerolinecolor": "white"
                      },
                      "zaxis": {
                        "backgroundcolor": "#E5ECF6",
                        "gridcolor": "white",
                        "gridwidth": 2,
                        "linecolor": "white",
                        "showbackground": true,
                        "ticks": "",
                        "zerolinecolor": "white"
                      }
                    },
                    "shapedefaults": {
                      "line": {
                        "color": "#2a3f5f"
                      }
                    },
                    "ternary": {
                      "aaxis": {
                        "gridcolor": "white",
                        "linecolor": "white",
                        "ticks": ""
                      },
                      "baxis": {
                        "gridcolor": "white",
                        "linecolor": "white",
                        "ticks": ""
                      },
                      "bgcolor": "#E5ECF6",
                      "caxis": {
                        "gridcolor": "white",
                        "linecolor": "white",
                        "ticks": ""
                      }
                    },
                    "title": {
                      "x": 0.05
                    },
                    "xaxis": {
                      "automargin": true,
                      "gridcolor": "white",
                      "linecolor": "white",
                      "ticks": "",
                      "title": {
                        "standoff": 15
                      },
                      "zerolinecolor": "white",
                      "zerolinewidth": 2
                    },
                    "yaxis": {
                      "automargin": true,
                      "gridcolor": "white",
                      "linecolor": "white",
                      "ticks": "",
                      "title": {
                        "standoff": 15
                      },
                      "zerolinecolor": "white",
                      "zerolinewidth": 2
                    }
                  }
                },
                "xaxis": {
                  "dtick": 1,
                  "gridwidth": 2,
                  "showticklabels": false,
                  "tick0": -0.5,
                  "ticks": "",
                  "zeroline": false
                },
                "yaxis": {
                  "autorange": "reversed",
                  "dtick": 1,
                  "gridwidth": 2,
                  "showticklabels": false,
                  "tick0": 0.5,
                  "ticks": "",
                  "zeroline": false
                }
              },
              "config": {
                "showLink": false,
                "linkText": "Export to plot.ly",
                "plotlyServerURL": "https://plot.ly"
              }
            },
            "text/html": [
              "<div>                            <div id=\"bf400836-6900-40de-95e0-aa9e5553b915\" class=\"plotly-graph-div\" style=\"height:1010px; width:100%;\"></div>            <script type=\"text/javascript\">                require([\"plotly\"], function(Plotly) {                    window.PLOTLYENV=window.PLOTLYENV || {};                                    if (document.getElementById(\"bf400836-6900-40de-95e0-aa9e5553b915\")) {                    Plotly.newPlot(                        \"bf400836-6900-40de-95e0-aa9e5553b915\",                        [{\"colorscale\":[[0,\"#00083e\"],[0.5,\"#ededee\"],[1,\"#ffffff\"]],\"hoverinfo\":\"none\",\"opacity\":0.75,\"showscale\":false,\"z\":[[0,0],[0.5,0.5],[1,1],[0.5,0.5],[1,1],[0.5,0.5],[1,1],[0.5,0.5],[1,1],[0.5,0.5],[1,1],[0.5,0.5],[1,1],[0.5,0.5],[1,1],[0.5,0.5],[1,1],[0.5,0.5],[1,1],[0.5,0.5],[1,1],[0.5,0.5],[1,1],[0.5,0.5],[1,1],[0.5,0.5],[1,1],[0.5,0.5],[1,1],[0.5,0.5],[1,1],[0.5,0.5]],\"type\":\"heatmap\"}],                        {\"annotations\":[{\"align\":\"left\",\"font\":{\"color\":\"#ffffff\"},\"showarrow\":false,\"text\":\"\\u003cb\\u003eindex\\u003c\\u002fb\\u003e\",\"x\":-0.45,\"xanchor\":\"left\",\"xref\":\"x\",\"y\":0,\"yref\":\"y\"},{\"align\":\"left\",\"font\":{\"color\":\"#ffffff\"},\"showarrow\":false,\"text\":\"\\u003cb\\u003e0\\u003c\\u002fb\\u003e\",\"x\":0.55,\"xanchor\":\"left\",\"xref\":\"x\",\"y\":0,\"yref\":\"y\"},{\"align\":\"left\",\"font\":{\"color\":\"#000000\"},\"showarrow\":false,\"text\":\"Time\",\"x\":-0.45,\"xanchor\":\"left\",\"xref\":\"x\",\"y\":1,\"yref\":\"y\"},{\"align\":\"left\",\"font\":{\"color\":\"#000000\"},\"showarrow\":false,\"text\":\"int64\",\"x\":0.55,\"xanchor\":\"left\",\"xref\":\"x\",\"y\":1,\"yref\":\"y\"},{\"align\":\"left\",\"font\":{\"color\":\"#000000\"},\"showarrow\":false,\"text\":\"V1\",\"x\":-0.45,\"xanchor\":\"left\",\"xref\":\"x\",\"y\":2,\"yref\":\"y\"},{\"align\":\"left\",\"font\":{\"color\":\"#000000\"},\"showarrow\":false,\"text\":\"float64\",\"x\":0.55,\"xanchor\":\"left\",\"xref\":\"x\",\"y\":2,\"yref\":\"y\"},{\"align\":\"left\",\"font\":{\"color\":\"#000000\"},\"showarrow\":false,\"text\":\"V2\",\"x\":-0.45,\"xanchor\":\"left\",\"xref\":\"x\",\"y\":3,\"yref\":\"y\"},{\"align\":\"left\",\"font\":{\"color\":\"#000000\"},\"showarrow\":false,\"text\":\"float64\",\"x\":0.55,\"xanchor\":\"left\",\"xref\":\"x\",\"y\":3,\"yref\":\"y\"},{\"align\":\"left\",\"font\":{\"color\":\"#000000\"},\"showarrow\":false,\"text\":\"V3\",\"x\":-0.45,\"xanchor\":\"left\",\"xref\":\"x\",\"y\":4,\"yref\":\"y\"},{\"align\":\"left\",\"font\":{\"color\":\"#000000\"},\"showarrow\":false,\"text\":\"float64\",\"x\":0.55,\"xanchor\":\"left\",\"xref\":\"x\",\"y\":4,\"yref\":\"y\"},{\"align\":\"left\",\"font\":{\"color\":\"#000000\"},\"showarrow\":false,\"text\":\"V4\",\"x\":-0.45,\"xanchor\":\"left\",\"xref\":\"x\",\"y\":5,\"yref\":\"y\"},{\"align\":\"left\",\"font\":{\"color\":\"#000000\"},\"showarrow\":false,\"text\":\"float64\",\"x\":0.55,\"xanchor\":\"left\",\"xref\":\"x\",\"y\":5,\"yref\":\"y\"},{\"align\":\"left\",\"font\":{\"color\":\"#000000\"},\"showarrow\":false,\"text\":\"V5\",\"x\":-0.45,\"xanchor\":\"left\",\"xref\":\"x\",\"y\":6,\"yref\":\"y\"},{\"align\":\"left\",\"font\":{\"color\":\"#000000\"},\"showarrow\":false,\"text\":\"float64\",\"x\":0.55,\"xanchor\":\"left\",\"xref\":\"x\",\"y\":6,\"yref\":\"y\"},{\"align\":\"left\",\"font\":{\"color\":\"#000000\"},\"showarrow\":false,\"text\":\"V6\",\"x\":-0.45,\"xanchor\":\"left\",\"xref\":\"x\",\"y\":7,\"yref\":\"y\"},{\"align\":\"left\",\"font\":{\"color\":\"#000000\"},\"showarrow\":false,\"text\":\"float64\",\"x\":0.55,\"xanchor\":\"left\",\"xref\":\"x\",\"y\":7,\"yref\":\"y\"},{\"align\":\"left\",\"font\":{\"color\":\"#000000\"},\"showarrow\":false,\"text\":\"V7\",\"x\":-0.45,\"xanchor\":\"left\",\"xref\":\"x\",\"y\":8,\"yref\":\"y\"},{\"align\":\"left\",\"font\":{\"color\":\"#000000\"},\"showarrow\":false,\"text\":\"float64\",\"x\":0.55,\"xanchor\":\"left\",\"xref\":\"x\",\"y\":8,\"yref\":\"y\"},{\"align\":\"left\",\"font\":{\"color\":\"#000000\"},\"showarrow\":false,\"text\":\"V8\",\"x\":-0.45,\"xanchor\":\"left\",\"xref\":\"x\",\"y\":9,\"yref\":\"y\"},{\"align\":\"left\",\"font\":{\"color\":\"#000000\"},\"showarrow\":false,\"text\":\"float64\",\"x\":0.55,\"xanchor\":\"left\",\"xref\":\"x\",\"y\":9,\"yref\":\"y\"},{\"align\":\"left\",\"font\":{\"color\":\"#000000\"},\"showarrow\":false,\"text\":\"V9\",\"x\":-0.45,\"xanchor\":\"left\",\"xref\":\"x\",\"y\":10,\"yref\":\"y\"},{\"align\":\"left\",\"font\":{\"color\":\"#000000\"},\"showarrow\":false,\"text\":\"float64\",\"x\":0.55,\"xanchor\":\"left\",\"xref\":\"x\",\"y\":10,\"yref\":\"y\"},{\"align\":\"left\",\"font\":{\"color\":\"#000000\"},\"showarrow\":false,\"text\":\"V10\",\"x\":-0.45,\"xanchor\":\"left\",\"xref\":\"x\",\"y\":11,\"yref\":\"y\"},{\"align\":\"left\",\"font\":{\"color\":\"#000000\"},\"showarrow\":false,\"text\":\"float64\",\"x\":0.55,\"xanchor\":\"left\",\"xref\":\"x\",\"y\":11,\"yref\":\"y\"},{\"align\":\"left\",\"font\":{\"color\":\"#000000\"},\"showarrow\":false,\"text\":\"V11\",\"x\":-0.45,\"xanchor\":\"left\",\"xref\":\"x\",\"y\":12,\"yref\":\"y\"},{\"align\":\"left\",\"font\":{\"color\":\"#000000\"},\"showarrow\":false,\"text\":\"float64\",\"x\":0.55,\"xanchor\":\"left\",\"xref\":\"x\",\"y\":12,\"yref\":\"y\"},{\"align\":\"left\",\"font\":{\"color\":\"#000000\"},\"showarrow\":false,\"text\":\"V12\",\"x\":-0.45,\"xanchor\":\"left\",\"xref\":\"x\",\"y\":13,\"yref\":\"y\"},{\"align\":\"left\",\"font\":{\"color\":\"#000000\"},\"showarrow\":false,\"text\":\"float64\",\"x\":0.55,\"xanchor\":\"left\",\"xref\":\"x\",\"y\":13,\"yref\":\"y\"},{\"align\":\"left\",\"font\":{\"color\":\"#000000\"},\"showarrow\":false,\"text\":\"V13\",\"x\":-0.45,\"xanchor\":\"left\",\"xref\":\"x\",\"y\":14,\"yref\":\"y\"},{\"align\":\"left\",\"font\":{\"color\":\"#000000\"},\"showarrow\":false,\"text\":\"float64\",\"x\":0.55,\"xanchor\":\"left\",\"xref\":\"x\",\"y\":14,\"yref\":\"y\"},{\"align\":\"left\",\"font\":{\"color\":\"#000000\"},\"showarrow\":false,\"text\":\"V14\",\"x\":-0.45,\"xanchor\":\"left\",\"xref\":\"x\",\"y\":15,\"yref\":\"y\"},{\"align\":\"left\",\"font\":{\"color\":\"#000000\"},\"showarrow\":false,\"text\":\"float64\",\"x\":0.55,\"xanchor\":\"left\",\"xref\":\"x\",\"y\":15,\"yref\":\"y\"},{\"align\":\"left\",\"font\":{\"color\":\"#000000\"},\"showarrow\":false,\"text\":\"V15\",\"x\":-0.45,\"xanchor\":\"left\",\"xref\":\"x\",\"y\":16,\"yref\":\"y\"},{\"align\":\"left\",\"font\":{\"color\":\"#000000\"},\"showarrow\":false,\"text\":\"float64\",\"x\":0.55,\"xanchor\":\"left\",\"xref\":\"x\",\"y\":16,\"yref\":\"y\"},{\"align\":\"left\",\"font\":{\"color\":\"#000000\"},\"showarrow\":false,\"text\":\"V16\",\"x\":-0.45,\"xanchor\":\"left\",\"xref\":\"x\",\"y\":17,\"yref\":\"y\"},{\"align\":\"left\",\"font\":{\"color\":\"#000000\"},\"showarrow\":false,\"text\":\"float64\",\"x\":0.55,\"xanchor\":\"left\",\"xref\":\"x\",\"y\":17,\"yref\":\"y\"},{\"align\":\"left\",\"font\":{\"color\":\"#000000\"},\"showarrow\":false,\"text\":\"V17\",\"x\":-0.45,\"xanchor\":\"left\",\"xref\":\"x\",\"y\":18,\"yref\":\"y\"},{\"align\":\"left\",\"font\":{\"color\":\"#000000\"},\"showarrow\":false,\"text\":\"float64\",\"x\":0.55,\"xanchor\":\"left\",\"xref\":\"x\",\"y\":18,\"yref\":\"y\"},{\"align\":\"left\",\"font\":{\"color\":\"#000000\"},\"showarrow\":false,\"text\":\"V18\",\"x\":-0.45,\"xanchor\":\"left\",\"xref\":\"x\",\"y\":19,\"yref\":\"y\"},{\"align\":\"left\",\"font\":{\"color\":\"#000000\"},\"showarrow\":false,\"text\":\"float64\",\"x\":0.55,\"xanchor\":\"left\",\"xref\":\"x\",\"y\":19,\"yref\":\"y\"},{\"align\":\"left\",\"font\":{\"color\":\"#000000\"},\"showarrow\":false,\"text\":\"V19\",\"x\":-0.45,\"xanchor\":\"left\",\"xref\":\"x\",\"y\":20,\"yref\":\"y\"},{\"align\":\"left\",\"font\":{\"color\":\"#000000\"},\"showarrow\":false,\"text\":\"float64\",\"x\":0.55,\"xanchor\":\"left\",\"xref\":\"x\",\"y\":20,\"yref\":\"y\"},{\"align\":\"left\",\"font\":{\"color\":\"#000000\"},\"showarrow\":false,\"text\":\"V20\",\"x\":-0.45,\"xanchor\":\"left\",\"xref\":\"x\",\"y\":21,\"yref\":\"y\"},{\"align\":\"left\",\"font\":{\"color\":\"#000000\"},\"showarrow\":false,\"text\":\"float64\",\"x\":0.55,\"xanchor\":\"left\",\"xref\":\"x\",\"y\":21,\"yref\":\"y\"},{\"align\":\"left\",\"font\":{\"color\":\"#000000\"},\"showarrow\":false,\"text\":\"V21\",\"x\":-0.45,\"xanchor\":\"left\",\"xref\":\"x\",\"y\":22,\"yref\":\"y\"},{\"align\":\"left\",\"font\":{\"color\":\"#000000\"},\"showarrow\":false,\"text\":\"float64\",\"x\":0.55,\"xanchor\":\"left\",\"xref\":\"x\",\"y\":22,\"yref\":\"y\"},{\"align\":\"left\",\"font\":{\"color\":\"#000000\"},\"showarrow\":false,\"text\":\"V22\",\"x\":-0.45,\"xanchor\":\"left\",\"xref\":\"x\",\"y\":23,\"yref\":\"y\"},{\"align\":\"left\",\"font\":{\"color\":\"#000000\"},\"showarrow\":false,\"text\":\"float64\",\"x\":0.55,\"xanchor\":\"left\",\"xref\":\"x\",\"y\":23,\"yref\":\"y\"},{\"align\":\"left\",\"font\":{\"color\":\"#000000\"},\"showarrow\":false,\"text\":\"V23\",\"x\":-0.45,\"xanchor\":\"left\",\"xref\":\"x\",\"y\":24,\"yref\":\"y\"},{\"align\":\"left\",\"font\":{\"color\":\"#000000\"},\"showarrow\":false,\"text\":\"float64\",\"x\":0.55,\"xanchor\":\"left\",\"xref\":\"x\",\"y\":24,\"yref\":\"y\"},{\"align\":\"left\",\"font\":{\"color\":\"#000000\"},\"showarrow\":false,\"text\":\"V24\",\"x\":-0.45,\"xanchor\":\"left\",\"xref\":\"x\",\"y\":25,\"yref\":\"y\"},{\"align\":\"left\",\"font\":{\"color\":\"#000000\"},\"showarrow\":false,\"text\":\"float64\",\"x\":0.55,\"xanchor\":\"left\",\"xref\":\"x\",\"y\":25,\"yref\":\"y\"},{\"align\":\"left\",\"font\":{\"color\":\"#000000\"},\"showarrow\":false,\"text\":\"V25\",\"x\":-0.45,\"xanchor\":\"left\",\"xref\":\"x\",\"y\":26,\"yref\":\"y\"},{\"align\":\"left\",\"font\":{\"color\":\"#000000\"},\"showarrow\":false,\"text\":\"float64\",\"x\":0.55,\"xanchor\":\"left\",\"xref\":\"x\",\"y\":26,\"yref\":\"y\"},{\"align\":\"left\",\"font\":{\"color\":\"#000000\"},\"showarrow\":false,\"text\":\"V26\",\"x\":-0.45,\"xanchor\":\"left\",\"xref\":\"x\",\"y\":27,\"yref\":\"y\"},{\"align\":\"left\",\"font\":{\"color\":\"#000000\"},\"showarrow\":false,\"text\":\"float64\",\"x\":0.55,\"xanchor\":\"left\",\"xref\":\"x\",\"y\":27,\"yref\":\"y\"},{\"align\":\"left\",\"font\":{\"color\":\"#000000\"},\"showarrow\":false,\"text\":\"V27\",\"x\":-0.45,\"xanchor\":\"left\",\"xref\":\"x\",\"y\":28,\"yref\":\"y\"},{\"align\":\"left\",\"font\":{\"color\":\"#000000\"},\"showarrow\":false,\"text\":\"float64\",\"x\":0.55,\"xanchor\":\"left\",\"xref\":\"x\",\"y\":28,\"yref\":\"y\"},{\"align\":\"left\",\"font\":{\"color\":\"#000000\"},\"showarrow\":false,\"text\":\"V28\",\"x\":-0.45,\"xanchor\":\"left\",\"xref\":\"x\",\"y\":29,\"yref\":\"y\"},{\"align\":\"left\",\"font\":{\"color\":\"#000000\"},\"showarrow\":false,\"text\":\"float64\",\"x\":0.55,\"xanchor\":\"left\",\"xref\":\"x\",\"y\":29,\"yref\":\"y\"},{\"align\":\"left\",\"font\":{\"color\":\"#000000\"},\"showarrow\":false,\"text\":\"Amount\",\"x\":-0.45,\"xanchor\":\"left\",\"xref\":\"x\",\"y\":30,\"yref\":\"y\"},{\"align\":\"left\",\"font\":{\"color\":\"#000000\"},\"showarrow\":false,\"text\":\"float64\",\"x\":0.55,\"xanchor\":\"left\",\"xref\":\"x\",\"y\":30,\"yref\":\"y\"},{\"align\":\"left\",\"font\":{\"color\":\"#000000\"},\"showarrow\":false,\"text\":\"Class\",\"x\":-0.45,\"xanchor\":\"left\",\"xref\":\"x\",\"y\":31,\"yref\":\"y\"},{\"align\":\"left\",\"font\":{\"color\":\"#000000\"},\"showarrow\":false,\"text\":\"float64\",\"x\":0.55,\"xanchor\":\"left\",\"xref\":\"x\",\"y\":31,\"yref\":\"y\"}],\"height\":1010,\"margin\":{\"b\":0,\"l\":0,\"r\":0,\"t\":0},\"template\":{\"data\":{\"barpolar\":[{\"marker\":{\"line\":{\"color\":\"#E5ECF6\",\"width\":0.5},\"pattern\":{\"fillmode\":\"overlay\",\"size\":10,\"solidity\":0.2}},\"type\":\"barpolar\"}],\"bar\":[{\"error_x\":{\"color\":\"#2a3f5f\"},\"error_y\":{\"color\":\"#2a3f5f\"},\"marker\":{\"line\":{\"color\":\"#E5ECF6\",\"width\":0.5},\"pattern\":{\"fillmode\":\"overlay\",\"size\":10,\"solidity\":0.2}},\"type\":\"bar\"}],\"carpet\":[{\"aaxis\":{\"endlinecolor\":\"#2a3f5f\",\"gridcolor\":\"white\",\"linecolor\":\"white\",\"minorgridcolor\":\"white\",\"startlinecolor\":\"#2a3f5f\"},\"baxis\":{\"endlinecolor\":\"#2a3f5f\",\"gridcolor\":\"white\",\"linecolor\":\"white\",\"minorgridcolor\":\"white\",\"startlinecolor\":\"#2a3f5f\"},\"type\":\"carpet\"}],\"choropleth\":[{\"colorbar\":{\"outlinewidth\":0,\"ticks\":\"\"},\"type\":\"choropleth\"}],\"contourcarpet\":[{\"colorbar\":{\"outlinewidth\":0,\"ticks\":\"\"},\"type\":\"contourcarpet\"}],\"contour\":[{\"colorbar\":{\"outlinewidth\":0,\"ticks\":\"\"},\"colorscale\":[[0.0,\"#0d0887\"],[0.1111111111111111,\"#46039f\"],[0.2222222222222222,\"#7201a8\"],[0.3333333333333333,\"#9c179e\"],[0.4444444444444444,\"#bd3786\"],[0.5555555555555556,\"#d8576b\"],[0.6666666666666666,\"#ed7953\"],[0.7777777777777778,\"#fb9f3a\"],[0.8888888888888888,\"#fdca26\"],[1.0,\"#f0f921\"]],\"type\":\"contour\"}],\"heatmapgl\":[{\"colorbar\":{\"outlinewidth\":0,\"ticks\":\"\"},\"colorscale\":[[0.0,\"#0d0887\"],[0.1111111111111111,\"#46039f\"],[0.2222222222222222,\"#7201a8\"],[0.3333333333333333,\"#9c179e\"],[0.4444444444444444,\"#bd3786\"],[0.5555555555555556,\"#d8576b\"],[0.6666666666666666,\"#ed7953\"],[0.7777777777777778,\"#fb9f3a\"],[0.8888888888888888,\"#fdca26\"],[1.0,\"#f0f921\"]],\"type\":\"heatmapgl\"}],\"heatmap\":[{\"colorbar\":{\"outlinewidth\":0,\"ticks\":\"\"},\"colorscale\":[[0.0,\"#0d0887\"],[0.1111111111111111,\"#46039f\"],[0.2222222222222222,\"#7201a8\"],[0.3333333333333333,\"#9c179e\"],[0.4444444444444444,\"#bd3786\"],[0.5555555555555556,\"#d8576b\"],[0.6666666666666666,\"#ed7953\"],[0.7777777777777778,\"#fb9f3a\"],[0.8888888888888888,\"#fdca26\"],[1.0,\"#f0f921\"]],\"type\":\"heatmap\"}],\"histogram2dcontour\":[{\"colorbar\":{\"outlinewidth\":0,\"ticks\":\"\"},\"colorscale\":[[0.0,\"#0d0887\"],[0.1111111111111111,\"#46039f\"],[0.2222222222222222,\"#7201a8\"],[0.3333333333333333,\"#9c179e\"],[0.4444444444444444,\"#bd3786\"],[0.5555555555555556,\"#d8576b\"],[0.6666666666666666,\"#ed7953\"],[0.7777777777777778,\"#fb9f3a\"],[0.8888888888888888,\"#fdca26\"],[1.0,\"#f0f921\"]],\"type\":\"histogram2dcontour\"}],\"histogram2d\":[{\"colorbar\":{\"outlinewidth\":0,\"ticks\":\"\"},\"colorscale\":[[0.0,\"#0d0887\"],[0.1111111111111111,\"#46039f\"],[0.2222222222222222,\"#7201a8\"],[0.3333333333333333,\"#9c179e\"],[0.4444444444444444,\"#bd3786\"],[0.5555555555555556,\"#d8576b\"],[0.6666666666666666,\"#ed7953\"],[0.7777777777777778,\"#fb9f3a\"],[0.8888888888888888,\"#fdca26\"],[1.0,\"#f0f921\"]],\"type\":\"histogram2d\"}],\"histogram\":[{\"marker\":{\"pattern\":{\"fillmode\":\"overlay\",\"size\":10,\"solidity\":0.2}},\"type\":\"histogram\"}],\"mesh3d\":[{\"colorbar\":{\"outlinewidth\":0,\"ticks\":\"\"},\"type\":\"mesh3d\"}],\"parcoords\":[{\"line\":{\"colorbar\":{\"outlinewidth\":0,\"ticks\":\"\"}},\"type\":\"parcoords\"}],\"pie\":[{\"automargin\":true,\"type\":\"pie\"}],\"scatter3d\":[{\"line\":{\"colorbar\":{\"outlinewidth\":0,\"ticks\":\"\"}},\"marker\":{\"colorbar\":{\"outlinewidth\":0,\"ticks\":\"\"}},\"type\":\"scatter3d\"}],\"scattercarpet\":[{\"marker\":{\"colorbar\":{\"outlinewidth\":0,\"ticks\":\"\"}},\"type\":\"scattercarpet\"}],\"scattergeo\":[{\"marker\":{\"colorbar\":{\"outlinewidth\":0,\"ticks\":\"\"}},\"type\":\"scattergeo\"}],\"scattergl\":[{\"marker\":{\"colorbar\":{\"outlinewidth\":0,\"ticks\":\"\"}},\"type\":\"scattergl\"}],\"scattermapbox\":[{\"marker\":{\"colorbar\":{\"outlinewidth\":0,\"ticks\":\"\"}},\"type\":\"scattermapbox\"}],\"scatterpolargl\":[{\"marker\":{\"colorbar\":{\"outlinewidth\":0,\"ticks\":\"\"}},\"type\":\"scatterpolargl\"}],\"scatterpolar\":[{\"marker\":{\"colorbar\":{\"outlinewidth\":0,\"ticks\":\"\"}},\"type\":\"scatterpolar\"}],\"scatter\":[{\"fillpattern\":{\"fillmode\":\"overlay\",\"size\":10,\"solidity\":0.2},\"type\":\"scatter\"}],\"scatterternary\":[{\"marker\":{\"colorbar\":{\"outlinewidth\":0,\"ticks\":\"\"}},\"type\":\"scatterternary\"}],\"surface\":[{\"colorbar\":{\"outlinewidth\":0,\"ticks\":\"\"},\"colorscale\":[[0.0,\"#0d0887\"],[0.1111111111111111,\"#46039f\"],[0.2222222222222222,\"#7201a8\"],[0.3333333333333333,\"#9c179e\"],[0.4444444444444444,\"#bd3786\"],[0.5555555555555556,\"#d8576b\"],[0.6666666666666666,\"#ed7953\"],[0.7777777777777778,\"#fb9f3a\"],[0.8888888888888888,\"#fdca26\"],[1.0,\"#f0f921\"]],\"type\":\"surface\"}],\"table\":[{\"cells\":{\"fill\":{\"color\":\"#EBF0F8\"},\"line\":{\"color\":\"white\"}},\"header\":{\"fill\":{\"color\":\"#C8D4E3\"},\"line\":{\"color\":\"white\"}},\"type\":\"table\"}]},\"layout\":{\"annotationdefaults\":{\"arrowcolor\":\"#2a3f5f\",\"arrowhead\":0,\"arrowwidth\":1},\"autotypenumbers\":\"strict\",\"coloraxis\":{\"colorbar\":{\"outlinewidth\":0,\"ticks\":\"\"}},\"colorscale\":{\"diverging\":[[0,\"#8e0152\"],[0.1,\"#c51b7d\"],[0.2,\"#de77ae\"],[0.3,\"#f1b6da\"],[0.4,\"#fde0ef\"],[0.5,\"#f7f7f7\"],[0.6,\"#e6f5d0\"],[0.7,\"#b8e186\"],[0.8,\"#7fbc41\"],[0.9,\"#4d9221\"],[1,\"#276419\"]],\"sequential\":[[0.0,\"#0d0887\"],[0.1111111111111111,\"#46039f\"],[0.2222222222222222,\"#7201a8\"],[0.3333333333333333,\"#9c179e\"],[0.4444444444444444,\"#bd3786\"],[0.5555555555555556,\"#d8576b\"],[0.6666666666666666,\"#ed7953\"],[0.7777777777777778,\"#fb9f3a\"],[0.8888888888888888,\"#fdca26\"],[1.0,\"#f0f921\"]],\"sequentialminus\":[[0.0,\"#0d0887\"],[0.1111111111111111,\"#46039f\"],[0.2222222222222222,\"#7201a8\"],[0.3333333333333333,\"#9c179e\"],[0.4444444444444444,\"#bd3786\"],[0.5555555555555556,\"#d8576b\"],[0.6666666666666666,\"#ed7953\"],[0.7777777777777778,\"#fb9f3a\"],[0.8888888888888888,\"#fdca26\"],[1.0,\"#f0f921\"]]},\"colorway\":[\"#636efa\",\"#EF553B\",\"#00cc96\",\"#ab63fa\",\"#FFA15A\",\"#19d3f3\",\"#FF6692\",\"#B6E880\",\"#FF97FF\",\"#FECB52\"],\"font\":{\"color\":\"#2a3f5f\"},\"geo\":{\"bgcolor\":\"white\",\"lakecolor\":\"white\",\"landcolor\":\"#E5ECF6\",\"showlakes\":true,\"showland\":true,\"subunitcolor\":\"white\"},\"hoverlabel\":{\"align\":\"left\"},\"hovermode\":\"closest\",\"mapbox\":{\"style\":\"light\"},\"paper_bgcolor\":\"white\",\"plot_bgcolor\":\"#E5ECF6\",\"polar\":{\"angularaxis\":{\"gridcolor\":\"white\",\"linecolor\":\"white\",\"ticks\":\"\"},\"bgcolor\":\"#E5ECF6\",\"radialaxis\":{\"gridcolor\":\"white\",\"linecolor\":\"white\",\"ticks\":\"\"}},\"scene\":{\"xaxis\":{\"backgroundcolor\":\"#E5ECF6\",\"gridcolor\":\"white\",\"gridwidth\":2,\"linecolor\":\"white\",\"showbackground\":true,\"ticks\":\"\",\"zerolinecolor\":\"white\"},\"yaxis\":{\"backgroundcolor\":\"#E5ECF6\",\"gridcolor\":\"white\",\"gridwidth\":2,\"linecolor\":\"white\",\"showbackground\":true,\"ticks\":\"\",\"zerolinecolor\":\"white\"},\"zaxis\":{\"backgroundcolor\":\"#E5ECF6\",\"gridcolor\":\"white\",\"gridwidth\":2,\"linecolor\":\"white\",\"showbackground\":true,\"ticks\":\"\",\"zerolinecolor\":\"white\"}},\"shapedefaults\":{\"line\":{\"color\":\"#2a3f5f\"}},\"ternary\":{\"aaxis\":{\"gridcolor\":\"white\",\"linecolor\":\"white\",\"ticks\":\"\"},\"baxis\":{\"gridcolor\":\"white\",\"linecolor\":\"white\",\"ticks\":\"\"},\"bgcolor\":\"#E5ECF6\",\"caxis\":{\"gridcolor\":\"white\",\"linecolor\":\"white\",\"ticks\":\"\"}},\"title\":{\"x\":0.05},\"xaxis\":{\"automargin\":true,\"gridcolor\":\"white\",\"linecolor\":\"white\",\"ticks\":\"\",\"title\":{\"standoff\":15},\"zerolinecolor\":\"white\",\"zerolinewidth\":2},\"yaxis\":{\"automargin\":true,\"gridcolor\":\"white\",\"linecolor\":\"white\",\"ticks\":\"\",\"title\":{\"standoff\":15},\"zerolinecolor\":\"white\",\"zerolinewidth\":2}}},\"xaxis\":{\"dtick\":1,\"gridwidth\":2,\"showticklabels\":false,\"tick0\":-0.5,\"ticks\":\"\",\"zeroline\":false},\"yaxis\":{\"autorange\":\"reversed\",\"dtick\":1,\"gridwidth\":2,\"showticklabels\":false,\"tick0\":0.5,\"ticks\":\"\",\"zeroline\":false}},                        {\"responsive\": true}                    ).then(function(){\n",
              "                            \n",
              "var gd = document.getElementById('bf400836-6900-40de-95e0-aa9e5553b915');\n",
              "var x = new MutationObserver(function (mutations, observer) {{\n",
              "        var display = window.getComputedStyle(gd).display;\n",
              "        if (!display || display === 'none') {{\n",
              "            console.log([gd, 'removed!']);\n",
              "            Plotly.purge(gd);\n",
              "            observer.disconnect();\n",
              "        }}\n",
              "}});\n",
              "\n",
              "// Listen for the removal of the full notebook cells\n",
              "var notebookContainer = gd.closest('#notebook-container');\n",
              "if (notebookContainer) {{\n",
              "    x.observe(notebookContainer, {childList: true});\n",
              "}}\n",
              "\n",
              "// Listen for the clearing of the current output cell\n",
              "var outputEl = gd.closest('.output');\n",
              "if (outputEl) {{\n",
              "    x.observe(outputEl, {childList: true});\n",
              "}}\n",
              "\n",
              "                        })                };                });            </script>        </div>"
            ]
          },
          "metadata": {}
        }
      ]
    },
    {
      "cell_type": "code",
      "source": [
        "train.isnull().sum()\n"
      ],
      "metadata": {
        "colab": {
          "base_uri": "https://localhost:8080/"
        },
        "id": "94fzDL0MNHVb",
        "outputId": "78daf5a7-c88f-4c60-c0e5-cf9235ce4491"
      },
      "execution_count": 13,
      "outputs": [
        {
          "output_type": "execute_result",
          "data": {
            "text/plain": [
              "Time      0\n",
              "V1        0\n",
              "V2        0\n",
              "V3        1\n",
              "V4        1\n",
              "V5        1\n",
              "V6        1\n",
              "V7        1\n",
              "V8        1\n",
              "V9        1\n",
              "V10       1\n",
              "V11       1\n",
              "V12       1\n",
              "V13       1\n",
              "V14       1\n",
              "V15       1\n",
              "V16       1\n",
              "V17       1\n",
              "V18       1\n",
              "V19       1\n",
              "V20       1\n",
              "V21       1\n",
              "V22       1\n",
              "V23       1\n",
              "V24       1\n",
              "V25       1\n",
              "V26       1\n",
              "V27       1\n",
              "V28       1\n",
              "Amount    1\n",
              "Class     1\n",
              "dtype: int64"
            ]
          },
          "metadata": {},
          "execution_count": 13
        }
      ]
    },
    {
      "cell_type": "code",
      "source": [
        "msno.bar(train, color = 'b', figsize = (10,8))\n"
      ],
      "metadata": {
        "colab": {
          "base_uri": "https://localhost:8080/",
          "height": 851
        },
        "id": "xOwpBbixNrG0",
        "outputId": "ea813d5d-c929-4ff7-b805-7dc13404ef7b"
      },
      "execution_count": 14,
      "outputs": [
        {
          "output_type": "execute_result",
          "data": {
            "text/plain": [
              "<Axes: >"
            ]
          },
          "metadata": {},
          "execution_count": 14
        },
        {
          "output_type": "display_data",
          "data": {
            "text/plain": [
              "<Figure size 1000x800 with 3 Axes>"
            ],
            "image/png": "[encoded data removed]"
          },
          "metadata": {}
        }
      ]
    },
    {
      "cell_type": "code",
      "source": [
        "msno.matrix(train)\n"
      ],
      "metadata": {
        "colab": {
          "base_uri": "https://localhost:8080/",
          "height": 533
        },
        "id": "CYZqq9oFf4xu",
        "outputId": "9c4b80d2-2e17-497f-a906-1ed1c5da6ffb"
      },
      "execution_count": 15,
      "outputs": [
        {
          "output_type": "execute_result",
          "data": {
            "text/plain": [
              "<Axes: >"
            ]
          },
          "metadata": {},
          "execution_count": 15
        },
        {
          "output_type": "display_data",
          "data": {
            "text/plain": [
              "<Figure size 2500x1000 with 2 Axes>"
            ],
            "image/png": "[encoded data removed]"
          },
          "metadata": {}
        }
      ]
    },
    {
      "cell_type": "code",
      "source": [
        "import random\n",
        "import plotly.graph_objs as go\n",
        "from plotly.offline import init_notebook_mode, iplot\n",
        "\n",
        "# Calculate the count of each class in the target variable\n",
        "species_count = train['Class'].value_counts()\n",
        "\n",
        "# Create a bar chart data trace\n",
        "data = [go.Bar(\n",
        "    x=species_count.index,\n",
        "    y=species_count.values,\n",
        "    marker=dict(color=random_colors(2), line=dict(color='#000000', width=2))\n",
        ")]\n",
        "\n",
        "# Define the layout for the bar chart\n",
        "layout = go.Layout(\n",
        "    title=\"Fraudulent VS Non-Fraudulent\",\n",
        "    xaxis=dict(title=\"Class\"),\n",
        "    yaxis=dict(title=\"Count\")\n",
        ")\n",
        "\n",
        "# Create a Figure object and display the chart\n",
        "fig = go.Figure(data=data, layout=layout)\n",
        "iplot(fig)"
      ],
      "metadata": {
        "colab": {
          "base_uri": "https://localhost:8080/",
          "height": 542
        },
        "id": "6LjT7rrTk9Mt",
        "outputId": "238bed25-f5ef-400f-ecd3-4f51414ef5ef"
      },
      "execution_count": 16,
      "outputs": [
        {
          "output_type": "display_data",
          "data": {
            "application/vnd.plotly.v1+json": {
              "data": [
                {
                  "marker": {
                    "color": [
                      "#8FFBE9",
                      "#FFCC2E"
                    ],
                    "line": {
                      "color": "#000000",
                      "width": 2
                    }
                  },
                  "x": [
                    0,
                    1
                  ],
                  "y": [
                    25749,
                    88
                  ],
                  "type": "bar"
                }
              ],
              "layout": {
                "template": {
                  "data": {
                    "barpolar": [
                      {
                        "marker": {
                          "line": {
                            "color": "#E5ECF6",
                            "width": 0.5
                          },
                          "pattern": {
                            "fillmode": "overlay",
                            "size": 10,
                            "solidity": 0.2
                          }
                        },
                        "type": "barpolar"
                      }
                    ],
                    "bar": [
                      {
                        "error_x": {
                          "color": "#2a3f5f"
                        },
                        "error_y": {
                          "color": "#2a3f5f"
                        },
                        "marker": {
                          "line": {
                            "color": "#E5ECF6",
                            "width": 0.5
                          },
                          "pattern": {
                            "fillmode": "overlay",
                            "size": 10,
                            "solidity": 0.2
                          }
                        },
                        "type": "bar"
                      }
                    ],
                    "carpet": [
                      {
                        "aaxis": {
                          "endlinecolor": "#2a3f5f",
                          "gridcolor": "white",
                          "linecolor": "white",
                          "minorgridcolor": "white",
                          "startlinecolor": "#2a3f5f"
                        },
                        "baxis": {
                          "endlinecolor": "#2a3f5f",
                          "gridcolor": "white",
                          "linecolor": "white",
                          "minorgridcolor": "white",
                          "startlinecolor": "#2a3f5f"
                        },
                        "type": "carpet"
                      }
                    ],
                    "choropleth": [
                      {
                        "colorbar": {
                          "outlinewidth": 0,
                          "ticks": ""
                        },
                        "type": "choropleth"
                      }
                    ],
                    "contourcarpet": [
                      {
                        "colorbar": {
                          "outlinewidth": 0,
                          "ticks": ""
                        },
                        "type": "contourcarpet"
                      }
                    ],
                    "contour": [
                      {
                        "colorbar": {
                          "outlinewidth": 0,
                          "ticks": ""
                        },
                        "colorscale": [
                          [
                            0,
                            "#0d0887"
                          ],
                          [
                            0.1111111111111111,
                            "#46039f"
                          ],
                          [
                            0.2222222222222222,
                            "#7201a8"
                          ],
                          [
                            0.3333333333333333,
                            "#9c179e"
                          ],
                          [
                            0.4444444444444444,
                            "#bd3786"
                          ],
                          [
                            0.5555555555555556,
                            "#d8576b"
                          ],
                          [
                            0.6666666666666666,
                            "#ed7953"
                          ],
                          [
                            0.7777777777777778,
                            "#fb9f3a"
                          ],
                          [
                            0.8888888888888888,
                            "#fdca26"
                          ],
                          [
                            1,
                            "#f0f921"
                          ]
                        ],
                        "type": "contour"
                      }
                    ],
                    "heatmapgl": [
                      {
                        "colorbar": {
                          "outlinewidth": 0,
                          "ticks": ""
                        },
                        "colorscale": [
                          [
                            0,
                            "#0d0887"
                          ],
                          [
                            0.1111111111111111,
                            "#46039f"
                          ],
                          [
                            0.2222222222222222,
                            "#7201a8"
                          ],
                          [
                            0.3333333333333333,
                            "#9c179e"
                          ],
                          [
                            0.4444444444444444,
                            "#bd3786"
                          ],
                          [
                            0.5555555555555556,
                            "#d8576b"
                          ],
                          [
                            0.6666666666666666,
                            "#ed7953"
                          ],
                          [
                            0.7777777777777778,
                            "#fb9f3a"
                          ],
                          [
                            0.8888888888888888,
                            "#fdca26"
                          ],
                          [
                            1,
                            "#f0f921"
                          ]
                        ],
                        "type": "heatmapgl"
                      }
                    ],
                    "heatmap": [
                      {
                        "colorbar": {
                          "outlinewidth": 0,
                          "ticks": ""
                        },
                        "colorscale": [
                          [
                            0,
                            "#0d0887"
                          ],
                          [
                            0.1111111111111111,
                            "#46039f"
                          ],
                          [
                            0.2222222222222222,
                            "#7201a8"
                          ],
                          [
                            0.3333333333333333,
                            "#9c179e"
                          ],
                          [
                            0.4444444444444444,
                            "#bd3786"
                          ],
                          [
                            0.5555555555555556,
                            "#d8576b"
                          ],
                          [
                            0.6666666666666666,
                            "#ed7953"
                          ],
                          [
                            0.7777777777777778,
                            "#fb9f3a"
                          ],
                          [
                            0.8888888888888888,
                            "#fdca26"
                          ],
                          [
                            1,
                            "#f0f921"
                          ]
                        ],
                        "type": "heatmap"
                      }
                    ],
                    "histogram2dcontour": [
                      {
                        "colorbar": {
                          "outlinewidth": 0,
                          "ticks": ""
                        },
                        "colorscale": [
                          [
                            0,
                            "#0d0887"
                          ],
                          [
                            0.1111111111111111,
                            "#46039f"
                          ],
                          [
                            0.2222222222222222,
                            "#7201a8"
                          ],
                          [
                            0.3333333333333333,
                            "#9c179e"
                          ],
                          [
                            0.4444444444444444,
                            "#bd3786"
                          ],
                          [
                            0.5555555555555556,
                            "#d8576b"
                          ],
                          [
                            0.6666666666666666,
                            "#ed7953"
                          ],
                          [
                            0.7777777777777778,
                            "#fb9f3a"
                          ],
                          [
                            0.8888888888888888,
                            "#fdca26"
                          ],
                          [
                            1,
                            "#f0f921"
                          ]
                        ],
                        "type": "histogram2dcontour"
                      }
                    ],
                    "histogram2d": [
                      {
                        "colorbar": {
                          "outlinewidth": 0,
                          "ticks": ""
                        },
                        "colorscale": [
                          [
                            0,
                            "#0d0887"
                          ],
                          [
                            0.1111111111111111,
                            "#46039f"
                          ],
                          [
                            0.2222222222222222,
                            "#7201a8"
                          ],
                          [
                            0.3333333333333333,
                            "#9c179e"
                          ],
                          [
                            0.4444444444444444,
                            "#bd3786"
                          ],
                          [
                            0.5555555555555556,
                            "#d8576b"
                          ],
                          [
                            0.6666666666666666,
                            "#ed7953"
                          ],
                          [
                            0.7777777777777778,
                            "#fb9f3a"
                          ],
                          [
                            0.8888888888888888,
                            "#fdca26"
                          ],
                          [
                            1,
                            "#f0f921"
                          ]
                        ],
                        "type": "histogram2d"
                      }
                    ],
                    "histogram": [
                      {
                        "marker": {
                          "pattern": {
                            "fillmode": "overlay",
                            "size": 10,
                            "solidity": 0.2
                          }
                        },
                        "type": "histogram"
                      }
                    ],
                    "mesh3d": [
                      {
                        "colorbar": {
                          "outlinewidth": 0,
                          "ticks": ""
                        },
                        "type": "mesh3d"
                      }
                    ],
                    "parcoords": [
                      {
                        "line": {
                          "colorbar": {
                            "outlinewidth": 0,
                            "ticks": ""
                          }
                        },
                        "type": "parcoords"
                      }
                    ],
                    "pie": [
                      {
                        "automargin": true,
                        "type": "pie"
                      }
                    ],
                    "scatter3d": [
                      {
                        "line": {
                          "colorbar": {
                            "outlinewidth": 0,
                            "ticks": ""
                          }
                        },
                        "marker": {
                          "colorbar": {
                            "outlinewidth": 0,
                            "ticks": ""
                          }
                        },
                        "type": "scatter3d"
                      }
                    ],
                    "scattercarpet": [
                      {
                        "marker": {
                          "colorbar": {
                            "outlinewidth": 0,
                            "ticks": ""
                          }
                        },
                        "type": "scattercarpet"
                      }
                    ],
                    "scattergeo": [
                      {
                        "marker": {
                          "colorbar": {
                            "outlinewidth": 0,
                            "ticks": ""
                          }
                        },
                        "type": "scattergeo"
                      }
                    ],
                    "scattergl": [
                      {
                        "marker": {
                          "colorbar": {
                            "outlinewidth": 0,
                            "ticks": ""
                          }
                        },
                        "type": "scattergl"
                      }
                    ],
                    "scattermapbox": [
                      {
                        "marker": {
                          "colorbar": {
                            "outlinewidth": 0,
                            "ticks": ""
                          }
                        },
                        "type": "scattermapbox"
                      }
                    ],
                    "scatterpolargl": [
                      {
                        "marker": {
                          "colorbar": {
                            "outlinewidth": 0,
                            "ticks": ""
                          }
                        },
                        "type": "scatterpolargl"
                      }
                    ],
                    "scatterpolar": [
                      {
                        "marker": {
                          "colorbar": {
                            "outlinewidth": 0,
                            "ticks": ""
                          }
                        },
                        "type": "scatterpolar"
                      }
                    ],
                    "scatter": [
                      {
                        "fillpattern": {
                          "fillmode": "overlay",
                          "size": 10,
                          "solidity": 0.2
                        },
                        "type": "scatter"
                      }
                    ],
                    "scatterternary": [
                      {
                        "marker": {
                          "colorbar": {
                            "outlinewidth": 0,
                            "ticks": ""
                          }
                        },
                        "type": "scatterternary"
                      }
                    ],
                    "surface": [
                      {
                        "colorbar": {
                          "outlinewidth": 0,
                          "ticks": ""
                        },
                        "colorscale": [
                          [
                            0,
                            "#0d0887"
                          ],
                          [
                            0.1111111111111111,
                            "#46039f"
                          ],
                          [
                            0.2222222222222222,
                            "#7201a8"
                          ],
                          [
                            0.3333333333333333,
                            "#9c179e"
                          ],
                          [
                            0.4444444444444444,
                            "#bd3786"
                          ],
                          [
                            0.5555555555555556,
                            "#d8576b"
                          ],
                          [
                            0.6666666666666666,
                            "#ed7953"
                          ],
                          [
                            0.7777777777777778,
                            "#fb9f3a"
                          ],
                          [
                            0.8888888888888888,
                            "#fdca26"
                          ],
                          [
                            1,
                            "#f0f921"
                          ]
                        ],
                        "type": "surface"
                      }
                    ],
                    "table": [
                      {
                        "cells": {
                          "fill": {
                            "color": "#EBF0F8"
                          },
                          "line": {
                            "color": "white"
                          }
                        },
                        "header": {
                          "fill": {
                            "color": "#C8D4E3"
                          },
                          "line": {
                            "color": "white"
                          }
                        },
                        "type": "table"
                      }
                    ]
                  },
                  "layout": {
                    "annotationdefaults": {
                      "arrowcolor": "#2a3f5f",
                      "arrowhead": 0,
                      "arrowwidth": 1
                    },
                    "autotypenumbers": "strict",
                    "coloraxis": {
                      "colorbar": {
                        "outlinewidth": 0,
                        "ticks": ""
                      }
                    },
                    "colorscale": {
                      "diverging": [
                        [
                          0,
                          "#8e0152"
                        ],
                        [
                          0.1,
                          "#c51b7d"
                        ],
                        [
                          0.2,
                          "#de77ae"
                        ],
                        [
                          0.3,
                          "#f1b6da"
                        ],
                        [
                          0.4,
                          "#fde0ef"
                        ],
                        [
                          0.5,
                          "#f7f7f7"
                        ],
                        [
                          0.6,
                          "#e6f5d0"
                        ],
                        [
                          0.7,
                          "#b8e186"
                        ],
                        [
                          0.8,
                          "#7fbc41"
                        ],
                        [
                          0.9,
                          "#4d9221"
                        ],
                        [
                          1,
                          "#276419"
                        ]
                      ],
                      "sequential": [
                        [
                          0,
                          "#0d0887"
                        ],
                        [
                          0.1111111111111111,
                          "#46039f"
                        ],
                        [
                          0.2222222222222222,
                          "#7201a8"
                        ],
                        [
                          0.3333333333333333,
                          "#9c179e"
                        ],
                        [
                          0.4444444444444444,
                          "#bd3786"
                        ],
                        [
                          0.5555555555555556,
                          "#d8576b"
                        ],
                        [
                          0.6666666666666666,
                          "#ed7953"
                        ],
                        [
                          0.7777777777777778,
                          "#fb9f3a"
                        ],
                        [
                          0.8888888888888888,
                          "#fdca26"
                        ],
                        [
                          1,
                          "#f0f921"
                        ]
                      ],
                      "sequentialminus": [
                        [
                          0,
                          "#0d0887"
                        ],
                        [
                          0.1111111111111111,
                          "#46039f"
                        ],
                        [
                          0.2222222222222222,
                          "#7201a8"
                        ],
                        [
                          0.3333333333333333,
                          "#9c179e"
                        ],
                        [
                          0.4444444444444444,
                          "#bd3786"
                        ],
                        [
                          0.5555555555555556,
                          "#d8576b"
                        ],
                        [
                          0.6666666666666666,
                          "#ed7953"
                        ],
                        [
                          0.7777777777777778,
                          "#fb9f3a"
                        ],
                        [
                          0.8888888888888888,
                          "#fdca26"
                        ],
                        [
                          1,
                          "#f0f921"
                        ]
                      ]
                    },
                    "colorway": [
                      "#636efa",
                      "#EF553B",
                      "#00cc96",
                      "#ab63fa",
                      "#FFA15A",
                      "#19d3f3",
                      "#FF6692",
                      "#B6E880",
                      "#FF97FF",
                      "#FECB52"
                    ],
                    "font": {
                      "color": "#2a3f5f"
                    },
                    "geo": {
                      "bgcolor": "white",
                      "lakecolor": "white",
                      "landcolor": "#E5ECF6",
                      "showlakes": true,
                      "showland": true,
                      "subunitcolor": "white"
                    },
                    "hoverlabel": {
                      "align": "left"
                    },
                    "hovermode": "closest",
                    "mapbox": {
                      "style": "light"
                    },
                    "paper_bgcolor": "white",
                    "plot_bgcolor": "#E5ECF6",
                    "polar": {
                      "angularaxis": {
                        "gridcolor": "white",
                        "linecolor": "white",
                        "ticks": ""
                      },
                      "bgcolor": "#E5ECF6",
                      "radialaxis": {
                        "gridcolor": "white",
                        "linecolor": "white",
                        "ticks": ""
                      }
                    },
                    "scene": {
                      "xaxis": {
                        "backgroundcolor": "#E5ECF6",
                        "gridcolor": "white",
                        "gridwidth": 2,
                        "linecolor": "white",
                        "showbackground": true,
                        "ticks": "",
                        "zerolinecolor": "white"
                      },
                      "yaxis": {
                        "backgroundcolor": "#E5ECF6",
                        "gridcolor": "white",
                        "gridwidth": 2,
                        "linecolor": "white",
                        "showbackground": true,
                        "ticks": "",
                        "zerolinecolor": "white"
                      },
                      "zaxis": {
                        "backgroundcolor": "#E5ECF6",
                        "gridcolor": "white",
                        "gridwidth": 2,
                        "linecolor": "white",
                        "showbackground": true,
                        "ticks": "",
                        "zerolinecolor": "white"
                      }
                    },
                    "shapedefaults": {
                      "line": {
                        "color": "#2a3f5f"
                      }
                    },
                    "ternary": {
                      "aaxis": {
                        "gridcolor": "white",
                        "linecolor": "white",
                        "ticks": ""
                      },
                      "baxis": {
                        "gridcolor": "white",
                        "linecolor": "white",
                        "ticks": ""
                      },
                      "bgcolor": "#E5ECF6",
                      "caxis": {
                        "gridcolor": "white",
                        "linecolor": "white",
                        "ticks": ""
                      }
                    },
                    "title": {
                      "x": 0.05
                    },
                    "xaxis": {
                      "automargin": true,
                      "gridcolor": "white",
                      "linecolor": "white",
                      "ticks": "",
                      "title": {
                        "standoff": 15
                      },
                      "zerolinecolor": "white",
                      "zerolinewidth": 2
                    },
                    "yaxis": {
                      "automargin": true,
                      "gridcolor": "white",
                      "linecolor": "white",
                      "ticks": "",
                      "title": {
                        "standoff": 15
                      },
                      "zerolinecolor": "white",
                      "zerolinewidth": 2
                    }
                  }
                },
                "title": {
                  "text": "Fraudulent VS Non-Fraudulent"
                },
                "xaxis": {
                  "title": {
                    "text": "Class"
                  }
                },
                "yaxis": {
                  "title": {
                    "text": "Count"
                  }
                }
              },
              "config": {
                "showLink": false,
                "linkText": "Export to plot.ly",
                "plotlyServerURL": "https://plot.ly"
              }
            },
            "text/html": [
              "<div>                            <div id=\"8c46c18c-9978-4fbb-912e-7a3c61dd25c6\" class=\"plotly-graph-div\" style=\"height:525px; width:100%;\"></div>            <script type=\"text/javascript\">                require([\"plotly\"], function(Plotly) {                    window.PLOTLYENV=window.PLOTLYENV || {};                                    if (document.getElementById(\"8c46c18c-9978-4fbb-912e-7a3c61dd25c6\")) {                    Plotly.newPlot(                        \"8c46c18c-9978-4fbb-912e-7a3c61dd25c6\",                        [{\"marker\":{\"color\":[\"#8FFBE9\",\"#FFCC2E\"],\"line\":{\"color\":\"#000000\",\"width\":2}},\"x\":[0.0,1.0],\"y\":[25749,88],\"type\":\"bar\"}],                        {\"template\":{\"data\":{\"barpolar\":[{\"marker\":{\"line\":{\"color\":\"#E5ECF6\",\"width\":0.5},\"pattern\":{\"fillmode\":\"overlay\",\"size\":10,\"solidity\":0.2}},\"type\":\"barpolar\"}],\"bar\":[{\"error_x\":{\"color\":\"#2a3f5f\"},\"error_y\":{\"color\":\"#2a3f5f\"},\"marker\":{\"line\":{\"color\":\"#E5ECF6\",\"width\":0.5},\"pattern\":{\"fillmode\":\"overlay\",\"size\":10,\"solidity\":0.2}},\"type\":\"bar\"}],\"carpet\":[{\"aaxis\":{\"endlinecolor\":\"#2a3f5f\",\"gridcolor\":\"white\",\"linecolor\":\"white\",\"minorgridcolor\":\"white\",\"startlinecolor\":\"#2a3f5f\"},\"baxis\":{\"endlinecolor\":\"#2a3f5f\",\"gridcolor\":\"white\",\"linecolor\":\"white\",\"minorgridcolor\":\"white\",\"startlinecolor\":\"#2a3f5f\"},\"type\":\"carpet\"}],\"choropleth\":[{\"colorbar\":{\"outlinewidth\":0,\"ticks\":\"\"},\"type\":\"choropleth\"}],\"contourcarpet\":[{\"colorbar\":{\"outlinewidth\":0,\"ticks\":\"\"},\"type\":\"contourcarpet\"}],\"contour\":[{\"colorbar\":{\"outlinewidth\":0,\"ticks\":\"\"},\"colorscale\":[[0.0,\"#0d0887\"],[0.1111111111111111,\"#46039f\"],[0.2222222222222222,\"#7201a8\"],[0.3333333333333333,\"#9c179e\"],[0.4444444444444444,\"#bd3786\"],[0.5555555555555556,\"#d8576b\"],[0.6666666666666666,\"#ed7953\"],[0.7777777777777778,\"#fb9f3a\"],[0.8888888888888888,\"#fdca26\"],[1.0,\"#f0f921\"]],\"type\":\"contour\"}],\"heatmapgl\":[{\"colorbar\":{\"outlinewidth\":0,\"ticks\":\"\"},\"colorscale\":[[0.0,\"#0d0887\"],[0.1111111111111111,\"#46039f\"],[0.2222222222222222,\"#7201a8\"],[0.3333333333333333,\"#9c179e\"],[0.4444444444444444,\"#bd3786\"],[0.5555555555555556,\"#d8576b\"],[0.6666666666666666,\"#ed7953\"],[0.7777777777777778,\"#fb9f3a\"],[0.8888888888888888,\"#fdca26\"],[1.0,\"#f0f921\"]],\"type\":\"heatmapgl\"}],\"heatmap\":[{\"colorbar\":{\"outlinewidth\":0,\"ticks\":\"\"},\"colorscale\":[[0.0,\"#0d0887\"],[0.1111111111111111,\"#46039f\"],[0.2222222222222222,\"#7201a8\"],[0.3333333333333333,\"#9c179e\"],[0.4444444444444444,\"#bd3786\"],[0.5555555555555556,\"#d8576b\"],[0.6666666666666666,\"#ed7953\"],[0.7777777777777778,\"#fb9f3a\"],[0.8888888888888888,\"#fdca26\"],[1.0,\"#f0f921\"]],\"type\":\"heatmap\"}],\"histogram2dcontour\":[{\"colorbar\":{\"outlinewidth\":0,\"ticks\":\"\"},\"colorscale\":[[0.0,\"#0d0887\"],[0.1111111111111111,\"#46039f\"],[0.2222222222222222,\"#7201a8\"],[0.3333333333333333,\"#9c179e\"],[0.4444444444444444,\"#bd3786\"],[0.5555555555555556,\"#d8576b\"],[0.6666666666666666,\"#ed7953\"],[0.7777777777777778,\"#fb9f3a\"],[0.8888888888888888,\"#fdca26\"],[1.0,\"#f0f921\"]],\"type\":\"histogram2dcontour\"}],\"histogram2d\":[{\"colorbar\":{\"outlinewidth\":0,\"ticks\":\"\"},\"colorscale\":[[0.0,\"#0d0887\"],[0.1111111111111111,\"#46039f\"],[0.2222222222222222,\"#7201a8\"],[0.3333333333333333,\"#9c179e\"],[0.4444444444444444,\"#bd3786\"],[0.5555555555555556,\"#d8576b\"],[0.6666666666666666,\"#ed7953\"],[0.7777777777777778,\"#fb9f3a\"],[0.8888888888888888,\"#fdca26\"],[1.0,\"#f0f921\"]],\"type\":\"histogram2d\"}],\"histogram\":[{\"marker\":{\"pattern\":{\"fillmode\":\"overlay\",\"size\":10,\"solidity\":0.2}},\"type\":\"histogram\"}],\"mesh3d\":[{\"colorbar\":{\"outlinewidth\":0,\"ticks\":\"\"},\"type\":\"mesh3d\"}],\"parcoords\":[{\"line\":{\"colorbar\":{\"outlinewidth\":0,\"ticks\":\"\"}},\"type\":\"parcoords\"}],\"pie\":[{\"automargin\":true,\"type\":\"pie\"}],\"scatter3d\":[{\"line\":{\"colorbar\":{\"outlinewidth\":0,\"ticks\":\"\"}},\"marker\":{\"colorbar\":{\"outlinewidth\":0,\"ticks\":\"\"}},\"type\":\"scatter3d\"}],\"scattercarpet\":[{\"marker\":{\"colorbar\":{\"outlinewidth\":0,\"ticks\":\"\"}},\"type\":\"scattercarpet\"}],\"scattergeo\":[{\"marker\":{\"colorbar\":{\"outlinewidth\":0,\"ticks\":\"\"}},\"type\":\"scattergeo\"}],\"scattergl\":[{\"marker\":{\"colorbar\":{\"outlinewidth\":0,\"ticks\":\"\"}},\"type\":\"scattergl\"}],\"scattermapbox\":[{\"marker\":{\"colorbar\":{\"outlinewidth\":0,\"ticks\":\"\"}},\"type\":\"scattermapbox\"}],\"scatterpolargl\":[{\"marker\":{\"colorbar\":{\"outlinewidth\":0,\"ticks\":\"\"}},\"type\":\"scatterpolargl\"}],\"scatterpolar\":[{\"marker\":{\"colorbar\":{\"outlinewidth\":0,\"ticks\":\"\"}},\"type\":\"scatterpolar\"}],\"scatter\":[{\"fillpattern\":{\"fillmode\":\"overlay\",\"size\":10,\"solidity\":0.2},\"type\":\"scatter\"}],\"scatterternary\":[{\"marker\":{\"colorbar\":{\"outlinewidth\":0,\"ticks\":\"\"}},\"type\":\"scatterternary\"}],\"surface\":[{\"colorbar\":{\"outlinewidth\":0,\"ticks\":\"\"},\"colorscale\":[[0.0,\"#0d0887\"],[0.1111111111111111,\"#46039f\"],[0.2222222222222222,\"#7201a8\"],[0.3333333333333333,\"#9c179e\"],[0.4444444444444444,\"#bd3786\"],[0.5555555555555556,\"#d8576b\"],[0.6666666666666666,\"#ed7953\"],[0.7777777777777778,\"#fb9f3a\"],[0.8888888888888888,\"#fdca26\"],[1.0,\"#f0f921\"]],\"type\":\"surface\"}],\"table\":[{\"cells\":{\"fill\":{\"color\":\"#EBF0F8\"},\"line\":{\"color\":\"white\"}},\"header\":{\"fill\":{\"color\":\"#C8D4E3\"},\"line\":{\"color\":\"white\"}},\"type\":\"table\"}]},\"layout\":{\"annotationdefaults\":{\"arrowcolor\":\"#2a3f5f\",\"arrowhead\":0,\"arrowwidth\":1},\"autotypenumbers\":\"strict\",\"coloraxis\":{\"colorbar\":{\"outlinewidth\":0,\"ticks\":\"\"}},\"colorscale\":{\"diverging\":[[0,\"#8e0152\"],[0.1,\"#c51b7d\"],[0.2,\"#de77ae\"],[0.3,\"#f1b6da\"],[0.4,\"#fde0ef\"],[0.5,\"#f7f7f7\"],[0.6,\"#e6f5d0\"],[0.7,\"#b8e186\"],[0.8,\"#7fbc41\"],[0.9,\"#4d9221\"],[1,\"#276419\"]],\"sequential\":[[0.0,\"#0d0887\"],[0.1111111111111111,\"#46039f\"],[0.2222222222222222,\"#7201a8\"],[0.3333333333333333,\"#9c179e\"],[0.4444444444444444,\"#bd3786\"],[0.5555555555555556,\"#d8576b\"],[0.6666666666666666,\"#ed7953\"],[0.7777777777777778,\"#fb9f3a\"],[0.8888888888888888,\"#fdca26\"],[1.0,\"#f0f921\"]],\"sequentialminus\":[[0.0,\"#0d0887\"],[0.1111111111111111,\"#46039f\"],[0.2222222222222222,\"#7201a8\"],[0.3333333333333333,\"#9c179e\"],[0.4444444444444444,\"#bd3786\"],[0.5555555555555556,\"#d8576b\"],[0.6666666666666666,\"#ed7953\"],[0.7777777777777778,\"#fb9f3a\"],[0.8888888888888888,\"#fdca26\"],[1.0,\"#f0f921\"]]},\"colorway\":[\"#636efa\",\"#EF553B\",\"#00cc96\",\"#ab63fa\",\"#FFA15A\",\"#19d3f3\",\"#FF6692\",\"#B6E880\",\"#FF97FF\",\"#FECB52\"],\"font\":{\"color\":\"#2a3f5f\"},\"geo\":{\"bgcolor\":\"white\",\"lakecolor\":\"white\",\"landcolor\":\"#E5ECF6\",\"showlakes\":true,\"showland\":true,\"subunitcolor\":\"white\"},\"hoverlabel\":{\"align\":\"left\"},\"hovermode\":\"closest\",\"mapbox\":{\"style\":\"light\"},\"paper_bgcolor\":\"white\",\"plot_bgcolor\":\"#E5ECF6\",\"polar\":{\"angularaxis\":{\"gridcolor\":\"white\",\"linecolor\":\"white\",\"ticks\":\"\"},\"bgcolor\":\"#E5ECF6\",\"radialaxis\":{\"gridcolor\":\"white\",\"linecolor\":\"white\",\"ticks\":\"\"}},\"scene\":{\"xaxis\":{\"backgroundcolor\":\"#E5ECF6\",\"gridcolor\":\"white\",\"gridwidth\":2,\"linecolor\":\"white\",\"showbackground\":true,\"ticks\":\"\",\"zerolinecolor\":\"white\"},\"yaxis\":{\"backgroundcolor\":\"#E5ECF6\",\"gridcolor\":\"white\",\"gridwidth\":2,\"linecolor\":\"white\",\"showbackground\":true,\"ticks\":\"\",\"zerolinecolor\":\"white\"},\"zaxis\":{\"backgroundcolor\":\"#E5ECF6\",\"gridcolor\":\"white\",\"gridwidth\":2,\"linecolor\":\"white\",\"showbackground\":true,\"ticks\":\"\",\"zerolinecolor\":\"white\"}},\"shapedefaults\":{\"line\":{\"color\":\"#2a3f5f\"}},\"ternary\":{\"aaxis\":{\"gridcolor\":\"white\",\"linecolor\":\"white\",\"ticks\":\"\"},\"baxis\":{\"gridcolor\":\"white\",\"linecolor\":\"white\",\"ticks\":\"\"},\"bgcolor\":\"#E5ECF6\",\"caxis\":{\"gridcolor\":\"white\",\"linecolor\":\"white\",\"ticks\":\"\"}},\"title\":{\"x\":0.05},\"xaxis\":{\"automargin\":true,\"gridcolor\":\"white\",\"linecolor\":\"white\",\"ticks\":\"\",\"title\":{\"standoff\":15},\"zerolinecolor\":\"white\",\"zerolinewidth\":2},\"yaxis\":{\"automargin\":true,\"gridcolor\":\"white\",\"linecolor\":\"white\",\"ticks\":\"\",\"title\":{\"standoff\":15},\"zerolinecolor\":\"white\",\"zerolinewidth\":2}}},\"title\":{\"text\":\"Fraudulent VS Non-Fraudulent\"},\"xaxis\":{\"title\":{\"text\":\"Class\"}},\"yaxis\":{\"title\":{\"text\":\"Count\"}}},                        {\"responsive\": true}                    ).then(function(){\n",
              "                            \n",
              "var gd = document.getElementById('8c46c18c-9978-4fbb-912e-7a3c61dd25c6');\n",
              "var x = new MutationObserver(function (mutations, observer) {{\n",
              "        var display = window.getComputedStyle(gd).display;\n",
              "        if (!display || display === 'none') {{\n",
              "            console.log([gd, 'removed!']);\n",
              "            Plotly.purge(gd);\n",
              "            observer.disconnect();\n",
              "        }}\n",
              "}});\n",
              "\n",
              "// Listen for the removal of the full notebook cells\n",
              "var notebookContainer = gd.closest('#notebook-container');\n",
              "if (notebookContainer) {{\n",
              "    x.observe(notebookContainer, {childList: true});\n",
              "}}\n",
              "\n",
              "// Listen for the clearing of the current output cell\n",
              "var outputEl = gd.closest('.output');\n",
              "if (outputEl) {{\n",
              "    x.observe(outputEl, {childList: true});\n",
              "}}\n",
              "\n",
              "                        })                };                });            </script>        </div>"
            ]
          },
          "metadata": {}
        }
      ]
    },
    {
      "cell_type": "code",
      "source": [
        "trace = go.Pie(labels = list(train.Class.unique()), values = list(train.Class.value_counts()),\n",
        "                            hole = 0.2,\n",
        "               marker=dict(colors = random_colors(3),\n",
        "                           line=dict(color='#000000', width=2)\n",
        "                           ))\n",
        "data = [trace]\n",
        "layout = go.Layout(\n",
        "   {\n",
        "      \"title\":\"Fraudlant VS Non- Fraudlant\",\n",
        "   }\n",
        ")\n",
        "\n",
        "fig = go.Figure(data=data,layout = layout)\n",
        "iplot(fig)"
      ],
      "metadata": {
        "colab": {
          "base_uri": "https://localhost:8080/",
          "height": 542
        },
        "id": "iqcEQs2toy0A",
        "outputId": "76d96dc3-079f-407d-d352-c4b0d467d74c"
      },
      "execution_count": 17,
      "outputs": [
        {
          "output_type": "display_data",
          "data": {
            "application/vnd.plotly.v1+json": {
              "data": [
                {
                  "hole": 0.2,
                  "labels": [
                    0,
                    1,
                    null
                  ],
                  "marker": {
                    "colors": [
                      "#575618",
                      "#08EBD6",
                      "#7FAB86"
                    ],
                    "line": {
                      "color": "#000000",
                      "width": 2
                    }
                  },
                  "values": [
                    25749,
                    88
                  ],
                  "type": "pie"
                }
              ],
              "layout": {
                "template": {
                  "data": {
                    "barpolar": [
                      {
                        "marker": {
                          "line": {
                            "color": "#E5ECF6",
                            "width": 0.5
                          },
                          "pattern": {
                            "fillmode": "overlay",
                            "size": 10,
                            "solidity": 0.2
                          }
                        },
                        "type": "barpolar"
                      }
                    ],
                    "bar": [
                      {
                        "error_x": {
                          "color": "#2a3f5f"
                        },
                        "error_y": {
                          "color": "#2a3f5f"
                        },
                        "marker": {
                          "line": {
                            "color": "#E5ECF6",
                            "width": 0.5
                          },
                          "pattern": {
                            "fillmode": "overlay",
                            "size": 10,
                            "solidity": 0.2
                          }
                        },
                        "type": "bar"
                      }
                    ],
                    "carpet": [
                      {
                        "aaxis": {
                          "endlinecolor": "#2a3f5f",
                          "gridcolor": "white",
                          "linecolor": "white",
                          "minorgridcolor": "white",
                          "startlinecolor": "#2a3f5f"
                        },
                        "baxis": {
                          "endlinecolor": "#2a3f5f",
                          "gridcolor": "white",
                          "linecolor": "white",
                          "minorgridcolor": "white",
                          "startlinecolor": "#2a3f5f"
                        },
                        "type": "carpet"
                      }
                    ],
                    "choropleth": [
                      {
                        "colorbar": {
                          "outlinewidth": 0,
                          "ticks": ""
                        },
                        "type": "choropleth"
                      }
                    ],
                    "contourcarpet": [
                      {
                        "colorbar": {
                          "outlinewidth": 0,
                          "ticks": ""
                        },
                        "type": "contourcarpet"
                      }
                    ],
                    "contour": [
                      {
                        "colorbar": {
                          "outlinewidth": 0,
                          "ticks": ""
                        },
                        "colorscale": [
                          [
                            0,
                            "#0d0887"
                          ],
                          [
                            0.1111111111111111,
                            "#46039f"
                          ],
                          [
                            0.2222222222222222,
                            "#7201a8"
                          ],
                          [
                            0.3333333333333333,
                            "#9c179e"
                          ],
                          [
                            0.4444444444444444,
                            "#bd3786"
                          ],
                          [
                            0.5555555555555556,
                            "#d8576b"
                          ],
                          [
                            0.6666666666666666,
                            "#ed7953"
                          ],
                          [
                            0.7777777777777778,
                            "#fb9f3a"
                          ],
                          [
                            0.8888888888888888,
                            "#fdca26"
                          ],
                          [
                            1,
                            "#f0f921"
                          ]
                        ],
                        "type": "contour"
                      }
                    ],
                    "heatmapgl": [
                      {
                        "colorbar": {
                          "outlinewidth": 0,
                          "ticks": ""
                        },
                        "colorscale": [
                          [
                            0,
                            "#0d0887"
                          ],
                          [
                            0.1111111111111111,
                            "#46039f"
                          ],
                          [
                            0.2222222222222222,
                            "#7201a8"
                          ],
                          [
                            0.3333333333333333,
                            "#9c179e"
                          ],
                          [
                            0.4444444444444444,
                            "#bd3786"
                          ],
                          [
                            0.5555555555555556,
                            "#d8576b"
                          ],
                          [
                            0.6666666666666666,
                            "#ed7953"
                          ],
                          [
                            0.7777777777777778,
                            "#fb9f3a"
                          ],
                          [
                            0.8888888888888888,
                            "#fdca26"
                          ],
                          [
                            1,
                            "#f0f921"
                          ]
                        ],
                        "type": "heatmapgl"
                      }
                    ],
                    "heatmap": [
                      {
                        "colorbar": {
                          "outlinewidth": 0,
                          "ticks": ""
                        },
                        "colorscale": [
                          [
                            0,
                            "#0d0887"
                          ],
                          [
                            0.1111111111111111,
                            "#46039f"
                          ],
                          [
                            0.2222222222222222,
                            "#7201a8"
                          ],
                          [
                            0.3333333333333333,
                            "#9c179e"
                          ],
                          [
                            0.4444444444444444,
                            "#bd3786"
                          ],
                          [
                            0.5555555555555556,
                            "#d8576b"
                          ],
                          [
                            0.6666666666666666,
                            "#ed7953"
                          ],
                          [
                            0.7777777777777778,
                            "#fb9f3a"
                          ],
                          [
                            0.8888888888888888,
                            "#fdca26"
                          ],
                          [
                            1,
                            "#f0f921"
                          ]
                        ],
                        "type": "heatmap"
                      }
                    ],
                    "histogram2dcontour": [
                      {
                        "colorbar": {
                          "outlinewidth": 0,
                          "ticks": ""
                        },
                        "colorscale": [
                          [
                            0,
                            "#0d0887"
                          ],
                          [
                            0.1111111111111111,
                            "#46039f"
                          ],
                          [
                            0.2222222222222222,
                            "#7201a8"
                          ],
                          [
                            0.3333333333333333,
                            "#9c179e"
                          ],
                          [
                            0.4444444444444444,
                            "#bd3786"
                          ],
                          [
                            0.5555555555555556,
                            "#d8576b"
                          ],
                          [
                            0.6666666666666666,
                            "#ed7953"
                          ],
                          [
                            0.7777777777777778,
                            "#fb9f3a"
                          ],
                          [
                            0.8888888888888888,
                            "#fdca26"
                          ],
                          [
                            1,
                            "#f0f921"
                          ]
                        ],
                        "type": "histogram2dcontour"
                      }
                    ],
                    "histogram2d": [
                      {
                        "colorbar": {
                          "outlinewidth": 0,
                          "ticks": ""
                        },
                        "colorscale": [
                          [
                            0,
                            "#0d0887"
                          ],
                          [
                            0.1111111111111111,
                            "#46039f"
                          ],
                          [
                            0.2222222222222222,
                            "#7201a8"
                          ],
                          [
                            0.3333333333333333,
                            "#9c179e"
                          ],
                          [
                            0.4444444444444444,
                            "#bd3786"
                          ],
                          [
                            0.5555555555555556,
                            "#d8576b"
                          ],
                          [
                            0.6666666666666666,
                            "#ed7953"
                          ],
                          [
                            0.7777777777777778,
                            "#fb9f3a"
                          ],
                          [
                            0.8888888888888888,
                            "#fdca26"
                          ],
                          [
                            1,
                            "#f0f921"
                          ]
                        ],
                        "type": "histogram2d"
                      }
                    ],
                    "histogram": [
                      {
                        "marker": {
                          "pattern": {
                            "fillmode": "overlay",
                            "size": 10,
                            "solidity": 0.2
                          }
                        },
                        "type": "histogram"
                      }
                    ],
                    "mesh3d": [
                      {
                        "colorbar": {
                          "outlinewidth": 0,
                          "ticks": ""
                        },
                        "type": "mesh3d"
                      }
                    ],
                    "parcoords": [
                      {
                        "line": {
                          "colorbar": {
                            "outlinewidth": 0,
                            "ticks": ""
                          }
                        },
                        "type": "parcoords"
                      }
                    ],
                    "pie": [
                      {
                        "automargin": true,
                        "type": "pie"
                      }
                    ],
                    "scatter3d": [
                      {
                        "line": {
                          "colorbar": {
                            "outlinewidth": 0,
                            "ticks": ""
                          }
                        },
                        "marker": {
                          "colorbar": {
                            "outlinewidth": 0,
                            "ticks": ""
                          }
                        },
                        "type": "scatter3d"
                      }
                    ],
                    "scattercarpet": [
                      {
                        "marker": {
                          "colorbar": {
                            "outlinewidth": 0,
                            "ticks": ""
                          }
                        },
                        "type": "scattercarpet"
                      }
                    ],
                    "scattergeo": [
                      {
                        "marker": {
                          "colorbar": {
                            "outlinewidth": 0,
                            "ticks": ""
                          }
                        },
                        "type": "scattergeo"
                      }
                    ],
                    "scattergl": [
                      {
                        "marker": {
                          "colorbar": {
                            "outlinewidth": 0,
                            "ticks": ""
                          }
                        },
                        "type": "scattergl"
                      }
                    ],
                    "scattermapbox": [
                      {
                        "marker": {
                          "colorbar": {
                            "outlinewidth": 0,
                            "ticks": ""
                          }
                        },
                        "type": "scattermapbox"
                      }
                    ],
                    "scatterpolargl": [
                      {
                        "marker": {
                          "colorbar": {
                            "outlinewidth": 0,
                            "ticks": ""
                          }
                        },
                        "type": "scatterpolargl"
                      }
                    ],
                    "scatterpolar": [
                      {
                        "marker": {
                          "colorbar": {
                            "outlinewidth": 0,
                            "ticks": ""
                          }
                        },
                        "type": "scatterpolar"
                      }
                    ],
                    "scatter": [
                      {
                        "fillpattern": {
                          "fillmode": "overlay",
                          "size": 10,
                          "solidity": 0.2
                        },
                        "type": "scatter"
                      }
                    ],
                    "scatterternary": [
                      {
                        "marker": {
                          "colorbar": {
                            "outlinewidth": 0,
                            "ticks": ""
                          }
                        },
                        "type": "scatterternary"
                      }
                    ],
                    "surface": [
                      {
                        "colorbar": {
                          "outlinewidth": 0,
                          "ticks": ""
                        },
                        "colorscale": [
                          [
                            0,
                            "#0d0887"
                          ],
                          [
                            0.1111111111111111,
                            "#46039f"
                          ],
                          [
                            0.2222222222222222,
                            "#7201a8"
                          ],
                          [
                            0.3333333333333333,
                            "#9c179e"
                          ],
                          [
                            0.4444444444444444,
                            "#bd3786"
                          ],
                          [
                            0.5555555555555556,
                            "#d8576b"
                          ],
                          [
                            0.6666666666666666,
                            "#ed7953"
                          ],
                          [
                            0.7777777777777778,
                            "#fb9f3a"
                          ],
                          [
                            0.8888888888888888,
                            "#fdca26"
                          ],
                          [
                            1,
                            "#f0f921"
                          ]
                        ],
                        "type": "surface"
                      }
                    ],
                    "table": [
                      {
                        "cells": {
                          "fill": {
                            "color": "#EBF0F8"
                          },
                          "line": {
                            "color": "white"
                          }
                        },
                        "header": {
                          "fill": {
                            "color": "#C8D4E3"
                          },
                          "line": {
                            "color": "white"
                          }
                        },
                        "type": "table"
                      }
                    ]
                  },
                  "layout": {
                    "annotationdefaults": {
                      "arrowcolor": "#2a3f5f",
                      "arrowhead": 0,
                      "arrowwidth": 1
                    },
                    "autotypenumbers": "strict",
                    "coloraxis": {
                      "colorbar": {
                        "outlinewidth": 0,
                        "ticks": ""
                      }
                    },
                    "colorscale": {
                      "diverging": [
                        [
                          0,
                          "#8e0152"
                        ],
                        [
                          0.1,
                          "#c51b7d"
                        ],
                        [
                          0.2,
                          "#de77ae"
                        ],
                        [
                          0.3,
                          "#f1b6da"
                        ],
                        [
                          0.4,
                          "#fde0ef"
                        ],
                        [
                          0.5,
                          "#f7f7f7"
                        ],
                        [
                          0.6,
                          "#e6f5d0"
                        ],
                        [
                          0.7,
                          "#b8e186"
                        ],
                        [
                          0.8,
                          "#7fbc41"
                        ],
                        [
                          0.9,
                          "#4d9221"
                        ],
                        [
                          1,
                          "#276419"
                        ]
                      ],
                      "sequential": [
                        [
                          0,
                          "#0d0887"
                        ],
                        [
                          0.1111111111111111,
                          "#46039f"
                        ],
                        [
                          0.2222222222222222,
                          "#7201a8"
                        ],
                        [
                          0.3333333333333333,
                          "#9c179e"
                        ],
                        [
                          0.4444444444444444,
                          "#bd3786"
                        ],
                        [
                          0.5555555555555556,
                          "#d8576b"
                        ],
                        [
                          0.6666666666666666,
                          "#ed7953"
                        ],
                        [
                          0.7777777777777778,
                          "#fb9f3a"
                        ],
                        [
                          0.8888888888888888,
                          "#fdca26"
                        ],
                        [
                          1,
                          "#f0f921"
                        ]
                      ],
                      "sequentialminus": [
                        [
                          0,
                          "#0d0887"
                        ],
                        [
                          0.1111111111111111,
                          "#46039f"
                        ],
                        [
                          0.2222222222222222,
                          "#7201a8"
                        ],
                        [
                          0.3333333333333333,
                          "#9c179e"
                        ],
                        [
                          0.4444444444444444,
                          "#bd3786"
                        ],
                        [
                          0.5555555555555556,
                          "#d8576b"
                        ],
                        [
                          0.6666666666666666,
                          "#ed7953"
                        ],
                        [
                          0.7777777777777778,
                          "#fb9f3a"
                        ],
                        [
                          0.8888888888888888,
                          "#fdca26"
                        ],
                        [
                          1,
                          "#f0f921"
                        ]
                      ]
                    },
                    "colorway": [
                      "#636efa",
                      "#EF553B",
                      "#00cc96",
                      "#ab63fa",
                      "#FFA15A",
                      "#19d3f3",
                      "#FF6692",
                      "#B6E880",
                      "#FF97FF",
                      "#FECB52"
                    ],
                    "font": {
                      "color": "#2a3f5f"
                    },
                    "geo": {
                      "bgcolor": "white",
                      "lakecolor": "white",
                      "landcolor": "#E5ECF6",
                      "showlakes": true,
                      "showland": true,
                      "subunitcolor": "white"
                    },
                    "hoverlabel": {
                      "align": "left"
                    },
                    "hovermode": "closest",
                    "mapbox": {
                      "style": "light"
                    },
                    "paper_bgcolor": "white",
                    "plot_bgcolor": "#E5ECF6",
                    "polar": {
                      "angularaxis": {
                        "gridcolor": "white",
                        "linecolor": "white",
                        "ticks": ""
                      },
                      "bgcolor": "#E5ECF6",
                      "radialaxis": {
                        "gridcolor": "white",
                        "linecolor": "white",
                        "ticks": ""
                      }
                    },
                    "scene": {
                      "xaxis": {
                        "backgroundcolor": "#E5ECF6",
                        "gridcolor": "white",
                        "gridwidth": 2,
                        "linecolor": "white",
                        "showbackground": true,
                        "ticks": "",
                        "zerolinecolor": "white"
                      },
                      "yaxis": {
                        "backgroundcolor": "#E5ECF6",
                        "gridcolor": "white",
                        "gridwidth": 2,
                        "linecolor": "white",
                        "showbackground": true,
                        "ticks": "",
                        "zerolinecolor": "white"
                      },
                      "zaxis": {
                        "backgroundcolor": "#E5ECF6",
                        "gridcolor": "white",
                        "gridwidth": 2,
                        "linecolor": "white",
                        "showbackground": true,
                        "ticks": "",
                        "zerolinecolor": "white"
                      }
                    },
                    "shapedefaults": {
                      "line": {
                        "color": "#2a3f5f"
                      }
                    },
                    "ternary": {
                      "aaxis": {
                        "gridcolor": "white",
                        "linecolor": "white",
                        "ticks": ""
                      },
                      "baxis": {
                        "gridcolor": "white",
                        "linecolor": "white",
                        "ticks": ""
                      },
                      "bgcolor": "#E5ECF6",
                      "caxis": {
                        "gridcolor": "white",
                        "linecolor": "white",
                        "ticks": ""
                      }
                    },
                    "title": {
                      "x": 0.05
                    },
                    "xaxis": {
                      "automargin": true,
                      "gridcolor": "white",
                      "linecolor": "white",
                      "ticks": "",
                      "title": {
                        "standoff": 15
                      },
                      "zerolinecolor": "white",
                      "zerolinewidth": 2
                    },
                    "yaxis": {
                      "automargin": true,
                      "gridcolor": "white",
                      "linecolor": "white",
                      "ticks": "",
                      "title": {
                        "standoff": 15
                      },
                      "zerolinecolor": "white",
                      "zerolinewidth": 2
                    }
                  }
                },
                "title": {
                  "text": "Fraudlant VS Non- Fraudlant"
                }
              },
              "config": {
                "showLink": false,
                "linkText": "Export to plot.ly",
                "plotlyServerURL": "https://plot.ly"
              }
            },
            "text/html": [
              "<div>                            <div id=\"973c1602-ebbb-428b-9ec0-0297c390c5d5\" class=\"plotly-graph-div\" style=\"height:525px; width:100%;\"></div>            <script type=\"text/javascript\">                require([\"plotly\"], function(Plotly) {                    window.PLOTLYENV=window.PLOTLYENV || {};                                    if (document.getElementById(\"973c1602-ebbb-428b-9ec0-0297c390c5d5\")) {                    Plotly.newPlot(                        \"973c1602-ebbb-428b-9ec0-0297c390c5d5\",                        [{\"hole\":0.2,\"labels\":[0.0,1.0,null],\"marker\":{\"colors\":[\"#575618\",\"#08EBD6\",\"#7FAB86\"],\"line\":{\"color\":\"#000000\",\"width\":2}},\"values\":[25749,88],\"type\":\"pie\"}],                        {\"template\":{\"data\":{\"barpolar\":[{\"marker\":{\"line\":{\"color\":\"#E5ECF6\",\"width\":0.5},\"pattern\":{\"fillmode\":\"overlay\",\"size\":10,\"solidity\":0.2}},\"type\":\"barpolar\"}],\"bar\":[{\"error_x\":{\"color\":\"#2a3f5f\"},\"error_y\":{\"color\":\"#2a3f5f\"},\"marker\":{\"line\":{\"color\":\"#E5ECF6\",\"width\":0.5},\"pattern\":{\"fillmode\":\"overlay\",\"size\":10,\"solidity\":0.2}},\"type\":\"bar\"}],\"carpet\":[{\"aaxis\":{\"endlinecolor\":\"#2a3f5f\",\"gridcolor\":\"white\",\"linecolor\":\"white\",\"minorgridcolor\":\"white\",\"startlinecolor\":\"#2a3f5f\"},\"baxis\":{\"endlinecolor\":\"#2a3f5f\",\"gridcolor\":\"white\",\"linecolor\":\"white\",\"minorgridcolor\":\"white\",\"startlinecolor\":\"#2a3f5f\"},\"type\":\"carpet\"}],\"choropleth\":[{\"colorbar\":{\"outlinewidth\":0,\"ticks\":\"\"},\"type\":\"choropleth\"}],\"contourcarpet\":[{\"colorbar\":{\"outlinewidth\":0,\"ticks\":\"\"},\"type\":\"contourcarpet\"}],\"contour\":[{\"colorbar\":{\"outlinewidth\":0,\"ticks\":\"\"},\"colorscale\":[[0.0,\"#0d0887\"],[0.1111111111111111,\"#46039f\"],[0.2222222222222222,\"#7201a8\"],[0.3333333333333333,\"#9c179e\"],[0.4444444444444444,\"#bd3786\"],[0.5555555555555556,\"#d8576b\"],[0.6666666666666666,\"#ed7953\"],[0.7777777777777778,\"#fb9f3a\"],[0.8888888888888888,\"#fdca26\"],[1.0,\"#f0f921\"]],\"type\":\"contour\"}],\"heatmapgl\":[{\"colorbar\":{\"outlinewidth\":0,\"ticks\":\"\"},\"colorscale\":[[0.0,\"#0d0887\"],[0.1111111111111111,\"#46039f\"],[0.2222222222222222,\"#7201a8\"],[0.3333333333333333,\"#9c179e\"],[0.4444444444444444,\"#bd3786\"],[0.5555555555555556,\"#d8576b\"],[0.6666666666666666,\"#ed7953\"],[0.7777777777777778,\"#fb9f3a\"],[0.8888888888888888,\"#fdca26\"],[1.0,\"#f0f921\"]],\"type\":\"heatmapgl\"}],\"heatmap\":[{\"colorbar\":{\"outlinewidth\":0,\"ticks\":\"\"},\"colorscale\":[[0.0,\"#0d0887\"],[0.1111111111111111,\"#46039f\"],[0.2222222222222222,\"#7201a8\"],[0.3333333333333333,\"#9c179e\"],[0.4444444444444444,\"#bd3786\"],[0.5555555555555556,\"#d8576b\"],[0.6666666666666666,\"#ed7953\"],[0.7777777777777778,\"#fb9f3a\"],[0.8888888888888888,\"#fdca26\"],[1.0,\"#f0f921\"]],\"type\":\"heatmap\"}],\"histogram2dcontour\":[{\"colorbar\":{\"outlinewidth\":0,\"ticks\":\"\"},\"colorscale\":[[0.0,\"#0d0887\"],[0.1111111111111111,\"#46039f\"],[0.2222222222222222,\"#7201a8\"],[0.3333333333333333,\"#9c179e\"],[0.4444444444444444,\"#bd3786\"],[0.5555555555555556,\"#d8576b\"],[0.6666666666666666,\"#ed7953\"],[0.7777777777777778,\"#fb9f3a\"],[0.8888888888888888,\"#fdca26\"],[1.0,\"#f0f921\"]],\"type\":\"histogram2dcontour\"}],\"histogram2d\":[{\"colorbar\":{\"outlinewidth\":0,\"ticks\":\"\"},\"colorscale\":[[0.0,\"#0d0887\"],[0.1111111111111111,\"#46039f\"],[0.2222222222222222,\"#7201a8\"],[0.3333333333333333,\"#9c179e\"],[0.4444444444444444,\"#bd3786\"],[0.5555555555555556,\"#d8576b\"],[0.6666666666666666,\"#ed7953\"],[0.7777777777777778,\"#fb9f3a\"],[0.8888888888888888,\"#fdca26\"],[1.0,\"#f0f921\"]],\"type\":\"histogram2d\"}],\"histogram\":[{\"marker\":{\"pattern\":{\"fillmode\":\"overlay\",\"size\":10,\"solidity\":0.2}},\"type\":\"histogram\"}],\"mesh3d\":[{\"colorbar\":{\"outlinewidth\":0,\"ticks\":\"\"},\"type\":\"mesh3d\"}],\"parcoords\":[{\"line\":{\"colorbar\":{\"outlinewidth\":0,\"ticks\":\"\"}},\"type\":\"parcoords\"}],\"pie\":[{\"automargin\":true,\"type\":\"pie\"}],\"scatter3d\":[{\"line\":{\"colorbar\":{\"outlinewidth\":0,\"ticks\":\"\"}},\"marker\":{\"colorbar\":{\"outlinewidth\":0,\"ticks\":\"\"}},\"type\":\"scatter3d\"}],\"scattercarpet\":[{\"marker\":{\"colorbar\":{\"outlinewidth\":0,\"ticks\":\"\"}},\"type\":\"scattercarpet\"}],\"scattergeo\":[{\"marker\":{\"colorbar\":{\"outlinewidth\":0,\"ticks\":\"\"}},\"type\":\"scattergeo\"}],\"scattergl\":[{\"marker\":{\"colorbar\":{\"outlinewidth\":0,\"ticks\":\"\"}},\"type\":\"scattergl\"}],\"scattermapbox\":[{\"marker\":{\"colorbar\":{\"outlinewidth\":0,\"ticks\":\"\"}},\"type\":\"scattermapbox\"}],\"scatterpolargl\":[{\"marker\":{\"colorbar\":{\"outlinewidth\":0,\"ticks\":\"\"}},\"type\":\"scatterpolargl\"}],\"scatterpolar\":[{\"marker\":{\"colorbar\":{\"outlinewidth\":0,\"ticks\":\"\"}},\"type\":\"scatterpolar\"}],\"scatter\":[{\"fillpattern\":{\"fillmode\":\"overlay\",\"size\":10,\"solidity\":0.2},\"type\":\"scatter\"}],\"scatterternary\":[{\"marker\":{\"colorbar\":{\"outlinewidth\":0,\"ticks\":\"\"}},\"type\":\"scatterternary\"}],\"surface\":[{\"colorbar\":{\"outlinewidth\":0,\"ticks\":\"\"},\"colorscale\":[[0.0,\"#0d0887\"],[0.1111111111111111,\"#46039f\"],[0.2222222222222222,\"#7201a8\"],[0.3333333333333333,\"#9c179e\"],[0.4444444444444444,\"#bd3786\"],[0.5555555555555556,\"#d8576b\"],[0.6666666666666666,\"#ed7953\"],[0.7777777777777778,\"#fb9f3a\"],[0.8888888888888888,\"#fdca26\"],[1.0,\"#f0f921\"]],\"type\":\"surface\"}],\"table\":[{\"cells\":{\"fill\":{\"color\":\"#EBF0F8\"},\"line\":{\"color\":\"white\"}},\"header\":{\"fill\":{\"color\":\"#C8D4E3\"},\"line\":{\"color\":\"white\"}},\"type\":\"table\"}]},\"layout\":{\"annotationdefaults\":{\"arrowcolor\":\"#2a3f5f\",\"arrowhead\":0,\"arrowwidth\":1},\"autotypenumbers\":\"strict\",\"coloraxis\":{\"colorbar\":{\"outlinewidth\":0,\"ticks\":\"\"}},\"colorscale\":{\"diverging\":[[0,\"#8e0152\"],[0.1,\"#c51b7d\"],[0.2,\"#de77ae\"],[0.3,\"#f1b6da\"],[0.4,\"#fde0ef\"],[0.5,\"#f7f7f7\"],[0.6,\"#e6f5d0\"],[0.7,\"#b8e186\"],[0.8,\"#7fbc41\"],[0.9,\"#4d9221\"],[1,\"#276419\"]],\"sequential\":[[0.0,\"#0d0887\"],[0.1111111111111111,\"#46039f\"],[0.2222222222222222,\"#7201a8\"],[0.3333333333333333,\"#9c179e\"],[0.4444444444444444,\"#bd3786\"],[0.5555555555555556,\"#d8576b\"],[0.6666666666666666,\"#ed7953\"],[0.7777777777777778,\"#fb9f3a\"],[0.8888888888888888,\"#fdca26\"],[1.0,\"#f0f921\"]],\"sequentialminus\":[[0.0,\"#0d0887\"],[0.1111111111111111,\"#46039f\"],[0.2222222222222222,\"#7201a8\"],[0.3333333333333333,\"#9c179e\"],[0.4444444444444444,\"#bd3786\"],[0.5555555555555556,\"#d8576b\"],[0.6666666666666666,\"#ed7953\"],[0.7777777777777778,\"#fb9f3a\"],[0.8888888888888888,\"#fdca26\"],[1.0,\"#f0f921\"]]},\"colorway\":[\"#636efa\",\"#EF553B\",\"#00cc96\",\"#ab63fa\",\"#FFA15A\",\"#19d3f3\",\"#FF6692\",\"#B6E880\",\"#FF97FF\",\"#FECB52\"],\"font\":{\"color\":\"#2a3f5f\"},\"geo\":{\"bgcolor\":\"white\",\"lakecolor\":\"white\",\"landcolor\":\"#E5ECF6\",\"showlakes\":true,\"showland\":true,\"subunitcolor\":\"white\"},\"hoverlabel\":{\"align\":\"left\"},\"hovermode\":\"closest\",\"mapbox\":{\"style\":\"light\"},\"paper_bgcolor\":\"white\",\"plot_bgcolor\":\"#E5ECF6\",\"polar\":{\"angularaxis\":{\"gridcolor\":\"white\",\"linecolor\":\"white\",\"ticks\":\"\"},\"bgcolor\":\"#E5ECF6\",\"radialaxis\":{\"gridcolor\":\"white\",\"linecolor\":\"white\",\"ticks\":\"\"}},\"scene\":{\"xaxis\":{\"backgroundcolor\":\"#E5ECF6\",\"gridcolor\":\"white\",\"gridwidth\":2,\"linecolor\":\"white\",\"showbackground\":true,\"ticks\":\"\",\"zerolinecolor\":\"white\"},\"yaxis\":{\"backgroundcolor\":\"#E5ECF6\",\"gridcolor\":\"white\",\"gridwidth\":2,\"linecolor\":\"white\",\"showbackground\":true,\"ticks\":\"\",\"zerolinecolor\":\"white\"},\"zaxis\":{\"backgroundcolor\":\"#E5ECF6\",\"gridcolor\":\"white\",\"gridwidth\":2,\"linecolor\":\"white\",\"showbackground\":true,\"ticks\":\"\",\"zerolinecolor\":\"white\"}},\"shapedefaults\":{\"line\":{\"color\":\"#2a3f5f\"}},\"ternary\":{\"aaxis\":{\"gridcolor\":\"white\",\"linecolor\":\"white\",\"ticks\":\"\"},\"baxis\":{\"gridcolor\":\"white\",\"linecolor\":\"white\",\"ticks\":\"\"},\"bgcolor\":\"#E5ECF6\",\"caxis\":{\"gridcolor\":\"white\",\"linecolor\":\"white\",\"ticks\":\"\"}},\"title\":{\"x\":0.05},\"xaxis\":{\"automargin\":true,\"gridcolor\":\"white\",\"linecolor\":\"white\",\"ticks\":\"\",\"title\":{\"standoff\":15},\"zerolinecolor\":\"white\",\"zerolinewidth\":2},\"yaxis\":{\"automargin\":true,\"gridcolor\":\"white\",\"linecolor\":\"white\",\"ticks\":\"\",\"title\":{\"standoff\":15},\"zerolinecolor\":\"white\",\"zerolinewidth\":2}}},\"title\":{\"text\":\"Fraudlant VS Non- Fraudlant\"}},                        {\"responsive\": true}                    ).then(function(){\n",
              "                            \n",
              "var gd = document.getElementById('973c1602-ebbb-428b-9ec0-0297c390c5d5');\n",
              "var x = new MutationObserver(function (mutations, observer) {{\n",
              "        var display = window.getComputedStyle(gd).display;\n",
              "        if (!display || display === 'none') {{\n",
              "            console.log([gd, 'removed!']);\n",
              "            Plotly.purge(gd);\n",
              "            observer.disconnect();\n",
              "        }}\n",
              "}});\n",
              "\n",
              "// Listen for the removal of the full notebook cells\n",
              "var notebookContainer = gd.closest('#notebook-container');\n",
              "if (notebookContainer) {{\n",
              "    x.observe(notebookContainer, {childList: true});\n",
              "}}\n",
              "\n",
              "// Listen for the clearing of the current output cell\n",
              "var outputEl = gd.closest('.output');\n",
              "if (outputEl) {{\n",
              "    x.observe(outputEl, {childList: true});\n",
              "}}\n",
              "\n",
              "                        })                };                });            </script>        </div>"
            ]
          },
          "metadata": {}
        }
      ]
    },
    {
      "cell_type": "code",
      "source": [
        "import random\n",
        "import plotly.graph_objs as go\n",
        "from plotly.offline import init_notebook_mode, iplot\n",
        "\n",
        "# Create a pie chart data trace\n",
        "trace = go.Pie(\n",
        "    labels=list(train.Class.unique()),\n",
        "    values=list(train.Class.value_counts()),\n",
        "    hole=0.2,\n",
        "    marker=dict(colors=random_colors(2), line=dict(color='#000000', width=2))\n",
        ")\n",
        "\n",
        "data = [trace]\n",
        "\n",
        "# Define the layout for the pie chart\n",
        "layout = go.Layout(\n",
        "    title=\"Fraudulent VS Non-Fraudulent Distribution\",\n",
        ")\n",
        "\n",
        "# Create a Figure object and display the chart\n",
        "fig = go.Figure(data=data, layout=layout)\n",
        "iplot(fig)"
      ],
      "metadata": {
        "colab": {
          "base_uri": "https://localhost:8080/",
          "height": 542
        },
        "id": "hJdtMqSNyjzI",
        "outputId": "fccea30b-91f6-4d87-8511-ae344011e67f"
      },
      "execution_count": 18,
      "outputs": [
        {
          "output_type": "display_data",
          "data": {
            "application/vnd.plotly.v1+json": {
              "data": [
                {
                  "hole": 0.2,
                  "labels": [
                    0,
                    1,
                    null
                  ],
                  "marker": {
                    "colors": [
                      "#983CDF",
                      "#EF8E4C"
                    ],
                    "line": {
                      "color": "#000000",
                      "width": 2
                    }
                  },
                  "values": [
                    25749,
                    88
                  ],
                  "type": "pie"
                }
              ],
              "layout": {
                "template": {
                  "data": {
                    "barpolar": [
                      {
                        "marker": {
                          "line": {
                            "color": "#E5ECF6",
                            "width": 0.5
                          },
                          "pattern": {
                            "fillmode": "overlay",
                            "size": 10,
                            "solidity": 0.2
                          }
                        },
                        "type": "barpolar"
                      }
                    ],
                    "bar": [
                      {
                        "error_x": {
                          "color": "#2a3f5f"
                        },
                        "error_y": {
                          "color": "#2a3f5f"
                        },
                        "marker": {
                          "line": {
                            "color": "#E5ECF6",
                            "width": 0.5
                          },
                          "pattern": {
                            "fillmode": "overlay",
                            "size": 10,
                            "solidity": 0.2
                          }
                        },
                        "type": "bar"
                      }
                    ],
                    "carpet": [
                      {
                        "aaxis": {
                          "endlinecolor": "#2a3f5f",
                          "gridcolor": "white",
                          "linecolor": "white",
                          "minorgridcolor": "white",
                          "startlinecolor": "#2a3f5f"
                        },
                        "baxis": {
                          "endlinecolor": "#2a3f5f",
                          "gridcolor": "white",
                          "linecolor": "white",
                          "minorgridcolor": "white",
                          "startlinecolor": "#2a3f5f"
                        },
                        "type": "carpet"
                      }
                    ],
                    "choropleth": [
                      {
                        "colorbar": {
                          "outlinewidth": 0,
                          "ticks": ""
                        },
                        "type": "choropleth"
                      }
                    ],
                    "contourcarpet": [
                      {
                        "colorbar": {
                          "outlinewidth": 0,
                          "ticks": ""
                        },
                        "type": "contourcarpet"
                      }
                    ],
                    "contour": [
                      {
                        "colorbar": {
                          "outlinewidth": 0,
                          "ticks": ""
                        },
                        "colorscale": [
                          [
                            0,
                            "#0d0887"
                          ],
                          [
                            0.1111111111111111,
                            "#46039f"
                          ],
                          [
                            0.2222222222222222,
                            "#7201a8"
                          ],
                          [
                            0.3333333333333333,
                            "#9c179e"
                          ],
                          [
                            0.4444444444444444,
                            "#bd3786"
                          ],
                          [
                            0.5555555555555556,
                            "#d8576b"
                          ],
                          [
                            0.6666666666666666,
                            "#ed7953"
                          ],
                          [
                            0.7777777777777778,
                            "#fb9f3a"
                          ],
                          [
                            0.8888888888888888,
                            "#fdca26"
                          ],
                          [
                            1,
                            "#f0f921"
                          ]
                        ],
                        "type": "contour"
                      }
                    ],
                    "heatmapgl": [
                      {
                        "colorbar": {
                          "outlinewidth": 0,
                          "ticks": ""
                        },
                        "colorscale": [
                          [
                            0,
                            "#0d0887"
                          ],
                          [
                            0.1111111111111111,
                            "#46039f"
                          ],
                          [
                            0.2222222222222222,
                            "#7201a8"
                          ],
                          [
                            0.3333333333333333,
                            "#9c179e"
                          ],
                          [
                            0.4444444444444444,
                            "#bd3786"
                          ],
                          [
                            0.5555555555555556,
                            "#d8576b"
                          ],
                          [
                            0.6666666666666666,
                            "#ed7953"
                          ],
                          [
                            0.7777777777777778,
                            "#fb9f3a"
                          ],
                          [
                            0.8888888888888888,
                            "#fdca26"
                          ],
                          [
                            1,
                            "#f0f921"
                          ]
                        ],
                        "type": "heatmapgl"
                      }
                    ],
                    "heatmap": [
                      {
                        "colorbar": {
                          "outlinewidth": 0,
                          "ticks": ""
                        },
                        "colorscale": [
                          [
                            0,
                            "#0d0887"
                          ],
                          [
                            0.1111111111111111,
                            "#46039f"
                          ],
                          [
                            0.2222222222222222,
                            "#7201a8"
                          ],
                          [
                            0.3333333333333333,
                            "#9c179e"
                          ],
                          [
                            0.4444444444444444,
                            "#bd3786"
                          ],
                          [
                            0.5555555555555556,
                            "#d8576b"
                          ],
                          [
                            0.6666666666666666,
                            "#ed7953"
                          ],
                          [
                            0.7777777777777778,
                            "#fb9f3a"
                          ],
                          [
                            0.8888888888888888,
                            "#fdca26"
                          ],
                          [
                            1,
                            "#f0f921"
                          ]
                        ],
                        "type": "heatmap"
                      }
                    ],
                    "histogram2dcontour": [
                      {
                        "colorbar": {
                          "outlinewidth": 0,
                          "ticks": ""
                        },
                        "colorscale": [
                          [
                            0,
                            "#0d0887"
                          ],
                          [
                            0.1111111111111111,
                            "#46039f"
                          ],
                          [
                            0.2222222222222222,
                            "#7201a8"
                          ],
                          [
                            0.3333333333333333,
                            "#9c179e"
                          ],
                          [
                            0.4444444444444444,
                            "#bd3786"
                          ],
                          [
                            0.5555555555555556,
                            "#d8576b"
                          ],
                          [
                            0.6666666666666666,
                            "#ed7953"
                          ],
                          [
                            0.7777777777777778,
                            "#fb9f3a"
                          ],
                          [
                            0.8888888888888888,
                            "#fdca26"
                          ],
                          [
                            1,
                            "#f0f921"
                          ]
                        ],
                        "type": "histogram2dcontour"
                      }
                    ],
                    "histogram2d": [
                      {
                        "colorbar": {
                          "outlinewidth": 0,
                          "ticks": ""
                        },
                        "colorscale": [
                          [
                            0,
                            "#0d0887"
                          ],
                          [
                            0.1111111111111111,
                            "#46039f"
                          ],
                          [
                            0.2222222222222222,
                            "#7201a8"
                          ],
                          [
                            0.3333333333333333,
                            "#9c179e"
                          ],
                          [
                            0.4444444444444444,
                            "#bd3786"
                          ],
                          [
                            0.5555555555555556,
                            "#d8576b"
                          ],
                          [
                            0.6666666666666666,
                            "#ed7953"
                          ],
                          [
                            0.7777777777777778,
                            "#fb9f3a"
                          ],
                          [
                            0.8888888888888888,
                            "#fdca26"
                          ],
                          [
                            1,
                            "#f0f921"
                          ]
                        ],
                        "type": "histogram2d"
                      }
                    ],
                    "histogram": [
                      {
                        "marker": {
                          "pattern": {
                            "fillmode": "overlay",
                            "size": 10,
                            "solidity": 0.2
                          }
                        },
                        "type": "histogram"
                      }
                    ],
                    "mesh3d": [
                      {
                        "colorbar": {
                          "outlinewidth": 0,
                          "ticks": ""
                        },
                        "type": "mesh3d"
                      }
                    ],
                    "parcoords": [
                      {
                        "line": {
                          "colorbar": {
                            "outlinewidth": 0,
                            "ticks": ""
                          }
                        },
                        "type": "parcoords"
                      }
                    ],
                    "pie": [
                      {
                        "automargin": true,
                        "type": "pie"
                      }
                    ],
                    "scatter3d": [
                      {
                        "line": {
                          "colorbar": {
                            "outlinewidth": 0,
                            "ticks": ""
                          }
                        },
                        "marker": {
                          "colorbar": {
                            "outlinewidth": 0,
                            "ticks": ""
                          }
                        },
                        "type": "scatter3d"
                      }
                    ],
                    "scattercarpet": [
                      {
                        "marker": {
                          "colorbar": {
                            "outlinewidth": 0,
                            "ticks": ""
                          }
                        },
                        "type": "scattercarpet"
                      }
                    ],
                    "scattergeo": [
                      {
                        "marker": {
                          "colorbar": {
                            "outlinewidth": 0,
                            "ticks": ""
                          }
                        },
                        "type": "scattergeo"
                      }
                    ],
                    "scattergl": [
                      {
                        "marker": {
                          "colorbar": {
                            "outlinewidth": 0,
                            "ticks": ""
                          }
                        },
                        "type": "scattergl"
                      }
                    ],
                    "scattermapbox": [
                      {
                        "marker": {
                          "colorbar": {
                            "outlinewidth": 0,
                            "ticks": ""
                          }
                        },
                        "type": "scattermapbox"
                      }
                    ],
                    "scatterpolargl": [
                      {
                        "marker": {
                          "colorbar": {
                            "outlinewidth": 0,
                            "ticks": ""
                          }
                        },
                        "type": "scatterpolargl"
                      }
                    ],
                    "scatterpolar": [
                      {
                        "marker": {
                          "colorbar": {
                            "outlinewidth": 0,
                            "ticks": ""
                          }
                        },
                        "type": "scatterpolar"
                      }
                    ],
                    "scatter": [
                      {
                        "fillpattern": {
                          "fillmode": "overlay",
                          "size": 10,
                          "solidity": 0.2
                        },
                        "type": "scatter"
                      }
                    ],
                    "scatterternary": [
                      {
                        "marker": {
                          "colorbar": {
                            "outlinewidth": 0,
                            "ticks": ""
                          }
                        },
                        "type": "scatterternary"
                      }
                    ],
                    "surface": [
                      {
                        "colorbar": {
                          "outlinewidth": 0,
                          "ticks": ""
                        },
                        "colorscale": [
                          [
                            0,
                            "#0d0887"
                          ],
                          [
                            0.1111111111111111,
                            "#46039f"
                          ],
                          [
                            0.2222222222222222,
                            "#7201a8"
                          ],
                          [
                            0.3333333333333333,
                            "#9c179e"
                          ],
                          [
                            0.4444444444444444,
                            "#bd3786"
                          ],
                          [
                            0.5555555555555556,
                            "#d8576b"
                          ],
                          [
                            0.6666666666666666,
                            "#ed7953"
                          ],
                          [
                            0.7777777777777778,
                            "#fb9f3a"
                          ],
                          [
                            0.8888888888888888,
                            "#fdca26"
                          ],
                          [
                            1,
                            "#f0f921"
                          ]
                        ],
                        "type": "surface"
                      }
                    ],
                    "table": [
                      {
                        "cells": {
                          "fill": {
                            "color": "#EBF0F8"
                          },
                          "line": {
                            "color": "white"
                          }
                        },
                        "header": {
                          "fill": {
                            "color": "#C8D4E3"
                          },
                          "line": {
                            "color": "white"
                          }
                        },
                        "type": "table"
                      }
                    ]
                  },
                  "layout": {
                    "annotationdefaults": {
                      "arrowcolor": "#2a3f5f",
                      "arrowhead": 0,
                      "arrowwidth": 1
                    },
                    "autotypenumbers": "strict",
                    "coloraxis": {
                      "colorbar": {
                        "outlinewidth": 0,
                        "ticks": ""
                      }
                    },
                    "colorscale": {
                      "diverging": [
                        [
                          0,
                          "#8e0152"
                        ],
                        [
                          0.1,
                          "#c51b7d"
                        ],
                        [
                          0.2,
                          "#de77ae"
                        ],
                        [
                          0.3,
                          "#f1b6da"
                        ],
                        [
                          0.4,
                          "#fde0ef"
                        ],
                        [
                          0.5,
                          "#f7f7f7"
                        ],
                        [
                          0.6,
                          "#e6f5d0"
                        ],
                        [
                          0.7,
                          "#b8e186"
                        ],
                        [
                          0.8,
                          "#7fbc41"
                        ],
                        [
                          0.9,
                          "#4d9221"
                        ],
                        [
                          1,
                          "#276419"
                        ]
                      ],
                      "sequential": [
                        [
                          0,
                          "#0d0887"
                        ],
                        [
                          0.1111111111111111,
                          "#46039f"
                        ],
                        [
                          0.2222222222222222,
                          "#7201a8"
                        ],
                        [
                          0.3333333333333333,
                          "#9c179e"
                        ],
                        [
                          0.4444444444444444,
                          "#bd3786"
                        ],
                        [
                          0.5555555555555556,
                          "#d8576b"
                        ],
                        [
                          0.6666666666666666,
                          "#ed7953"
                        ],
                        [
                          0.7777777777777778,
                          "#fb9f3a"
                        ],
                        [
                          0.8888888888888888,
                          "#fdca26"
                        ],
                        [
                          1,
                          "#f0f921"
                        ]
                      ],
                      "sequentialminus": [
                        [
                          0,
                          "#0d0887"
                        ],
                        [
                          0.1111111111111111,
                          "#46039f"
                        ],
                        [
                          0.2222222222222222,
                          "#7201a8"
                        ],
                        [
                          0.3333333333333333,
                          "#9c179e"
                        ],
                        [
                          0.4444444444444444,
                          "#bd3786"
                        ],
                        [
                          0.5555555555555556,
                          "#d8576b"
                        ],
                        [
                          0.6666666666666666,
                          "#ed7953"
                        ],
                        [
                          0.7777777777777778,
                          "#fb9f3a"
                        ],
                        [
                          0.8888888888888888,
                          "#fdca26"
                        ],
                        [
                          1,
                          "#f0f921"
                        ]
                      ]
                    },
                    "colorway": [
                      "#636efa",
                      "#EF553B",
                      "#00cc96",
                      "#ab63fa",
                      "#FFA15A",
                      "#19d3f3",
                      "#FF6692",
                      "#B6E880",
                      "#FF97FF",
                      "#FECB52"
                    ],
                    "font": {
                      "color": "#2a3f5f"
                    },
                    "geo": {
                      "bgcolor": "white",
                      "lakecolor": "white",
                      "landcolor": "#E5ECF6",
                      "showlakes": true,
                      "showland": true,
                      "subunitcolor": "white"
                    },
                    "hoverlabel": {
                      "align": "left"
                    },
                    "hovermode": "closest",
                    "mapbox": {
                      "style": "light"
                    },
                    "paper_bgcolor": "white",
                    "plot_bgcolor": "#E5ECF6",
                    "polar": {
                      "angularaxis": {
                        "gridcolor": "white",
                        "linecolor": "white",
                        "ticks": ""
                      },
                      "bgcolor": "#E5ECF6",
                      "radialaxis": {
                        "gridcolor": "white",
                        "linecolor": "white",
                        "ticks": ""
                      }
                    },
                    "scene": {
                      "xaxis": {
                        "backgroundcolor": "#E5ECF6",
                        "gridcolor": "white",
                        "gridwidth": 2,
                        "linecolor": "white",
                        "showbackground": true,
                        "ticks": "",
                        "zerolinecolor": "white"
                      },
                      "yaxis": {
                        "backgroundcolor": "#E5ECF6",
                        "gridcolor": "white",
                        "gridwidth": 2,
                        "linecolor": "white",
                        "showbackground": true,
                        "ticks": "",
                        "zerolinecolor": "white"
                      },
                      "zaxis": {
                        "backgroundcolor": "#E5ECF6",
                        "gridcolor": "white",
                        "gridwidth": 2,
                        "linecolor": "white",
                        "showbackground": true,
                        "ticks": "",
                        "zerolinecolor": "white"
                      }
                    },
                    "shapedefaults": {
                      "line": {
                        "color": "#2a3f5f"
                      }
                    },
                    "ternary": {
                      "aaxis": {
                        "gridcolor": "white",
                        "linecolor": "white",
                        "ticks": ""
                      },
                      "baxis": {
                        "gridcolor": "white",
                        "linecolor": "white",
                        "ticks": ""
                      },
                      "bgcolor": "#E5ECF6",
                      "caxis": {
                        "gridcolor": "white",
                        "linecolor": "white",
                        "ticks": ""
                      }
                    },
                    "title": {
                      "x": 0.05
                    },
                    "xaxis": {
                      "automargin": true,
                      "gridcolor": "white",
                      "linecolor": "white",
                      "ticks": "",
                      "title": {
                        "standoff": 15
                      },
                      "zerolinecolor": "white",
                      "zerolinewidth": 2
                    },
                    "yaxis": {
                      "automargin": true,
                      "gridcolor": "white",
                      "linecolor": "white",
                      "ticks": "",
                      "title": {
                        "standoff": 15
                      },
                      "zerolinecolor": "white",
                      "zerolinewidth": 2
                    }
                  }
                },
                "title": {
                  "text": "Fraudulent VS Non-Fraudulent Distribution"
                }
              },
              "config": {
                "showLink": false,
                "linkText": "Export to plot.ly",
                "plotlyServerURL": "https://plot.ly"
              }
            },
            "text/html": [
              "<div>                            <div id=\"0c4718ea-d3b0-44e9-bafd-69b032e9a677\" class=\"plotly-graph-div\" style=\"height:525px; width:100%;\"></div>            <script type=\"text/javascript\">                require([\"plotly\"], function(Plotly) {                    window.PLOTLYENV=window.PLOTLYENV || {};                                    if (document.getElementById(\"0c4718ea-d3b0-44e9-bafd-69b032e9a677\")) {                    Plotly.newPlot(                        \"0c4718ea-d3b0-44e9-bafd-69b032e9a677\",                        [{\"hole\":0.2,\"labels\":[0.0,1.0,null],\"marker\":{\"colors\":[\"#983CDF\",\"#EF8E4C\"],\"line\":{\"color\":\"#000000\",\"width\":2}},\"values\":[25749,88],\"type\":\"pie\"}],                        {\"template\":{\"data\":{\"barpolar\":[{\"marker\":{\"line\":{\"color\":\"#E5ECF6\",\"width\":0.5},\"pattern\":{\"fillmode\":\"overlay\",\"size\":10,\"solidity\":0.2}},\"type\":\"barpolar\"}],\"bar\":[{\"error_x\":{\"color\":\"#2a3f5f\"},\"error_y\":{\"color\":\"#2a3f5f\"},\"marker\":{\"line\":{\"color\":\"#E5ECF6\",\"width\":0.5},\"pattern\":{\"fillmode\":\"overlay\",\"size\":10,\"solidity\":0.2}},\"type\":\"bar\"}],\"carpet\":[{\"aaxis\":{\"endlinecolor\":\"#2a3f5f\",\"gridcolor\":\"white\",\"linecolor\":\"white\",\"minorgridcolor\":\"white\",\"startlinecolor\":\"#2a3f5f\"},\"baxis\":{\"endlinecolor\":\"#2a3f5f\",\"gridcolor\":\"white\",\"linecolor\":\"white\",\"minorgridcolor\":\"white\",\"startlinecolor\":\"#2a3f5f\"},\"type\":\"carpet\"}],\"choropleth\":[{\"colorbar\":{\"outlinewidth\":0,\"ticks\":\"\"},\"type\":\"choropleth\"}],\"contourcarpet\":[{\"colorbar\":{\"outlinewidth\":0,\"ticks\":\"\"},\"type\":\"contourcarpet\"}],\"contour\":[{\"colorbar\":{\"outlinewidth\":0,\"ticks\":\"\"},\"colorscale\":[[0.0,\"#0d0887\"],[0.1111111111111111,\"#46039f\"],[0.2222222222222222,\"#7201a8\"],[0.3333333333333333,\"#9c179e\"],[0.4444444444444444,\"#bd3786\"],[0.5555555555555556,\"#d8576b\"],[0.6666666666666666,\"#ed7953\"],[0.7777777777777778,\"#fb9f3a\"],[0.8888888888888888,\"#fdca26\"],[1.0,\"#f0f921\"]],\"type\":\"contour\"}],\"heatmapgl\":[{\"colorbar\":{\"outlinewidth\":0,\"ticks\":\"\"},\"colorscale\":[[0.0,\"#0d0887\"],[0.1111111111111111,\"#46039f\"],[0.2222222222222222,\"#7201a8\"],[0.3333333333333333,\"#9c179e\"],[0.4444444444444444,\"#bd3786\"],[0.5555555555555556,\"#d8576b\"],[0.6666666666666666,\"#ed7953\"],[0.7777777777777778,\"#fb9f3a\"],[0.8888888888888888,\"#fdca26\"],[1.0,\"#f0f921\"]],\"type\":\"heatmapgl\"}],\"heatmap\":[{\"colorbar\":{\"outlinewidth\":0,\"ticks\":\"\"},\"colorscale\":[[0.0,\"#0d0887\"],[0.1111111111111111,\"#46039f\"],[0.2222222222222222,\"#7201a8\"],[0.3333333333333333,\"#9c179e\"],[0.4444444444444444,\"#bd3786\"],[0.5555555555555556,\"#d8576b\"],[0.6666666666666666,\"#ed7953\"],[0.7777777777777778,\"#fb9f3a\"],[0.8888888888888888,\"#fdca26\"],[1.0,\"#f0f921\"]],\"type\":\"heatmap\"}],\"histogram2dcontour\":[{\"colorbar\":{\"outlinewidth\":0,\"ticks\":\"\"},\"colorscale\":[[0.0,\"#0d0887\"],[0.1111111111111111,\"#46039f\"],[0.2222222222222222,\"#7201a8\"],[0.3333333333333333,\"#9c179e\"],[0.4444444444444444,\"#bd3786\"],[0.5555555555555556,\"#d8576b\"],[0.6666666666666666,\"#ed7953\"],[0.7777777777777778,\"#fb9f3a\"],[0.8888888888888888,\"#fdca26\"],[1.0,\"#f0f921\"]],\"type\":\"histogram2dcontour\"}],\"histogram2d\":[{\"colorbar\":{\"outlinewidth\":0,\"ticks\":\"\"},\"colorscale\":[[0.0,\"#0d0887\"],[0.1111111111111111,\"#46039f\"],[0.2222222222222222,\"#7201a8\"],[0.3333333333333333,\"#9c179e\"],[0.4444444444444444,\"#bd3786\"],[0.5555555555555556,\"#d8576b\"],[0.6666666666666666,\"#ed7953\"],[0.7777777777777778,\"#fb9f3a\"],[0.8888888888888888,\"#fdca26\"],[1.0,\"#f0f921\"]],\"type\":\"histogram2d\"}],\"histogram\":[{\"marker\":{\"pattern\":{\"fillmode\":\"overlay\",\"size\":10,\"solidity\":0.2}},\"type\":\"histogram\"}],\"mesh3d\":[{\"colorbar\":{\"outlinewidth\":0,\"ticks\":\"\"},\"type\":\"mesh3d\"}],\"parcoords\":[{\"line\":{\"colorbar\":{\"outlinewidth\":0,\"ticks\":\"\"}},\"type\":\"parcoords\"}],\"pie\":[{\"automargin\":true,\"type\":\"pie\"}],\"scatter3d\":[{\"line\":{\"colorbar\":{\"outlinewidth\":0,\"ticks\":\"\"}},\"marker\":{\"colorbar\":{\"outlinewidth\":0,\"ticks\":\"\"}},\"type\":\"scatter3d\"}],\"scattercarpet\":[{\"marker\":{\"colorbar\":{\"outlinewidth\":0,\"ticks\":\"\"}},\"type\":\"scattercarpet\"}],\"scattergeo\":[{\"marker\":{\"colorbar\":{\"outlinewidth\":0,\"ticks\":\"\"}},\"type\":\"scattergeo\"}],\"scattergl\":[{\"marker\":{\"colorbar\":{\"outlinewidth\":0,\"ticks\":\"\"}},\"type\":\"scattergl\"}],\"scattermapbox\":[{\"marker\":{\"colorbar\":{\"outlinewidth\":0,\"ticks\":\"\"}},\"type\":\"scattermapbox\"}],\"scatterpolargl\":[{\"marker\":{\"colorbar\":{\"outlinewidth\":0,\"ticks\":\"\"}},\"type\":\"scatterpolargl\"}],\"scatterpolar\":[{\"marker\":{\"colorbar\":{\"outlinewidth\":0,\"ticks\":\"\"}},\"type\":\"scatterpolar\"}],\"scatter\":[{\"fillpattern\":{\"fillmode\":\"overlay\",\"size\":10,\"solidity\":0.2},\"type\":\"scatter\"}],\"scatterternary\":[{\"marker\":{\"colorbar\":{\"outlinewidth\":0,\"ticks\":\"\"}},\"type\":\"scatterternary\"}],\"surface\":[{\"colorbar\":{\"outlinewidth\":0,\"ticks\":\"\"},\"colorscale\":[[0.0,\"#0d0887\"],[0.1111111111111111,\"#46039f\"],[0.2222222222222222,\"#7201a8\"],[0.3333333333333333,\"#9c179e\"],[0.4444444444444444,\"#bd3786\"],[0.5555555555555556,\"#d8576b\"],[0.6666666666666666,\"#ed7953\"],[0.7777777777777778,\"#fb9f3a\"],[0.8888888888888888,\"#fdca26\"],[1.0,\"#f0f921\"]],\"type\":\"surface\"}],\"table\":[{\"cells\":{\"fill\":{\"color\":\"#EBF0F8\"},\"line\":{\"color\":\"white\"}},\"header\":{\"fill\":{\"color\":\"#C8D4E3\"},\"line\":{\"color\":\"white\"}},\"type\":\"table\"}]},\"layout\":{\"annotationdefaults\":{\"arrowcolor\":\"#2a3f5f\",\"arrowhead\":0,\"arrowwidth\":1},\"autotypenumbers\":\"strict\",\"coloraxis\":{\"colorbar\":{\"outlinewidth\":0,\"ticks\":\"\"}},\"colorscale\":{\"diverging\":[[0,\"#8e0152\"],[0.1,\"#c51b7d\"],[0.2,\"#de77ae\"],[0.3,\"#f1b6da\"],[0.4,\"#fde0ef\"],[0.5,\"#f7f7f7\"],[0.6,\"#e6f5d0\"],[0.7,\"#b8e186\"],[0.8,\"#7fbc41\"],[0.9,\"#4d9221\"],[1,\"#276419\"]],\"sequential\":[[0.0,\"#0d0887\"],[0.1111111111111111,\"#46039f\"],[0.2222222222222222,\"#7201a8\"],[0.3333333333333333,\"#9c179e\"],[0.4444444444444444,\"#bd3786\"],[0.5555555555555556,\"#d8576b\"],[0.6666666666666666,\"#ed7953\"],[0.7777777777777778,\"#fb9f3a\"],[0.8888888888888888,\"#fdca26\"],[1.0,\"#f0f921\"]],\"sequentialminus\":[[0.0,\"#0d0887\"],[0.1111111111111111,\"#46039f\"],[0.2222222222222222,\"#7201a8\"],[0.3333333333333333,\"#9c179e\"],[0.4444444444444444,\"#bd3786\"],[0.5555555555555556,\"#d8576b\"],[0.6666666666666666,\"#ed7953\"],[0.7777777777777778,\"#fb9f3a\"],[0.8888888888888888,\"#fdca26\"],[1.0,\"#f0f921\"]]},\"colorway\":[\"#636efa\",\"#EF553B\",\"#00cc96\",\"#ab63fa\",\"#FFA15A\",\"#19d3f3\",\"#FF6692\",\"#B6E880\",\"#FF97FF\",\"#FECB52\"],\"font\":{\"color\":\"#2a3f5f\"},\"geo\":{\"bgcolor\":\"white\",\"lakecolor\":\"white\",\"landcolor\":\"#E5ECF6\",\"showlakes\":true,\"showland\":true,\"subunitcolor\":\"white\"},\"hoverlabel\":{\"align\":\"left\"},\"hovermode\":\"closest\",\"mapbox\":{\"style\":\"light\"},\"paper_bgcolor\":\"white\",\"plot_bgcolor\":\"#E5ECF6\",\"polar\":{\"angularaxis\":{\"gridcolor\":\"white\",\"linecolor\":\"white\",\"ticks\":\"\"},\"bgcolor\":\"#E5ECF6\",\"radialaxis\":{\"gridcolor\":\"white\",\"linecolor\":\"white\",\"ticks\":\"\"}},\"scene\":{\"xaxis\":{\"backgroundcolor\":\"#E5ECF6\",\"gridcolor\":\"white\",\"gridwidth\":2,\"linecolor\":\"white\",\"showbackground\":true,\"ticks\":\"\",\"zerolinecolor\":\"white\"},\"yaxis\":{\"backgroundcolor\":\"#E5ECF6\",\"gridcolor\":\"white\",\"gridwidth\":2,\"linecolor\":\"white\",\"showbackground\":true,\"ticks\":\"\",\"zerolinecolor\":\"white\"},\"zaxis\":{\"backgroundcolor\":\"#E5ECF6\",\"gridcolor\":\"white\",\"gridwidth\":2,\"linecolor\":\"white\",\"showbackground\":true,\"ticks\":\"\",\"zerolinecolor\":\"white\"}},\"shapedefaults\":{\"line\":{\"color\":\"#2a3f5f\"}},\"ternary\":{\"aaxis\":{\"gridcolor\":\"white\",\"linecolor\":\"white\",\"ticks\":\"\"},\"baxis\":{\"gridcolor\":\"white\",\"linecolor\":\"white\",\"ticks\":\"\"},\"bgcolor\":\"#E5ECF6\",\"caxis\":{\"gridcolor\":\"white\",\"linecolor\":\"white\",\"ticks\":\"\"}},\"title\":{\"x\":0.05},\"xaxis\":{\"automargin\":true,\"gridcolor\":\"white\",\"linecolor\":\"white\",\"ticks\":\"\",\"title\":{\"standoff\":15},\"zerolinecolor\":\"white\",\"zerolinewidth\":2},\"yaxis\":{\"automargin\":true,\"gridcolor\":\"white\",\"linecolor\":\"white\",\"ticks\":\"\",\"title\":{\"standoff\":15},\"zerolinecolor\":\"white\",\"zerolinewidth\":2}}},\"title\":{\"text\":\"Fraudulent VS Non-Fraudulent Distribution\"}},                        {\"responsive\": true}                    ).then(function(){\n",
              "                            \n",
              "var gd = document.getElementById('0c4718ea-d3b0-44e9-bafd-69b032e9a677');\n",
              "var x = new MutationObserver(function (mutations, observer) {{\n",
              "        var display = window.getComputedStyle(gd).display;\n",
              "        if (!display || display === 'none') {{\n",
              "            console.log([gd, 'removed!']);\n",
              "            Plotly.purge(gd);\n",
              "            observer.disconnect();\n",
              "        }}\n",
              "}});\n",
              "\n",
              "// Listen for the removal of the full notebook cells\n",
              "var notebookContainer = gd.closest('#notebook-container');\n",
              "if (notebookContainer) {{\n",
              "    x.observe(notebookContainer, {childList: true});\n",
              "}}\n",
              "\n",
              "// Listen for the clearing of the current output cell\n",
              "var outputEl = gd.closest('.output');\n",
              "if (outputEl) {{\n",
              "    x.observe(outputEl, {childList: true});\n",
              "}}\n",
              "\n",
              "                        })                };                });            </script>        </div>"
            ]
          },
          "metadata": {}
        }
      ]
    },
    {
      "cell_type": "code",
      "source": [
        "data = [go.Heatmap(z = np.array(train.corr().values),\n",
        "                   x = np.array(train.corr().columns),\n",
        "                   y = np.array(train.corr().columns),\n",
        "                     colorscale='Viridis',)\n",
        "       ]\n",
        "layout = go.Layout(dict(title = 'Correlation Matrix for variables',\n",
        "                            #autosize = False,\n",
        "                            #height  = 1400,\n",
        "                            #width   = 1600,\n",
        "                            margin  = dict(r = 0 ,l = 100,\n",
        "                                           t = 0,b = 100,\n",
        "                                         ),\n",
        "                            yaxis   = dict(tickfont = dict(size = 9)),\n",
        "                            xaxis   = dict(tickfont = dict(size = 9)),\n",
        "                           )\n",
        "                      )\n",
        "\n",
        "fig = go.Figure(data=data,layout = layout)\n",
        "iplot(fig)"
      ],
      "metadata": {
        "colab": {
          "base_uri": "https://localhost:8080/",
          "height": 542
        },
        "id": "L90_RxHjys4C",
        "outputId": "502cde7a-f7ce-49e2-e0aa-109f32510727"
      },
      "execution_count": 19,
      "outputs": [
        {
          "output_type": "display_data",
          "data": {
            "application/vnd.plotly.v1+json": {
              "data": [
                {
                  "colorscale": [
                    [
                      0,
                      "#440154"
                    ],
                    [
                      0.1111111111111111,
                      "#482878"
                    ],
                    [
                      0.2222222222222222,
                      "#3e4989"
                    ],
                    [
                      0.3333333333333333,
                      "#31688e"
                    ],
                    [
                      0.4444444444444444,
                      "#26828e"
                    ],
                    [
                      0.5555555555555556,
                      "#1f9e89"
                    ],
                    [
                      0.6666666666666666,
                      "#35b779"
                    ],
                    [
                      0.7777777777777778,
                      "#6ece58"
                    ],
                    [
                      0.8888888888888888,
                      "#b5de2b"
                    ],
                    [
                      1,
                      "#fde725"
                    ]
                  ],
                  "x": [
                    "Time",
                    "V1",
                    "V2",
                    "V3",
                    "V4",
                    "V5",
                    "V6",
                    "V7",
                    "V8",
                    "V9",
                    "V10",
                    "V11",
                    "V12",
                    "V13",
                    "V14",
                    "V15",
                    "V16",
                    "V17",
                    "V18",
                    "V19",
                    "V20",
                    "V21",
                    "V22",
                    "V23",
                    "V24",
                    "V25",
                    "V26",
                    "V27",
                    "V28",
                    "Amount",
                    "Class"
                  ],
                  "y": [
                    "Time",
                    "V1",
                    "V2",
                    "V3",
                    "V4",
                    "V5",
                    "V6",
                    "V7",
                    "V8",
                    "V9",
                    "V10",
                    "V11",
                    "V12",
                    "V13",
                    "V14",
                    "V15",
                    "V16",
                    "V17",
                    "V18",
                    "V19",
                    "V20",
                    "V21",
                    "V22",
                    "V23",
                    "V24",
                    "V25",
                    "V26",
                    "V27",
                    "V28",
                    "Amount",
                    "Class"
                  ],
                  "z": [
                    [
                      1,
                      0.013667036225378933,
                      -0.0784025903017519,
                      -0.0801292992937882,
                      -0.02225065657758026,
                      -0.0807195962505426,
                      -0.04085400562805196,
                      -0.025640401635239368,
                      0.04525439602624075,
                      -0.27248350601301013,
                      0.08655430481560628,
                      -0.14304963597520376,
                      0.2846775637644645,
                      -0.27645500298476877,
                      -0.2069358847973038,
                      0.14483762211931003,
                      0.03866187416546563,
                      -0.077543966465346,
                      -0.04975233239698996,
                      0.023532291540160316,
                      0.014410726204340214,
                      0.021922305458801094,
                      0.03761310285567527,
                      -0.008338846867040684,
                      -0.012663397647925742,
                      0.060046258326605505,
                      -0.04374765131667425,
                      -0.0013032485330733976,
                      0.0014614595811510136,
                      0.05370720034306681,
                      -0.007222265803114241
                    ],
                    [
                      0.013667036225378933,
                      1,
                      -0.2089363351879891,
                      0.36476257606806994,
                      -0.12083796694556838,
                      0.14910656624230198,
                      0.11765927134581246,
                      0.23227557783498212,
                      -0.14715875609345752,
                      -0.018112349146750056,
                      0.041344686787372395,
                      -0.05337435171186644,
                      0.07167372930918953,
                      0.016586162989765348,
                      0.17935879644791,
                      0.048762714102762714,
                      0.14818837752864825,
                      0.12830847515879512,
                      0.005602099059826225,
                      0.015586081277063714,
                      -0.12632947587865392,
                      -0.10272802623489143,
                      0.034007539742728965,
                      -0.04203590537869868,
                      0.002131322040527596,
                      0.16165838335034116,
                      0.02542608196721182,
                      -0.13729820047377278,
                      0.13254219825824456,
                      -0.21200534922456257,
                      -0.25958568681182526
                    ],
                    [
                      -0.0784025903017519,
                      -0.2089363351879891,
                      1,
                      -0.3204659103845129,
                      0.13405866045311018,
                      -0.18562905528294057,
                      -0.03478942051516789,
                      -0.11014663485615991,
                      0.08163786368698679,
                      -0.05154974480421923,
                      -0.023367073218679285,
                      0.11336096671563368,
                      -0.12838828677767838,
                      0.04752069933632567,
                      -0.12380001817725254,
                      0.0519177818024542,
                      -0.08037594276437939,
                      -0.09940434375020589,
                      -0.010248090942381799,
                      -0.019031578525062192,
                      -0.05632607915840939,
                      0.039093713874389,
                      -0.12205969278217167,
                      -0.0025691373715677427,
                      -0.029510482699328273,
                      -0.08721218052022237,
                      -0.0603633186767123,
                      0.08055967996017312,
                      0.020385919908200115,
                      -0.4821382989623742,
                      0.2337669148082731
                    ],
                    [
                      -0.0801292992937882,
                      0.36476257606806994,
                      -0.3204659103845129,
                      1,
                      -0.18098576334328242,
                      0.3607758556882254,
                      0.03545401817500769,
                      0.41438131839962405,
                      -0.3429432803941176,
                      0.1831219948337973,
                      0.2368867191365199,
                      -0.15576977201121764,
                      0.14584629077844102,
                      0.003880360455060168,
                      0.2817985983222703,
                      -0.1650609640662491,
                      0.061214957899231905,
                      0.20641512081753102,
                      0.056688473809589655,
                      -0.03532436120213821,
                      -0.11356098666566868,
                      -0.020364536455882192,
                      0.24478911634209627,
                      0.05682822296034667,
                      0.03889957389968417,
                      -0.18830816980574963,
                      0.0656186064872775,
                      -0.18529864251294914,
                      0.04126566181711838,
                      -0.15178865679156786,
                      -0.44914917587658815
                    ],
                    [
                      -0.02225065657758026,
                      -0.12083796694556838,
                      0.13405866045311018,
                      -0.18098576334328242,
                      1,
                      -0.10478561904468299,
                      -0.04766257179173236,
                      -0.14292705671019795,
                      0.11273288565883086,
                      -0.07295614126402991,
                      -0.09770772277214128,
                      0.07044961647899645,
                      -0.13238621889890292,
                      0.05854466576008902,
                      -0.1001641294347495,
                      -0.12706213574185965,
                      -0.17282250967367496,
                      -0.006172467953622297,
                      -0.03451671933987283,
                      -0.030383498603965473,
                      0.02404835994744569,
                      0.007280738398085038,
                      -0.019026840574841716,
                      -0.011199401526168324,
                      -0.024831980106484252,
                      -0.02253489214572654,
                      0.04111646959952094,
                      0.05756270973292378,
                      -0.01954367701856687,
                      0.11163665701199003,
                      0.24466835518229027
                    ],
                    [
                      -0.0807195962505426,
                      0.14910656624230198,
                      -0.18562905528294057,
                      0.3607758556882254,
                      -0.10478561904468299,
                      1,
                      0.11151664191840167,
                      0.12947865666360037,
                      -0.16894132741243503,
                      0.042819672637864105,
                      0.18152948487827383,
                      -0.07431602303585925,
                      0.057503231871760305,
                      0.04206753831123632,
                      0.10741734125829036,
                      0.07063308250483691,
                      0.14100952591535762,
                      0.08610757196225576,
                      0.10550681828156738,
                      -0.004182049184608918,
                      -0.004218198864359108,
                      -0.0547850487042423,
                      -0.06267948793341496,
                      0.034550949917588565,
                      -0.004096599860389265,
                      -0.07229083816023292,
                      -0.04641476313007963,
                      -0.13278861953121107,
                      0.000042981917522708554,
                      -0.36021552387680883,
                      -0.2374305971062244
                    ],
                    [
                      -0.04085400562805196,
                      0.11765927134581246,
                      -0.03478942051516789,
                      0.03545401817500769,
                      -0.04766257179173236,
                      0.11151664191840167,
                      1,
                      0.11246422720918249,
                      -0.09534263724066945,
                      0.054510814348506215,
                      0.06598076915767624,
                      -0.10215573001069717,
                      0.0011553523490909024,
                      0.025682169242154405,
                      0.0999764711064572,
                      -0.11540796661799779,
                      0.02919641550486938,
                      0.04381417892057733,
                      0.05580033881653275,
                      0.09380122651198,
                      -0.019216514672751355,
                      0.04608257088477731,
                      0.012308131507138274,
                      -0.006742004935771644,
                      0.020253313251331208,
                      0.06087935462273771,
                      0.010860074233933151,
                      -0.026209123383695285,
                      -0.03073367621564942,
                      0.21523645477999878,
                      -0.11342517571965123
                    ],
                    [
                      -0.025640401635239368,
                      0.23227557783498212,
                      -0.11014663485615991,
                      0.41438131839962405,
                      -0.14292705671019795,
                      0.12947865666360037,
                      0.11246422720918249,
                      1,
                      -0.1556099665702553,
                      0.06038994716379874,
                      0.23152345931039564,
                      -0.1508010014942602,
                      0.2046283804015965,
                      -0.02357972352824575,
                      0.12278254360310575,
                      0.0779242649803815,
                      0.15894469640126743,
                      0.18434468561383116,
                      0.11904401465721391,
                      -0.04957473386817271,
                      -0.029897462586883347,
                      -0.10760538830785275,
                      0.031155856034165597,
                      0.054661003514591584,
                      0.00754903187801514,
                      -0.12518658028788354,
                      -0.038473873027252976,
                      -0.14831190241649234,
                      -0.10502941982337458,
                      0.3117761800728585,
                      -0.36253227566448787
                    ],
                    [
                      0.04525439602624075,
                      -0.14715875609345752,
                      0.08163786368698679,
                      -0.3429432803941176,
                      0.11273288565883086,
                      -0.16894132741243503,
                      -0.09534263724066945,
                      -0.1556099665702553,
                      1,
                      -0.08147556511827556,
                      -0.16565199185067625,
                      0.030185792540030332,
                      -0.08825004390913518,
                      -0.011428437232644743,
                      -0.08150965492208143,
                      -0.011785920301659454,
                      -0.05968010941858724,
                      -0.09729798418210013,
                      -0.04117129184030303,
                      0.022730170453172927,
                      0.05194562381036019,
                      -0.15669441758717,
                      0.05286317332225627,
                      -0.09160474367183588,
                      0.009232798528544691,
                      0.046713629772273314,
                      -0.00961002132936027,
                      0.09060205367128064,
                      0.038356256393446024,
                      -0.058945296506682676,
                      0.18847426852784777
                    ],
                    [
                      -0.27248350601301013,
                      -0.018112349146750056,
                      -0.05154974480421923,
                      0.1831219948337973,
                      -0.07295614126402991,
                      0.042819672637864105,
                      0.054510814348506215,
                      0.06038994716379874,
                      -0.08147556511827556,
                      1,
                      -0.014000763764491865,
                      0.10193280813929088,
                      -0.2716898197151874,
                      0.27574726622774803,
                      0.2944874768727467,
                      -0.22209307309430282,
                      -0.06307135128641814,
                      0.2506328136182934,
                      0.13229779999901195,
                      -0.059696365926729555,
                      0.00880177351037151,
                      -0.02735007242790988,
                      0.00931599757292198,
                      -0.02585034940353114,
                      0.001596629603762078,
                      0.10236733035368205,
                      0.06448376502912609,
                      -0.06100782881199352,
                      -0.0781282846240508,
                      -0.010708356979597452,
                      -0.157878199559049
                    ],
                    [
                      0.08655430481560628,
                      0.041344686787372395,
                      -0.023367073218679285,
                      0.2368867191365199,
                      -0.09770772277214128,
                      0.18152948487827383,
                      0.06598076915767624,
                      0.23152345931039564,
                      -0.16565199185067625,
                      -0.014000763764491865,
                      1,
                      -0.15273709555576317,
                      0.23924503831837687,
                      -0.10632090718608023,
                      0.04722225247284716,
                      0.07918976134762319,
                      0.2244225746281602,
                      0.20537990290224084,
                      0.07149577395616745,
                      0.009447123004825704,
                      0.034667994930314874,
                      0.009374010020872374,
                      -0.03373884716984267,
                      0.02460171581248788,
                      0.012120314202004517,
                      -0.01846219494427045,
                      0.012813900515082235,
                      -0.13924586824990476,
                      -0.08868877118793045,
                      -0.10900468680095407,
                      -0.34220832147514346
                    ],
                    [
                      -0.14304963597520376,
                      -0.05337435171186644,
                      0.11336096671563368,
                      -0.15576977201121764,
                      0.07044961647899645,
                      -0.07431602303585925,
                      -0.10215573001069717,
                      -0.1508010014942602,
                      0.030185792540030332,
                      0.10193280813929088,
                      -0.15273709555576317,
                      1,
                      -0.33858127323288084,
                      0.17718291789655982,
                      0.01824385182468916,
                      -0.11373238476823296,
                      -0.13286045212289868,
                      -0.11070596718106947,
                      -0.057356731641629626,
                      -0.07133725509448346,
                      0.023386196208847007,
                      0.018311616739443738,
                      0.03978758603274157,
                      0.03165548415036463,
                      0.01753063694633213,
                      -0.09504592403907827,
                      0.037637076684879575,
                      0.04756803393937976,
                      0.010377474485335037,
                      -0.02868153130515892,
                      0.26708026841568333
                    ],
                    [
                      0.2846775637644645,
                      0.07167372930918953,
                      -0.12838828677767838,
                      0.14584629077844102,
                      -0.13238621889890292,
                      0.057503231871760305,
                      0.0011553523490909024,
                      0.2046283804015965,
                      -0.08825004390913518,
                      -0.2716898197151874,
                      0.23924503831837687,
                      -0.33858127323288084,
                      1,
                      -0.3885668088028364,
                      -0.1257068672592759,
                      0.17262768822594102,
                      0.09590005305197388,
                      0.04750940905206406,
                      0.028842777002594966,
                      0.01586200848413739,
                      -0.001303977679385321,
                      0.04991884516722838,
                      0.0763803205959732,
                      -0.013273553127194391,
                      0.02789879269982729,
                      0.01656836654949224,
                      -0.020093974316159845,
                      -0.03759655272693337,
                      0.0028453635086963273,
                      0.043477184987696066,
                      -0.3095516889781102
                    ],
                    [
                      -0.27645500298476877,
                      0.016586162989765348,
                      0.04752069933632567,
                      0.003880360455060168,
                      0.05854466576008902,
                      0.04206753831123632,
                      0.025682169242154405,
                      -0.02357972352824575,
                      -0.011428437232644743,
                      0.27574726622774803,
                      -0.10632090718608023,
                      0.17718291789655982,
                      -0.3885668088028364,
                      1,
                      0.2796988821165805,
                      -0.16095220151566844,
                      0.03489083821122347,
                      0.15502021522201573,
                      0.06976688207539376,
                      -0.028951249869154403,
                      0.0029723784484414714,
                      -0.02796681189973754,
                      -0.04934229970130363,
                      -0.008393548956846969,
                      -0.0013219490809406903,
                      0.03956767119589195,
                      0.037019062880809084,
                      -0.005991297314462976,
                      -0.004723444030765391,
                      -0.012265247251151572,
                      -0.003901046580259291
                    ],
                    [
                      -0.2069358847973038,
                      0.17935879644791,
                      -0.12380001817725254,
                      0.2817985983222703,
                      -0.1001641294347495,
                      0.10741734125829036,
                      0.0999764711064572,
                      0.12278254360310575,
                      -0.08150965492208143,
                      0.2944874768727467,
                      0.04722225247284716,
                      0.01824385182468916,
                      -0.1257068672592759,
                      0.2796988821165805,
                      1,
                      -0.09503131624586952,
                      0.2647585078219122,
                      0.3982367803845602,
                      0.17655995534825564,
                      -0.06071026487074814,
                      -0.11638914807387075,
                      -0.03906012027035432,
                      -0.07262609549187456,
                      0.04270249938946014,
                      0.041361396108035596,
                      -0.05434043067678065,
                      0.03282827197136449,
                      -0.09815015685971569,
                      0.04410576113714983,
                      -0.014105324605023905,
                      -0.4186344505799684
                    ],
                    [
                      0.14483762211931003,
                      0.048762714102762714,
                      0.0519177818024542,
                      -0.1650609640662491,
                      -0.12706213574185965,
                      0.07063308250483691,
                      -0.11540796661799779,
                      0.0779242649803815,
                      -0.011785920301659454,
                      -0.22209307309430282,
                      0.07918976134762319,
                      -0.11373238476823296,
                      0.17262768822594102,
                      -0.16095220151566844,
                      -0.09503131624586952,
                      1,
                      0.05846938238394333,
                      -0.09593771321231967,
                      -0.008291664140112747,
                      -0.009263262907321088,
                      -0.003004649481552482,
                      0.02032306013801313,
                      0.01523867573851412,
                      0.013765226838340796,
                      -0.008427274166522933,
                      -0.09729179296460387,
                      -0.058764456731902705,
                      0.011688000233574494,
                      -0.0335355266837688,
                      -0.03899876126260166,
                      -0.00909868094440621
                    ],
                    [
                      0.03866187416546563,
                      0.14818837752864825,
                      -0.08037594276437939,
                      0.061214957899231905,
                      -0.17282250967367496,
                      0.14100952591535762,
                      0.02919641550486938,
                      0.15894469640126743,
                      -0.05968010941858724,
                      -0.06307135128641814,
                      0.2244225746281602,
                      -0.13286045212289868,
                      0.09590005305197388,
                      0.03489083821122347,
                      0.2647585078219122,
                      0.05846938238394333,
                      1,
                      0.23488285534226222,
                      0.19629080910155444,
                      -0.040916615945785745,
                      -0.007564498680751888,
                      -0.03569128505478334,
                      -0.03414861355866168,
                      0.0017962906420619703,
                      -0.002954727234982339,
                      0.07875368492341621,
                      0.0646488767374442,
                      -0.07783346542481691,
                      -0.0341550726247604,
                      -0.012705638201976845,
                      -0.3062854976587467
                    ],
                    [
                      -0.077543966465346,
                      0.12830847515879512,
                      -0.09940434375020589,
                      0.20641512081753102,
                      -0.006172467953622297,
                      0.08610757196225576,
                      0.04381417892057733,
                      0.18434468561383116,
                      -0.09729798418210013,
                      0.2506328136182934,
                      0.20537990290224084,
                      -0.11070596718106947,
                      0.04750940905206406,
                      0.15502021522201573,
                      0.3982367803845602,
                      -0.09593771321231967,
                      0.23488285534226222,
                      1,
                      0.16465259269615684,
                      -0.10116667652142793,
                      -0.07942883782967436,
                      -0.03838519191298518,
                      0.013352079521823056,
                      0.053195294215042016,
                      -0.005633378259634451,
                      -0.07005041700316636,
                      -0.07028289273028057,
                      -0.11987072139697907,
                      -0.05893365604190963,
                      0.004474250322401387,
                      -0.41079683298259034
                    ],
                    [
                      -0.04975233239698996,
                      0.005602099059826225,
                      -0.010248090942381799,
                      0.056688473809589655,
                      -0.03451671933987283,
                      0.10550681828156738,
                      0.05580033881653275,
                      0.11904401465721391,
                      -0.04117129184030303,
                      0.13229779999901195,
                      0.07149577395616745,
                      -0.057356731641629626,
                      0.028842777002594966,
                      0.06976688207539376,
                      0.17655995534825564,
                      -0.008291664140112747,
                      0.19629080910155444,
                      0.16465259269615684,
                      1,
                      0.0277997675370681,
                      -0.019160142361556318,
                      -0.03362428178016439,
                      -0.07930565263902387,
                      -0.009570084359989083,
                      -0.01200784802238854,
                      0.020110545688682546,
                      0.03557254081610678,
                      -0.044629093635984364,
                      -0.01717101613578131,
                      0.035983792795270066,
                      -0.18482662039281234
                    ],
                    [
                      0.023532291540160316,
                      0.015586081277063714,
                      -0.019031578525062192,
                      -0.03532436120213821,
                      -0.030383498603965473,
                      -0.004182049184608918,
                      0.09380122651198,
                      -0.04957473386817271,
                      0.022730170453172927,
                      -0.059696365926729555,
                      0.009447123004825704,
                      -0.07133725509448346,
                      0.01586200848413739,
                      -0.028951249869154403,
                      -0.06071026487074814,
                      -0.009263262907321088,
                      -0.040916615945785745,
                      -0.10116667652142793,
                      0.0277997675370681,
                      1,
                      0.02757432757820635,
                      0.02558812626860785,
                      0.0046110652086706165,
                      -0.028662263257398103,
                      -0.0025318285687881215,
                      -0.0192159837574223,
                      -0.03575269734082956,
                      0.01172247923646532,
                      -0.014644226023290281,
                      -0.036580445401169136,
                      0.026407638039320308
                    ],
                    [
                      0.014410726204340214,
                      -0.12632947587865392,
                      -0.05632607915840939,
                      -0.11356098666566868,
                      0.02404835994744569,
                      -0.004218198864359108,
                      -0.019216514672751355,
                      -0.029897462586883347,
                      0.05194562381036019,
                      0.00880177351037151,
                      0.034667994930314874,
                      0.023386196208847007,
                      -0.001303977679385321,
                      0.0029723784484414714,
                      -0.11638914807387075,
                      -0.003004649481552482,
                      -0.007564498680751888,
                      -0.07942883782967436,
                      -0.019160142361556318,
                      0.02757432757820635,
                      1,
                      -0.1587303358894299,
                      0.047818464333376685,
                      0.018476708896227243,
                      -0.021779365019449947,
                      -0.007056412468511685,
                      0.014382114580059937,
                      -0.013903116124300965,
                      0.11080356606059569,
                      0.33309389572405135,
                      0.05939795415197562
                    ],
                    [
                      0.021922305458801094,
                      -0.10272802623489143,
                      0.039093713874389,
                      -0.020364536455882192,
                      0.007280738398085038,
                      -0.0547850487042423,
                      0.04608257088477731,
                      -0.10760538830785275,
                      -0.15669441758717,
                      -0.02735007242790988,
                      0.009374010020872374,
                      0.018311616739443738,
                      0.04991884516722838,
                      -0.02796681189973754,
                      -0.03906012027035432,
                      0.02032306013801313,
                      -0.03569128505478334,
                      -0.03838519191298518,
                      -0.03362428178016439,
                      0.02558812626860785,
                      -0.1587303358894299,
                      1,
                      -0.19958145121354467,
                      0.07022307375381868,
                      -0.007274610126440255,
                      0.02108687805814628,
                      -0.014615594495290265,
                      0.029415720514662725,
                      0.053745664031545515,
                      0.08333989216534507,
                      0.04127094524256174
                    ],
                    [
                      0.03761310285567527,
                      0.034007539742728965,
                      -0.12205969278217167,
                      0.24478911634209627,
                      -0.019026840574841716,
                      -0.06267948793341496,
                      0.012308131507138274,
                      0.031155856034165597,
                      0.05286317332225627,
                      0.00931599757292198,
                      -0.03373884716984267,
                      0.03978758603274157,
                      0.0763803205959732,
                      -0.04934229970130363,
                      -0.07262609549187456,
                      0.01523867573851412,
                      -0.03414861355866168,
                      0.013352079521823056,
                      -0.07930565263902387,
                      0.0046110652086706165,
                      0.047818464333376685,
                      -0.19958145121354467,
                      1,
                      -0.01017042362795018,
                      0.014619131784170101,
                      -0.04205861782491829,
                      -0.058358196291655735,
                      -0.05147453101419184,
                      -0.012324068079872241,
                      -0.04092082370499708,
                      -0.022745782680362026
                    ],
                    [
                      -0.008338846867040684,
                      -0.04203590537869868,
                      -0.0025691373715677427,
                      0.05682822296034667,
                      -0.011199401526168324,
                      0.034550949917588565,
                      -0.006742004935771644,
                      0.054661003514591584,
                      -0.09160474367183588,
                      -0.02585034940353114,
                      0.02460171581248788,
                      0.03165548415036463,
                      -0.013273553127194391,
                      -0.008393548956846969,
                      0.04270249938946014,
                      0.013765226838340796,
                      0.0017962906420619703,
                      0.053195294215042016,
                      -0.009570084359989083,
                      -0.028662263257398103,
                      0.018476708896227243,
                      0.07022307375381868,
                      -0.01017042362795018,
                      1,
                      0.019939596827799274,
                      0.053708838569550686,
                      0.027850313996900723,
                      -0.0635837679673244,
                      0.09338022876229775,
                      -0.1374628150128515,
                      -0.033727413773231005
                    ],
                    [
                      -0.012663397647925742,
                      0.002131322040527596,
                      -0.029510482699328273,
                      0.03889957389968417,
                      -0.024831980106484252,
                      -0.004096599860389265,
                      0.020253313251331208,
                      0.00754903187801514,
                      0.009232798528544691,
                      0.001596629603762078,
                      0.012120314202004517,
                      0.01753063694633213,
                      0.02789879269982729,
                      -0.0013219490809406903,
                      0.041361396108035596,
                      -0.008427274166522933,
                      -0.002954727234982339,
                      -0.005633378259634451,
                      -0.01200784802238854,
                      -0.0025318285687881215,
                      -0.021779365019449947,
                      -0.007274610126440255,
                      0.014619131784170101,
                      0.019939596827799274,
                      1,
                      -0.027740349560095207,
                      -0.013826215874510174,
                      0.010321396841221313,
                      0.011799182015639061,
                      0.011678973532776579,
                      -0.026171140259964896
                    ],
                    [
                      0.060046258326605505,
                      0.16165838335034116,
                      -0.08721218052022237,
                      -0.18830816980574963,
                      -0.02253489214572654,
                      -0.07229083816023292,
                      0.06087935462273771,
                      -0.12518658028788354,
                      0.046713629772273314,
                      0.10236733035368205,
                      -0.01846219494427045,
                      -0.09504592403907827,
                      0.01656836654949224,
                      0.03956767119589195,
                      -0.05434043067678065,
                      -0.09729179296460387,
                      0.07875368492341621,
                      -0.07005041700316636,
                      0.020110545688682546,
                      -0.0192159837574223,
                      -0.007056412468511685,
                      0.02108687805814628,
                      -0.04205861782491829,
                      0.053708838569550686,
                      -0.027740349560095207,
                      1,
                      -0.12190586337656764,
                      0.05557702156880497,
                      0.04836517169429045,
                      -0.03978369526811231,
                      0.029120261673277897
                    ],
                    [
                      -0.04374765131667425,
                      0.02542608196721182,
                      -0.0603633186767123,
                      0.0656186064872775,
                      0.04111646959952094,
                      -0.04641476313007963,
                      0.010860074233933151,
                      -0.038473873027252976,
                      -0.00961002132936027,
                      0.06448376502912609,
                      0.012813900515082235,
                      0.037637076684879575,
                      -0.020093974316159845,
                      0.037019062880809084,
                      0.03282827197136449,
                      -0.058764456731902705,
                      0.0646488767374442,
                      -0.07028289273028057,
                      0.03557254081610678,
                      -0.03575269734082956,
                      0.014382114580059937,
                      -0.014615594495290265,
                      -0.058358196291655735,
                      0.027850313996900723,
                      -0.013826215874510174,
                      -0.12190586337656764,
                      1,
                      -0.00916192539600851,
                      0.02615172072382487,
                      0.033083405929863266,
                      0.017690218808395327
                    ],
                    [
                      -0.0013032485330733976,
                      -0.13729820047377278,
                      0.08055967996017312,
                      -0.18529864251294914,
                      0.05756270973292378,
                      -0.13278861953121107,
                      -0.026209123383695285,
                      -0.14831190241649234,
                      0.09060205367128064,
                      -0.06100782881199352,
                      -0.13924586824990476,
                      0.04756803393937976,
                      -0.03759655272693337,
                      -0.005991297314462976,
                      -0.09815015685971569,
                      0.011688000233574494,
                      -0.07783346542481691,
                      -0.11987072139697907,
                      -0.044629093635984364,
                      0.01172247923646532,
                      -0.013903116124300965,
                      0.029415720514662725,
                      -0.05147453101419184,
                      -0.0635837679673244,
                      0.010321396841221313,
                      0.05557702156880497,
                      -0.00916192539600851,
                      1,
                      0.07288729804591752,
                      0.046158424781560875,
                      0.12393264779321923
                    ],
                    [
                      0.0014614595811510136,
                      0.13254219825824456,
                      0.020385919908200115,
                      0.04126566181711838,
                      -0.01954367701856687,
                      0.000042981917522708554,
                      -0.03073367621564942,
                      -0.10502941982337458,
                      0.038356256393446024,
                      -0.0781282846240508,
                      -0.08868877118793045,
                      0.010377474485335037,
                      0.0028453635086963273,
                      -0.004723444030765391,
                      0.04410576113714983,
                      -0.0335355266837688,
                      -0.0341550726247604,
                      -0.05893365604190963,
                      -0.01717101613578131,
                      -0.014644226023290281,
                      0.11080356606059569,
                      0.053745664031545515,
                      -0.012324068079872241,
                      0.09338022876229775,
                      0.011799182015639061,
                      0.04836517169429045,
                      0.02615172072382487,
                      0.07288729804591752,
                      1,
                      -0.02195921776615036,
                      0.020123913277803093
                    ],
                    [
                      0.05370720034306681,
                      -0.21200534922456257,
                      -0.4821382989623742,
                      -0.15178865679156786,
                      0.11163665701199003,
                      -0.36021552387680883,
                      0.21523645477999878,
                      0.3117761800728585,
                      -0.058945296506682676,
                      -0.010708356979597452,
                      -0.10900468680095407,
                      -0.02868153130515892,
                      0.043477184987696066,
                      -0.012265247251151572,
                      -0.014105324605023905,
                      -0.03899876126260166,
                      -0.012705638201976845,
                      0.004474250322401387,
                      0.035983792795270066,
                      -0.036580445401169136,
                      0.33309389572405135,
                      0.08333989216534507,
                      -0.04092082370499708,
                      -0.1374628150128515,
                      0.011678973532776579,
                      -0.03978369526811231,
                      0.033083405929863266,
                      0.046158424781560875,
                      -0.02195921776615036,
                      1,
                      0.006440961964811762
                    ],
                    [
                      -0.007222265803114241,
                      -0.25958568681182526,
                      0.2337669148082731,
                      -0.44914917587658815,
                      0.24466835518229027,
                      -0.2374305971062244,
                      -0.11342517571965123,
                      -0.36253227566448787,
                      0.18847426852784777,
                      -0.157878199559049,
                      -0.34220832147514346,
                      0.26708026841568333,
                      -0.3095516889781102,
                      -0.003901046580259291,
                      -0.4186344505799684,
                      -0.00909868094440621,
                      -0.3062854976587467,
                      -0.41079683298259034,
                      -0.18482662039281234,
                      0.026407638039320308,
                      0.05939795415197562,
                      0.04127094524256174,
                      -0.022745782680362026,
                      -0.033727413773231005,
                      -0.026171140259964896,
                      0.029120261673277897,
                      0.017690218808395327,
                      0.12393264779321923,
                      0.020123913277803093,
                      0.006440961964811762,
                      1
                    ]
                  ],
                  "type": "heatmap"
                }
              ],
              "layout": {
                "margin": {
                  "b": 100,
                  "l": 100,
                  "r": 0,
                  "t": 0
                },
                "template": {
                  "data": {
                    "barpolar": [
                      {
                        "marker": {
                          "line": {
                            "color": "#E5ECF6",
                            "width": 0.5
                          },
                          "pattern": {
                            "fillmode": "overlay",
                            "size": 10,
                            "solidity": 0.2
                          }
                        },
                        "type": "barpolar"
                      }
                    ],
                    "bar": [
                      {
                        "error_x": {
                          "color": "#2a3f5f"
                        },
                        "error_y": {
                          "color": "#2a3f5f"
                        },
                        "marker": {
                          "line": {
                            "color": "#E5ECF6",
                            "width": 0.5
                          },
                          "pattern": {
                            "fillmode": "overlay",
                            "size": 10,
                            "solidity": 0.2
                          }
                        },
                        "type": "bar"
                      }
                    ],
                    "carpet": [
                      {
                        "aaxis": {
                          "endlinecolor": "#2a3f5f",
                          "gridcolor": "white",
                          "linecolor": "white",
                          "minorgridcolor": "white",
                          "startlinecolor": "#2a3f5f"
                        },
                        "baxis": {
                          "endlinecolor": "#2a3f5f",
                          "gridcolor": "white",
                          "linecolor": "white",
                          "minorgridcolor": "white",
                          "startlinecolor": "#2a3f5f"
                        },
                        "type": "carpet"
                      }
                    ],
                    "choropleth": [
                      {
                        "colorbar": {
                          "outlinewidth": 0,
                          "ticks": ""
                        },
                        "type": "choropleth"
                      }
                    ],
                    "contourcarpet": [
                      {
                        "colorbar": {
                          "outlinewidth": 0,
                          "ticks": ""
                        },
                        "type": "contourcarpet"
                      }
                    ],
                    "contour": [
                      {
                        "colorbar": {
                          "outlinewidth": 0,
                          "ticks": ""
                        },
                        "colorscale": [
                          [
                            0,
                            "#0d0887"
                          ],
                          [
                            0.1111111111111111,
                            "#46039f"
                          ],
                          [
                            0.2222222222222222,
                            "#7201a8"
                          ],
                          [
                            0.3333333333333333,
                            "#9c179e"
                          ],
                          [
                            0.4444444444444444,
                            "#bd3786"
                          ],
                          [
                            0.5555555555555556,
                            "#d8576b"
                          ],
                          [
                            0.6666666666666666,
                            "#ed7953"
                          ],
                          [
                            0.7777777777777778,
                            "#fb9f3a"
                          ],
                          [
                            0.8888888888888888,
                            "#fdca26"
                          ],
                          [
                            1,
                            "#f0f921"
                          ]
                        ],
                        "type": "contour"
                      }
                    ],
                    "heatmapgl": [
                      {
                        "colorbar": {
                          "outlinewidth": 0,
                          "ticks": ""
                        },
                        "colorscale": [
                          [
                            0,
                            "#0d0887"
                          ],
                          [
                            0.1111111111111111,
                            "#46039f"
                          ],
                          [
                            0.2222222222222222,
                            "#7201a8"
                          ],
                          [
                            0.3333333333333333,
                            "#9c179e"
                          ],
                          [
                            0.4444444444444444,
                            "#bd3786"
                          ],
                          [
                            0.5555555555555556,
                            "#d8576b"
                          ],
                          [
                            0.6666666666666666,
                            "#ed7953"
                          ],
                          [
                            0.7777777777777778,
                            "#fb9f3a"
                          ],
                          [
                            0.8888888888888888,
                            "#fdca26"
                          ],
                          [
                            1,
                            "#f0f921"
                          ]
                        ],
                        "type": "heatmapgl"
                      }
                    ],
                    "heatmap": [
                      {
                        "colorbar": {
                          "outlinewidth": 0,
                          "ticks": ""
                        },
                        "colorscale": [
                          [
                            0,
                            "#0d0887"
                          ],
                          [
                            0.1111111111111111,
                            "#46039f"
                          ],
                          [
                            0.2222222222222222,
                            "#7201a8"
                          ],
                          [
                            0.3333333333333333,
                            "#9c179e"
                          ],
                          [
                            0.4444444444444444,
                            "#bd3786"
                          ],
                          [
                            0.5555555555555556,
                            "#d8576b"
                          ],
                          [
                            0.6666666666666666,
                            "#ed7953"
                          ],
                          [
                            0.7777777777777778,
                            "#fb9f3a"
                          ],
                          [
                            0.8888888888888888,
                            "#fdca26"
                          ],
                          [
                            1,
                            "#f0f921"
                          ]
                        ],
                        "type": "heatmap"
                      }
                    ],
                    "histogram2dcontour": [
                      {
                        "colorbar": {
                          "outlinewidth": 0,
                          "ticks": ""
                        },
                        "colorscale": [
                          [
                            0,
                            "#0d0887"
                          ],
                          [
                            0.1111111111111111,
                            "#46039f"
                          ],
                          [
                            0.2222222222222222,
                            "#7201a8"
                          ],
                          [
                            0.3333333333333333,
                            "#9c179e"
                          ],
                          [
                            0.4444444444444444,
                            "#bd3786"
                          ],
                          [
                            0.5555555555555556,
                            "#d8576b"
                          ],
                          [
                            0.6666666666666666,
                            "#ed7953"
                          ],
                          [
                            0.7777777777777778,
                            "#fb9f3a"
                          ],
                          [
                            0.8888888888888888,
                            "#fdca26"
                          ],
                          [
                            1,
                            "#f0f921"
                          ]
                        ],
                        "type": "histogram2dcontour"
                      }
                    ],
                    "histogram2d": [
                      {
                        "colorbar": {
                          "outlinewidth": 0,
                          "ticks": ""
                        },
                        "colorscale": [
                          [
                            0,
                            "#0d0887"
                          ],
                          [
                            0.1111111111111111,
                            "#46039f"
                          ],
                          [
                            0.2222222222222222,
                            "#7201a8"
                          ],
                          [
                            0.3333333333333333,
                            "#9c179e"
                          ],
                          [
                            0.4444444444444444,
                            "#bd3786"
                          ],
                          [
                            0.5555555555555556,
                            "#d8576b"
                          ],
                          [
                            0.6666666666666666,
                            "#ed7953"
                          ],
                          [
                            0.7777777777777778,
                            "#fb9f3a"
                          ],
                          [
                            0.8888888888888888,
                            "#fdca26"
                          ],
                          [
                            1,
                            "#f0f921"
                          ]
                        ],
                        "type": "histogram2d"
                      }
                    ],
                    "histogram": [
                      {
                        "marker": {
                          "pattern": {
                            "fillmode": "overlay",
                            "size": 10,
                            "solidity": 0.2
                          }
                        },
                        "type": "histogram"
                      }
                    ],
                    "mesh3d": [
                      {
                        "colorbar": {
                          "outlinewidth": 0,
                          "ticks": ""
                        },
                        "type": "mesh3d"
                      }
                    ],
                    "parcoords": [
                      {
                        "line": {
                          "colorbar": {
                            "outlinewidth": 0,
                            "ticks": ""
                          }
                        },
                        "type": "parcoords"
                      }
                    ],
                    "pie": [
                      {
                        "automargin": true,
                        "type": "pie"
                      }
                    ],
                    "scatter3d": [
                      {
                        "line": {
                          "colorbar": {
                            "outlinewidth": 0,
                            "ticks": ""
                          }
                        },
                        "marker": {
                          "colorbar": {
                            "outlinewidth": 0,
                            "ticks": ""
                          }
                        },
                        "type": "scatter3d"
                      }
                    ],
                    "scattercarpet": [
                      {
                        "marker": {
                          "colorbar": {
                            "outlinewidth": 0,
                            "ticks": ""
                          }
                        },
                        "type": "scattercarpet"
                      }
                    ],
                    "scattergeo": [
                      {
                        "marker": {
                          "colorbar": {
                            "outlinewidth": 0,
                            "ticks": ""
                          }
                        },
                        "type": "scattergeo"
                      }
                    ],
                    "scattergl": [
                      {
                        "marker": {
                          "colorbar": {
                            "outlinewidth": 0,
                            "ticks": ""
                          }
                        },
                        "type": "scattergl"
                      }
                    ],
                    "scattermapbox": [
                      {
                        "marker": {
                          "colorbar": {
                            "outlinewidth": 0,
                            "ticks": ""
                          }
                        },
                        "type": "scattermapbox"
                      }
                    ],
                    "scatterpolargl": [
                      {
                        "marker": {
                          "colorbar": {
                            "outlinewidth": 0,
                            "ticks": ""
                          }
                        },
                        "type": "scatterpolargl"
                      }
                    ],
                    "scatterpolar": [
                      {
                        "marker": {
                          "colorbar": {
                            "outlinewidth": 0,
                            "ticks": ""
                          }
                        },
                        "type": "scatterpolar"
                      }
                    ],
                    "scatter": [
                      {
                        "fillpattern": {
                          "fillmode": "overlay",
                          "size": 10,
                          "solidity": 0.2
                        },
                        "type": "scatter"
                      }
                    ],
                    "scatterternary": [
                      {
                        "marker": {
                          "colorbar": {
                            "outlinewidth": 0,
                            "ticks": ""
                          }
                        },
                        "type": "scatterternary"
                      }
                    ],
                    "surface": [
                      {
                        "colorbar": {
                          "outlinewidth": 0,
                          "ticks": ""
                        },
                        "colorscale": [
                          [
                            0,
                            "#0d0887"
                          ],
                          [
                            0.1111111111111111,
                            "#46039f"
                          ],
                          [
                            0.2222222222222222,
                            "#7201a8"
                          ],
                          [
                            0.3333333333333333,
                            "#9c179e"
                          ],
                          [
                            0.4444444444444444,
                            "#bd3786"
                          ],
                          [
                            0.5555555555555556,
                            "#d8576b"
                          ],
                          [
                            0.6666666666666666,
                            "#ed7953"
                          ],
                          [
                            0.7777777777777778,
                            "#fb9f3a"
                          ],
                          [
                            0.8888888888888888,
                            "#fdca26"
                          ],
                          [
                            1,
                            "#f0f921"
                          ]
                        ],
                        "type": "surface"
                      }
                    ],
                    "table": [
                      {
                        "cells": {
                          "fill": {
                            "color": "#EBF0F8"
                          },
                          "line": {
                            "color": "white"
                          }
                        },
                        "header": {
                          "fill": {
                            "color": "#C8D4E3"
                          },
                          "line": {
                            "color": "white"
                          }
                        },
                        "type": "table"
                      }
                    ]
                  },
                  "layout": {
                    "annotationdefaults": {
                      "arrowcolor": "#2a3f5f",
                      "arrowhead": 0,
                      "arrowwidth": 1
                    },
                    "autotypenumbers": "strict",
                    "coloraxis": {
                      "colorbar": {
                        "outlinewidth": 0,
                        "ticks": ""
                      }
                    },
                    "colorscale": {
                      "diverging": [
                        [
                          0,
                          "#8e0152"
                        ],
                        [
                          0.1,
                          "#c51b7d"
                        ],
                        [
                          0.2,
                          "#de77ae"
                        ],
                        [
                          0.3,
                          "#f1b6da"
                        ],
                        [
                          0.4,
                          "#fde0ef"
                        ],
                        [
                          0.5,
                          "#f7f7f7"
                        ],
                        [
                          0.6,
                          "#e6f5d0"
                        ],
                        [
                          0.7,
                          "#b8e186"
                        ],
                        [
                          0.8,
                          "#7fbc41"
                        ],
                        [
                          0.9,
                          "#4d9221"
                        ],
                        [
                          1,
                          "#276419"
                        ]
                      ],
                      "sequential": [
                        [
                          0,
                          "#0d0887"
                        ],
                        [
                          0.1111111111111111,
                          "#46039f"
                        ],
                        [
                          0.2222222222222222,
                          "#7201a8"
                        ],
                        [
                          0.3333333333333333,
                          "#9c179e"
                        ],
                        [
                          0.4444444444444444,
                          "#bd3786"
                        ],
                        [
                          0.5555555555555556,
                          "#d8576b"
                        ],
                        [
                          0.6666666666666666,
                          "#ed7953"
                        ],
                        [
                          0.7777777777777778,
                          "#fb9f3a"
                        ],
                        [
                          0.8888888888888888,
                          "#fdca26"
                        ],
                        [
                          1,
                          "#f0f921"
                        ]
                      ],
                      "sequentialminus": [
                        [
                          0,
                          "#0d0887"
                        ],
                        [
                          0.1111111111111111,
                          "#46039f"
                        ],
                        [
                          0.2222222222222222,
                          "#7201a8"
                        ],
                        [
                          0.3333333333333333,
                          "#9c179e"
                        ],
                        [
                          0.4444444444444444,
                          "#bd3786"
                        ],
                        [
                          0.5555555555555556,
                          "#d8576b"
                        ],
                        [
                          0.6666666666666666,
                          "#ed7953"
                        ],
                        [
                          0.7777777777777778,
                          "#fb9f3a"
                        ],
                        [
                          0.8888888888888888,
                          "#fdca26"
                        ],
                        [
                          1,
                          "#f0f921"
                        ]
                      ]
                    },
                    "colorway": [
                      "#636efa",
                      "#EF553B",
                      "#00cc96",
                      "#ab63fa",
                      "#FFA15A",
                      "#19d3f3",
                      "#FF6692",
                      "#B6E880",
                      "#FF97FF",
                      "#FECB52"
                    ],
                    "font": {
                      "color": "#2a3f5f"
                    },
                    "geo": {
                      "bgcolor": "white",
                      "lakecolor": "white",
                      "landcolor": "#E5ECF6",
                      "showlakes": true,
                      "showland": true,
                      "subunitcolor": "white"
                    },
                    "hoverlabel": {
                      "align": "left"
                    },
                    "hovermode": "closest",
                    "mapbox": {
                      "style": "light"
                    },
                    "paper_bgcolor": "white",
                    "plot_bgcolor": "#E5ECF6",
                    "polar": {
                      "angularaxis": {
                        "gridcolor": "white",
                        "linecolor": "white",
                        "ticks": ""
                      },
                      "bgcolor": "#E5ECF6",
                      "radialaxis": {
                        "gridcolor": "white",
                        "linecolor": "white",
                        "ticks": ""
                      }
                    },
                    "scene": {
                      "xaxis": {
                        "backgroundcolor": "#E5ECF6",
                        "gridcolor": "white",
                        "gridwidth": 2,
                        "linecolor": "white",
                        "showbackground": true,
                        "ticks": "",
                        "zerolinecolor": "white"
                      },
                      "yaxis": {
                        "backgroundcolor": "#E5ECF6",
                        "gridcolor": "white",
                        "gridwidth": 2,
                        "linecolor": "white",
                        "showbackground": true,
                        "ticks": "",
                        "zerolinecolor": "white"
                      },
                      "zaxis": {
                        "backgroundcolor": "#E5ECF6",
                        "gridcolor": "white",
                        "gridwidth": 2,
                        "linecolor": "white",
                        "showbackground": true,
                        "ticks": "",
                        "zerolinecolor": "white"
                      }
                    },
                    "shapedefaults": {
                      "line": {
                        "color": "#2a3f5f"
                      }
                    },
                    "ternary": {
                      "aaxis": {
                        "gridcolor": "white",
                        "linecolor": "white",
                        "ticks": ""
                      },
                      "baxis": {
                        "gridcolor": "white",
                        "linecolor": "white",
                        "ticks": ""
                      },
                      "bgcolor": "#E5ECF6",
                      "caxis": {
                        "gridcolor": "white",
                        "linecolor": "white",
                        "ticks": ""
                      }
                    },
                    "title": {
                      "x": 0.05
                    },
                    "xaxis": {
                      "automargin": true,
                      "gridcolor": "white",
                      "linecolor": "white",
                      "ticks": "",
                      "title": {
                        "standoff": 15
                      },
                      "zerolinecolor": "white",
                      "zerolinewidth": 2
                    },
                    "yaxis": {
                      "automargin": true,
                      "gridcolor": "white",
                      "linecolor": "white",
                      "ticks": "",
                      "title": {
                        "standoff": 15
                      },
                      "zerolinecolor": "white",
                      "zerolinewidth": 2
                    }
                  }
                },
                "title": {
                  "text": "Correlation Matrix for variables"
                },
                "xaxis": {
                  "tickfont": {
                    "size": 9
                  }
                },
                "yaxis": {
                  "tickfont": {
                    "size": 9
                  }
                }
              },
              "config": {
                "showLink": false,
                "linkText": "Export to plot.ly",
                "plotlyServerURL": "https://plot.ly"
              }
            },
            "text/html": [
              "<div>                            <div id=\"01ed1189-8ee0-49a1-b986-5a2d34bdc94d\" class=\"plotly-graph-div\" style=\"height:525px; width:100%;\"></div>            <script type=\"text/javascript\">                require([\"plotly\"], function(Plotly) {                    window.PLOTLYENV=window.PLOTLYENV || {};                                    if (document.getElementById(\"01ed1189-8ee0-49a1-b986-5a2d34bdc94d\")) {                    Plotly.newPlot(                        \"01ed1189-8ee0-49a1-b986-5a2d34bdc94d\",                        [{\"colorscale\":[[0.0,\"#440154\"],[0.1111111111111111,\"#482878\"],[0.2222222222222222,\"#3e4989\"],[0.3333333333333333,\"#31688e\"],[0.4444444444444444,\"#26828e\"],[0.5555555555555556,\"#1f9e89\"],[0.6666666666666666,\"#35b779\"],[0.7777777777777778,\"#6ece58\"],[0.8888888888888888,\"#b5de2b\"],[1.0,\"#fde725\"]],\"x\":[\"Time\",\"V1\",\"V2\",\"V3\",\"V4\",\"V5\",\"V6\",\"V7\",\"V8\",\"V9\",\"V10\",\"V11\",\"V12\",\"V13\",\"V14\",\"V15\",\"V16\",\"V17\",\"V18\",\"V19\",\"V20\",\"V21\",\"V22\",\"V23\",\"V24\",\"V25\",\"V26\",\"V27\",\"V28\",\"Amount\",\"Class\"],\"y\":[\"Time\",\"V1\",\"V2\",\"V3\",\"V4\",\"V5\",\"V6\",\"V7\",\"V8\",\"V9\",\"V10\",\"V11\",\"V12\",\"V13\",\"V14\",\"V15\",\"V16\",\"V17\",\"V18\",\"V19\",\"V20\",\"V21\",\"V22\",\"V23\",\"V24\",\"V25\",\"V26\",\"V27\",\"V28\",\"Amount\",\"Class\"],\"z\":[[1.0,0.013667036225378933,-0.0784025903017519,-0.0801292992937882,-0.02225065657758026,-0.0807195962505426,-0.04085400562805196,-0.025640401635239368,0.04525439602624075,-0.27248350601301013,0.08655430481560628,-0.14304963597520376,0.2846775637644645,-0.27645500298476877,-0.2069358847973038,0.14483762211931003,0.03866187416546563,-0.077543966465346,-0.04975233239698996,0.023532291540160316,0.014410726204340214,0.021922305458801094,0.03761310285567527,-0.008338846867040684,-0.012663397647925742,0.060046258326605505,-0.04374765131667425,-0.0013032485330733976,0.0014614595811510136,0.05370720034306681,-0.007222265803114241],[0.013667036225378933,1.0,-0.2089363351879891,0.36476257606806994,-0.12083796694556838,0.14910656624230198,0.11765927134581246,0.23227557783498212,-0.14715875609345752,-0.018112349146750056,0.041344686787372395,-0.05337435171186644,0.07167372930918953,0.016586162989765348,0.17935879644791,0.048762714102762714,0.14818837752864825,0.12830847515879512,0.005602099059826225,0.015586081277063714,-0.12632947587865392,-0.10272802623489143,0.034007539742728965,-0.04203590537869868,0.002131322040527596,0.16165838335034116,0.02542608196721182,-0.13729820047377278,0.13254219825824456,-0.21200534922456257,-0.25958568681182526],[-0.0784025903017519,-0.2089363351879891,1.0,-0.3204659103845129,0.13405866045311018,-0.18562905528294057,-0.03478942051516789,-0.11014663485615991,0.08163786368698679,-0.05154974480421923,-0.023367073218679285,0.11336096671563368,-0.12838828677767838,0.04752069933632567,-0.12380001817725254,0.0519177818024542,-0.08037594276437939,-0.09940434375020589,-0.010248090942381799,-0.019031578525062192,-0.05632607915840939,0.039093713874389,-0.12205969278217167,-0.0025691373715677427,-0.029510482699328273,-0.08721218052022237,-0.0603633186767123,0.08055967996017312,0.020385919908200115,-0.4821382989623742,0.2337669148082731],[-0.0801292992937882,0.36476257606806994,-0.3204659103845129,1.0,-0.18098576334328242,0.3607758556882254,0.03545401817500769,0.41438131839962405,-0.3429432803941176,0.1831219948337973,0.2368867191365199,-0.15576977201121764,0.14584629077844102,0.003880360455060168,0.2817985983222703,-0.1650609640662491,0.061214957899231905,0.20641512081753102,0.056688473809589655,-0.03532436120213821,-0.11356098666566868,-0.020364536455882192,0.24478911634209627,0.05682822296034667,0.03889957389968417,-0.18830816980574963,0.0656186064872775,-0.18529864251294914,0.04126566181711838,-0.15178865679156786,-0.44914917587658815],[-0.02225065657758026,-0.12083796694556838,0.13405866045311018,-0.18098576334328242,1.0,-0.10478561904468299,-0.04766257179173236,-0.14292705671019795,0.11273288565883086,-0.07295614126402991,-0.09770772277214128,0.07044961647899645,-0.13238621889890292,0.05854466576008902,-0.1001641294347495,-0.12706213574185965,-0.17282250967367496,-0.006172467953622297,-0.03451671933987283,-0.030383498603965473,0.02404835994744569,0.007280738398085038,-0.019026840574841716,-0.011199401526168324,-0.024831980106484252,-0.02253489214572654,0.04111646959952094,0.05756270973292378,-0.01954367701856687,0.11163665701199003,0.24466835518229027],[-0.0807195962505426,0.14910656624230198,-0.18562905528294057,0.3607758556882254,-0.10478561904468299,1.0,0.11151664191840167,0.12947865666360037,-0.16894132741243503,0.042819672637864105,0.18152948487827383,-0.07431602303585925,0.057503231871760305,0.04206753831123632,0.10741734125829036,0.07063308250483691,0.14100952591535762,0.08610757196225576,0.10550681828156738,-0.004182049184608918,-0.004218198864359108,-0.0547850487042423,-0.06267948793341496,0.034550949917588565,-0.004096599860389265,-0.07229083816023292,-0.04641476313007963,-0.13278861953121107,4.2981917522708554e-05,-0.36021552387680883,-0.2374305971062244],[-0.04085400562805196,0.11765927134581246,-0.03478942051516789,0.03545401817500769,-0.04766257179173236,0.11151664191840167,1.0,0.11246422720918249,-0.09534263724066945,0.054510814348506215,0.06598076915767624,-0.10215573001069717,0.0011553523490909024,0.025682169242154405,0.0999764711064572,-0.11540796661799779,0.02919641550486938,0.04381417892057733,0.05580033881653275,0.09380122651198,-0.019216514672751355,0.04608257088477731,0.012308131507138274,-0.006742004935771644,0.020253313251331208,0.06087935462273771,0.010860074233933151,-0.026209123383695285,-0.03073367621564942,0.21523645477999878,-0.11342517571965123],[-0.025640401635239368,0.23227557783498212,-0.11014663485615991,0.41438131839962405,-0.14292705671019795,0.12947865666360037,0.11246422720918249,1.0,-0.1556099665702553,0.06038994716379874,0.23152345931039564,-0.1508010014942602,0.2046283804015965,-0.02357972352824575,0.12278254360310575,0.0779242649803815,0.15894469640126743,0.18434468561383116,0.11904401465721391,-0.04957473386817271,-0.029897462586883347,-0.10760538830785275,0.031155856034165597,0.054661003514591584,0.00754903187801514,-0.12518658028788354,-0.038473873027252976,-0.14831190241649234,-0.10502941982337458,0.3117761800728585,-0.36253227566448787],[0.04525439602624075,-0.14715875609345752,0.08163786368698679,-0.3429432803941176,0.11273288565883086,-0.16894132741243503,-0.09534263724066945,-0.1556099665702553,1.0,-0.08147556511827556,-0.16565199185067625,0.030185792540030332,-0.08825004390913518,-0.011428437232644743,-0.08150965492208143,-0.011785920301659454,-0.05968010941858724,-0.09729798418210013,-0.04117129184030303,0.022730170453172927,0.05194562381036019,-0.15669441758717,0.05286317332225627,-0.09160474367183588,0.009232798528544691,0.046713629772273314,-0.00961002132936027,0.09060205367128064,0.038356256393446024,-0.058945296506682676,0.18847426852784777],[-0.27248350601301013,-0.018112349146750056,-0.05154974480421923,0.1831219948337973,-0.07295614126402991,0.042819672637864105,0.054510814348506215,0.06038994716379874,-0.08147556511827556,1.0,-0.014000763764491865,0.10193280813929088,-0.2716898197151874,0.27574726622774803,0.2944874768727467,-0.22209307309430282,-0.06307135128641814,0.2506328136182934,0.13229779999901195,-0.059696365926729555,0.00880177351037151,-0.02735007242790988,0.00931599757292198,-0.02585034940353114,0.001596629603762078,0.10236733035368205,0.06448376502912609,-0.06100782881199352,-0.0781282846240508,-0.010708356979597452,-0.157878199559049],[0.08655430481560628,0.041344686787372395,-0.023367073218679285,0.2368867191365199,-0.09770772277214128,0.18152948487827383,0.06598076915767624,0.23152345931039564,-0.16565199185067625,-0.014000763764491865,1.0,-0.15273709555576317,0.23924503831837687,-0.10632090718608023,0.04722225247284716,0.07918976134762319,0.2244225746281602,0.20537990290224084,0.07149577395616745,0.009447123004825704,0.034667994930314874,0.009374010020872374,-0.03373884716984267,0.02460171581248788,0.012120314202004517,-0.01846219494427045,0.012813900515082235,-0.13924586824990476,-0.08868877118793045,-0.10900468680095407,-0.34220832147514346],[-0.14304963597520376,-0.05337435171186644,0.11336096671563368,-0.15576977201121764,0.07044961647899645,-0.07431602303585925,-0.10215573001069717,-0.1508010014942602,0.030185792540030332,0.10193280813929088,-0.15273709555576317,1.0,-0.33858127323288084,0.17718291789655982,0.01824385182468916,-0.11373238476823296,-0.13286045212289868,-0.11070596718106947,-0.057356731641629626,-0.07133725509448346,0.023386196208847007,0.018311616739443738,0.03978758603274157,0.03165548415036463,0.01753063694633213,-0.09504592403907827,0.037637076684879575,0.04756803393937976,0.010377474485335037,-0.02868153130515892,0.26708026841568333],[0.2846775637644645,0.07167372930918953,-0.12838828677767838,0.14584629077844102,-0.13238621889890292,0.057503231871760305,0.0011553523490909024,0.2046283804015965,-0.08825004390913518,-0.2716898197151874,0.23924503831837687,-0.33858127323288084,1.0,-0.3885668088028364,-0.1257068672592759,0.17262768822594102,0.09590005305197388,0.04750940905206406,0.028842777002594966,0.01586200848413739,-0.001303977679385321,0.04991884516722838,0.0763803205959732,-0.013273553127194391,0.02789879269982729,0.01656836654949224,-0.020093974316159845,-0.03759655272693337,0.0028453635086963273,0.043477184987696066,-0.3095516889781102],[-0.27645500298476877,0.016586162989765348,0.04752069933632567,0.003880360455060168,0.05854466576008902,0.04206753831123632,0.025682169242154405,-0.02357972352824575,-0.011428437232644743,0.27574726622774803,-0.10632090718608023,0.17718291789655982,-0.3885668088028364,1.0,0.2796988821165805,-0.16095220151566844,0.03489083821122347,0.15502021522201573,0.06976688207539376,-0.028951249869154403,0.0029723784484414714,-0.02796681189973754,-0.04934229970130363,-0.008393548956846969,-0.0013219490809406903,0.03956767119589195,0.037019062880809084,-0.005991297314462976,-0.004723444030765391,-0.012265247251151572,-0.003901046580259291],[-0.2069358847973038,0.17935879644791,-0.12380001817725254,0.2817985983222703,-0.1001641294347495,0.10741734125829036,0.0999764711064572,0.12278254360310575,-0.08150965492208143,0.2944874768727467,0.04722225247284716,0.01824385182468916,-0.1257068672592759,0.2796988821165805,1.0,-0.09503131624586952,0.2647585078219122,0.3982367803845602,0.17655995534825564,-0.06071026487074814,-0.11638914807387075,-0.03906012027035432,-0.07262609549187456,0.04270249938946014,0.041361396108035596,-0.05434043067678065,0.03282827197136449,-0.09815015685971569,0.04410576113714983,-0.014105324605023905,-0.4186344505799684],[0.14483762211931003,0.048762714102762714,0.0519177818024542,-0.1650609640662491,-0.12706213574185965,0.07063308250483691,-0.11540796661799779,0.0779242649803815,-0.011785920301659454,-0.22209307309430282,0.07918976134762319,-0.11373238476823296,0.17262768822594102,-0.16095220151566844,-0.09503131624586952,1.0,0.05846938238394333,-0.09593771321231967,-0.008291664140112747,-0.009263262907321088,-0.003004649481552482,0.02032306013801313,0.01523867573851412,0.013765226838340796,-0.008427274166522933,-0.09729179296460387,-0.058764456731902705,0.011688000233574494,-0.0335355266837688,-0.03899876126260166,-0.00909868094440621],[0.03866187416546563,0.14818837752864825,-0.08037594276437939,0.061214957899231905,-0.17282250967367496,0.14100952591535762,0.02919641550486938,0.15894469640126743,-0.05968010941858724,-0.06307135128641814,0.2244225746281602,-0.13286045212289868,0.09590005305197388,0.03489083821122347,0.2647585078219122,0.05846938238394333,1.0,0.23488285534226222,0.19629080910155444,-0.040916615945785745,-0.007564498680751888,-0.03569128505478334,-0.03414861355866168,0.0017962906420619703,-0.002954727234982339,0.07875368492341621,0.0646488767374442,-0.07783346542481691,-0.0341550726247604,-0.012705638201976845,-0.3062854976587467],[-0.077543966465346,0.12830847515879512,-0.09940434375020589,0.20641512081753102,-0.006172467953622297,0.08610757196225576,0.04381417892057733,0.18434468561383116,-0.09729798418210013,0.2506328136182934,0.20537990290224084,-0.11070596718106947,0.04750940905206406,0.15502021522201573,0.3982367803845602,-0.09593771321231967,0.23488285534226222,1.0,0.16465259269615684,-0.10116667652142793,-0.07942883782967436,-0.03838519191298518,0.013352079521823056,0.053195294215042016,-0.005633378259634451,-0.07005041700316636,-0.07028289273028057,-0.11987072139697907,-0.05893365604190963,0.004474250322401387,-0.41079683298259034],[-0.04975233239698996,0.005602099059826225,-0.010248090942381799,0.056688473809589655,-0.03451671933987283,0.10550681828156738,0.05580033881653275,0.11904401465721391,-0.04117129184030303,0.13229779999901195,0.07149577395616745,-0.057356731641629626,0.028842777002594966,0.06976688207539376,0.17655995534825564,-0.008291664140112747,0.19629080910155444,0.16465259269615684,1.0,0.0277997675370681,-0.019160142361556318,-0.03362428178016439,-0.07930565263902387,-0.009570084359989083,-0.01200784802238854,0.020110545688682546,0.03557254081610678,-0.044629093635984364,-0.01717101613578131,0.035983792795270066,-0.18482662039281234],[0.023532291540160316,0.015586081277063714,-0.019031578525062192,-0.03532436120213821,-0.030383498603965473,-0.004182049184608918,0.09380122651198,-0.04957473386817271,0.022730170453172927,-0.059696365926729555,0.009447123004825704,-0.07133725509448346,0.01586200848413739,-0.028951249869154403,-0.06071026487074814,-0.009263262907321088,-0.040916615945785745,-0.10116667652142793,0.0277997675370681,1.0,0.02757432757820635,0.02558812626860785,0.0046110652086706165,-0.028662263257398103,-0.0025318285687881215,-0.0192159837574223,-0.03575269734082956,0.01172247923646532,-0.014644226023290281,-0.036580445401169136,0.026407638039320308],[0.014410726204340214,-0.12632947587865392,-0.05632607915840939,-0.11356098666566868,0.02404835994744569,-0.004218198864359108,-0.019216514672751355,-0.029897462586883347,0.05194562381036019,0.00880177351037151,0.034667994930314874,0.023386196208847007,-0.001303977679385321,0.0029723784484414714,-0.11638914807387075,-0.003004649481552482,-0.007564498680751888,-0.07942883782967436,-0.019160142361556318,0.02757432757820635,1.0,-0.1587303358894299,0.047818464333376685,0.018476708896227243,-0.021779365019449947,-0.007056412468511685,0.014382114580059937,-0.013903116124300965,0.11080356606059569,0.33309389572405135,0.05939795415197562],[0.021922305458801094,-0.10272802623489143,0.039093713874389,-0.020364536455882192,0.007280738398085038,-0.0547850487042423,0.04608257088477731,-0.10760538830785275,-0.15669441758717,-0.02735007242790988,0.009374010020872374,0.018311616739443738,0.04991884516722838,-0.02796681189973754,-0.03906012027035432,0.02032306013801313,-0.03569128505478334,-0.03838519191298518,-0.03362428178016439,0.02558812626860785,-0.1587303358894299,1.0,-0.19958145121354467,0.07022307375381868,-0.007274610126440255,0.02108687805814628,-0.014615594495290265,0.029415720514662725,0.053745664031545515,0.08333989216534507,0.04127094524256174],[0.03761310285567527,0.034007539742728965,-0.12205969278217167,0.24478911634209627,-0.019026840574841716,-0.06267948793341496,0.012308131507138274,0.031155856034165597,0.05286317332225627,0.00931599757292198,-0.03373884716984267,0.03978758603274157,0.0763803205959732,-0.04934229970130363,-0.07262609549187456,0.01523867573851412,-0.03414861355866168,0.013352079521823056,-0.07930565263902387,0.0046110652086706165,0.047818464333376685,-0.19958145121354467,1.0,-0.01017042362795018,0.014619131784170101,-0.04205861782491829,-0.058358196291655735,-0.05147453101419184,-0.012324068079872241,-0.04092082370499708,-0.022745782680362026],[-0.008338846867040684,-0.04203590537869868,-0.0025691373715677427,0.05682822296034667,-0.011199401526168324,0.034550949917588565,-0.006742004935771644,0.054661003514591584,-0.09160474367183588,-0.02585034940353114,0.02460171581248788,0.03165548415036463,-0.013273553127194391,-0.008393548956846969,0.04270249938946014,0.013765226838340796,0.0017962906420619703,0.053195294215042016,-0.009570084359989083,-0.028662263257398103,0.018476708896227243,0.07022307375381868,-0.01017042362795018,1.0,0.019939596827799274,0.053708838569550686,0.027850313996900723,-0.0635837679673244,0.09338022876229775,-0.1374628150128515,-0.033727413773231005],[-0.012663397647925742,0.002131322040527596,-0.029510482699328273,0.03889957389968417,-0.024831980106484252,-0.004096599860389265,0.020253313251331208,0.00754903187801514,0.009232798528544691,0.001596629603762078,0.012120314202004517,0.01753063694633213,0.02789879269982729,-0.0013219490809406903,0.041361396108035596,-0.008427274166522933,-0.002954727234982339,-0.005633378259634451,-0.01200784802238854,-0.0025318285687881215,-0.021779365019449947,-0.007274610126440255,0.014619131784170101,0.019939596827799274,1.0,-0.027740349560095207,-0.013826215874510174,0.010321396841221313,0.011799182015639061,0.011678973532776579,-0.026171140259964896],[0.060046258326605505,0.16165838335034116,-0.08721218052022237,-0.18830816980574963,-0.02253489214572654,-0.07229083816023292,0.06087935462273771,-0.12518658028788354,0.046713629772273314,0.10236733035368205,-0.01846219494427045,-0.09504592403907827,0.01656836654949224,0.03956767119589195,-0.05434043067678065,-0.09729179296460387,0.07875368492341621,-0.07005041700316636,0.020110545688682546,-0.0192159837574223,-0.007056412468511685,0.02108687805814628,-0.04205861782491829,0.053708838569550686,-0.027740349560095207,1.0,-0.12190586337656764,0.05557702156880497,0.04836517169429045,-0.03978369526811231,0.029120261673277897],[-0.04374765131667425,0.02542608196721182,-0.0603633186767123,0.0656186064872775,0.04111646959952094,-0.04641476313007963,0.010860074233933151,-0.038473873027252976,-0.00961002132936027,0.06448376502912609,0.012813900515082235,0.037637076684879575,-0.020093974316159845,0.037019062880809084,0.03282827197136449,-0.058764456731902705,0.0646488767374442,-0.07028289273028057,0.03557254081610678,-0.03575269734082956,0.014382114580059937,-0.014615594495290265,-0.058358196291655735,0.027850313996900723,-0.013826215874510174,-0.12190586337656764,1.0,-0.00916192539600851,0.02615172072382487,0.033083405929863266,0.017690218808395327],[-0.0013032485330733976,-0.13729820047377278,0.08055967996017312,-0.18529864251294914,0.05756270973292378,-0.13278861953121107,-0.026209123383695285,-0.14831190241649234,0.09060205367128064,-0.06100782881199352,-0.13924586824990476,0.04756803393937976,-0.03759655272693337,-0.005991297314462976,-0.09815015685971569,0.011688000233574494,-0.07783346542481691,-0.11987072139697907,-0.044629093635984364,0.01172247923646532,-0.013903116124300965,0.029415720514662725,-0.05147453101419184,-0.0635837679673244,0.010321396841221313,0.05557702156880497,-0.00916192539600851,1.0,0.07288729804591752,0.046158424781560875,0.12393264779321923],[0.0014614595811510136,0.13254219825824456,0.020385919908200115,0.04126566181711838,-0.01954367701856687,4.2981917522708554e-05,-0.03073367621564942,-0.10502941982337458,0.038356256393446024,-0.0781282846240508,-0.08868877118793045,0.010377474485335037,0.0028453635086963273,-0.004723444030765391,0.04410576113714983,-0.0335355266837688,-0.0341550726247604,-0.05893365604190963,-0.01717101613578131,-0.014644226023290281,0.11080356606059569,0.053745664031545515,-0.012324068079872241,0.09338022876229775,0.011799182015639061,0.04836517169429045,0.02615172072382487,0.07288729804591752,1.0,-0.02195921776615036,0.020123913277803093],[0.05370720034306681,-0.21200534922456257,-0.4821382989623742,-0.15178865679156786,0.11163665701199003,-0.36021552387680883,0.21523645477999878,0.3117761800728585,-0.058945296506682676,-0.010708356979597452,-0.10900468680095407,-0.02868153130515892,0.043477184987696066,-0.012265247251151572,-0.014105324605023905,-0.03899876126260166,-0.012705638201976845,0.004474250322401387,0.035983792795270066,-0.036580445401169136,0.33309389572405135,0.08333989216534507,-0.04092082370499708,-0.1374628150128515,0.011678973532776579,-0.03978369526811231,0.033083405929863266,0.046158424781560875,-0.02195921776615036,1.0,0.006440961964811762],[-0.007222265803114241,-0.25958568681182526,0.2337669148082731,-0.44914917587658815,0.24466835518229027,-0.2374305971062244,-0.11342517571965123,-0.36253227566448787,0.18847426852784777,-0.157878199559049,-0.34220832147514346,0.26708026841568333,-0.3095516889781102,-0.003901046580259291,-0.4186344505799684,-0.00909868094440621,-0.3062854976587467,-0.41079683298259034,-0.18482662039281234,0.026407638039320308,0.05939795415197562,0.04127094524256174,-0.022745782680362026,-0.033727413773231005,-0.026171140259964896,0.029120261673277897,0.017690218808395327,0.12393264779321923,0.020123913277803093,0.006440961964811762,1.0]],\"type\":\"heatmap\"}],                        {\"margin\":{\"b\":100,\"l\":100,\"r\":0,\"t\":0},\"template\":{\"data\":{\"barpolar\":[{\"marker\":{\"line\":{\"color\":\"#E5ECF6\",\"width\":0.5},\"pattern\":{\"fillmode\":\"overlay\",\"size\":10,\"solidity\":0.2}},\"type\":\"barpolar\"}],\"bar\":[{\"error_x\":{\"color\":\"#2a3f5f\"},\"error_y\":{\"color\":\"#2a3f5f\"},\"marker\":{\"line\":{\"color\":\"#E5ECF6\",\"width\":0.5},\"pattern\":{\"fillmode\":\"overlay\",\"size\":10,\"solidity\":0.2}},\"type\":\"bar\"}],\"carpet\":[{\"aaxis\":{\"endlinecolor\":\"#2a3f5f\",\"gridcolor\":\"white\",\"linecolor\":\"white\",\"minorgridcolor\":\"white\",\"startlinecolor\":\"#2a3f5f\"},\"baxis\":{\"endlinecolor\":\"#2a3f5f\",\"gridcolor\":\"white\",\"linecolor\":\"white\",\"minorgridcolor\":\"white\",\"startlinecolor\":\"#2a3f5f\"},\"type\":\"carpet\"}],\"choropleth\":[{\"colorbar\":{\"outlinewidth\":0,\"ticks\":\"\"},\"type\":\"choropleth\"}],\"contourcarpet\":[{\"colorbar\":{\"outlinewidth\":0,\"ticks\":\"\"},\"type\":\"contourcarpet\"}],\"contour\":[{\"colorbar\":{\"outlinewidth\":0,\"ticks\":\"\"},\"colorscale\":[[0.0,\"#0d0887\"],[0.1111111111111111,\"#46039f\"],[0.2222222222222222,\"#7201a8\"],[0.3333333333333333,\"#9c179e\"],[0.4444444444444444,\"#bd3786\"],[0.5555555555555556,\"#d8576b\"],[0.6666666666666666,\"#ed7953\"],[0.7777777777777778,\"#fb9f3a\"],[0.8888888888888888,\"#fdca26\"],[1.0,\"#f0f921\"]],\"type\":\"contour\"}],\"heatmapgl\":[{\"colorbar\":{\"outlinewidth\":0,\"ticks\":\"\"},\"colorscale\":[[0.0,\"#0d0887\"],[0.1111111111111111,\"#46039f\"],[0.2222222222222222,\"#7201a8\"],[0.3333333333333333,\"#9c179e\"],[0.4444444444444444,\"#bd3786\"],[0.5555555555555556,\"#d8576b\"],[0.6666666666666666,\"#ed7953\"],[0.7777777777777778,\"#fb9f3a\"],[0.8888888888888888,\"#fdca26\"],[1.0,\"#f0f921\"]],\"type\":\"heatmapgl\"}],\"heatmap\":[{\"colorbar\":{\"outlinewidth\":0,\"ticks\":\"\"},\"colorscale\":[[0.0,\"#0d0887\"],[0.1111111111111111,\"#46039f\"],[0.2222222222222222,\"#7201a8\"],[0.3333333333333333,\"#9c179e\"],[0.4444444444444444,\"#bd3786\"],[0.5555555555555556,\"#d8576b\"],[0.6666666666666666,\"#ed7953\"],[0.7777777777777778,\"#fb9f3a\"],[0.8888888888888888,\"#fdca26\"],[1.0,\"#f0f921\"]],\"type\":\"heatmap\"}],\"histogram2dcontour\":[{\"colorbar\":{\"outlinewidth\":0,\"ticks\":\"\"},\"colorscale\":[[0.0,\"#0d0887\"],[0.1111111111111111,\"#46039f\"],[0.2222222222222222,\"#7201a8\"],[0.3333333333333333,\"#9c179e\"],[0.4444444444444444,\"#bd3786\"],[0.5555555555555556,\"#d8576b\"],[0.6666666666666666,\"#ed7953\"],[0.7777777777777778,\"#fb9f3a\"],[0.8888888888888888,\"#fdca26\"],[1.0,\"#f0f921\"]],\"type\":\"histogram2dcontour\"}],\"histogram2d\":[{\"colorbar\":{\"outlinewidth\":0,\"ticks\":\"\"},\"colorscale\":[[0.0,\"#0d0887\"],[0.1111111111111111,\"#46039f\"],[0.2222222222222222,\"#7201a8\"],[0.3333333333333333,\"#9c179e\"],[0.4444444444444444,\"#bd3786\"],[0.5555555555555556,\"#d8576b\"],[0.6666666666666666,\"#ed7953\"],[0.7777777777777778,\"#fb9f3a\"],[0.8888888888888888,\"#fdca26\"],[1.0,\"#f0f921\"]],\"type\":\"histogram2d\"}],\"histogram\":[{\"marker\":{\"pattern\":{\"fillmode\":\"overlay\",\"size\":10,\"solidity\":0.2}},\"type\":\"histogram\"}],\"mesh3d\":[{\"colorbar\":{\"outlinewidth\":0,\"ticks\":\"\"},\"type\":\"mesh3d\"}],\"parcoords\":[{\"line\":{\"colorbar\":{\"outlinewidth\":0,\"ticks\":\"\"}},\"type\":\"parcoords\"}],\"pie\":[{\"automargin\":true,\"type\":\"pie\"}],\"scatter3d\":[{\"line\":{\"colorbar\":{\"outlinewidth\":0,\"ticks\":\"\"}},\"marker\":{\"colorbar\":{\"outlinewidth\":0,\"ticks\":\"\"}},\"type\":\"scatter3d\"}],\"scattercarpet\":[{\"marker\":{\"colorbar\":{\"outlinewidth\":0,\"ticks\":\"\"}},\"type\":\"scattercarpet\"}],\"scattergeo\":[{\"marker\":{\"colorbar\":{\"outlinewidth\":0,\"ticks\":\"\"}},\"type\":\"scattergeo\"}],\"scattergl\":[{\"marker\":{\"colorbar\":{\"outlinewidth\":0,\"ticks\":\"\"}},\"type\":\"scattergl\"}],\"scattermapbox\":[{\"marker\":{\"colorbar\":{\"outlinewidth\":0,\"ticks\":\"\"}},\"type\":\"scattermapbox\"}],\"scatterpolargl\":[{\"marker\":{\"colorbar\":{\"outlinewidth\":0,\"ticks\":\"\"}},\"type\":\"scatterpolargl\"}],\"scatterpolar\":[{\"marker\":{\"colorbar\":{\"outlinewidth\":0,\"ticks\":\"\"}},\"type\":\"scatterpolar\"}],\"scatter\":[{\"fillpattern\":{\"fillmode\":\"overlay\",\"size\":10,\"solidity\":0.2},\"type\":\"scatter\"}],\"scatterternary\":[{\"marker\":{\"colorbar\":{\"outlinewidth\":0,\"ticks\":\"\"}},\"type\":\"scatterternary\"}],\"surface\":[{\"colorbar\":{\"outlinewidth\":0,\"ticks\":\"\"},\"colorscale\":[[0.0,\"#0d0887\"],[0.1111111111111111,\"#46039f\"],[0.2222222222222222,\"#7201a8\"],[0.3333333333333333,\"#9c179e\"],[0.4444444444444444,\"#bd3786\"],[0.5555555555555556,\"#d8576b\"],[0.6666666666666666,\"#ed7953\"],[0.7777777777777778,\"#fb9f3a\"],[0.8888888888888888,\"#fdca26\"],[1.0,\"#f0f921\"]],\"type\":\"surface\"}],\"table\":[{\"cells\":{\"fill\":{\"color\":\"#EBF0F8\"},\"line\":{\"color\":\"white\"}},\"header\":{\"fill\":{\"color\":\"#C8D4E3\"},\"line\":{\"color\":\"white\"}},\"type\":\"table\"}]},\"layout\":{\"annotationdefaults\":{\"arrowcolor\":\"#2a3f5f\",\"arrowhead\":0,\"arrowwidth\":1},\"autotypenumbers\":\"strict\",\"coloraxis\":{\"colorbar\":{\"outlinewidth\":0,\"ticks\":\"\"}},\"colorscale\":{\"diverging\":[[0,\"#8e0152\"],[0.1,\"#c51b7d\"],[0.2,\"#de77ae\"],[0.3,\"#f1b6da\"],[0.4,\"#fde0ef\"],[0.5,\"#f7f7f7\"],[0.6,\"#e6f5d0\"],[0.7,\"#b8e186\"],[0.8,\"#7fbc41\"],[0.9,\"#4d9221\"],[1,\"#276419\"]],\"sequential\":[[0.0,\"#0d0887\"],[0.1111111111111111,\"#46039f\"],[0.2222222222222222,\"#7201a8\"],[0.3333333333333333,\"#9c179e\"],[0.4444444444444444,\"#bd3786\"],[0.5555555555555556,\"#d8576b\"],[0.6666666666666666,\"#ed7953\"],[0.7777777777777778,\"#fb9f3a\"],[0.8888888888888888,\"#fdca26\"],[1.0,\"#f0f921\"]],\"sequentialminus\":[[0.0,\"#0d0887\"],[0.1111111111111111,\"#46039f\"],[0.2222222222222222,\"#7201a8\"],[0.3333333333333333,\"#9c179e\"],[0.4444444444444444,\"#bd3786\"],[0.5555555555555556,\"#d8576b\"],[0.6666666666666666,\"#ed7953\"],[0.7777777777777778,\"#fb9f3a\"],[0.8888888888888888,\"#fdca26\"],[1.0,\"#f0f921\"]]},\"colorway\":[\"#636efa\",\"#EF553B\",\"#00cc96\",\"#ab63fa\",\"#FFA15A\",\"#19d3f3\",\"#FF6692\",\"#B6E880\",\"#FF97FF\",\"#FECB52\"],\"font\":{\"color\":\"#2a3f5f\"},\"geo\":{\"bgcolor\":\"white\",\"lakecolor\":\"white\",\"landcolor\":\"#E5ECF6\",\"showlakes\":true,\"showland\":true,\"subunitcolor\":\"white\"},\"hoverlabel\":{\"align\":\"left\"},\"hovermode\":\"closest\",\"mapbox\":{\"style\":\"light\"},\"paper_bgcolor\":\"white\",\"plot_bgcolor\":\"#E5ECF6\",\"polar\":{\"angularaxis\":{\"gridcolor\":\"white\",\"linecolor\":\"white\",\"ticks\":\"\"},\"bgcolor\":\"#E5ECF6\",\"radialaxis\":{\"gridcolor\":\"white\",\"linecolor\":\"white\",\"ticks\":\"\"}},\"scene\":{\"xaxis\":{\"backgroundcolor\":\"#E5ECF6\",\"gridcolor\":\"white\",\"gridwidth\":2,\"linecolor\":\"white\",\"showbackground\":true,\"ticks\":\"\",\"zerolinecolor\":\"white\"},\"yaxis\":{\"backgroundcolor\":\"#E5ECF6\",\"gridcolor\":\"white\",\"gridwidth\":2,\"linecolor\":\"white\",\"showbackground\":true,\"ticks\":\"\",\"zerolinecolor\":\"white\"},\"zaxis\":{\"backgroundcolor\":\"#E5ECF6\",\"gridcolor\":\"white\",\"gridwidth\":2,\"linecolor\":\"white\",\"showbackground\":true,\"ticks\":\"\",\"zerolinecolor\":\"white\"}},\"shapedefaults\":{\"line\":{\"color\":\"#2a3f5f\"}},\"ternary\":{\"aaxis\":{\"gridcolor\":\"white\",\"linecolor\":\"white\",\"ticks\":\"\"},\"baxis\":{\"gridcolor\":\"white\",\"linecolor\":\"white\",\"ticks\":\"\"},\"bgcolor\":\"#E5ECF6\",\"caxis\":{\"gridcolor\":\"white\",\"linecolor\":\"white\",\"ticks\":\"\"}},\"title\":{\"x\":0.05},\"xaxis\":{\"automargin\":true,\"gridcolor\":\"white\",\"linecolor\":\"white\",\"ticks\":\"\",\"title\":{\"standoff\":15},\"zerolinecolor\":\"white\",\"zerolinewidth\":2},\"yaxis\":{\"automargin\":true,\"gridcolor\":\"white\",\"linecolor\":\"white\",\"ticks\":\"\",\"title\":{\"standoff\":15},\"zerolinecolor\":\"white\",\"zerolinewidth\":2}}},\"title\":{\"text\":\"Correlation Matrix for variables\"},\"xaxis\":{\"tickfont\":{\"size\":9}},\"yaxis\":{\"tickfont\":{\"size\":9}}},                        {\"responsive\": true}                    ).then(function(){\n",
              "                            \n",
              "var gd = document.getElementById('01ed1189-8ee0-49a1-b986-5a2d34bdc94d');\n",
              "var x = new MutationObserver(function (mutations, observer) {{\n",
              "        var display = window.getComputedStyle(gd).display;\n",
              "        if (!display || display === 'none') {{\n",
              "            console.log([gd, 'removed!']);\n",
              "            Plotly.purge(gd);\n",
              "            observer.disconnect();\n",
              "        }}\n",
              "}});\n",
              "\n",
              "// Listen for the removal of the full notebook cells\n",
              "var notebookContainer = gd.closest('#notebook-container');\n",
              "if (notebookContainer) {{\n",
              "    x.observe(notebookContainer, {childList: true});\n",
              "}}\n",
              "\n",
              "// Listen for the clearing of the current output cell\n",
              "var outputEl = gd.closest('.output');\n",
              "if (outputEl) {{\n",
              "    x.observe(outputEl, {childList: true});\n",
              "}}\n",
              "\n",
              "                        })                };                });            </script>        </div>"
            ]
          },
          "metadata": {}
        }
      ]
    },
    {
      "cell_type": "code",
      "source": [
        "data = [go.Heatmap(z = np.array(train.corr().values),\n",
        "                   x = np.array(train.corr().columns),\n",
        "                   y = np.array(train.corr().columns),\n",
        "                     colorscale='Viridis',)\n",
        "       ]\n",
        "layout = go.Layout(dict(title = 'Correlation Matrix for variables',\n",
        "                            #autosize = False,\n",
        "                            #height  = 1400,\n",
        "                            #width   = 1600,\n",
        "                            margin  = dict(r = 0 ,l = 100,\n",
        "                                           t = 0,b = 100,\n",
        "                                         ),\n",
        "                            yaxis   = dict(tickfont = dict(size = 9)),\n",
        "                            xaxis   = dict(tickfont = dict(size = 9)),\n",
        "                           )\n",
        "                      )\n",
        "\n",
        "fig = go.Figure(data=data,layout = layout)\n",
        "iplot(fig)"
      ],
      "metadata": {
        "id": "Jev48LJ_2AFh",
        "colab": {
          "base_uri": "https://localhost:8080/",
          "height": 542
        },
        "outputId": "374b4c53-fca2-4b77-a29c-996716db1386"
      },
      "execution_count": 20,
      "outputs": [
        {
          "output_type": "display_data",
          "data": {
            "application/vnd.plotly.v1+json": {
              "data": [
                {
                  "colorscale": [
                    [
                      0,
                      "#440154"
                    ],
                    [
                      0.1111111111111111,
                      "#482878"
                    ],
                    [
                      0.2222222222222222,
                      "#3e4989"
                    ],
                    [
                      0.3333333333333333,
                      "#31688e"
                    ],
                    [
                      0.4444444444444444,
                      "#26828e"
                    ],
                    [
                      0.5555555555555556,
                      "#1f9e89"
                    ],
                    [
                      0.6666666666666666,
                      "#35b779"
                    ],
                    [
                      0.7777777777777778,
                      "#6ece58"
                    ],
                    [
                      0.8888888888888888,
                      "#b5de2b"
                    ],
                    [
                      1,
                      "#fde725"
                    ]
                  ],
                  "x": [
                    "Time",
                    "V1",
                    "V2",
                    "V3",
                    "V4",
                    "V5",
                    "V6",
                    "V7",
                    "V8",
                    "V9",
                    "V10",
                    "V11",
                    "V12",
                    "V13",
                    "V14",
                    "V15",
                    "V16",
                    "V17",
                    "V18",
                    "V19",
                    "V20",
                    "V21",
                    "V22",
                    "V23",
                    "V24",
                    "V25",
                    "V26",
                    "V27",
                    "V28",
                    "Amount",
                    "Class"
                  ],
                  "y": [
                    "Time",
                    "V1",
                    "V2",
                    "V3",
                    "V4",
                    "V5",
                    "V6",
                    "V7",
                    "V8",
                    "V9",
                    "V10",
                    "V11",
                    "V12",
                    "V13",
                    "V14",
                    "V15",
                    "V16",
                    "V17",
                    "V18",
                    "V19",
                    "V20",
                    "V21",
                    "V22",
                    "V23",
                    "V24",
                    "V25",
                    "V26",
                    "V27",
                    "V28",
                    "Amount",
                    "Class"
                  ],
                  "z": [
                    [
                      1,
                      0.013667036225378933,
                      -0.0784025903017519,
                      -0.0801292992937882,
                      -0.02225065657758026,
                      -0.0807195962505426,
                      -0.04085400562805196,
                      -0.025640401635239368,
                      0.04525439602624075,
                      -0.27248350601301013,
                      0.08655430481560628,
                      -0.14304963597520376,
                      0.2846775637644645,
                      -0.27645500298476877,
                      -0.2069358847973038,
                      0.14483762211931003,
                      0.03866187416546563,
                      -0.077543966465346,
                      -0.04975233239698996,
                      0.023532291540160316,
                      0.014410726204340214,
                      0.021922305458801094,
                      0.03761310285567527,
                      -0.008338846867040684,
                      -0.012663397647925742,
                      0.060046258326605505,
                      -0.04374765131667425,
                      -0.0013032485330733976,
                      0.0014614595811510136,
                      0.05370720034306681,
                      -0.007222265803114241
                    ],
                    [
                      0.013667036225378933,
                      1,
                      -0.2089363351879891,
                      0.36476257606806994,
                      -0.12083796694556838,
                      0.14910656624230198,
                      0.11765927134581246,
                      0.23227557783498212,
                      -0.14715875609345752,
                      -0.018112349146750056,
                      0.041344686787372395,
                      -0.05337435171186644,
                      0.07167372930918953,
                      0.016586162989765348,
                      0.17935879644791,
                      0.048762714102762714,
                      0.14818837752864825,
                      0.12830847515879512,
                      0.005602099059826225,
                      0.015586081277063714,
                      -0.12632947587865392,
                      -0.10272802623489143,
                      0.034007539742728965,
                      -0.04203590537869868,
                      0.002131322040527596,
                      0.16165838335034116,
                      0.02542608196721182,
                      -0.13729820047377278,
                      0.13254219825824456,
                      -0.21200534922456257,
                      -0.25958568681182526
                    ],
                    [
                      -0.0784025903017519,
                      -0.2089363351879891,
                      1,
                      -0.3204659103845129,
                      0.13405866045311018,
                      -0.18562905528294057,
                      -0.03478942051516789,
                      -0.11014663485615991,
                      0.08163786368698679,
                      -0.05154974480421923,
                      -0.023367073218679285,
                      0.11336096671563368,
                      -0.12838828677767838,
                      0.04752069933632567,
                      -0.12380001817725254,
                      0.0519177818024542,
                      -0.08037594276437939,
                      -0.09940434375020589,
                      -0.010248090942381799,
                      -0.019031578525062192,
                      -0.05632607915840939,
                      0.039093713874389,
                      -0.12205969278217167,
                      -0.0025691373715677427,
                      -0.029510482699328273,
                      -0.08721218052022237,
                      -0.0603633186767123,
                      0.08055967996017312,
                      0.020385919908200115,
                      -0.4821382989623742,
                      0.2337669148082731
                    ],
                    [
                      -0.0801292992937882,
                      0.36476257606806994,
                      -0.3204659103845129,
                      1,
                      -0.18098576334328242,
                      0.3607758556882254,
                      0.03545401817500769,
                      0.41438131839962405,
                      -0.3429432803941176,
                      0.1831219948337973,
                      0.2368867191365199,
                      -0.15576977201121764,
                      0.14584629077844102,
                      0.003880360455060168,
                      0.2817985983222703,
                      -0.1650609640662491,
                      0.061214957899231905,
                      0.20641512081753102,
                      0.056688473809589655,
                      -0.03532436120213821,
                      -0.11356098666566868,
                      -0.020364536455882192,
                      0.24478911634209627,
                      0.05682822296034667,
                      0.03889957389968417,
                      -0.18830816980574963,
                      0.0656186064872775,
                      -0.18529864251294914,
                      0.04126566181711838,
                      -0.15178865679156786,
                      -0.44914917587658815
                    ],
                    [
                      -0.02225065657758026,
                      -0.12083796694556838,
                      0.13405866045311018,
                      -0.18098576334328242,
                      1,
                      -0.10478561904468299,
                      -0.04766257179173236,
                      -0.14292705671019795,
                      0.11273288565883086,
                      -0.07295614126402991,
                      -0.09770772277214128,
                      0.07044961647899645,
                      -0.13238621889890292,
                      0.05854466576008902,
                      -0.1001641294347495,
                      -0.12706213574185965,
                      -0.17282250967367496,
                      -0.006172467953622297,
                      -0.03451671933987283,
                      -0.030383498603965473,
                      0.02404835994744569,
                      0.007280738398085038,
                      -0.019026840574841716,
                      -0.011199401526168324,
                      -0.024831980106484252,
                      -0.02253489214572654,
                      0.04111646959952094,
                      0.05756270973292378,
                      -0.01954367701856687,
                      0.11163665701199003,
                      0.24466835518229027
                    ],
                    [
                      -0.0807195962505426,
                      0.14910656624230198,
                      -0.18562905528294057,
                      0.3607758556882254,
                      -0.10478561904468299,
                      1,
                      0.11151664191840167,
                      0.12947865666360037,
                      -0.16894132741243503,
                      0.042819672637864105,
                      0.18152948487827383,
                      -0.07431602303585925,
                      0.057503231871760305,
                      0.04206753831123632,
                      0.10741734125829036,
                      0.07063308250483691,
                      0.14100952591535762,
                      0.08610757196225576,
                      0.10550681828156738,
                      -0.004182049184608918,
                      -0.004218198864359108,
                      -0.0547850487042423,
                      -0.06267948793341496,
                      0.034550949917588565,
                      -0.004096599860389265,
                      -0.07229083816023292,
                      -0.04641476313007963,
                      -0.13278861953121107,
                      0.000042981917522708554,
                      -0.36021552387680883,
                      -0.2374305971062244
                    ],
                    [
                      -0.04085400562805196,
                      0.11765927134581246,
                      -0.03478942051516789,
                      0.03545401817500769,
                      -0.04766257179173236,
                      0.11151664191840167,
                      1,
                      0.11246422720918249,
                      -0.09534263724066945,
                      0.054510814348506215,
                      0.06598076915767624,
                      -0.10215573001069717,
                      0.0011553523490909024,
                      0.025682169242154405,
                      0.0999764711064572,
                      -0.11540796661799779,
                      0.02919641550486938,
                      0.04381417892057733,
                      0.05580033881653275,
                      0.09380122651198,
                      -0.019216514672751355,
                      0.04608257088477731,
                      0.012308131507138274,
                      -0.006742004935771644,
                      0.020253313251331208,
                      0.06087935462273771,
                      0.010860074233933151,
                      -0.026209123383695285,
                      -0.03073367621564942,
                      0.21523645477999878,
                      -0.11342517571965123
                    ],
                    [
                      -0.025640401635239368,
                      0.23227557783498212,
                      -0.11014663485615991,
                      0.41438131839962405,
                      -0.14292705671019795,
                      0.12947865666360037,
                      0.11246422720918249,
                      1,
                      -0.1556099665702553,
                      0.06038994716379874,
                      0.23152345931039564,
                      -0.1508010014942602,
                      0.2046283804015965,
                      -0.02357972352824575,
                      0.12278254360310575,
                      0.0779242649803815,
                      0.15894469640126743,
                      0.18434468561383116,
                      0.11904401465721391,
                      -0.04957473386817271,
                      -0.029897462586883347,
                      -0.10760538830785275,
                      0.031155856034165597,
                      0.054661003514591584,
                      0.00754903187801514,
                      -0.12518658028788354,
                      -0.038473873027252976,
                      -0.14831190241649234,
                      -0.10502941982337458,
                      0.3117761800728585,
                      -0.36253227566448787
                    ],
                    [
                      0.04525439602624075,
                      -0.14715875609345752,
                      0.08163786368698679,
                      -0.3429432803941176,
                      0.11273288565883086,
                      -0.16894132741243503,
                      -0.09534263724066945,
                      -0.1556099665702553,
                      1,
                      -0.08147556511827556,
                      -0.16565199185067625,
                      0.030185792540030332,
                      -0.08825004390913518,
                      -0.011428437232644743,
                      -0.08150965492208143,
                      -0.011785920301659454,
                      -0.05968010941858724,
                      -0.09729798418210013,
                      -0.04117129184030303,
                      0.022730170453172927,
                      0.05194562381036019,
                      -0.15669441758717,
                      0.05286317332225627,
                      -0.09160474367183588,
                      0.009232798528544691,
                      0.046713629772273314,
                      -0.00961002132936027,
                      0.09060205367128064,
                      0.038356256393446024,
                      -0.058945296506682676,
                      0.18847426852784777
                    ],
                    [
                      -0.27248350601301013,
                      -0.018112349146750056,
                      -0.05154974480421923,
                      0.1831219948337973,
                      -0.07295614126402991,
                      0.042819672637864105,
                      0.054510814348506215,
                      0.06038994716379874,
                      -0.08147556511827556,
                      1,
                      -0.014000763764491865,
                      0.10193280813929088,
                      -0.2716898197151874,
                      0.27574726622774803,
                      0.2944874768727467,
                      -0.22209307309430282,
                      -0.06307135128641814,
                      0.2506328136182934,
                      0.13229779999901195,
                      -0.059696365926729555,
                      0.00880177351037151,
                      -0.02735007242790988,
                      0.00931599757292198,
                      -0.02585034940353114,
                      0.001596629603762078,
                      0.10236733035368205,
                      0.06448376502912609,
                      -0.06100782881199352,
                      -0.0781282846240508,
                      -0.010708356979597452,
                      -0.157878199559049
                    ],
                    [
                      0.08655430481560628,
                      0.041344686787372395,
                      -0.023367073218679285,
                      0.2368867191365199,
                      -0.09770772277214128,
                      0.18152948487827383,
                      0.06598076915767624,
                      0.23152345931039564,
                      -0.16565199185067625,
                      -0.014000763764491865,
                      1,
                      -0.15273709555576317,
                      0.23924503831837687,
                      -0.10632090718608023,
                      0.04722225247284716,
                      0.07918976134762319,
                      0.2244225746281602,
                      0.20537990290224084,
                      0.07149577395616745,
                      0.009447123004825704,
                      0.034667994930314874,
                      0.009374010020872374,
                      -0.03373884716984267,
                      0.02460171581248788,
                      0.012120314202004517,
                      -0.01846219494427045,
                      0.012813900515082235,
                      -0.13924586824990476,
                      -0.08868877118793045,
                      -0.10900468680095407,
                      -0.34220832147514346
                    ],
                    [
                      -0.14304963597520376,
                      -0.05337435171186644,
                      0.11336096671563368,
                      -0.15576977201121764,
                      0.07044961647899645,
                      -0.07431602303585925,
                      -0.10215573001069717,
                      -0.1508010014942602,
                      0.030185792540030332,
                      0.10193280813929088,
                      -0.15273709555576317,
                      1,
                      -0.33858127323288084,
                      0.17718291789655982,
                      0.01824385182468916,
                      -0.11373238476823296,
                      -0.13286045212289868,
                      -0.11070596718106947,
                      -0.057356731641629626,
                      -0.07133725509448346,
                      0.023386196208847007,
                      0.018311616739443738,
                      0.03978758603274157,
                      0.03165548415036463,
                      0.01753063694633213,
                      -0.09504592403907827,
                      0.037637076684879575,
                      0.04756803393937976,
                      0.010377474485335037,
                      -0.02868153130515892,
                      0.26708026841568333
                    ],
                    [
                      0.2846775637644645,
                      0.07167372930918953,
                      -0.12838828677767838,
                      0.14584629077844102,
                      -0.13238621889890292,
                      0.057503231871760305,
                      0.0011553523490909024,
                      0.2046283804015965,
                      -0.08825004390913518,
                      -0.2716898197151874,
                      0.23924503831837687,
                      -0.33858127323288084,
                      1,
                      -0.3885668088028364,
                      -0.1257068672592759,
                      0.17262768822594102,
                      0.09590005305197388,
                      0.04750940905206406,
                      0.028842777002594966,
                      0.01586200848413739,
                      -0.001303977679385321,
                      0.04991884516722838,
                      0.0763803205959732,
                      -0.013273553127194391,
                      0.02789879269982729,
                      0.01656836654949224,
                      -0.020093974316159845,
                      -0.03759655272693337,
                      0.0028453635086963273,
                      0.043477184987696066,
                      -0.3095516889781102
                    ],
                    [
                      -0.27645500298476877,
                      0.016586162989765348,
                      0.04752069933632567,
                      0.003880360455060168,
                      0.05854466576008902,
                      0.04206753831123632,
                      0.025682169242154405,
                      -0.02357972352824575,
                      -0.011428437232644743,
                      0.27574726622774803,
                      -0.10632090718608023,
                      0.17718291789655982,
                      -0.3885668088028364,
                      1,
                      0.2796988821165805,
                      -0.16095220151566844,
                      0.03489083821122347,
                      0.15502021522201573,
                      0.06976688207539376,
                      -0.028951249869154403,
                      0.0029723784484414714,
                      -0.02796681189973754,
                      -0.04934229970130363,
                      -0.008393548956846969,
                      -0.0013219490809406903,
                      0.03956767119589195,
                      0.037019062880809084,
                      -0.005991297314462976,
                      -0.004723444030765391,
                      -0.012265247251151572,
                      -0.003901046580259291
                    ],
                    [
                      -0.2069358847973038,
                      0.17935879644791,
                      -0.12380001817725254,
                      0.2817985983222703,
                      -0.1001641294347495,
                      0.10741734125829036,
                      0.0999764711064572,
                      0.12278254360310575,
                      -0.08150965492208143,
                      0.2944874768727467,
                      0.04722225247284716,
                      0.01824385182468916,
                      -0.1257068672592759,
                      0.2796988821165805,
                      1,
                      -0.09503131624586952,
                      0.2647585078219122,
                      0.3982367803845602,
                      0.17655995534825564,
                      -0.06071026487074814,
                      -0.11638914807387075,
                      -0.03906012027035432,
                      -0.07262609549187456,
                      0.04270249938946014,
                      0.041361396108035596,
                      -0.05434043067678065,
                      0.03282827197136449,
                      -0.09815015685971569,
                      0.04410576113714983,
                      -0.014105324605023905,
                      -0.4186344505799684
                    ],
                    [
                      0.14483762211931003,
                      0.048762714102762714,
                      0.0519177818024542,
                      -0.1650609640662491,
                      -0.12706213574185965,
                      0.07063308250483691,
                      -0.11540796661799779,
                      0.0779242649803815,
                      -0.011785920301659454,
                      -0.22209307309430282,
                      0.07918976134762319,
                      -0.11373238476823296,
                      0.17262768822594102,
                      -0.16095220151566844,
                      -0.09503131624586952,
                      1,
                      0.05846938238394333,
                      -0.09593771321231967,
                      -0.008291664140112747,
                      -0.009263262907321088,
                      -0.003004649481552482,
                      0.02032306013801313,
                      0.01523867573851412,
                      0.013765226838340796,
                      -0.008427274166522933,
                      -0.09729179296460387,
                      -0.058764456731902705,
                      0.011688000233574494,
                      -0.0335355266837688,
                      -0.03899876126260166,
                      -0.00909868094440621
                    ],
                    [
                      0.03866187416546563,
                      0.14818837752864825,
                      -0.08037594276437939,
                      0.061214957899231905,
                      -0.17282250967367496,
                      0.14100952591535762,
                      0.02919641550486938,
                      0.15894469640126743,
                      -0.05968010941858724,
                      -0.06307135128641814,
                      0.2244225746281602,
                      -0.13286045212289868,
                      0.09590005305197388,
                      0.03489083821122347,
                      0.2647585078219122,
                      0.05846938238394333,
                      1,
                      0.23488285534226222,
                      0.19629080910155444,
                      -0.040916615945785745,
                      -0.007564498680751888,
                      -0.03569128505478334,
                      -0.03414861355866168,
                      0.0017962906420619703,
                      -0.002954727234982339,
                      0.07875368492341621,
                      0.0646488767374442,
                      -0.07783346542481691,
                      -0.0341550726247604,
                      -0.012705638201976845,
                      -0.3062854976587467
                    ],
                    [
                      -0.077543966465346,
                      0.12830847515879512,
                      -0.09940434375020589,
                      0.20641512081753102,
                      -0.006172467953622297,
                      0.08610757196225576,
                      0.04381417892057733,
                      0.18434468561383116,
                      -0.09729798418210013,
                      0.2506328136182934,
                      0.20537990290224084,
                      -0.11070596718106947,
                      0.04750940905206406,
                      0.15502021522201573,
                      0.3982367803845602,
                      -0.09593771321231967,
                      0.23488285534226222,
                      1,
                      0.16465259269615684,
                      -0.10116667652142793,
                      -0.07942883782967436,
                      -0.03838519191298518,
                      0.013352079521823056,
                      0.053195294215042016,
                      -0.005633378259634451,
                      -0.07005041700316636,
                      -0.07028289273028057,
                      -0.11987072139697907,
                      -0.05893365604190963,
                      0.004474250322401387,
                      -0.41079683298259034
                    ],
                    [
                      -0.04975233239698996,
                      0.005602099059826225,
                      -0.010248090942381799,
                      0.056688473809589655,
                      -0.03451671933987283,
                      0.10550681828156738,
                      0.05580033881653275,
                      0.11904401465721391,
                      -0.04117129184030303,
                      0.13229779999901195,
                      0.07149577395616745,
                      -0.057356731641629626,
                      0.028842777002594966,
                      0.06976688207539376,
                      0.17655995534825564,
                      -0.008291664140112747,
                      0.19629080910155444,
                      0.16465259269615684,
                      1,
                      0.0277997675370681,
                      -0.019160142361556318,
                      -0.03362428178016439,
                      -0.07930565263902387,
                      -0.009570084359989083,
                      -0.01200784802238854,
                      0.020110545688682546,
                      0.03557254081610678,
                      -0.044629093635984364,
                      -0.01717101613578131,
                      0.035983792795270066,
                      -0.18482662039281234
                    ],
                    [
                      0.023532291540160316,
                      0.015586081277063714,
                      -0.019031578525062192,
                      -0.03532436120213821,
                      -0.030383498603965473,
                      -0.004182049184608918,
                      0.09380122651198,
                      -0.04957473386817271,
                      0.022730170453172927,
                      -0.059696365926729555,
                      0.009447123004825704,
                      -0.07133725509448346,
                      0.01586200848413739,
                      -0.028951249869154403,
                      -0.06071026487074814,
                      -0.009263262907321088,
                      -0.040916615945785745,
                      -0.10116667652142793,
                      0.0277997675370681,
                      1,
                      0.02757432757820635,
                      0.02558812626860785,
                      0.0046110652086706165,
                      -0.028662263257398103,
                      -0.0025318285687881215,
                      -0.0192159837574223,
                      -0.03575269734082956,
                      0.01172247923646532,
                      -0.014644226023290281,
                      -0.036580445401169136,
                      0.026407638039320308
                    ],
                    [
                      0.014410726204340214,
                      -0.12632947587865392,
                      -0.05632607915840939,
                      -0.11356098666566868,
                      0.02404835994744569,
                      -0.004218198864359108,
                      -0.019216514672751355,
                      -0.029897462586883347,
                      0.05194562381036019,
                      0.00880177351037151,
                      0.034667994930314874,
                      0.023386196208847007,
                      -0.001303977679385321,
                      0.0029723784484414714,
                      -0.11638914807387075,
                      -0.003004649481552482,
                      -0.007564498680751888,
                      -0.07942883782967436,
                      -0.019160142361556318,
                      0.02757432757820635,
                      1,
                      -0.1587303358894299,
                      0.047818464333376685,
                      0.018476708896227243,
                      -0.021779365019449947,
                      -0.007056412468511685,
                      0.014382114580059937,
                      -0.013903116124300965,
                      0.11080356606059569,
                      0.33309389572405135,
                      0.05939795415197562
                    ],
                    [
                      0.021922305458801094,
                      -0.10272802623489143,
                      0.039093713874389,
                      -0.020364536455882192,
                      0.007280738398085038,
                      -0.0547850487042423,
                      0.04608257088477731,
                      -0.10760538830785275,
                      -0.15669441758717,
                      -0.02735007242790988,
                      0.009374010020872374,
                      0.018311616739443738,
                      0.04991884516722838,
                      -0.02796681189973754,
                      -0.03906012027035432,
                      0.02032306013801313,
                      -0.03569128505478334,
                      -0.03838519191298518,
                      -0.03362428178016439,
                      0.02558812626860785,
                      -0.1587303358894299,
                      1,
                      -0.19958145121354467,
                      0.07022307375381868,
                      -0.007274610126440255,
                      0.02108687805814628,
                      -0.014615594495290265,
                      0.029415720514662725,
                      0.053745664031545515,
                      0.08333989216534507,
                      0.04127094524256174
                    ],
                    [
                      0.03761310285567527,
                      0.034007539742728965,
                      -0.12205969278217167,
                      0.24478911634209627,
                      -0.019026840574841716,
                      -0.06267948793341496,
                      0.012308131507138274,
                      0.031155856034165597,
                      0.05286317332225627,
                      0.00931599757292198,
                      -0.03373884716984267,
                      0.03978758603274157,
                      0.0763803205959732,
                      -0.04934229970130363,
                      -0.07262609549187456,
                      0.01523867573851412,
                      -0.03414861355866168,
                      0.013352079521823056,
                      -0.07930565263902387,
                      0.0046110652086706165,
                      0.047818464333376685,
                      -0.19958145121354467,
                      1,
                      -0.01017042362795018,
                      0.014619131784170101,
                      -0.04205861782491829,
                      -0.058358196291655735,
                      -0.05147453101419184,
                      -0.012324068079872241,
                      -0.04092082370499708,
                      -0.022745782680362026
                    ],
                    [
                      -0.008338846867040684,
                      -0.04203590537869868,
                      -0.0025691373715677427,
                      0.05682822296034667,
                      -0.011199401526168324,
                      0.034550949917588565,
                      -0.006742004935771644,
                      0.054661003514591584,
                      -0.09160474367183588,
                      -0.02585034940353114,
                      0.02460171581248788,
                      0.03165548415036463,
                      -0.013273553127194391,
                      -0.008393548956846969,
                      0.04270249938946014,
                      0.013765226838340796,
                      0.0017962906420619703,
                      0.053195294215042016,
                      -0.009570084359989083,
                      -0.028662263257398103,
                      0.018476708896227243,
                      0.07022307375381868,
                      -0.01017042362795018,
                      1,
                      0.019939596827799274,
                      0.053708838569550686,
                      0.027850313996900723,
                      -0.0635837679673244,
                      0.09338022876229775,
                      -0.1374628150128515,
                      -0.033727413773231005
                    ],
                    [
                      -0.012663397647925742,
                      0.002131322040527596,
                      -0.029510482699328273,
                      0.03889957389968417,
                      -0.024831980106484252,
                      -0.004096599860389265,
                      0.020253313251331208,
                      0.00754903187801514,
                      0.009232798528544691,
                      0.001596629603762078,
                      0.012120314202004517,
                      0.01753063694633213,
                      0.02789879269982729,
                      -0.0013219490809406903,
                      0.041361396108035596,
                      -0.008427274166522933,
                      -0.002954727234982339,
                      -0.005633378259634451,
                      -0.01200784802238854,
                      -0.0025318285687881215,
                      -0.021779365019449947,
                      -0.007274610126440255,
                      0.014619131784170101,
                      0.019939596827799274,
                      1,
                      -0.027740349560095207,
                      -0.013826215874510174,
                      0.010321396841221313,
                      0.011799182015639061,
                      0.011678973532776579,
                      -0.026171140259964896
                    ],
                    [
                      0.060046258326605505,
                      0.16165838335034116,
                      -0.08721218052022237,
                      -0.18830816980574963,
                      -0.02253489214572654,
                      -0.07229083816023292,
                      0.06087935462273771,
                      -0.12518658028788354,
                      0.046713629772273314,
                      0.10236733035368205,
                      -0.01846219494427045,
                      -0.09504592403907827,
                      0.01656836654949224,
                      0.03956767119589195,
                      -0.05434043067678065,
                      -0.09729179296460387,
                      0.07875368492341621,
                      -0.07005041700316636,
                      0.020110545688682546,
                      -0.0192159837574223,
                      -0.007056412468511685,
                      0.02108687805814628,
                      -0.04205861782491829,
                      0.053708838569550686,
                      -0.027740349560095207,
                      1,
                      -0.12190586337656764,
                      0.05557702156880497,
                      0.04836517169429045,
                      -0.03978369526811231,
                      0.029120261673277897
                    ],
                    [
                      -0.04374765131667425,
                      0.02542608196721182,
                      -0.0603633186767123,
                      0.0656186064872775,
                      0.04111646959952094,
                      -0.04641476313007963,
                      0.010860074233933151,
                      -0.038473873027252976,
                      -0.00961002132936027,
                      0.06448376502912609,
                      0.012813900515082235,
                      0.037637076684879575,
                      -0.020093974316159845,
                      0.037019062880809084,
                      0.03282827197136449,
                      -0.058764456731902705,
                      0.0646488767374442,
                      -0.07028289273028057,
                      0.03557254081610678,
                      -0.03575269734082956,
                      0.014382114580059937,
                      -0.014615594495290265,
                      -0.058358196291655735,
                      0.027850313996900723,
                      -0.013826215874510174,
                      -0.12190586337656764,
                      1,
                      -0.00916192539600851,
                      0.02615172072382487,
                      0.033083405929863266,
                      0.017690218808395327
                    ],
                    [
                      -0.0013032485330733976,
                      -0.13729820047377278,
                      0.08055967996017312,
                      -0.18529864251294914,
                      0.05756270973292378,
                      -0.13278861953121107,
                      -0.026209123383695285,
                      -0.14831190241649234,
                      0.09060205367128064,
                      -0.06100782881199352,
                      -0.13924586824990476,
                      0.04756803393937976,
                      -0.03759655272693337,
                      -0.005991297314462976,
                      -0.09815015685971569,
                      0.011688000233574494,
                      -0.07783346542481691,
                      -0.11987072139697907,
                      -0.044629093635984364,
                      0.01172247923646532,
                      -0.013903116124300965,
                      0.029415720514662725,
                      -0.05147453101419184,
                      -0.0635837679673244,
                      0.010321396841221313,
                      0.05557702156880497,
                      -0.00916192539600851,
                      1,
                      0.07288729804591752,
                      0.046158424781560875,
                      0.12393264779321923
                    ],
                    [
                      0.0014614595811510136,
                      0.13254219825824456,
                      0.020385919908200115,
                      0.04126566181711838,
                      -0.01954367701856687,
                      0.000042981917522708554,
                      -0.03073367621564942,
                      -0.10502941982337458,
                      0.038356256393446024,
                      -0.0781282846240508,
                      -0.08868877118793045,
                      0.010377474485335037,
                      0.0028453635086963273,
                      -0.004723444030765391,
                      0.04410576113714983,
                      -0.0335355266837688,
                      -0.0341550726247604,
                      -0.05893365604190963,
                      -0.01717101613578131,
                      -0.014644226023290281,
                      0.11080356606059569,
                      0.053745664031545515,
                      -0.012324068079872241,
                      0.09338022876229775,
                      0.011799182015639061,
                      0.04836517169429045,
                      0.02615172072382487,
                      0.07288729804591752,
                      1,
                      -0.02195921776615036,
                      0.020123913277803093
                    ],
                    [
                      0.05370720034306681,
                      -0.21200534922456257,
                      -0.4821382989623742,
                      -0.15178865679156786,
                      0.11163665701199003,
                      -0.36021552387680883,
                      0.21523645477999878,
                      0.3117761800728585,
                      -0.058945296506682676,
                      -0.010708356979597452,
                      -0.10900468680095407,
                      -0.02868153130515892,
                      0.043477184987696066,
                      -0.012265247251151572,
                      -0.014105324605023905,
                      -0.03899876126260166,
                      -0.012705638201976845,
                      0.004474250322401387,
                      0.035983792795270066,
                      -0.036580445401169136,
                      0.33309389572405135,
                      0.08333989216534507,
                      -0.04092082370499708,
                      -0.1374628150128515,
                      0.011678973532776579,
                      -0.03978369526811231,
                      0.033083405929863266,
                      0.046158424781560875,
                      -0.02195921776615036,
                      1,
                      0.006440961964811762
                    ],
                    [
                      -0.007222265803114241,
                      -0.25958568681182526,
                      0.2337669148082731,
                      -0.44914917587658815,
                      0.24466835518229027,
                      -0.2374305971062244,
                      -0.11342517571965123,
                      -0.36253227566448787,
                      0.18847426852784777,
                      -0.157878199559049,
                      -0.34220832147514346,
                      0.26708026841568333,
                      -0.3095516889781102,
                      -0.003901046580259291,
                      -0.4186344505799684,
                      -0.00909868094440621,
                      -0.3062854976587467,
                      -0.41079683298259034,
                      -0.18482662039281234,
                      0.026407638039320308,
                      0.05939795415197562,
                      0.04127094524256174,
                      -0.022745782680362026,
                      -0.033727413773231005,
                      -0.026171140259964896,
                      0.029120261673277897,
                      0.017690218808395327,
                      0.12393264779321923,
                      0.020123913277803093,
                      0.006440961964811762,
                      1
                    ]
                  ],
                  "type": "heatmap"
                }
              ],
              "layout": {
                "margin": {
                  "b": 100,
                  "l": 100,
                  "r": 0,
                  "t": 0
                },
                "template": {
                  "data": {
                    "barpolar": [
                      {
                        "marker": {
                          "line": {
                            "color": "#E5ECF6",
                            "width": 0.5
                          },
                          "pattern": {
                            "fillmode": "overlay",
                            "size": 10,
                            "solidity": 0.2
                          }
                        },
                        "type": "barpolar"
                      }
                    ],
                    "bar": [
                      {
                        "error_x": {
                          "color": "#2a3f5f"
                        },
                        "error_y": {
                          "color": "#2a3f5f"
                        },
                        "marker": {
                          "line": {
                            "color": "#E5ECF6",
                            "width": 0.5
                          },
                          "pattern": {
                            "fillmode": "overlay",
                            "size": 10,
                            "solidity": 0.2
                          }
                        },
                        "type": "bar"
                      }
                    ],
                    "carpet": [
                      {
                        "aaxis": {
                          "endlinecolor": "#2a3f5f",
                          "gridcolor": "white",
                          "linecolor": "white",
                          "minorgridcolor": "white",
                          "startlinecolor": "#2a3f5f"
                        },
                        "baxis": {
                          "endlinecolor": "#2a3f5f",
                          "gridcolor": "white",
                          "linecolor": "white",
                          "minorgridcolor": "white",
                          "startlinecolor": "#2a3f5f"
                        },
                        "type": "carpet"
                      }
                    ],
                    "choropleth": [
                      {
                        "colorbar": {
                          "outlinewidth": 0,
                          "ticks": ""
                        },
                        "type": "choropleth"
                      }
                    ],
                    "contourcarpet": [
                      {
                        "colorbar": {
                          "outlinewidth": 0,
                          "ticks": ""
                        },
                        "type": "contourcarpet"
                      }
                    ],
                    "contour": [
                      {
                        "colorbar": {
                          "outlinewidth": 0,
                          "ticks": ""
                        },
                        "colorscale": [
                          [
                            0,
                            "#0d0887"
                          ],
                          [
                            0.1111111111111111,
                            "#46039f"
                          ],
                          [
                            0.2222222222222222,
                            "#7201a8"
                          ],
                          [
                            0.3333333333333333,
                            "#9c179e"
                          ],
                          [
                            0.4444444444444444,
                            "#bd3786"
                          ],
                          [
                            0.5555555555555556,
                            "#d8576b"
                          ],
                          [
                            0.6666666666666666,
                            "#ed7953"
                          ],
                          [
                            0.7777777777777778,
                            "#fb9f3a"
                          ],
                          [
                            0.8888888888888888,
                            "#fdca26"
                          ],
                          [
                            1,
                            "#f0f921"
                          ]
                        ],
                        "type": "contour"
                      }
                    ],
                    "heatmapgl": [
                      {
                        "colorbar": {
                          "outlinewidth": 0,
                          "ticks": ""
                        },
                        "colorscale": [
                          [
                            0,
                            "#0d0887"
                          ],
                          [
                            0.1111111111111111,
                            "#46039f"
                          ],
                          [
                            0.2222222222222222,
                            "#7201a8"
                          ],
                          [
                            0.3333333333333333,
                            "#9c179e"
                          ],
                          [
                            0.4444444444444444,
                            "#bd3786"
                          ],
                          [
                            0.5555555555555556,
                            "#d8576b"
                          ],
                          [
                            0.6666666666666666,
                            "#ed7953"
                          ],
                          [
                            0.7777777777777778,
                            "#fb9f3a"
                          ],
                          [
                            0.8888888888888888,
                            "#fdca26"
                          ],
                          [
                            1,
                            "#f0f921"
                          ]
                        ],
                        "type": "heatmapgl"
                      }
                    ],
                    "heatmap": [
                      {
                        "colorbar": {
                          "outlinewidth": 0,
                          "ticks": ""
                        },
                        "colorscale": [
                          [
                            0,
                            "#0d0887"
                          ],
                          [
                            0.1111111111111111,
                            "#46039f"
                          ],
                          [
                            0.2222222222222222,
                            "#7201a8"
                          ],
                          [
                            0.3333333333333333,
                            "#9c179e"
                          ],
                          [
                            0.4444444444444444,
                            "#bd3786"
                          ],
                          [
                            0.5555555555555556,
                            "#d8576b"
                          ],
                          [
                            0.6666666666666666,
                            "#ed7953"
                          ],
                          [
                            0.7777777777777778,
                            "#fb9f3a"
                          ],
                          [
                            0.8888888888888888,
                            "#fdca26"
                          ],
                          [
                            1,
                            "#f0f921"
                          ]
                        ],
                        "type": "heatmap"
                      }
                    ],
                    "histogram2dcontour": [
                      {
                        "colorbar": {
                          "outlinewidth": 0,
                          "ticks": ""
                        },
                        "colorscale": [
                          [
                            0,
                            "#0d0887"
                          ],
                          [
                            0.1111111111111111,
                            "#46039f"
                          ],
                          [
                            0.2222222222222222,
                            "#7201a8"
                          ],
                          [
                            0.3333333333333333,
                            "#9c179e"
                          ],
                          [
                            0.4444444444444444,
                            "#bd3786"
                          ],
                          [
                            0.5555555555555556,
                            "#d8576b"
                          ],
                          [
                            0.6666666666666666,
                            "#ed7953"
                          ],
                          [
                            0.7777777777777778,
                            "#fb9f3a"
                          ],
                          [
                            0.8888888888888888,
                            "#fdca26"
                          ],
                          [
                            1,
                            "#f0f921"
                          ]
                        ],
                        "type": "histogram2dcontour"
                      }
                    ],
                    "histogram2d": [
                      {
                        "colorbar": {
                          "outlinewidth": 0,
                          "ticks": ""
                        },
                        "colorscale": [
                          [
                            0,
                            "#0d0887"
                          ],
                          [
                            0.1111111111111111,
                            "#46039f"
                          ],
                          [
                            0.2222222222222222,
                            "#7201a8"
                          ],
                          [
                            0.3333333333333333,
                            "#9c179e"
                          ],
                          [
                            0.4444444444444444,
                            "#bd3786"
                          ],
                          [
                            0.5555555555555556,
                            "#d8576b"
                          ],
                          [
                            0.6666666666666666,
                            "#ed7953"
                          ],
                          [
                            0.7777777777777778,
                            "#fb9f3a"
                          ],
                          [
                            0.8888888888888888,
                            "#fdca26"
                          ],
                          [
                            1,
                            "#f0f921"
                          ]
                        ],
                        "type": "histogram2d"
                      }
                    ],
                    "histogram": [
                      {
                        "marker": {
                          "pattern": {
                            "fillmode": "overlay",
                            "size": 10,
                            "solidity": 0.2
                          }
                        },
                        "type": "histogram"
                      }
                    ],
                    "mesh3d": [
                      {
                        "colorbar": {
                          "outlinewidth": 0,
                          "ticks": ""
                        },
                        "type": "mesh3d"
                      }
                    ],
                    "parcoords": [
                      {
                        "line": {
                          "colorbar": {
                            "outlinewidth": 0,
                            "ticks": ""
                          }
                        },
                        "type": "parcoords"
                      }
                    ],
                    "pie": [
                      {
                        "automargin": true,
                        "type": "pie"
                      }
                    ],
                    "scatter3d": [
                      {
                        "line": {
                          "colorbar": {
                            "outlinewidth": 0,
                            "ticks": ""
                          }
                        },
                        "marker": {
                          "colorbar": {
                            "outlinewidth": 0,
                            "ticks": ""
                          }
                        },
                        "type": "scatter3d"
                      }
                    ],
                    "scattercarpet": [
                      {
                        "marker": {
                          "colorbar": {
                            "outlinewidth": 0,
                            "ticks": ""
                          }
                        },
                        "type": "scattercarpet"
                      }
                    ],
                    "scattergeo": [
                      {
                        "marker": {
                          "colorbar": {
                            "outlinewidth": 0,
                            "ticks": ""
                          }
                        },
                        "type": "scattergeo"
                      }
                    ],
                    "scattergl": [
                      {
                        "marker": {
                          "colorbar": {
                            "outlinewidth": 0,
                            "ticks": ""
                          }
                        },
                        "type": "scattergl"
                      }
                    ],
                    "scattermapbox": [
                      {
                        "marker": {
                          "colorbar": {
                            "outlinewidth": 0,
                            "ticks": ""
                          }
                        },
                        "type": "scattermapbox"
                      }
                    ],
                    "scatterpolargl": [
                      {
                        "marker": {
                          "colorbar": {
                            "outlinewidth": 0,
                            "ticks": ""
                          }
                        },
                        "type": "scatterpolargl"
                      }
                    ],
                    "scatterpolar": [
                      {
                        "marker": {
                          "colorbar": {
                            "outlinewidth": 0,
                            "ticks": ""
                          }
                        },
                        "type": "scatterpolar"
                      }
                    ],
                    "scatter": [
                      {
                        "fillpattern": {
                          "fillmode": "overlay",
                          "size": 10,
                          "solidity": 0.2
                        },
                        "type": "scatter"
                      }
                    ],
                    "scatterternary": [
                      {
                        "marker": {
                          "colorbar": {
                            "outlinewidth": 0,
                            "ticks": ""
                          }
                        },
                        "type": "scatterternary"
                      }
                    ],
                    "surface": [
                      {
                        "colorbar": {
                          "outlinewidth": 0,
                          "ticks": ""
                        },
                        "colorscale": [
                          [
                            0,
                            "#0d0887"
                          ],
                          [
                            0.1111111111111111,
                            "#46039f"
                          ],
                          [
                            0.2222222222222222,
                            "#7201a8"
                          ],
                          [
                            0.3333333333333333,
                            "#9c179e"
                          ],
                          [
                            0.4444444444444444,
                            "#bd3786"
                          ],
                          [
                            0.5555555555555556,
                            "#d8576b"
                          ],
                          [
                            0.6666666666666666,
                            "#ed7953"
                          ],
                          [
                            0.7777777777777778,
                            "#fb9f3a"
                          ],
                          [
                            0.8888888888888888,
                            "#fdca26"
                          ],
                          [
                            1,
                            "#f0f921"
                          ]
                        ],
                        "type": "surface"
                      }
                    ],
                    "table": [
                      {
                        "cells": {
                          "fill": {
                            "color": "#EBF0F8"
                          },
                          "line": {
                            "color": "white"
                          }
                        },
                        "header": {
                          "fill": {
                            "color": "#C8D4E3"
                          },
                          "line": {
                            "color": "white"
                          }
                        },
                        "type": "table"
                      }
                    ]
                  },
                  "layout": {
                    "annotationdefaults": {
                      "arrowcolor": "#2a3f5f",
                      "arrowhead": 0,
                      "arrowwidth": 1
                    },
                    "autotypenumbers": "strict",
                    "coloraxis": {
                      "colorbar": {
                        "outlinewidth": 0,
                        "ticks": ""
                      }
                    },
                    "colorscale": {
                      "diverging": [
                        [
                          0,
                          "#8e0152"
                        ],
                        [
                          0.1,
                          "#c51b7d"
                        ],
                        [
                          0.2,
                          "#de77ae"
                        ],
                        [
                          0.3,
                          "#f1b6da"
                        ],
                        [
                          0.4,
                          "#fde0ef"
                        ],
                        [
                          0.5,
                          "#f7f7f7"
                        ],
                        [
                          0.6,
                          "#e6f5d0"
                        ],
                        [
                          0.7,
                          "#b8e186"
                        ],
                        [
                          0.8,
                          "#7fbc41"
                        ],
                        [
                          0.9,
                          "#4d9221"
                        ],
                        [
                          1,
                          "#276419"
                        ]
                      ],
                      "sequential": [
                        [
                          0,
                          "#0d0887"
                        ],
                        [
                          0.1111111111111111,
                          "#46039f"
                        ],
                        [
                          0.2222222222222222,
                          "#7201a8"
                        ],
                        [
                          0.3333333333333333,
                          "#9c179e"
                        ],
                        [
                          0.4444444444444444,
                          "#bd3786"
                        ],
                        [
                          0.5555555555555556,
                          "#d8576b"
                        ],
                        [
                          0.6666666666666666,
                          "#ed7953"
                        ],
                        [
                          0.7777777777777778,
                          "#fb9f3a"
                        ],
                        [
                          0.8888888888888888,
                          "#fdca26"
                        ],
                        [
                          1,
                          "#f0f921"
                        ]
                      ],
                      "sequentialminus": [
                        [
                          0,
                          "#0d0887"
                        ],
                        [
                          0.1111111111111111,
                          "#46039f"
                        ],
                        [
                          0.2222222222222222,
                          "#7201a8"
                        ],
                        [
                          0.3333333333333333,
                          "#9c179e"
                        ],
                        [
                          0.4444444444444444,
                          "#bd3786"
                        ],
                        [
                          0.5555555555555556,
                          "#d8576b"
                        ],
                        [
                          0.6666666666666666,
                          "#ed7953"
                        ],
                        [
                          0.7777777777777778,
                          "#fb9f3a"
                        ],
                        [
                          0.8888888888888888,
                          "#fdca26"
                        ],
                        [
                          1,
                          "#f0f921"
                        ]
                      ]
                    },
                    "colorway": [
                      "#636efa",
                      "#EF553B",
                      "#00cc96",
                      "#ab63fa",
                      "#FFA15A",
                      "#19d3f3",
                      "#FF6692",
                      "#B6E880",
                      "#FF97FF",
                      "#FECB52"
                    ],
                    "font": {
                      "color": "#2a3f5f"
                    },
                    "geo": {
                      "bgcolor": "white",
                      "lakecolor": "white",
                      "landcolor": "#E5ECF6",
                      "showlakes": true,
                      "showland": true,
                      "subunitcolor": "white"
                    },
                    "hoverlabel": {
                      "align": "left"
                    },
                    "hovermode": "closest",
                    "mapbox": {
                      "style": "light"
                    },
                    "paper_bgcolor": "white",
                    "plot_bgcolor": "#E5ECF6",
                    "polar": {
                      "angularaxis": {
                        "gridcolor": "white",
                        "linecolor": "white",
                        "ticks": ""
                      },
                      "bgcolor": "#E5ECF6",
                      "radialaxis": {
                        "gridcolor": "white",
                        "linecolor": "white",
                        "ticks": ""
                      }
                    },
                    "scene": {
                      "xaxis": {
                        "backgroundcolor": "#E5ECF6",
                        "gridcolor": "white",
                        "gridwidth": 2,
                        "linecolor": "white",
                        "showbackground": true,
                        "ticks": "",
                        "zerolinecolor": "white"
                      },
                      "yaxis": {
                        "backgroundcolor": "#E5ECF6",
                        "gridcolor": "white",
                        "gridwidth": 2,
                        "linecolor": "white",
                        "showbackground": true,
                        "ticks": "",
                        "zerolinecolor": "white"
                      },
                      "zaxis": {
                        "backgroundcolor": "#E5ECF6",
                        "gridcolor": "white",
                        "gridwidth": 2,
                        "linecolor": "white",
                        "showbackground": true,
                        "ticks": "",
                        "zerolinecolor": "white"
                      }
                    },
                    "shapedefaults": {
                      "line": {
                        "color": "#2a3f5f"
                      }
                    },
                    "ternary": {
                      "aaxis": {
                        "gridcolor": "white",
                        "linecolor": "white",
                        "ticks": ""
                      },
                      "baxis": {
                        "gridcolor": "white",
                        "linecolor": "white",
                        "ticks": ""
                      },
                      "bgcolor": "#E5ECF6",
                      "caxis": {
                        "gridcolor": "white",
                        "linecolor": "white",
                        "ticks": ""
                      }
                    },
                    "title": {
                      "x": 0.05
                    },
                    "xaxis": {
                      "automargin": true,
                      "gridcolor": "white",
                      "linecolor": "white",
                      "ticks": "",
                      "title": {
                        "standoff": 15
                      },
                      "zerolinecolor": "white",
                      "zerolinewidth": 2
                    },
                    "yaxis": {
                      "automargin": true,
                      "gridcolor": "white",
                      "linecolor": "white",
                      "ticks": "",
                      "title": {
                        "standoff": 15
                      },
                      "zerolinecolor": "white",
                      "zerolinewidth": 2
                    }
                  }
                },
                "title": {
                  "text": "Correlation Matrix for variables"
                },
                "xaxis": {
                  "tickfont": {
                    "size": 9
                  }
                },
                "yaxis": {
                  "tickfont": {
                    "size": 9
                  }
                }
              },
              "config": {
                "showLink": false,
                "linkText": "Export to plot.ly",
                "plotlyServerURL": "https://plot.ly"
              }
            },
            "text/html": [
              "<div>                            <div id=\"e4b4f1ea-f766-4006-bbac-fbeba77a214b\" class=\"plotly-graph-div\" style=\"height:525px; width:100%;\"></div>            <script type=\"text/javascript\">                require([\"plotly\"], function(Plotly) {                    window.PLOTLYENV=window.PLOTLYENV || {};                                    if (document.getElementById(\"e4b4f1ea-f766-4006-bbac-fbeba77a214b\")) {                    Plotly.newPlot(                        \"e4b4f1ea-f766-4006-bbac-fbeba77a214b\",                        [{\"colorscale\":[[0.0,\"#440154\"],[0.1111111111111111,\"#482878\"],[0.2222222222222222,\"#3e4989\"],[0.3333333333333333,\"#31688e\"],[0.4444444444444444,\"#26828e\"],[0.5555555555555556,\"#1f9e89\"],[0.6666666666666666,\"#35b779\"],[0.7777777777777778,\"#6ece58\"],[0.8888888888888888,\"#b5de2b\"],[1.0,\"#fde725\"]],\"x\":[\"Time\",\"V1\",\"V2\",\"V3\",\"V4\",\"V5\",\"V6\",\"V7\",\"V8\",\"V9\",\"V10\",\"V11\",\"V12\",\"V13\",\"V14\",\"V15\",\"V16\",\"V17\",\"V18\",\"V19\",\"V20\",\"V21\",\"V22\",\"V23\",\"V24\",\"V25\",\"V26\",\"V27\",\"V28\",\"Amount\",\"Class\"],\"y\":[\"Time\",\"V1\",\"V2\",\"V3\",\"V4\",\"V5\",\"V6\",\"V7\",\"V8\",\"V9\",\"V10\",\"V11\",\"V12\",\"V13\",\"V14\",\"V15\",\"V16\",\"V17\",\"V18\",\"V19\",\"V20\",\"V21\",\"V22\",\"V23\",\"V24\",\"V25\",\"V26\",\"V27\",\"V28\",\"Amount\",\"Class\"],\"z\":[[1.0,0.013667036225378933,-0.0784025903017519,-0.0801292992937882,-0.02225065657758026,-0.0807195962505426,-0.04085400562805196,-0.025640401635239368,0.04525439602624075,-0.27248350601301013,0.08655430481560628,-0.14304963597520376,0.2846775637644645,-0.27645500298476877,-0.2069358847973038,0.14483762211931003,0.03866187416546563,-0.077543966465346,-0.04975233239698996,0.023532291540160316,0.014410726204340214,0.021922305458801094,0.03761310285567527,-0.008338846867040684,-0.012663397647925742,0.060046258326605505,-0.04374765131667425,-0.0013032485330733976,0.0014614595811510136,0.05370720034306681,-0.007222265803114241],[0.013667036225378933,1.0,-0.2089363351879891,0.36476257606806994,-0.12083796694556838,0.14910656624230198,0.11765927134581246,0.23227557783498212,-0.14715875609345752,-0.018112349146750056,0.041344686787372395,-0.05337435171186644,0.07167372930918953,0.016586162989765348,0.17935879644791,0.048762714102762714,0.14818837752864825,0.12830847515879512,0.005602099059826225,0.015586081277063714,-0.12632947587865392,-0.10272802623489143,0.034007539742728965,-0.04203590537869868,0.002131322040527596,0.16165838335034116,0.02542608196721182,-0.13729820047377278,0.13254219825824456,-0.21200534922456257,-0.25958568681182526],[-0.0784025903017519,-0.2089363351879891,1.0,-0.3204659103845129,0.13405866045311018,-0.18562905528294057,-0.03478942051516789,-0.11014663485615991,0.08163786368698679,-0.05154974480421923,-0.023367073218679285,0.11336096671563368,-0.12838828677767838,0.04752069933632567,-0.12380001817725254,0.0519177818024542,-0.08037594276437939,-0.09940434375020589,-0.010248090942381799,-0.019031578525062192,-0.05632607915840939,0.039093713874389,-0.12205969278217167,-0.0025691373715677427,-0.029510482699328273,-0.08721218052022237,-0.0603633186767123,0.08055967996017312,0.020385919908200115,-0.4821382989623742,0.2337669148082731],[-0.0801292992937882,0.36476257606806994,-0.3204659103845129,1.0,-0.18098576334328242,0.3607758556882254,0.03545401817500769,0.41438131839962405,-0.3429432803941176,0.1831219948337973,0.2368867191365199,-0.15576977201121764,0.14584629077844102,0.003880360455060168,0.2817985983222703,-0.1650609640662491,0.061214957899231905,0.20641512081753102,0.056688473809589655,-0.03532436120213821,-0.11356098666566868,-0.020364536455882192,0.24478911634209627,0.05682822296034667,0.03889957389968417,-0.18830816980574963,0.0656186064872775,-0.18529864251294914,0.04126566181711838,-0.15178865679156786,-0.44914917587658815],[-0.02225065657758026,-0.12083796694556838,0.13405866045311018,-0.18098576334328242,1.0,-0.10478561904468299,-0.04766257179173236,-0.14292705671019795,0.11273288565883086,-0.07295614126402991,-0.09770772277214128,0.07044961647899645,-0.13238621889890292,0.05854466576008902,-0.1001641294347495,-0.12706213574185965,-0.17282250967367496,-0.006172467953622297,-0.03451671933987283,-0.030383498603965473,0.02404835994744569,0.007280738398085038,-0.019026840574841716,-0.011199401526168324,-0.024831980106484252,-0.02253489214572654,0.04111646959952094,0.05756270973292378,-0.01954367701856687,0.11163665701199003,0.24466835518229027],[-0.0807195962505426,0.14910656624230198,-0.18562905528294057,0.3607758556882254,-0.10478561904468299,1.0,0.11151664191840167,0.12947865666360037,-0.16894132741243503,0.042819672637864105,0.18152948487827383,-0.07431602303585925,0.057503231871760305,0.04206753831123632,0.10741734125829036,0.07063308250483691,0.14100952591535762,0.08610757196225576,0.10550681828156738,-0.004182049184608918,-0.004218198864359108,-0.0547850487042423,-0.06267948793341496,0.034550949917588565,-0.004096599860389265,-0.07229083816023292,-0.04641476313007963,-0.13278861953121107,4.2981917522708554e-05,-0.36021552387680883,-0.2374305971062244],[-0.04085400562805196,0.11765927134581246,-0.03478942051516789,0.03545401817500769,-0.04766257179173236,0.11151664191840167,1.0,0.11246422720918249,-0.09534263724066945,0.054510814348506215,0.06598076915767624,-0.10215573001069717,0.0011553523490909024,0.025682169242154405,0.0999764711064572,-0.11540796661799779,0.02919641550486938,0.04381417892057733,0.05580033881653275,0.09380122651198,-0.019216514672751355,0.04608257088477731,0.012308131507138274,-0.006742004935771644,0.020253313251331208,0.06087935462273771,0.010860074233933151,-0.026209123383695285,-0.03073367621564942,0.21523645477999878,-0.11342517571965123],[-0.025640401635239368,0.23227557783498212,-0.11014663485615991,0.41438131839962405,-0.14292705671019795,0.12947865666360037,0.11246422720918249,1.0,-0.1556099665702553,0.06038994716379874,0.23152345931039564,-0.1508010014942602,0.2046283804015965,-0.02357972352824575,0.12278254360310575,0.0779242649803815,0.15894469640126743,0.18434468561383116,0.11904401465721391,-0.04957473386817271,-0.029897462586883347,-0.10760538830785275,0.031155856034165597,0.054661003514591584,0.00754903187801514,-0.12518658028788354,-0.038473873027252976,-0.14831190241649234,-0.10502941982337458,0.3117761800728585,-0.36253227566448787],[0.04525439602624075,-0.14715875609345752,0.08163786368698679,-0.3429432803941176,0.11273288565883086,-0.16894132741243503,-0.09534263724066945,-0.1556099665702553,1.0,-0.08147556511827556,-0.16565199185067625,0.030185792540030332,-0.08825004390913518,-0.011428437232644743,-0.08150965492208143,-0.011785920301659454,-0.05968010941858724,-0.09729798418210013,-0.04117129184030303,0.022730170453172927,0.05194562381036019,-0.15669441758717,0.05286317332225627,-0.09160474367183588,0.009232798528544691,0.046713629772273314,-0.00961002132936027,0.09060205367128064,0.038356256393446024,-0.058945296506682676,0.18847426852784777],[-0.27248350601301013,-0.018112349146750056,-0.05154974480421923,0.1831219948337973,-0.07295614126402991,0.042819672637864105,0.054510814348506215,0.06038994716379874,-0.08147556511827556,1.0,-0.014000763764491865,0.10193280813929088,-0.2716898197151874,0.27574726622774803,0.2944874768727467,-0.22209307309430282,-0.06307135128641814,0.2506328136182934,0.13229779999901195,-0.059696365926729555,0.00880177351037151,-0.02735007242790988,0.00931599757292198,-0.02585034940353114,0.001596629603762078,0.10236733035368205,0.06448376502912609,-0.06100782881199352,-0.0781282846240508,-0.010708356979597452,-0.157878199559049],[0.08655430481560628,0.041344686787372395,-0.023367073218679285,0.2368867191365199,-0.09770772277214128,0.18152948487827383,0.06598076915767624,0.23152345931039564,-0.16565199185067625,-0.014000763764491865,1.0,-0.15273709555576317,0.23924503831837687,-0.10632090718608023,0.04722225247284716,0.07918976134762319,0.2244225746281602,0.20537990290224084,0.07149577395616745,0.009447123004825704,0.034667994930314874,0.009374010020872374,-0.03373884716984267,0.02460171581248788,0.012120314202004517,-0.01846219494427045,0.012813900515082235,-0.13924586824990476,-0.08868877118793045,-0.10900468680095407,-0.34220832147514346],[-0.14304963597520376,-0.05337435171186644,0.11336096671563368,-0.15576977201121764,0.07044961647899645,-0.07431602303585925,-0.10215573001069717,-0.1508010014942602,0.030185792540030332,0.10193280813929088,-0.15273709555576317,1.0,-0.33858127323288084,0.17718291789655982,0.01824385182468916,-0.11373238476823296,-0.13286045212289868,-0.11070596718106947,-0.057356731641629626,-0.07133725509448346,0.023386196208847007,0.018311616739443738,0.03978758603274157,0.03165548415036463,0.01753063694633213,-0.09504592403907827,0.037637076684879575,0.04756803393937976,0.010377474485335037,-0.02868153130515892,0.26708026841568333],[0.2846775637644645,0.07167372930918953,-0.12838828677767838,0.14584629077844102,-0.13238621889890292,0.057503231871760305,0.0011553523490909024,0.2046283804015965,-0.08825004390913518,-0.2716898197151874,0.23924503831837687,-0.33858127323288084,1.0,-0.3885668088028364,-0.1257068672592759,0.17262768822594102,0.09590005305197388,0.04750940905206406,0.028842777002594966,0.01586200848413739,-0.001303977679385321,0.04991884516722838,0.0763803205959732,-0.013273553127194391,0.02789879269982729,0.01656836654949224,-0.020093974316159845,-0.03759655272693337,0.0028453635086963273,0.043477184987696066,-0.3095516889781102],[-0.27645500298476877,0.016586162989765348,0.04752069933632567,0.003880360455060168,0.05854466576008902,0.04206753831123632,0.025682169242154405,-0.02357972352824575,-0.011428437232644743,0.27574726622774803,-0.10632090718608023,0.17718291789655982,-0.3885668088028364,1.0,0.2796988821165805,-0.16095220151566844,0.03489083821122347,0.15502021522201573,0.06976688207539376,-0.028951249869154403,0.0029723784484414714,-0.02796681189973754,-0.04934229970130363,-0.008393548956846969,-0.0013219490809406903,0.03956767119589195,0.037019062880809084,-0.005991297314462976,-0.004723444030765391,-0.012265247251151572,-0.003901046580259291],[-0.2069358847973038,0.17935879644791,-0.12380001817725254,0.2817985983222703,-0.1001641294347495,0.10741734125829036,0.0999764711064572,0.12278254360310575,-0.08150965492208143,0.2944874768727467,0.04722225247284716,0.01824385182468916,-0.1257068672592759,0.2796988821165805,1.0,-0.09503131624586952,0.2647585078219122,0.3982367803845602,0.17655995534825564,-0.06071026487074814,-0.11638914807387075,-0.03906012027035432,-0.07262609549187456,0.04270249938946014,0.041361396108035596,-0.05434043067678065,0.03282827197136449,-0.09815015685971569,0.04410576113714983,-0.014105324605023905,-0.4186344505799684],[0.14483762211931003,0.048762714102762714,0.0519177818024542,-0.1650609640662491,-0.12706213574185965,0.07063308250483691,-0.11540796661799779,0.0779242649803815,-0.011785920301659454,-0.22209307309430282,0.07918976134762319,-0.11373238476823296,0.17262768822594102,-0.16095220151566844,-0.09503131624586952,1.0,0.05846938238394333,-0.09593771321231967,-0.008291664140112747,-0.009263262907321088,-0.003004649481552482,0.02032306013801313,0.01523867573851412,0.013765226838340796,-0.008427274166522933,-0.09729179296460387,-0.058764456731902705,0.011688000233574494,-0.0335355266837688,-0.03899876126260166,-0.00909868094440621],[0.03866187416546563,0.14818837752864825,-0.08037594276437939,0.061214957899231905,-0.17282250967367496,0.14100952591535762,0.02919641550486938,0.15894469640126743,-0.05968010941858724,-0.06307135128641814,0.2244225746281602,-0.13286045212289868,0.09590005305197388,0.03489083821122347,0.2647585078219122,0.05846938238394333,1.0,0.23488285534226222,0.19629080910155444,-0.040916615945785745,-0.007564498680751888,-0.03569128505478334,-0.03414861355866168,0.0017962906420619703,-0.002954727234982339,0.07875368492341621,0.0646488767374442,-0.07783346542481691,-0.0341550726247604,-0.012705638201976845,-0.3062854976587467],[-0.077543966465346,0.12830847515879512,-0.09940434375020589,0.20641512081753102,-0.006172467953622297,0.08610757196225576,0.04381417892057733,0.18434468561383116,-0.09729798418210013,0.2506328136182934,0.20537990290224084,-0.11070596718106947,0.04750940905206406,0.15502021522201573,0.3982367803845602,-0.09593771321231967,0.23488285534226222,1.0,0.16465259269615684,-0.10116667652142793,-0.07942883782967436,-0.03838519191298518,0.013352079521823056,0.053195294215042016,-0.005633378259634451,-0.07005041700316636,-0.07028289273028057,-0.11987072139697907,-0.05893365604190963,0.004474250322401387,-0.41079683298259034],[-0.04975233239698996,0.005602099059826225,-0.010248090942381799,0.056688473809589655,-0.03451671933987283,0.10550681828156738,0.05580033881653275,0.11904401465721391,-0.04117129184030303,0.13229779999901195,0.07149577395616745,-0.057356731641629626,0.028842777002594966,0.06976688207539376,0.17655995534825564,-0.008291664140112747,0.19629080910155444,0.16465259269615684,1.0,0.0277997675370681,-0.019160142361556318,-0.03362428178016439,-0.07930565263902387,-0.009570084359989083,-0.01200784802238854,0.020110545688682546,0.03557254081610678,-0.044629093635984364,-0.01717101613578131,0.035983792795270066,-0.18482662039281234],[0.023532291540160316,0.015586081277063714,-0.019031578525062192,-0.03532436120213821,-0.030383498603965473,-0.004182049184608918,0.09380122651198,-0.04957473386817271,0.022730170453172927,-0.059696365926729555,0.009447123004825704,-0.07133725509448346,0.01586200848413739,-0.028951249869154403,-0.06071026487074814,-0.009263262907321088,-0.040916615945785745,-0.10116667652142793,0.0277997675370681,1.0,0.02757432757820635,0.02558812626860785,0.0046110652086706165,-0.028662263257398103,-0.0025318285687881215,-0.0192159837574223,-0.03575269734082956,0.01172247923646532,-0.014644226023290281,-0.036580445401169136,0.026407638039320308],[0.014410726204340214,-0.12632947587865392,-0.05632607915840939,-0.11356098666566868,0.02404835994744569,-0.004218198864359108,-0.019216514672751355,-0.029897462586883347,0.05194562381036019,0.00880177351037151,0.034667994930314874,0.023386196208847007,-0.001303977679385321,0.0029723784484414714,-0.11638914807387075,-0.003004649481552482,-0.007564498680751888,-0.07942883782967436,-0.019160142361556318,0.02757432757820635,1.0,-0.1587303358894299,0.047818464333376685,0.018476708896227243,-0.021779365019449947,-0.007056412468511685,0.014382114580059937,-0.013903116124300965,0.11080356606059569,0.33309389572405135,0.05939795415197562],[0.021922305458801094,-0.10272802623489143,0.039093713874389,-0.020364536455882192,0.007280738398085038,-0.0547850487042423,0.04608257088477731,-0.10760538830785275,-0.15669441758717,-0.02735007242790988,0.009374010020872374,0.018311616739443738,0.04991884516722838,-0.02796681189973754,-0.03906012027035432,0.02032306013801313,-0.03569128505478334,-0.03838519191298518,-0.03362428178016439,0.02558812626860785,-0.1587303358894299,1.0,-0.19958145121354467,0.07022307375381868,-0.007274610126440255,0.02108687805814628,-0.014615594495290265,0.029415720514662725,0.053745664031545515,0.08333989216534507,0.04127094524256174],[0.03761310285567527,0.034007539742728965,-0.12205969278217167,0.24478911634209627,-0.019026840574841716,-0.06267948793341496,0.012308131507138274,0.031155856034165597,0.05286317332225627,0.00931599757292198,-0.03373884716984267,0.03978758603274157,0.0763803205959732,-0.04934229970130363,-0.07262609549187456,0.01523867573851412,-0.03414861355866168,0.013352079521823056,-0.07930565263902387,0.0046110652086706165,0.047818464333376685,-0.19958145121354467,1.0,-0.01017042362795018,0.014619131784170101,-0.04205861782491829,-0.058358196291655735,-0.05147453101419184,-0.012324068079872241,-0.04092082370499708,-0.022745782680362026],[-0.008338846867040684,-0.04203590537869868,-0.0025691373715677427,0.05682822296034667,-0.011199401526168324,0.034550949917588565,-0.006742004935771644,0.054661003514591584,-0.09160474367183588,-0.02585034940353114,0.02460171581248788,0.03165548415036463,-0.013273553127194391,-0.008393548956846969,0.04270249938946014,0.013765226838340796,0.0017962906420619703,0.053195294215042016,-0.009570084359989083,-0.028662263257398103,0.018476708896227243,0.07022307375381868,-0.01017042362795018,1.0,0.019939596827799274,0.053708838569550686,0.027850313996900723,-0.0635837679673244,0.09338022876229775,-0.1374628150128515,-0.033727413773231005],[-0.012663397647925742,0.002131322040527596,-0.029510482699328273,0.03889957389968417,-0.024831980106484252,-0.004096599860389265,0.020253313251331208,0.00754903187801514,0.009232798528544691,0.001596629603762078,0.012120314202004517,0.01753063694633213,0.02789879269982729,-0.0013219490809406903,0.041361396108035596,-0.008427274166522933,-0.002954727234982339,-0.005633378259634451,-0.01200784802238854,-0.0025318285687881215,-0.021779365019449947,-0.007274610126440255,0.014619131784170101,0.019939596827799274,1.0,-0.027740349560095207,-0.013826215874510174,0.010321396841221313,0.011799182015639061,0.011678973532776579,-0.026171140259964896],[0.060046258326605505,0.16165838335034116,-0.08721218052022237,-0.18830816980574963,-0.02253489214572654,-0.07229083816023292,0.06087935462273771,-0.12518658028788354,0.046713629772273314,0.10236733035368205,-0.01846219494427045,-0.09504592403907827,0.01656836654949224,0.03956767119589195,-0.05434043067678065,-0.09729179296460387,0.07875368492341621,-0.07005041700316636,0.020110545688682546,-0.0192159837574223,-0.007056412468511685,0.02108687805814628,-0.04205861782491829,0.053708838569550686,-0.027740349560095207,1.0,-0.12190586337656764,0.05557702156880497,0.04836517169429045,-0.03978369526811231,0.029120261673277897],[-0.04374765131667425,0.02542608196721182,-0.0603633186767123,0.0656186064872775,0.04111646959952094,-0.04641476313007963,0.010860074233933151,-0.038473873027252976,-0.00961002132936027,0.06448376502912609,0.012813900515082235,0.037637076684879575,-0.020093974316159845,0.037019062880809084,0.03282827197136449,-0.058764456731902705,0.0646488767374442,-0.07028289273028057,0.03557254081610678,-0.03575269734082956,0.014382114580059937,-0.014615594495290265,-0.058358196291655735,0.027850313996900723,-0.013826215874510174,-0.12190586337656764,1.0,-0.00916192539600851,0.02615172072382487,0.033083405929863266,0.017690218808395327],[-0.0013032485330733976,-0.13729820047377278,0.08055967996017312,-0.18529864251294914,0.05756270973292378,-0.13278861953121107,-0.026209123383695285,-0.14831190241649234,0.09060205367128064,-0.06100782881199352,-0.13924586824990476,0.04756803393937976,-0.03759655272693337,-0.005991297314462976,-0.09815015685971569,0.011688000233574494,-0.07783346542481691,-0.11987072139697907,-0.044629093635984364,0.01172247923646532,-0.013903116124300965,0.029415720514662725,-0.05147453101419184,-0.0635837679673244,0.010321396841221313,0.05557702156880497,-0.00916192539600851,1.0,0.07288729804591752,0.046158424781560875,0.12393264779321923],[0.0014614595811510136,0.13254219825824456,0.020385919908200115,0.04126566181711838,-0.01954367701856687,4.2981917522708554e-05,-0.03073367621564942,-0.10502941982337458,0.038356256393446024,-0.0781282846240508,-0.08868877118793045,0.010377474485335037,0.0028453635086963273,-0.004723444030765391,0.04410576113714983,-0.0335355266837688,-0.0341550726247604,-0.05893365604190963,-0.01717101613578131,-0.014644226023290281,0.11080356606059569,0.053745664031545515,-0.012324068079872241,0.09338022876229775,0.011799182015639061,0.04836517169429045,0.02615172072382487,0.07288729804591752,1.0,-0.02195921776615036,0.020123913277803093],[0.05370720034306681,-0.21200534922456257,-0.4821382989623742,-0.15178865679156786,0.11163665701199003,-0.36021552387680883,0.21523645477999878,0.3117761800728585,-0.058945296506682676,-0.010708356979597452,-0.10900468680095407,-0.02868153130515892,0.043477184987696066,-0.012265247251151572,-0.014105324605023905,-0.03899876126260166,-0.012705638201976845,0.004474250322401387,0.035983792795270066,-0.036580445401169136,0.33309389572405135,0.08333989216534507,-0.04092082370499708,-0.1374628150128515,0.011678973532776579,-0.03978369526811231,0.033083405929863266,0.046158424781560875,-0.02195921776615036,1.0,0.006440961964811762],[-0.007222265803114241,-0.25958568681182526,0.2337669148082731,-0.44914917587658815,0.24466835518229027,-0.2374305971062244,-0.11342517571965123,-0.36253227566448787,0.18847426852784777,-0.157878199559049,-0.34220832147514346,0.26708026841568333,-0.3095516889781102,-0.003901046580259291,-0.4186344505799684,-0.00909868094440621,-0.3062854976587467,-0.41079683298259034,-0.18482662039281234,0.026407638039320308,0.05939795415197562,0.04127094524256174,-0.022745782680362026,-0.033727413773231005,-0.026171140259964896,0.029120261673277897,0.017690218808395327,0.12393264779321923,0.020123913277803093,0.006440961964811762,1.0]],\"type\":\"heatmap\"}],                        {\"margin\":{\"b\":100,\"l\":100,\"r\":0,\"t\":0},\"template\":{\"data\":{\"barpolar\":[{\"marker\":{\"line\":{\"color\":\"#E5ECF6\",\"width\":0.5},\"pattern\":{\"fillmode\":\"overlay\",\"size\":10,\"solidity\":0.2}},\"type\":\"barpolar\"}],\"bar\":[{\"error_x\":{\"color\":\"#2a3f5f\"},\"error_y\":{\"color\":\"#2a3f5f\"},\"marker\":{\"line\":{\"color\":\"#E5ECF6\",\"width\":0.5},\"pattern\":{\"fillmode\":\"overlay\",\"size\":10,\"solidity\":0.2}},\"type\":\"bar\"}],\"carpet\":[{\"aaxis\":{\"endlinecolor\":\"#2a3f5f\",\"gridcolor\":\"white\",\"linecolor\":\"white\",\"minorgridcolor\":\"white\",\"startlinecolor\":\"#2a3f5f\"},\"baxis\":{\"endlinecolor\":\"#2a3f5f\",\"gridcolor\":\"white\",\"linecolor\":\"white\",\"minorgridcolor\":\"white\",\"startlinecolor\":\"#2a3f5f\"},\"type\":\"carpet\"}],\"choropleth\":[{\"colorbar\":{\"outlinewidth\":0,\"ticks\":\"\"},\"type\":\"choropleth\"}],\"contourcarpet\":[{\"colorbar\":{\"outlinewidth\":0,\"ticks\":\"\"},\"type\":\"contourcarpet\"}],\"contour\":[{\"colorbar\":{\"outlinewidth\":0,\"ticks\":\"\"},\"colorscale\":[[0.0,\"#0d0887\"],[0.1111111111111111,\"#46039f\"],[0.2222222222222222,\"#7201a8\"],[0.3333333333333333,\"#9c179e\"],[0.4444444444444444,\"#bd3786\"],[0.5555555555555556,\"#d8576b\"],[0.6666666666666666,\"#ed7953\"],[0.7777777777777778,\"#fb9f3a\"],[0.8888888888888888,\"#fdca26\"],[1.0,\"#f0f921\"]],\"type\":\"contour\"}],\"heatmapgl\":[{\"colorbar\":{\"outlinewidth\":0,\"ticks\":\"\"},\"colorscale\":[[0.0,\"#0d0887\"],[0.1111111111111111,\"#46039f\"],[0.2222222222222222,\"#7201a8\"],[0.3333333333333333,\"#9c179e\"],[0.4444444444444444,\"#bd3786\"],[0.5555555555555556,\"#d8576b\"],[0.6666666666666666,\"#ed7953\"],[0.7777777777777778,\"#fb9f3a\"],[0.8888888888888888,\"#fdca26\"],[1.0,\"#f0f921\"]],\"type\":\"heatmapgl\"}],\"heatmap\":[{\"colorbar\":{\"outlinewidth\":0,\"ticks\":\"\"},\"colorscale\":[[0.0,\"#0d0887\"],[0.1111111111111111,\"#46039f\"],[0.2222222222222222,\"#7201a8\"],[0.3333333333333333,\"#9c179e\"],[0.4444444444444444,\"#bd3786\"],[0.5555555555555556,\"#d8576b\"],[0.6666666666666666,\"#ed7953\"],[0.7777777777777778,\"#fb9f3a\"],[0.8888888888888888,\"#fdca26\"],[1.0,\"#f0f921\"]],\"type\":\"heatmap\"}],\"histogram2dcontour\":[{\"colorbar\":{\"outlinewidth\":0,\"ticks\":\"\"},\"colorscale\":[[0.0,\"#0d0887\"],[0.1111111111111111,\"#46039f\"],[0.2222222222222222,\"#7201a8\"],[0.3333333333333333,\"#9c179e\"],[0.4444444444444444,\"#bd3786\"],[0.5555555555555556,\"#d8576b\"],[0.6666666666666666,\"#ed7953\"],[0.7777777777777778,\"#fb9f3a\"],[0.8888888888888888,\"#fdca26\"],[1.0,\"#f0f921\"]],\"type\":\"histogram2dcontour\"}],\"histogram2d\":[{\"colorbar\":{\"outlinewidth\":0,\"ticks\":\"\"},\"colorscale\":[[0.0,\"#0d0887\"],[0.1111111111111111,\"#46039f\"],[0.2222222222222222,\"#7201a8\"],[0.3333333333333333,\"#9c179e\"],[0.4444444444444444,\"#bd3786\"],[0.5555555555555556,\"#d8576b\"],[0.6666666666666666,\"#ed7953\"],[0.7777777777777778,\"#fb9f3a\"],[0.8888888888888888,\"#fdca26\"],[1.0,\"#f0f921\"]],\"type\":\"histogram2d\"}],\"histogram\":[{\"marker\":{\"pattern\":{\"fillmode\":\"overlay\",\"size\":10,\"solidity\":0.2}},\"type\":\"histogram\"}],\"mesh3d\":[{\"colorbar\":{\"outlinewidth\":0,\"ticks\":\"\"},\"type\":\"mesh3d\"}],\"parcoords\":[{\"line\":{\"colorbar\":{\"outlinewidth\":0,\"ticks\":\"\"}},\"type\":\"parcoords\"}],\"pie\":[{\"automargin\":true,\"type\":\"pie\"}],\"scatter3d\":[{\"line\":{\"colorbar\":{\"outlinewidth\":0,\"ticks\":\"\"}},\"marker\":{\"colorbar\":{\"outlinewidth\":0,\"ticks\":\"\"}},\"type\":\"scatter3d\"}],\"scattercarpet\":[{\"marker\":{\"colorbar\":{\"outlinewidth\":0,\"ticks\":\"\"}},\"type\":\"scattercarpet\"}],\"scattergeo\":[{\"marker\":{\"colorbar\":{\"outlinewidth\":0,\"ticks\":\"\"}},\"type\":\"scattergeo\"}],\"scattergl\":[{\"marker\":{\"colorbar\":{\"outlinewidth\":0,\"ticks\":\"\"}},\"type\":\"scattergl\"}],\"scattermapbox\":[{\"marker\":{\"colorbar\":{\"outlinewidth\":0,\"ticks\":\"\"}},\"type\":\"scattermapbox\"}],\"scatterpolargl\":[{\"marker\":{\"colorbar\":{\"outlinewidth\":0,\"ticks\":\"\"}},\"type\":\"scatterpolargl\"}],\"scatterpolar\":[{\"marker\":{\"colorbar\":{\"outlinewidth\":0,\"ticks\":\"\"}},\"type\":\"scatterpolar\"}],\"scatter\":[{\"fillpattern\":{\"fillmode\":\"overlay\",\"size\":10,\"solidity\":0.2},\"type\":\"scatter\"}],\"scatterternary\":[{\"marker\":{\"colorbar\":{\"outlinewidth\":0,\"ticks\":\"\"}},\"type\":\"scatterternary\"}],\"surface\":[{\"colorbar\":{\"outlinewidth\":0,\"ticks\":\"\"},\"colorscale\":[[0.0,\"#0d0887\"],[0.1111111111111111,\"#46039f\"],[0.2222222222222222,\"#7201a8\"],[0.3333333333333333,\"#9c179e\"],[0.4444444444444444,\"#bd3786\"],[0.5555555555555556,\"#d8576b\"],[0.6666666666666666,\"#ed7953\"],[0.7777777777777778,\"#fb9f3a\"],[0.8888888888888888,\"#fdca26\"],[1.0,\"#f0f921\"]],\"type\":\"surface\"}],\"table\":[{\"cells\":{\"fill\":{\"color\":\"#EBF0F8\"},\"line\":{\"color\":\"white\"}},\"header\":{\"fill\":{\"color\":\"#C8D4E3\"},\"line\":{\"color\":\"white\"}},\"type\":\"table\"}]},\"layout\":{\"annotationdefaults\":{\"arrowcolor\":\"#2a3f5f\",\"arrowhead\":0,\"arrowwidth\":1},\"autotypenumbers\":\"strict\",\"coloraxis\":{\"colorbar\":{\"outlinewidth\":0,\"ticks\":\"\"}},\"colorscale\":{\"diverging\":[[0,\"#8e0152\"],[0.1,\"#c51b7d\"],[0.2,\"#de77ae\"],[0.3,\"#f1b6da\"],[0.4,\"#fde0ef\"],[0.5,\"#f7f7f7\"],[0.6,\"#e6f5d0\"],[0.7,\"#b8e186\"],[0.8,\"#7fbc41\"],[0.9,\"#4d9221\"],[1,\"#276419\"]],\"sequential\":[[0.0,\"#0d0887\"],[0.1111111111111111,\"#46039f\"],[0.2222222222222222,\"#7201a8\"],[0.3333333333333333,\"#9c179e\"],[0.4444444444444444,\"#bd3786\"],[0.5555555555555556,\"#d8576b\"],[0.6666666666666666,\"#ed7953\"],[0.7777777777777778,\"#fb9f3a\"],[0.8888888888888888,\"#fdca26\"],[1.0,\"#f0f921\"]],\"sequentialminus\":[[0.0,\"#0d0887\"],[0.1111111111111111,\"#46039f\"],[0.2222222222222222,\"#7201a8\"],[0.3333333333333333,\"#9c179e\"],[0.4444444444444444,\"#bd3786\"],[0.5555555555555556,\"#d8576b\"],[0.6666666666666666,\"#ed7953\"],[0.7777777777777778,\"#fb9f3a\"],[0.8888888888888888,\"#fdca26\"],[1.0,\"#f0f921\"]]},\"colorway\":[\"#636efa\",\"#EF553B\",\"#00cc96\",\"#ab63fa\",\"#FFA15A\",\"#19d3f3\",\"#FF6692\",\"#B6E880\",\"#FF97FF\",\"#FECB52\"],\"font\":{\"color\":\"#2a3f5f\"},\"geo\":{\"bgcolor\":\"white\",\"lakecolor\":\"white\",\"landcolor\":\"#E5ECF6\",\"showlakes\":true,\"showland\":true,\"subunitcolor\":\"white\"},\"hoverlabel\":{\"align\":\"left\"},\"hovermode\":\"closest\",\"mapbox\":{\"style\":\"light\"},\"paper_bgcolor\":\"white\",\"plot_bgcolor\":\"#E5ECF6\",\"polar\":{\"angularaxis\":{\"gridcolor\":\"white\",\"linecolor\":\"white\",\"ticks\":\"\"},\"bgcolor\":\"#E5ECF6\",\"radialaxis\":{\"gridcolor\":\"white\",\"linecolor\":\"white\",\"ticks\":\"\"}},\"scene\":{\"xaxis\":{\"backgroundcolor\":\"#E5ECF6\",\"gridcolor\":\"white\",\"gridwidth\":2,\"linecolor\":\"white\",\"showbackground\":true,\"ticks\":\"\",\"zerolinecolor\":\"white\"},\"yaxis\":{\"backgroundcolor\":\"#E5ECF6\",\"gridcolor\":\"white\",\"gridwidth\":2,\"linecolor\":\"white\",\"showbackground\":true,\"ticks\":\"\",\"zerolinecolor\":\"white\"},\"zaxis\":{\"backgroundcolor\":\"#E5ECF6\",\"gridcolor\":\"white\",\"gridwidth\":2,\"linecolor\":\"white\",\"showbackground\":true,\"ticks\":\"\",\"zerolinecolor\":\"white\"}},\"shapedefaults\":{\"line\":{\"color\":\"#2a3f5f\"}},\"ternary\":{\"aaxis\":{\"gridcolor\":\"white\",\"linecolor\":\"white\",\"ticks\":\"\"},\"baxis\":{\"gridcolor\":\"white\",\"linecolor\":\"white\",\"ticks\":\"\"},\"bgcolor\":\"#E5ECF6\",\"caxis\":{\"gridcolor\":\"white\",\"linecolor\":\"white\",\"ticks\":\"\"}},\"title\":{\"x\":0.05},\"xaxis\":{\"automargin\":true,\"gridcolor\":\"white\",\"linecolor\":\"white\",\"ticks\":\"\",\"title\":{\"standoff\":15},\"zerolinecolor\":\"white\",\"zerolinewidth\":2},\"yaxis\":{\"automargin\":true,\"gridcolor\":\"white\",\"linecolor\":\"white\",\"ticks\":\"\",\"title\":{\"standoff\":15},\"zerolinecolor\":\"white\",\"zerolinewidth\":2}}},\"title\":{\"text\":\"Correlation Matrix for variables\"},\"xaxis\":{\"tickfont\":{\"size\":9}},\"yaxis\":{\"tickfont\":{\"size\":9}}},                        {\"responsive\": true}                    ).then(function(){\n",
              "                            \n",
              "var gd = document.getElementById('e4b4f1ea-f766-4006-bbac-fbeba77a214b');\n",
              "var x = new MutationObserver(function (mutations, observer) {{\n",
              "        var display = window.getComputedStyle(gd).display;\n",
              "        if (!display || display === 'none') {{\n",
              "            console.log([gd, 'removed!']);\n",
              "            Plotly.purge(gd);\n",
              "            observer.disconnect();\n",
              "        }}\n",
              "}});\n",
              "\n",
              "// Listen for the removal of the full notebook cells\n",
              "var notebookContainer = gd.closest('#notebook-container');\n",
              "if (notebookContainer) {{\n",
              "    x.observe(notebookContainer, {childList: true});\n",
              "}}\n",
              "\n",
              "// Listen for the clearing of the current output cell\n",
              "var outputEl = gd.closest('.output');\n",
              "if (outputEl) {{\n",
              "    x.observe(outputEl, {childList: true});\n",
              "}}\n",
              "\n",
              "                        })                };                });            </script>        </div>"
            ]
          },
          "metadata": {}
        }
      ]
    },
    {
      "cell_type": "code",
      "source": [
        "import numpy as np\n",
        "import pandas as pd\n",
        "from sklearn.preprocessing import LabelEncoder\n",
        "from sklearn.model_selection import train_test_split\n",
        "from sklearn.linear_model import LogisticRegression\n",
        "from sklearn.impute import SimpleImputer\n",
        "from sklearn.pipeline import Pipeline\n",
        "\n",
        "# Load the dataset\n",
        "train = pd.read_csv(\"/content/creditcard.csv\")\n",
        "\n",
        "# Separate features (X) and the target variable (y)\n",
        "X = train.iloc[:, :-1].values\n",
        "y = train.iloc[:, -1].values\n",
        "\n",
        "# Encode the target variable\n",
        "encoder = LabelEncoder()\n",
        "y = encoder.fit_transform(y)\n",
        "\n",
        "# Split the dataset into the Training set and Test set\n",
        "X_train, X_test, y_train, y_test = train_test_split(X, y, test_size=0.3, random_state=42)\n",
        "\n",
        "# Handle missing values using SimpleImputer (replace NaN with the mean of the column)\n",
        "imputer = SimpleImputer(strategy='mean')\n",
        "X_train = imputer.fit_transform(X_train)\n",
        "X_test = imputer.transform(X_test)\n",
        "\n",
        "# Initialize and fit the Logistic Regression model\n",
        "Model = LogisticRegression()\n",
        "Model.fit(X_train, y_train)\n",
        "\n",
        "# Make predictions on the test set\n",
        "y_pred = Model.predict(X_test)"
      ],
      "metadata": {
        "colab": {
          "base_uri": "https://localhost:8080/"
        },
        "id": "__4X9oPenAUh",
        "outputId": "cf041dba-2dcf-4fbc-82a8-60b8bb95b584"
      },
      "execution_count": 21,
      "outputs": [
        {
          "output_type": "stream",
          "name": "stderr",
          "text": [
            "/usr/local/lib/python3.10/dist-packages/sklearn/linear_model/_logistic.py:458: ConvergenceWarning:\n",
            "\n",
            "lbfgs failed to converge (status=1):\n",
            "STOP: TOTAL NO. of ITERATIONS REACHED LIMIT.\n",
            "\n",
            "Increase the number of iterations (max_iter) or scale the data as shown in:\n",
            "    https://scikit-learn.org/stable/modules/preprocessing.html\n",
            "Please also refer to the documentation for alternative solver options:\n",
            "    https://scikit-learn.org/stable/modules/linear_model.html#logistic-regression\n",
            "\n"
          ]
        }
      ]
    },
    {
      "cell_type": "code",
      "source": [
        "# Summary of the predictions made by the classifier\n",
        "print(classification_report(y_test, y_pred))\n",
        "print(confusion_matrix(y_test, y_pred))\n",
        "# Accuracy score\n",
        "\n",
        "print('accuracy is',accuracy_score(y_pred,y_test))"
      ],
      "metadata": {
        "colab": {
          "base_uri": "https://localhost:8080/"
        },
        "id": "375uFc50nnw4",
        "outputId": "f1e9480f-93cb-4ea6-fa0f-30c1266dc1e9"
      },
      "execution_count": 22,
      "outputs": [
        {
          "output_type": "stream",
          "name": "stdout",
          "text": [
            "              precision    recall  f1-score   support\n",
            "\n",
            "           0       1.00      1.00      1.00     13052\n",
            "           1       0.69      0.56      0.62        48\n",
            "\n",
            "    accuracy                           1.00     13100\n",
            "   macro avg       0.85      0.78      0.81     13100\n",
            "weighted avg       1.00      1.00      1.00     13100\n",
            "\n",
            "[[13040    12]\n",
            " [   21    27]]\n",
            "accuracy is 0.9974809160305343\n"
          ]
        }
      ]
    },
    {
      "cell_type": "code",
      "source": [
        "LABELS = ['Normal', 'Fraud']\n",
        "conf_matrix = confusion_matrix(y_test, y_pred)\n",
        "plt.figure(figsize=(8,5))\n",
        "sns.heatmap(conf_matrix, xticklabels=LABELS, yticklabels=LABELS, annot=True, fmt='d');\n",
        "plt.title('Confusion matrix')\n",
        "plt.ylabel('True class')\n",
        "plt.xlabel('Predicted class')\n",
        "plt.show()"
      ],
      "metadata": {
        "colab": {
          "base_uri": "https://localhost:8080/",
          "height": 524
        },
        "id": "CO_YZrXkn1sU",
        "outputId": "e658ac36-6b21-45c2-84e2-b1f0c2b13ff7"
      },
      "execution_count": 23,
      "outputs": [
        {
          "output_type": "display_data",
          "data": {
            "text/plain": [
              "<Figure size 800x500 with 2 Axes>"
            ],
            "image/png": "[encoded data removed]"
          },
          "metadata": {}
        }
      ]
    },
    {
      "cell_type": "code",
      "source": [
        "## Logistic Regression\n",
        "\n",
        "Model = LogisticRegression()\n",
        "Model.fit(X_train, y_train)\n",
        "y_pred = Model.predict(X_test)\n",
        "\n",
        "# Summary of the predictions made by the classifier\n",
        "print(classification_report(y_test, y_pred))\n",
        "print(confusion_matrix(y_test, y_pred))\n",
        "# Accuracy score\n",
        "\n",
        "print('accuracy is',accuracy_score(y_pred,y_test))"
      ],
      "metadata": {
        "colab": {
          "base_uri": "https://localhost:8080/"
        },
        "id": "3_ywgKfiKB9N",
        "outputId": "395700aa-be10-4b62-bb59-cb075b20d3d3"
      },
      "execution_count": 24,
      "outputs": [
        {
          "output_type": "stream",
          "name": "stdout",
          "text": [
            "              precision    recall  f1-score   support\n",
            "\n",
            "           0       1.00      1.00      1.00     13052\n",
            "           1       0.69      0.56      0.62        48\n",
            "\n",
            "    accuracy                           1.00     13100\n",
            "   macro avg       0.85      0.78      0.81     13100\n",
            "weighted avg       1.00      1.00      1.00     13100\n",
            "\n",
            "[[13040    12]\n",
            " [   21    27]]\n",
            "accuracy is 0.9974809160305343\n"
          ]
        },
        {
          "output_type": "stream",
          "name": "stderr",
          "text": [
            "/usr/local/lib/python3.10/dist-packages/sklearn/linear_model/_logistic.py:458: ConvergenceWarning:\n",
            "\n",
            "lbfgs failed to converge (status=1):\n",
            "STOP: TOTAL NO. of ITERATIONS REACHED LIMIT.\n",
            "\n",
            "Increase the number of iterations (max_iter) or scale the data as shown in:\n",
            "    https://scikit-learn.org/stable/modules/preprocessing.html\n",
            "Please also refer to the documentation for alternative solver options:\n",
            "    https://scikit-learn.org/stable/modules/linear_model.html#logistic-regression\n",
            "\n"
          ]
        }
      ]
    },
    {
      "cell_type": "code",
      "source": [
        "LABELS = ['Normal', 'Fraud']\n",
        "conf_matrix = confusion_matrix(y_test, y_pred)\n",
        "plt.figure(figsize=(8,5))\n",
        "sns.heatmap(conf_matrix, xticklabels=LABELS, yticklabels=LABELS, annot=True, fmt='d');\n",
        "plt.title('Confusion matrix')\n",
        "plt.ylabel('True class')\n",
        "plt.xlabel('Predicted class')\n",
        "plt.show()"
      ],
      "metadata": {
        "colab": {
          "base_uri": "https://localhost:8080/",
          "height": 524
        },
        "id": "0uwz0-amOwtj",
        "outputId": "abc31d61-7f02-4be8-e0b6-f921e877f557"
      },
      "execution_count": 25,
      "outputs": [
        {
          "output_type": "display_data",
          "data": {
            "text/plain": [
              "<Figure size 800x500 with 2 Axes>"
            ],
            "image/png": "[encoded data removed]"
          },
          "metadata": {}
        }
      ]
    },
    {
      "cell_type": "code",
      "source": [
        "# K-Nearest Neighbours\n",
        "\n",
        "Model = KNeighborsClassifier(n_neighbors=8)\n",
        "Model.fit(X_train, y_train)\n",
        "\n",
        "y_pred = Model.predict(X_test)\n",
        "\n",
        "# Summary of the predictions made by the classifier\n",
        "print(classification_report(y_test, y_pred))\n",
        "print(confusion_matrix(y_test, y_pred))\n",
        "# Accuracy score\n",
        "\n",
        "print('accuracy is',accuracy_score(y_pred,y_test))"
      ],
      "metadata": {
        "colab": {
          "base_uri": "https://localhost:8080/"
        },
        "id": "SZz07CnHUGyS",
        "outputId": "9eca09ad-b55e-4aa1-b8ca-63c0c71e7b17"
      },
      "execution_count": 26,
      "outputs": [
        {
          "output_type": "stream",
          "name": "stdout",
          "text": [
            "              precision    recall  f1-score   support\n",
            "\n",
            "           0       1.00      1.00      1.00     13052\n",
            "           1       0.00      0.00      0.00        48\n",
            "\n",
            "    accuracy                           1.00     13100\n",
            "   macro avg       0.50      0.50      0.50     13100\n",
            "weighted avg       0.99      1.00      0.99     13100\n",
            "\n",
            "[[13052     0]\n",
            " [   48     0]]\n",
            "accuracy is 0.9963358778625954\n"
          ]
        },
        {
          "output_type": "stream",
          "name": "stderr",
          "text": [
            "/usr/local/lib/python3.10/dist-packages/sklearn/metrics/_classification.py:1344: UndefinedMetricWarning:\n",
            "\n",
            "Precision and F-score are ill-defined and being set to 0.0 in labels with no predicted samples. Use `zero_division` parameter to control this behavior.\n",
            "\n",
            "/usr/local/lib/python3.10/dist-packages/sklearn/metrics/_classification.py:1344: UndefinedMetricWarning:\n",
            "\n",
            "Precision and F-score are ill-defined and being set to 0.0 in labels with no predicted samples. Use `zero_division` parameter to control this behavior.\n",
            "\n",
            "/usr/local/lib/python3.10/dist-packages/sklearn/metrics/_classification.py:1344: UndefinedMetricWarning:\n",
            "\n",
            "Precision and F-score are ill-defined and being set to 0.0 in labels with no predicted samples. Use `zero_division` parameter to control this behavior.\n",
            "\n"
          ]
        }
      ]
    },
    {
      "cell_type": "code",
      "source": [
        "LABELS = ['Normal', 'Fraud']\n",
        "conf_matrix = confusion_matrix(y_test, y_pred)\n",
        "plt.figure(figsize=(8,5))\n",
        "sns.heatmap(conf_matrix, xticklabels=LABELS, yticklabels=LABELS, annot=True, fmt='d');\n",
        "plt.title('Confusion matrix')\n",
        "plt.ylabel('True class')\n",
        "plt.xlabel('Predicted class')\n",
        "plt.show()"
      ],
      "metadata": {
        "colab": {
          "base_uri": "https://localhost:8080/",
          "height": 524
        },
        "id": "-zM9IeWEXpK4",
        "outputId": "e5566978-fcad-47e6-e419-11fa048fde48"
      },
      "execution_count": 27,
      "outputs": [
        {
          "output_type": "display_data",
          "data": {
            "text/plain": [
              "<Figure size 800x500 with 2 Axes>"
            ],
            "image/png": "[encoded data removed]"
          },
          "metadata": {}
        }
      ]
    },
    {
      "cell_type": "code",
      "source": [
        "Model = DecisionTreeClassifier()\n",
        "Model.fit(X_train, y_train)\n",
        "y_pred = Model.predict(X_test)\n",
        "\n",
        "# Summary of the predictions made by the classifier\n",
        "print(classification_report(y_test, y_pred))\n",
        "print(confusion_matrix(y_test, y_pred))\n",
        "# Accuracy score\n",
        "\n",
        "print('accuracy is',accuracy_score(y_pred,y_test))"
      ],
      "metadata": {
        "colab": {
          "base_uri": "https://localhost:8080/"
        },
        "id": "-U7WG7qQXuoH",
        "outputId": "22893c26-a8c8-4b3b-fe80-0865e044628b"
      },
      "execution_count": 28,
      "outputs": [
        {
          "output_type": "stream",
          "name": "stdout",
          "text": [
            "              precision    recall  f1-score   support\n",
            "\n",
            "           0       1.00      1.00      1.00     13052\n",
            "           1       0.90      0.77      0.83        48\n",
            "\n",
            "    accuracy                           1.00     13100\n",
            "   macro avg       0.95      0.89      0.92     13100\n",
            "weighted avg       1.00      1.00      1.00     13100\n",
            "\n",
            "[[13048     4]\n",
            " [   11    37]]\n",
            "accuracy is 0.998854961832061\n"
          ]
        }
      ]
    },
    {
      "cell_type": "code",
      "source": [
        "## MLPClassifier\n",
        "\n",
        "Model=MLPClassifier()\n",
        "Model.fit(X_train,y_train)\n",
        "y_pred=Model.predict(X_test)\n",
        "# Summary of the predictions\n",
        "print(classification_report(y_test,y_pred))\n",
        "print(confusion_matrix(y_test,y_pred))\n",
        "#Accuracy Score\n",
        "print('accuracy is ',accuracy_score(y_pred,y_test))"
      ],
      "metadata": {
        "colab": {
          "base_uri": "https://localhost:8080/"
        },
        "id": "t-1NbRZtkqBf",
        "outputId": "77f791ff-a531-492d-eb8b-168144869b2b"
      },
      "execution_count": 29,
      "outputs": [
        {
          "output_type": "stream",
          "name": "stdout",
          "text": [
            "              precision    recall  f1-score   support\n",
            "\n",
            "           0       1.00      1.00      1.00     13052\n",
            "           1       0.66      0.79      0.72        48\n",
            "\n",
            "    accuracy                           1.00     13100\n",
            "   macro avg       0.83      0.90      0.86     13100\n",
            "weighted avg       1.00      1.00      1.00     13100\n",
            "\n",
            "[[13032    20]\n",
            " [   10    38]]\n",
            "accuracy is  0.9977099236641221\n"
          ]
        }
      ]
    },
    {
      "cell_type": "code",
      "source": [
        "X = train.iloc[:,:-1].values\n",
        "y = train.iloc[:,-1].values\n",
        "encoder = LabelEncoder()\n",
        "y = encoder.fit_transform(y)\n",
        "\n",
        "# Splitting the dataset into the Training set and Test set\n",
        "from sklearn.model_selection import train_test_split\n",
        "X_train, X_test, y_train, y_test = train_test_split(X, y, test_size = 0.3, random_state = 42)"
      ],
      "metadata": {
        "id": "1eEJHUSMrgeA"
      },
      "execution_count": 30,
      "outputs": []
    },
    {
      "cell_type": "code",
      "source": [
        "train.isnull().sum()\n"
      ],
      "metadata": {
        "colab": {
          "base_uri": "https://localhost:8080/"
        },
        "id": "9bWmBY0FZxde",
        "outputId": "4660555b-d57d-42d7-9a56-0e0def54c66c"
      },
      "execution_count": 31,
      "outputs": [
        {
          "output_type": "execute_result",
          "data": {
            "text/plain": [
              "Time      0\n",
              "V1        0\n",
              "V2        0\n",
              "V3        0\n",
              "V4        0\n",
              "V5        0\n",
              "V6        0\n",
              "V7        0\n",
              "V8        0\n",
              "V9        0\n",
              "V10       0\n",
              "V11       0\n",
              "V12       0\n",
              "V13       0\n",
              "V14       0\n",
              "V15       0\n",
              "V16       0\n",
              "V17       0\n",
              "V18       0\n",
              "V19       0\n",
              "V20       0\n",
              "V21       0\n",
              "V22       0\n",
              "V23       0\n",
              "V24       0\n",
              "V25       0\n",
              "V26       0\n",
              "V27       1\n",
              "V28       1\n",
              "Amount    1\n",
              "Class     1\n",
              "dtype: int64"
            ]
          },
          "metadata": {},
          "execution_count": 31
        }
      ]
    },
    {
      "cell_type": "code",
      "source": [
        "train.head(10)\n"
      ],
      "metadata": {
        "colab": {
          "base_uri": "https://localhost:8080/",
          "height": 412
        },
        "id": "pdkbp-s0ZyFL",
        "outputId": "40e76b51-ecc4-4b18-c157-1fbfb234327b"
      },
      "execution_count": 32,
      "outputs": [
        {
          "output_type": "execute_result",
          "data": {
            "text/plain": [
              "   Time        V1        V2        V3        V4        V5        V6        V7  \\\n",
              "0     0 -1.359807 -0.072781  2.536347  1.378155 -0.338321  0.462388  0.239599   \n",
              "1     0  1.191857  0.266151  0.166480  0.448154  0.060018 -0.082361 -0.078803   \n",
              "2     1 -1.358354 -1.340163  1.773209  0.379780 -0.503198  1.800499  0.791461   \n",
              "3     1 -0.966272 -0.185226  1.792993 -0.863291 -0.010309  1.247203  0.237609   \n",
              "4     2 -1.158233  0.877737  1.548718  0.403034 -0.407193  0.095921  0.592941   \n",
              "5     2 -0.425966  0.960523  1.141109 -0.168252  0.420987 -0.029728  0.476201   \n",
              "6     4  1.229658  0.141004  0.045371  1.202613  0.191881  0.272708 -0.005159   \n",
              "7     7 -0.644269  1.417964  1.074380 -0.492199  0.948934  0.428118  1.120631   \n",
              "8     7 -0.894286  0.286157 -0.113192 -0.271526  2.669599  3.721818  0.370145   \n",
              "9     9 -0.338262  1.119593  1.044367 -0.222187  0.499361 -0.246761  0.651583   \n",
              "\n",
              "         V8        V9  ...       V21       V22       V23       V24       V25  \\\n",
              "0  0.098698  0.363787  ... -0.018307  0.277838 -0.110474  0.066928  0.128539   \n",
              "1  0.085102 -0.255425  ... -0.225775 -0.638672  0.101288 -0.339846  0.167170   \n",
              "2  0.247676 -1.514654  ...  0.247998  0.771679  0.909412 -0.689281 -0.327642   \n",
              "3  0.377436 -1.387024  ... -0.108300  0.005274 -0.190321 -1.175575  0.647376   \n",
              "4 -0.270533  0.817739  ... -0.009431  0.798278 -0.137458  0.141267 -0.206010   \n",
              "5  0.260314 -0.568671  ... -0.208254 -0.559825 -0.026398 -0.371427 -0.232794   \n",
              "6  0.081213  0.464960  ... -0.167716 -0.270710 -0.154104 -0.780055  0.750137   \n",
              "7 -3.807864  0.615375  ...  1.943465 -1.015455  0.057504 -0.649709 -0.415267   \n",
              "8  0.851084 -0.392048  ... -0.073425 -0.268092 -0.204233  1.011592  0.373205   \n",
              "9  0.069539 -0.736727  ... -0.246914 -0.633753 -0.120794 -0.385050 -0.069733   \n",
              "\n",
              "        V26       V27       V28  Amount  Class  \n",
              "0 -0.189115  0.133558 -0.021053  149.62    0.0  \n",
              "1  0.125895 -0.008983  0.014724    2.69    0.0  \n",
              "2 -0.139097 -0.055353 -0.059752  378.66    0.0  \n",
              "3 -0.221929  0.062723  0.061458  123.50    0.0  \n",
              "4  0.502292  0.219422  0.215153   69.99    0.0  \n",
              "5  0.105915  0.253844  0.081080    3.67    0.0  \n",
              "6 -0.257237  0.034507  0.005168    4.99    0.0  \n",
              "7 -0.051634 -1.206921 -1.085339   40.80    0.0  \n",
              "8 -0.384157  0.011747  0.142404   93.20    0.0  \n",
              "9  0.094199  0.246219  0.083076    3.68    0.0  \n",
              "\n",
              "[10 rows x 31 columns]"
            ],
            "text/html": [
              "\n",
              "  <div id=\"df-30736b5d-dda1-47d3-a9f2-42e07ef9529a\" class=\"colab-df-container\">\n",
              "    <div>\n",
              "<style scoped>\n",
              "    .dataframe tbody tr th:only-of-type {\n",
              "        vertical-align: middle;\n",
              "    }\n",
              "\n",
              "    .dataframe tbody tr th {\n",
              "        vertical-align: top;\n",
              "    }\n",
              "\n",
              "    .dataframe thead th {\n",
              "        text-align: right;\n",
              "    }\n",
              "</style>\n",
              "<table border=\"1\" class=\"dataframe\">\n",
              "  <thead>\n",
              "    <tr style=\"text-align: right;\">\n",
              "      <th></th>\n",
              "      <th>Time</th>\n",
              "      <th>V1</th>\n",
              "      <th>V2</th>\n",
              "      <th>V3</th>\n",
              "      <th>V4</th>\n",
              "      <th>V5</th>\n",
              "      <th>V6</th>\n",
              "      <th>V7</th>\n",
              "      <th>V8</th>\n",
              "      <th>V9</th>\n",
              "      <th>...</th>\n",
              "      <th>V21</th>\n",
              "      <th>V22</th>\n",
              "      <th>V23</th>\n",
              "      <th>V24</th>\n",
              "      <th>V25</th>\n",
              "      <th>V26</th>\n",
              "      <th>V27</th>\n",
              "      <th>V28</th>\n",
              "      <th>Amount</th>\n",
              "      <th>Class</th>\n",
              "    </tr>\n",
              "  </thead>\n",
              "  <tbody>\n",
              "    <tr>\n",
              "      <th>0</th>\n",
              "      <td>0</td>\n",
              "      <td>-1.359807</td>\n",
              "      <td>-0.072781</td>\n",
              "      <td>2.536347</td>\n",
              "      <td>1.378155</td>\n",
              "      <td>-0.338321</td>\n",
              "      <td>0.462388</td>\n",
              "      <td>0.239599</td>\n",
              "      <td>0.098698</td>\n",
              "      <td>0.363787</td>\n",
              "      <td>...</td>\n",
              "      <td>-0.018307</td>\n",
              "      <td>0.277838</td>\n",
              "      <td>-0.110474</td>\n",
              "      <td>0.066928</td>\n",
              "      <td>0.128539</td>\n",
              "      <td>-0.189115</td>\n",
              "      <td>0.133558</td>\n",
              "      <td>-0.021053</td>\n",
              "      <td>149.62</td>\n",
              "      <td>0.0</td>\n",
              "    </tr>\n",
              "    <tr>\n",
              "      <th>1</th>\n",
              "      <td>0</td>\n",
              "      <td>1.191857</td>\n",
              "      <td>0.266151</td>\n",
              "      <td>0.166480</td>\n",
              "      <td>0.448154</td>\n",
              "      <td>0.060018</td>\n",
              "      <td>-0.082361</td>\n",
              "      <td>-0.078803</td>\n",
              "      <td>0.085102</td>\n",
              "      <td>-0.255425</td>\n",
              "      <td>...</td>\n",
              "      <td>-0.225775</td>\n",
              "      <td>-0.638672</td>\n",
              "      <td>0.101288</td>\n",
              "      <td>-0.339846</td>\n",
              "      <td>0.167170</td>\n",
              "      <td>0.125895</td>\n",
              "      <td>-0.008983</td>\n",
              "      <td>0.014724</td>\n",
              "      <td>2.69</td>\n",
              "      <td>0.0</td>\n",
              "    </tr>\n",
              "    <tr>\n",
              "      <th>2</th>\n",
              "      <td>1</td>\n",
              "      <td>-1.358354</td>\n",
              "      <td>-1.340163</td>\n",
              "      <td>1.773209</td>\n",
              "      <td>0.379780</td>\n",
              "      <td>-0.503198</td>\n",
              "      <td>1.800499</td>\n",
              "      <td>0.791461</td>\n",
              "      <td>0.247676</td>\n",
              "      <td>-1.514654</td>\n",
              "      <td>...</td>\n",
              "      <td>0.247998</td>\n",
              "      <td>0.771679</td>\n",
              "      <td>0.909412</td>\n",
              "      <td>-0.689281</td>\n",
              "      <td>-0.327642</td>\n",
              "      <td>-0.139097</td>\n",
              "      <td>-0.055353</td>\n",
              "      <td>-0.059752</td>\n",
              "      <td>378.66</td>\n",
              "      <td>0.0</td>\n",
              "    </tr>\n",
              "    <tr>\n",
              "      <th>3</th>\n",
              "      <td>1</td>\n",
              "      <td>-0.966272</td>\n",
              "      <td>-0.185226</td>\n",
              "      <td>1.792993</td>\n",
              "      <td>-0.863291</td>\n",
              "      <td>-0.010309</td>\n",
              "      <td>1.247203</td>\n",
              "      <td>0.237609</td>\n",
              "      <td>0.377436</td>\n",
              "      <td>-1.387024</td>\n",
              "      <td>...</td>\n",
              "      <td>-0.108300</td>\n",
              "      <td>0.005274</td>\n",
              "      <td>-0.190321</td>\n",
              "      <td>-1.175575</td>\n",
              "      <td>0.647376</td>\n",
              "      <td>-0.221929</td>\n",
              "      <td>0.062723</td>\n",
              "      <td>0.061458</td>\n",
              "      <td>123.50</td>\n",
              "      <td>0.0</td>\n",
              "    </tr>\n",
              "    <tr>\n",
              "      <th>4</th>\n",
              "      <td>2</td>\n",
              "      <td>-1.158233</td>\n",
              "      <td>0.877737</td>\n",
              "      <td>1.548718</td>\n",
              "      <td>0.403034</td>\n",
              "      <td>-0.407193</td>\n",
              "      <td>0.095921</td>\n",
              "      <td>0.592941</td>\n",
              "      <td>-0.270533</td>\n",
              "      <td>0.817739</td>\n",
              "      <td>...</td>\n",
              "      <td>-0.009431</td>\n",
              "      <td>0.798278</td>\n",
              "      <td>-0.137458</td>\n",
              "      <td>0.141267</td>\n",
              "      <td>-0.206010</td>\n",
              "      <td>0.502292</td>\n",
              "      <td>0.219422</td>\n",
              "      <td>0.215153</td>\n",
              "      <td>69.99</td>\n",
              "      <td>0.0</td>\n",
              "    </tr>\n",
              "    <tr>\n",
              "      <th>5</th>\n",
              "      <td>2</td>\n",
              "      <td>-0.425966</td>\n",
              "      <td>0.960523</td>\n",
              "      <td>1.141109</td>\n",
              "      <td>-0.168252</td>\n",
              "      <td>0.420987</td>\n",
              "      <td>-0.029728</td>\n",
              "      <td>0.476201</td>\n",
              "      <td>0.260314</td>\n",
              "      <td>-0.568671</td>\n",
              "      <td>...</td>\n",
              "      <td>-0.208254</td>\n",
              "      <td>-0.559825</td>\n",
              "      <td>-0.026398</td>\n",
              "      <td>-0.371427</td>\n",
              "      <td>-0.232794</td>\n",
              "      <td>0.105915</td>\n",
              "      <td>0.253844</td>\n",
              "      <td>0.081080</td>\n",
              "      <td>3.67</td>\n",
              "      <td>0.0</td>\n",
              "    </tr>\n",
              "    <tr>\n",
              "      <th>6</th>\n",
              "      <td>4</td>\n",
              "      <td>1.229658</td>\n",
              "      <td>0.141004</td>\n",
              "      <td>0.045371</td>\n",
              "      <td>1.202613</td>\n",
              "      <td>0.191881</td>\n",
              "      <td>0.272708</td>\n",
              "      <td>-0.005159</td>\n",
              "      <td>0.081213</td>\n",
              "      <td>0.464960</td>\n",
              "      <td>...</td>\n",
              "      <td>-0.167716</td>\n",
              "      <td>-0.270710</td>\n",
              "      <td>-0.154104</td>\n",
              "      <td>-0.780055</td>\n",
              "      <td>0.750137</td>\n",
              "      <td>-0.257237</td>\n",
              "      <td>0.034507</td>\n",
              "      <td>0.005168</td>\n",
              "      <td>4.99</td>\n",
              "      <td>0.0</td>\n",
              "    </tr>\n",
              "    <tr>\n",
              "      <th>7</th>\n",
              "      <td>7</td>\n",
              "      <td>-0.644269</td>\n",
              "      <td>1.417964</td>\n",
              "      <td>1.074380</td>\n",
              "      <td>-0.492199</td>\n",
              "      <td>0.948934</td>\n",
              "      <td>0.428118</td>\n",
              "      <td>1.120631</td>\n",
              "      <td>-3.807864</td>\n",
              "      <td>0.615375</td>\n",
              "      <td>...</td>\n",
              "      <td>1.943465</td>\n",
              "      <td>-1.015455</td>\n",
              "      <td>0.057504</td>\n",
              "      <td>-0.649709</td>\n",
              "      <td>-0.415267</td>\n",
              "      <td>-0.051634</td>\n",
              "      <td>-1.206921</td>\n",
              "      <td>-1.085339</td>\n",
              "      <td>40.80</td>\n",
              "      <td>0.0</td>\n",
              "    </tr>\n",
              "    <tr>\n",
              "      <th>8</th>\n",
              "      <td>7</td>\n",
              "      <td>-0.894286</td>\n",
              "      <td>0.286157</td>\n",
              "      <td>-0.113192</td>\n",
              "      <td>-0.271526</td>\n",
              "      <td>2.669599</td>\n",
              "      <td>3.721818</td>\n",
              "      <td>0.370145</td>\n",
              "      <td>0.851084</td>\n",
              "      <td>-0.392048</td>\n",
              "      <td>...</td>\n",
              "      <td>-0.073425</td>\n",
              "      <td>-0.268092</td>\n",
              "      <td>-0.204233</td>\n",
              "      <td>1.011592</td>\n",
              "      <td>0.373205</td>\n",
              "      <td>-0.384157</td>\n",
              "      <td>0.011747</td>\n",
              "      <td>0.142404</td>\n",
              "      <td>93.20</td>\n",
              "      <td>0.0</td>\n",
              "    </tr>\n",
              "    <tr>\n",
              "      <th>9</th>\n",
              "      <td>9</td>\n",
              "      <td>-0.338262</td>\n",
              "      <td>1.119593</td>\n",
              "      <td>1.044367</td>\n",
              "      <td>-0.222187</td>\n",
              "      <td>0.499361</td>\n",
              "      <td>-0.246761</td>\n",
              "      <td>0.651583</td>\n",
              "      <td>0.069539</td>\n",
              "      <td>-0.736727</td>\n",
              "      <td>...</td>\n",
              "      <td>-0.246914</td>\n",
              "      <td>-0.633753</td>\n",
              "      <td>-0.120794</td>\n",
              "      <td>-0.385050</td>\n",
              "      <td>-0.069733</td>\n",
              "      <td>0.094199</td>\n",
              "      <td>0.246219</td>\n",
              "      <td>0.083076</td>\n",
              "      <td>3.68</td>\n",
              "      <td>0.0</td>\n",
              "    </tr>\n",
              "  </tbody>\n",
              "</table>\n",
              "<p>10 rows × 31 columns</p>\n",
              "</div>\n",
              "    <div class=\"colab-df-buttons\">\n",
              "\n",
              "  <div class=\"colab-df-container\">\n",
              "    <button class=\"colab-df-convert\" onclick=\"convertToInteractive('df-30736b5d-dda1-47d3-a9f2-42e07ef9529a')\"\n",
              "            title=\"Convert this dataframe to an interactive table.\"\n",
              "            style=\"display:none;\">\n",
              "\n",
              "  <svg xmlns=\"http://www.w3.org/2000/svg\" height=\"24px\" viewBox=\"0 -960 960 960\">\n",
              "    <path d=\"M120-120v-720h720v720H120Zm60-500h600v-160H180v160Zm220 220h160v-160H400v160Zm0 220h160v-160H400v160ZM180-400h160v-160H180v160Zm440 0h160v-160H620v160ZM180-180h160v-160H180v160Zm440 0h160v-160H620v160Z\"/>\n",
              "  </svg>\n",
              "    </button>\n",
              "\n",
              "  <style>\n",
              "    .colab-df-container {\n",
              "      display:flex;\n",
              "      gap: 12px;\n",
              "    }\n",
              "\n",
              "    .colab-df-convert {\n",
              "      background-color: #E8F0FE;\n",
              "      border: none;\n",
              "      border-radius: 50%;\n",
              "      cursor: pointer;\n",
              "      display: none;\n",
              "      fill: #1967D2;\n",
              "      height: 32px;\n",
              "      padding: 0 0 0 0;\n",
              "      width: 32px;\n",
              "    }\n",
              "\n",
              "    .colab-df-convert:hover {\n",
              "      background-color: #E2EBFA;\n",
              "      box-shadow: 0px 1px 2px rgba(60, 64, 67, 0.3), 0px 1px 3px 1px rgba(60, 64, 67, 0.15);\n",
              "      fill: #174EA6;\n",
              "    }\n",
              "\n",
              "    .colab-df-buttons div {\n",
              "      margin-bottom: 4px;\n",
              "    }\n",
              "\n",
              "    [theme=dark] .colab-df-convert {\n",
              "      background-color: #3B4455;\n",
              "      fill: #D2E3FC;\n",
              "    }\n",
              "\n",
              "    [theme=dark] .colab-df-convert:hover {\n",
              "      background-color: #434B5C;\n",
              "      box-shadow: 0px 1px 3px 1px rgba(0, 0, 0, 0.15);\n",
              "      filter: drop-shadow(0px 1px 2px rgba(0, 0, 0, 0.3));\n",
              "      fill: #FFFFFF;\n",
              "    }\n",
              "  </style>\n",
              "\n",
              "    <script>\n",
              "      const buttonEl =\n",
              "        document.querySelector('#df-30736b5d-dda1-47d3-a9f2-42e07ef9529a button.colab-df-convert');\n",
              "      buttonEl.style.display =\n",
              "        google.colab.kernel.accessAllowed ? 'block' : 'none';\n",
              "\n",
              "      async function convertToInteractive(key) {\n",
              "        const element = document.querySelector('#df-30736b5d-dda1-47d3-a9f2-42e07ef9529a');\n",
              "        const dataTable =\n",
              "          await google.colab.kernel.invokeFunction('convertToInteractive',\n",
              "                                                    [key], {});\n",
              "        if (!dataTable) return;\n",
              "\n",
              "        const docLinkHtml = 'Like what you see? Visit the ' +\n",
              "          '<a target=\"_blank\" href=https://colab.research.google.com/notebooks/data_table.ipynb>data table notebook</a>'\n",
              "          + ' to learn more about interactive tables.';\n",
              "        element.innerHTML = '';\n",
              "        dataTable['output_type'] = 'display_data';\n",
              "        await google.colab.output.renderOutput(dataTable, element);\n",
              "        const docLink = document.createElement('div');\n",
              "        docLink.innerHTML = docLinkHtml;\n",
              "        element.appendChild(docLink);\n",
              "      }\n",
              "    </script>\n",
              "  </div>\n",
              "\n",
              "\n",
              "<div id=\"df-41326527-34cf-4f80-80be-df6e29da8bbf\">\n",
              "  <button class=\"colab-df-quickchart\" onclick=\"quickchart('df-41326527-34cf-4f80-80be-df6e29da8bbf')\"\n",
              "            title=\"Suggest charts\"\n",
              "            style=\"display:none;\">\n",
              "\n",
              "<svg xmlns=\"http://www.w3.org/2000/svg\" height=\"24px\"viewBox=\"0 0 24 24\"\n",
              "     width=\"24px\">\n",
              "    <g>\n",
              "        <path d=\"M19 3H5c-1.1 0-2 .9-2 2v14c0 1.1.9 2 2 2h14c1.1 0 2-.9 2-2V5c0-1.1-.9-2-2-2zM9 17H7v-7h2v7zm4 0h-2V7h2v10zm4 0h-2v-4h2v4z\"/>\n",
              "    </g>\n",
              "</svg>\n",
              "  </button>\n",
              "\n",
              "<style>\n",
              "  .colab-df-quickchart {\n",
              "      --bg-color: #E8F0FE;\n",
              "      --fill-color: #1967D2;\n",
              "      --hover-bg-color: #E2EBFA;\n",
              "      --hover-fill-color: #174EA6;\n",
              "      --disabled-fill-color: #AAA;\n",
              "      --disabled-bg-color: #DDD;\n",
              "  }\n",
              "\n",
              "  [theme=dark] .colab-df-quickchart {\n",
              "      --bg-color: #3B4455;\n",
              "      --fill-color: #D2E3FC;\n",
              "      --hover-bg-color: #434B5C;\n",
              "      --hover-fill-color: #FFFFFF;\n",
              "      --disabled-bg-color: #3B4455;\n",
              "      --disabled-fill-color: #666;\n",
              "  }\n",
              "\n",
              "  .colab-df-quickchart {\n",
              "    background-color: var(--bg-color);\n",
              "    border: none;\n",
              "    border-radius: 50%;\n",
              "    cursor: pointer;\n",
              "    display: none;\n",
              "    fill: var(--fill-color);\n",
              "    height: 32px;\n",
              "    padding: 0;\n",
              "    width: 32px;\n",
              "  }\n",
              "\n",
              "  .colab-df-quickchart:hover {\n",
              "    background-color: var(--hover-bg-color);\n",
              "    box-shadow: 0 1px 2px rgba(60, 64, 67, 0.3), 0 1px 3px 1px rgba(60, 64, 67, 0.15);\n",
              "    fill: var(--button-hover-fill-color);\n",
              "  }\n",
              "\n",
              "  .colab-df-quickchart-complete:disabled,\n",
              "  .colab-df-quickchart-complete:disabled:hover {\n",
              "    background-color: var(--disabled-bg-color);\n",
              "    fill: var(--disabled-fill-color);\n",
              "    box-shadow: none;\n",
              "  }\n",
              "\n",
              "  .colab-df-spinner {\n",
              "    border: 2px solid var(--fill-color);\n",
              "    border-color: transparent;\n",
              "    border-bottom-color: var(--fill-color);\n",
              "    animation:\n",
              "      spin 1s steps(1) infinite;\n",
              "  }\n",
              "\n",
              "  @keyframes spin {\n",
              "    0% {\n",
              "      border-color: transparent;\n",
              "      border-bottom-color: var(--fill-color);\n",
              "      border-left-color: var(--fill-color);\n",
              "    }\n",
              "    20% {\n",
              "      border-color: transparent;\n",
              "      border-left-color: var(--fill-color);\n",
              "      border-top-color: var(--fill-color);\n",
              "    }\n",
              "    30% {\n",
              "      border-color: transparent;\n",
              "      border-left-color: var(--fill-color);\n",
              "      border-top-color: var(--fill-color);\n",
              "      border-right-color: var(--fill-color);\n",
              "    }\n",
              "    40% {\n",
              "      border-color: transparent;\n",
              "      border-right-color: var(--fill-color);\n",
              "      border-top-color: var(--fill-color);\n",
              "    }\n",
              "    60% {\n",
              "      border-color: transparent;\n",
              "      border-right-color: var(--fill-color);\n",
              "    }\n",
              "    80% {\n",
              "      border-color: transparent;\n",
              "      border-right-color: var(--fill-color);\n",
              "      border-bottom-color: var(--fill-color);\n",
              "    }\n",
              "    90% {\n",
              "      border-color: transparent;\n",
              "      border-bottom-color: var(--fill-color);\n",
              "    }\n",
              "  }\n",
              "</style>\n",
              "\n",
              "  <script>\n",
              "    async function quickchart(key) {\n",
              "      const quickchartButtonEl =\n",
              "        document.querySelector('#' + key + ' button');\n",
              "      quickchartButtonEl.disabled = true;  // To prevent multiple clicks.\n",
              "      quickchartButtonEl.classList.add('colab-df-spinner');\n",
              "      try {\n",
              "        const charts = await google.colab.kernel.invokeFunction(\n",
              "            'suggestCharts', [key], {});\n",
              "      } catch (error) {\n",
              "        console.error('Error during call to suggestCharts:', error);\n",
              "      }\n",
              "      quickchartButtonEl.classList.remove('colab-df-spinner');\n",
              "      quickchartButtonEl.classList.add('colab-df-quickchart-complete');\n",
              "    }\n",
              "    (() => {\n",
              "      let quickchartButtonEl =\n",
              "        document.querySelector('#df-41326527-34cf-4f80-80be-df6e29da8bbf button');\n",
              "      quickchartButtonEl.style.display =\n",
              "        google.colab.kernel.accessAllowed ? 'block' : 'none';\n",
              "    })();\n",
              "  </script>\n",
              "</div>\n",
              "    </div>\n",
              "  </div>\n"
            ]
          },
          "metadata": {},
          "execution_count": 32
        }
      ]
    },
    {
      "cell_type": "code",
      "source": [
        "class_names={0:'Not Fraud',1:\"Fraud\"}\n",
        "print(train.Class.value_counts().rename(index=class_names))"
      ],
      "metadata": {
        "colab": {
          "base_uri": "https://localhost:8080/"
        },
        "id": "0xLAdyfDaAol",
        "outputId": "b1e57114-9294-4990-b4b6-ff07569f3b8d"
      },
      "execution_count": 33,
      "outputs": [
        {
          "output_type": "stream",
          "name": "stdout",
          "text": [
            "Not Fraud    43529\n",
            "Fraud          134\n",
            "Name: Class, dtype: int64\n"
          ]
        }
      ]
    },
    {
      "cell_type": "code",
      "source": [],
      "metadata": {
        "id": "GDAsF_s6aYk8"
      },
      "execution_count": null,
      "outputs": []
    }
  ]
}